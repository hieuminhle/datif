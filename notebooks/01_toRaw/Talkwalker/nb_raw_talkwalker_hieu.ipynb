{
 "cells": [
  {
   "cell_type": "markdown",
   "metadata": {
    "application/vnd.databricks.v1+cell": {
     "cellMetadata": {
      "byteLimit": 2048000,
      "rowLimit": 10000
     },
     "inputWidgets": {},
     "nuid": "d33bab4c-f97e-498f-83f8-0f18dbdf42c6",
     "showTitle": true,
     "tableResultSettingsMap": {},
     "title": ""
    }
   },
   "source": [
    "%md\n",
    "# 01-raw: Auslesen der Volltexte aus Talkwalker\n",
    "\n",
    "* Um was handelt es sich hier  (Kurzbeschreibung Inhalt):  \n",
    "Anbinden der Talkwalker API um Social Listening Daten in 01_Raw abzuspeichern.\n",
    "\n",
    "\n",
    "---\n",
    "## QUELLEN:  \n",
    "- Talkwalker API \n",
    "\n",
    "## ZIEL  \n",
    "- Unity-Catalog: \n",
    "  - datif_pz_uk_dev.01-toRaw.talkwalker\n",
    "\n",
    "  \n",
    "---\n",
    "* Versionen (aktuelle immer oben):\n",
    "- 10.07.2025 Minh Hieu Le: Init"
   ]
  },
  {
   "cell_type": "code",
   "execution_count": 0,
   "metadata": {
    "application/vnd.databricks.v1+cell": {
     "cellMetadata": {
      "byteLimit": 2048000,
      "rowLimit": 10000
     },
     "inputWidgets": {},
     "nuid": "31f5c6ba-7fdf-4169-b61f-81cddf9236d0",
     "showTitle": false,
     "tableResultSettingsMap": {},
     "title": ""
    }
   },
   "outputs": [],
   "source": [
    "%run ../../common/nb_init"
   ]
  },
  {
   "cell_type": "code",
   "execution_count": 0,
   "metadata": {
    "application/vnd.databricks.v1+cell": {
     "cellMetadata": {
      "byteLimit": 2048000,
      "rowLimit": 10000
     },
     "inputWidgets": {},
     "nuid": "64c9c964-a1a7-4328-ae35-b975569c976e",
     "showTitle": false,
     "tableResultSettingsMap": {},
     "title": ""
    }
   },
   "outputs": [],
   "source": [
    "pip install azure-storage-blob\n"
   ]
  },
  {
   "cell_type": "code",
   "execution_count": 0,
   "metadata": {
    "application/vnd.databricks.v1+cell": {
     "cellMetadata": {
      "byteLimit": 2048000,
      "rowLimit": 10000
     },
     "inputWidgets": {},
     "nuid": "a37ea230-df9b-45e4-8909-06a6ab810157",
     "showTitle": false,
     "tableResultSettingsMap": {},
     "title": ""
    }
   },
   "outputs": [],
   "source": [
    "import requests\n",
    "from pyspark.sql import SparkSession\n",
    "from pyspark.sql.types import StructType, StructField, StringType, IntegerType, FloatType, TimestampType, LongType\n",
    "from pyspark.sql.functions import current_timestamp, from_unixtime, col, regexp_replace, when, lit\n",
    "from azure.storage.blob import BlobServiceClient\n",
    "import json\n",
    "import pandas as pd"
   ]
  },
  {
   "cell_type": "code",
   "execution_count": 0,
   "metadata": {
    "application/vnd.databricks.v1+cell": {
     "cellMetadata": {
      "byteLimit": 2048000,
      "rowLimit": 10000
     },
     "inputWidgets": {},
     "nuid": "d09578d1-181b-4520-b08e-44acf821fa68",
     "showTitle": false,
     "tableResultSettingsMap": {},
     "title": ""
    }
   },
   "outputs": [],
   "source": [
    "secret= get_secret(\"Talkwalker-API\")\n"
   ]
  },
  {
   "cell_type": "code",
   "execution_count": 0,
   "metadata": {
    "application/vnd.databricks.v1+cell": {
     "cellMetadata": {
      "byteLimit": 2048000,
      "rowLimit": 10000
     },
     "inputWidgets": {},
     "nuid": "38950486-c4da-4da8-9bc9-baea26cd0cbd",
     "showTitle": false,
     "tableResultSettingsMap": {},
     "title": ""
    }
   },
   "outputs": [],
   "source": [
    "def get(URL: str) -> dict:\n",
    "    \"\"\"\n",
    "    Führt eine GET-Anfrage an die angegebene URL mit dem Talkwalker-API-Schlüssel als Autorisierungsschlüssel aus und gibt das Ergebnis als JSON-Daten zurück.\n",
    "\n",
    "    Input:\n",
    "    URL: URL Endpoint\n",
    "\n",
    "    Output:\n",
    "    result: JSON-Daten\n",
    "    \"\"\"\n",
    "    response = requests.get(URL, headers={\"Authorization\": f\"Bearer {secret}\"})\n",
    "    if response.status_code == 200:\n",
    "        print(\"✅ API funktioniert!\")\n",
    "        return response.json()\n",
    "    else:\n",
    "        print(\"❌ Fehler beim API-Aufruf:\", response.status_code)\n",
    "        print(response.text)"
   ]
  },
  {
   "cell_type": "markdown",
   "metadata": {
    "application/vnd.databricks.v1+cell": {
     "cellMetadata": {
      "byteLimit": 2048000,
      "rowLimit": 10000
     },
     "inputWidgets": {},
     "nuid": "a3c8acca-9b00-4f85-a264-1b9683ec18f9",
     "showTitle": false,
     "tableResultSettingsMap": {},
     "title": ""
    }
   },
   "source": [
    "## Get Status"
   ]
  },
  {
   "cell_type": "code",
   "execution_count": 0,
   "metadata": {
    "application/vnd.databricks.v1+cell": {
     "cellMetadata": {
      "byteLimit": 2048000,
      "rowLimit": 10000
     },
     "inputWidgets": {},
     "nuid": "37079f22-99c7-411b-90ac-6f361116c4e1",
     "showTitle": false,
     "tableResultSettingsMap": {},
     "title": ""
    }
   },
   "outputs": [],
   "source": [
    "status_url = \"https://api.talkwalker.com/api/v1/status/credits\"\n",
    "data = get(status_url)\n",
    "print(data)\n",
    "print(\"Verbleibende monatliche Credits:\", data[\"result_creditinfo\"][\"remaining_credits_monthly\"])"
   ]
  },
  {
   "cell_type": "markdown",
   "metadata": {
    "application/vnd.databricks.v1+cell": {
     "cellMetadata": {
      "byteLimit": 2048000,
      "rowLimit": 10000
     },
     "inputWidgets": {},
     "nuid": "49ad81d3-2807-497e-9651-12506b38cea1",
     "showTitle": false,
     "tableResultSettingsMap": {},
     "title": ""
    }
   },
   "source": [
    "## Get Search API"
   ]
  },
  {
   "cell_type": "code",
   "execution_count": 0,
   "metadata": {
    "application/vnd.databricks.v1+cell": {
     "cellMetadata": {
      "byteLimit": 2048000,
      "rowLimit": 10000
     },
     "inputWidgets": {},
     "nuid": "61f8c77c-1de5-4de4-b281-634240859a51",
     "showTitle": false,
     "tableResultSettingsMap": {},
     "title": ""
    }
   },
   "outputs": [],
   "source": [
    "projekt_url = \"https://api.talkwalker.com/api/v1/search/info\"\n",
    "data = get(projekt_url)\n",
    "print(data)\n",
    "for project in data[\"result_accinfo\"][\"projects\"]:\n",
    "    print(\"Projekt:\", project[\"name\"], \"| ID:\", project[\"id\"])\n",
    "project_id = data[\"result_accinfo\"][\"projects\"][0][\"id\"]"
   ]
  },
  {
   "cell_type": "markdown",
   "metadata": {
    "application/vnd.databricks.v1+cell": {
     "cellMetadata": {
      "byteLimit": 2048000,
      "rowLimit": 10000
     },
     "inputWidgets": {},
     "nuid": "371af32a-d4ce-4882-b5e6-780efd064820",
     "showTitle": false,
     "tableResultSettingsMap": {},
     "title": ""
    }
   },
   "source": [
    "## Get Topics"
   ]
  },
  {
   "cell_type": "code",
   "execution_count": 0,
   "metadata": {
    "application/vnd.databricks.v1+cell": {
     "cellMetadata": {
      "byteLimit": 2048000,
      "rowLimit": 10000
     },
     "inputWidgets": {},
     "nuid": "dfe753d3-05a5-4f62-8d40-34e071a59c85",
     "showTitle": false,
     "tableResultSettingsMap": {},
     "title": ""
    }
   },
   "outputs": [],
   "source": [
    "topic_result_url = f\"https://api.talkwalker.com/api/v2/talkwalker/p/{project_id}/topics/list\" \n",
    "\n",
    "data = get(topic_result_url)\n",
    "\n",
    "# print(data)\n",
    "sub_topic_dict = {}\n",
    "for topic in data[\"result_topics\"][\"topic_categories\"]:\n",
    "    for sub_topic in topic[\"query_topics\"]:\n",
    "        if topic[\"title\"] == \"ICC UK\":\n",
    "            print(f\"Topic: {topic[\"title\"]}, ID: {topic[\"id\"]}, Subtopic: {sub_topic['title']}, ID: {sub_topic['id']}\")\n",
    "            sub_topic_dict[sub_topic[\"title\"]] = sub_topic[\"id\"]\n",
    "            topic_id = topic[\"id\"]\n",
    "\n",
    "print(topic_id)\n",
    "print(sub_topic_dict)"
   ]
  },
  {
   "cell_type": "code",
   "execution_count": 0,
   "metadata": {
    "application/vnd.databricks.v1+cell": {
     "cellMetadata": {
      "byteLimit": 2048000,
      "rowLimit": 10000
     },
     "collapsed": true,
     "inputWidgets": {},
     "nuid": "cdd6975a-900e-4fa1-901b-e4c044f77881",
     "showTitle": false,
     "tableResultSettingsMap": {},
     "title": ""
    }
   },
   "outputs": [],
   "source": [
    "# Liste zum speichern der Daten\n",
    "df_list = []\n",
    "\n",
    "# Set von allen Keys bzw Spalten Namen\n",
    "all_columns = set()\n",
    "\n",
    "for subtopic_title, subtopic_id in sub_topic_dict.items():\n",
    "    url = f\"https://api.talkwalker.com/api/v1/search/p/{project_id}/results?time_range=30d&topic={subtopic_id}&timezone=Europe/Berlin&hpp=500\"\n",
    "    data = get(url)\n",
    "    \n",
    "    try:\n",
    "        for item in data[\"result_content\"][\"data\"]:\n",
    "            flat = item.get(\"data\") if isinstance(item.get(\"data\"), dict) else str(item.get(\"data\"))\n",
    "            all_columns.update(data.keys())\n",
    "            if flat and isinstance(flat, dict) and len(flat) > 0:\n",
    "                flat[\"subtopic\"] = subtopic_title\n",
    "                df_list.append(flat)\n",
    "    except Exception as e:\n",
    "        print(f\"Error processing item: {e}\")\n",
    "        continue\n",
    "\n",
    "# Daten in ein gemeinsames DataFrame überführen (mit automatischer Spaltenangleichung)\n",
    "df = pd.DataFrame(df_list)"
   ]
  },
  {
   "cell_type": "markdown",
   "metadata": {
    "application/vnd.databricks.v1+cell": {
     "cellMetadata": {
      "byteLimit": 2048000,
      "rowLimit": 10000
     },
     "inputWidgets": {},
     "nuid": "4db7367b-e45a-4fed-b6ef-55adeab032b8",
     "showTitle": false,
     "tableResultSettingsMap": {},
     "title": ""
    }
   },
   "source": [
    "## Get Project Results "
   ]
  },
  {
   "cell_type": "code",
   "execution_count": 0,
   "metadata": {
    "application/vnd.databricks.v1+cell": {
     "cellMetadata": {
      "byteLimit": 2048000,
      "rowLimit": 10000
     },
     "inputWidgets": {},
     "nuid": "b36312c5-d3c9-4559-ad6c-aaaa14564788",
     "showTitle": false,
     "tableResultSettingsMap": {},
     "title": ""
    }
   },
   "outputs": [],
   "source": [
    "project_results_url = f\"https://api.talkwalker.com/api/v1/search/p/{project_id}/results?time_range=7d\"\n",
    "data = get(project_results_url)\n",
    "\n",
    "print(data)\n",
    "\n",
    "results = []\n",
    "\n",
    "for entry in data['result_content']['data']:\n",
    "    post = entry['data']\n",
    "    results.append({\n",
    "        'title': post.get('title'),\n",
    "        'content': post.get('content_snippet'),\n",
    "        'url': post.get('url'),\n",
    "        'root_url': post.get('root_url'),\n",
    "        'domain_url': post.get('domain_url'),\n",
    "        'published_at': post.get('published'),\n",
    "        #'language': post.get('lang'),\n",
    "        'source_type': post.get('source_type'),\n",
    "        'post_type': post.get('post_type'),\n",
    "        'images': post.get('images'),\n",
    "        'author': post.get('extra_author_attributes', {}).get('name'),\n",
    "        #'country': post.get('extra_author_attributes', {}).get('world_data', {}).get('country'),\n",
    "        'sentiment': post.get('sentiment'),\n",
    "        'youtube_views': post.get('article_extended_attributes', {}).get('youtube_views'),\n",
    "        'youtube_likes': post.get('article_extended_attributes', {}).get('youtube_likes'),\n",
    "        'num_comments': post.get('article_extended_attributes', {}).get('num_comments'),\n",
    "        #'alexa_pageviews': post.get('source_extended_attributes', {}).get('alexa_pageviews'),\n",
    "        #'alexa_unique_visitors': post.get('source_extended_attributes', {}).get('alexa_unique_visitors'),\n",
    "        'reach': post.get('reach'),\n",
    "        'engagement': post.get('engagement')\n",
    "    })\n",
    "\n",
    "# Define schema\n",
    "schema = StructType([\n",
    "    StructField(\"title\", StringType(), True),\n",
    "    StructField(\"content\", StringType(), True),\n",
    "    StructField(\"url\", StringType(), True),\n",
    "    StructField(\"root_url\", StringType(), True),\n",
    "    StructField(\"domain_url\", StringType(), True),\n",
    "    StructField(\"published_at\", LongType(), True),\n",
    "    #StructField(\"language\", StringType(), True),\n",
    "    StructField(\"source_type\", StringType(), True),\n",
    "    StructField(\"post_type\", StringType(), True),\n",
    "    StructField(\"images\", StringType(), True),\n",
    "    StructField(\"author\", StringType(), True),\n",
    "    #StructField(\"country\", StringType(), True),\n",
    "    StructField(\"sentiment\", IntegerType(), True),\n",
    "    StructField(\"youtube_views\", IntegerType(), True),\n",
    "    StructField(\"youtube_likes\", IntegerType(), True),\n",
    "    StructField(\"num_comments\", IntegerType(), True),\n",
    "    #StructField(\"alexa_pageviews\", LongType(), True),\n",
    "    #StructField(\"alexa_unique_visitors\", LongType(), True),\n",
    "    StructField(\"reach\", IntegerType(), True),\n",
    "    StructField(\"engagement\", IntegerType(), True)\n",
    "])\n",
    "\n",
    "# Create PySpark DataFrame\n",
    "df_api = spark.createDataFrame(results, schema=schema)\n",
    "\n",
    "#df_api = df_api.withColumn(\"ingested_at\", current_timestamp())\n",
    "\n",
    "df_api = df_api.withColumn(\"published_at\", from_unixtime(col(\"published_at\")/1000))\n",
    "\n",
    "df_api = df_api.withColumn(\"post_type\", regexp_replace(\"post_type\", r\"[\\[\\]]\", \"\"))\n",
    "\n",
    "df_api = df_api.withColumn(\"images\", regexp_replace(\"images\", r\"[\\[\\]\\{\\}]\", \"\"))\n",
    "\n",
    "df_existing = spark.read.table(\"datif_pz_uk_dev.02_cleaned.talkwalker\")\n",
    "\n",
    "df_joined = df_api.join(df_existing.select(\"url\", \"ingested_at\"), on=\"url\", how=\"left\")\n",
    "\n",
    "#df = df_joined.withColumn(\"ingested_at\", when(col(\"ingested_at\").isNull(), current_timestamp()).otherwise(col(\"ingested_at\")))\n",
    "\n",
    "df = df_joined.withColumn(\n",
    "    \"ingested_at\",\n",
    "    when(col(\"ingested_at\").isNull(), current_timestamp()).otherwise(col(\"ingested_at\"))\n",
    ")\n",
    "\n",
    "display(df)\n",
    "\n",
    "#df.coalesce(1).write.mode(\"overwrite\").json(\"wasbs://01-raw@datifpzukdevstdfs.blob.core.windows.net/talkwalker/\")\n",
    "\n",
    "df.coalesce(1).write.mode(\"overwrite\").json(\"abfss://01-raw@datifpzukdevstdfs.dfs.core.windows.net/talkwalker\")\n",
    "\n",
    "\n",
    "\n",
    "\n",
    "fn_overwrite_table(df, target_schema_name=target_schema_name, target_table_name=\"talkwalker\", target_path=target_path)\n",
    "\n",
    "#   \"pagination\": {\n",
    "#     \"next\": \"GET /api/v1/search/p/a1ab1abc-a123-123a-123a-abcd12ab1a12/results?q=cats%20AND%20dogs&offset=2&hpp=2&sort_by=engagement&sort_order=desc&hl=true&pretty=false&topic&filter&channel&panel&dataset&access_token=abcd_1234_abcd\",\n",
    "#     \"total\": 1529"
   ]
  },
  {
   "cell_type": "markdown",
   "metadata": {
    "application/vnd.databricks.v1+cell": {
     "cellMetadata": {
      "byteLimit": 2048000,
      "rowLimit": 10000
     },
     "inputWidgets": {},
     "nuid": "56bf1c50-09b8-43de-9f60-d807e4ea221d",
     "showTitle": false,
     "tableResultSettingsMap": {},
     "title": ""
    }
   },
   "source": [
    "## GET Project Results and Save as JSON"
   ]
  },
  {
   "cell_type": "markdown",
   "metadata": {
    "application/vnd.databricks.v1+cell": {
     "cellMetadata": {
      "byteLimit": 2048000,
      "rowLimit": 10000
     },
     "inputWidgets": {},
     "nuid": "f9ca393a-4a79-455e-bf57-18308ef32ee1",
     "showTitle": false,
     "tableResultSettingsMap": {},
     "title": ""
    }
   },
   "source": [
    "### GET Project Results and save as JSON"
   ]
  },
  {
   "cell_type": "markdown",
   "metadata": {
    "application/vnd.databricks.v1+cell": {
     "cellMetadata": {
      "byteLimit": 2048000,
      "rowLimit": 10000
     },
     "inputWidgets": {},
     "nuid": "c5461dee-7d43-4034-8bd8-248fda56ef25",
     "showTitle": false,
     "tableResultSettingsMap": {},
     "title": ""
    }
   },
   "source": [
    "### Read existing data"
   ]
  },
  {
   "cell_type": "code",
   "execution_count": 0,
   "metadata": {
    "application/vnd.databricks.v1+cell": {
     "cellMetadata": {
      "byteLimit": 2048000,
      "rowLimit": 10000
     },
     "inputWidgets": {},
     "nuid": "732bd159-3179-4f80-9127-694b3a277b72",
     "showTitle": false,
     "tableResultSettingsMap": {
      "0": {
       "dataGridStateBlob": "{\"version\":1,\"tableState\":{\"columnPinning\":{\"left\":[\"#row_number#\"],\"right\":[]},\"columnSizing\":{},\"columnVisibility\":{}},\"settings\":{\"columns\":{\"domain_url\":{\"format\":{\"preset\":\"string-preset-url\"}},\"host_url\":{\"format\":{\"preset\":\"string-preset-url\"}},\"parent_url\":{\"format\":{\"preset\":\"string-preset-url\"}},\"root_url\":{\"format\":{\"preset\":\"string-preset-url\"}},\"url\":{\"format\":{\"preset\":\"string-preset-url\"}}}},\"syncTimestamp\":1754051347971}",
       "filterBlob": null,
       "queryPlanFiltersBlob": null,
       "tableResultIndex": 0
      }
     },
     "title": ""
    }
   },
   "outputs": [],
   "source": [
    "df_existing = spark.read.json(\"abfss://01-raw@datifpzukdevstdfs.dfs.core.windows.net/talkwalker/data.json\")\n",
    "\n",
    "display(df_existing)\n"
   ]
  },
  {
   "cell_type": "markdown",
   "metadata": {
    "application/vnd.databricks.v1+cell": {
     "cellMetadata": {
      "byteLimit": 2048000,
      "rowLimit": 10000
     },
     "inputWidgets": {},
     "nuid": "8c48fddd-609c-491e-aa3c-33b36bc597a7",
     "showTitle": false,
     "tableResultSettingsMap": {},
     "title": ""
    }
   },
   "source": [
    "### Read all data from API "
   ]
  },
  {
   "cell_type": "code",
   "execution_count": 0,
   "metadata": {
    "application/vnd.databricks.v1+cell": {
     "cellMetadata": {
      "byteLimit": 2048000,
      "rowLimit": 10000
     },
     "inputWidgets": {},
     "nuid": "0e29ea97-9cb0-4a4e-ad21-bf14e1d265a3",
     "showTitle": false,
     "tableResultSettingsMap": {
      "0": {
       "dataGridStateBlob": "{\"version\":1,\"tableState\":{\"columnPinning\":{\"left\":[\"#row_number#\"],\"right\":[]},\"columnSizing\":{},\"columnVisibility\":{}},\"settings\":{\"columns\":{\"url\":{\"format\":{\"preset\":\"string-preset-url\"}},\"domain_url\":{\"format\":{\"preset\":\"string-preset-url\"}},\"host_url\":{\"format\":{\"preset\":\"string-preset-url\"}},\"parent_url\":{\"format\":{\"preset\":\"string-preset-url\"}},\"root_url\":{\"format\":{\"preset\":\"string-preset-url\"}}}},\"syncTimestamp\":1754050872057}",
       "filterBlob": null,
       "queryPlanFiltersBlob": null,
       "tableResultIndex": 0
      }
     },
     "title": ""
    }
   },
   "outputs": [],
   "source": [
    "#project_results_url = f\"https://api.talkwalker.com/api/v1/search/p/{project_id}/results?time_range=7d\"\n",
    "project_results_url = f\"https://api.talkwalker.com/api/v1/search/p/{project_id}/results?time_range=30d&topic={subtopic_id}&timezone=Europe/Berlin&hpp=500\"\n",
    "api_data = get(project_results_url) # Make sure it's parsed as JSON\n",
    "\n",
    "# Extract the list of records \n",
    "#records = data.get(\"data\", [])  \n",
    "\n",
    "raw_results = api_data.get(\"result_content\", {}).get(\"data\", [])\n",
    "\n",
    "# flatten the list (pull out each inner `data` object)\n",
    "records = [item[\"data\"] for item in raw_results if \"data\" in item]\n",
    "\n",
    "# Turn it into newline-delimited JSON (NDJSON)\n",
    "json_lines = \"\\n\".join([json.dumps(record) for record in records])\n",
    "\n",
    "# Upload to Azure Blob\n",
    "connection_string = \"\"\n",
    "container = \"01-raw\"\n",
    "blob = \"talkwalker/api_data.json\"\n",
    "\n",
    "# Save API data to Storage\n",
    "blob_service_client = BlobServiceClient.from_connection_string(connection_string)\n",
    "blob_client = blob_service_client.get_blob_client(container=container, blob=blob)\n",
    "blob_client.upload_blob(json_lines, overwrite=True)\n",
    "\n",
    "# Read API data\n",
    "df_api = spark.read.json(\"abfss://01-raw@datifpzukdevstdfs.dfs.core.windows.net/talkwalker/api_data.json\")\n",
    "#df_api = df.withColumn(\"ingested_at\", current_timestamp())\n",
    "\n",
    "# Left join api data with existing data to ensure no duplicate\n",
    "df_joined = df_api.join(df_existing.select(\"url\", \"ingested_at\"), on=\"url\", how=\"left\")\n",
    "\n",
    "# Add \"ingested_at\" if not exists yet\n",
    "df = df_joined.withColumn(\n",
    "    \"ingested_at\",\n",
    "    when(col(\"ingested_at\").isNull(), current_timestamp()).otherwise(col(\"ingested_at\"))\n",
    ")\n",
    "\n",
    "display(df)\n"
   ]
  },
  {
   "cell_type": "markdown",
   "metadata": {
    "application/vnd.databricks.v1+cell": {
     "cellMetadata": {},
     "inputWidgets": {},
     "nuid": "97b129c9-413c-4f45-812c-ae7e3fbd7793",
     "showTitle": false,
     "tableResultSettingsMap": {},
     "title": ""
    }
   },
   "source": [
    "### Save all data to Blob Storage"
   ]
  },
  {
   "cell_type": "code",
   "execution_count": 0,
   "metadata": {
    "application/vnd.databricks.v1+cell": {
     "cellMetadata": {
      "byteLimit": 2048000,
      "rowLimit": 10000
     },
     "inputWidgets": {},
     "nuid": "96cc4811-acda-44a8-927b-3e6fb40cbf9f",
     "showTitle": false,
     "tableResultSettingsMap": {},
     "title": ""
    }
   },
   "outputs": [],
   "source": [
    "tmp_path = \"abfss://01-raw@datifpzukdevstdfs.dfs.core.windows.net/talkwalker/tmp_data_json\"\n",
    "\n",
    "# write data to a temporary folder\n",
    "df.coalesce(1).write.mode(\"overwrite\").json(tmp_path)\n",
    "\n",
    "# wrap all data to one file\n",
    "files = dbutils.fs.ls(tmp_path)\n",
    "json_file = json_file = [f.path for f in files if f.name.endswith(\".json\")][0]\n",
    "\n",
    "final_path = \"abfss://01-raw@datifpzukdevstdfs.dfs.core.windows.net/talkwalker/data.json\"\n",
    "\n",
    "# remove the existing file\n",
    "dbutils.fs.rm(final_path, True)\n",
    "\n",
    "# overwrite file\n",
    "dbutils.fs.mv(json_file, final_path)\n"
   ]
  },
  {
   "cell_type": "code",
   "execution_count": 0,
   "metadata": {
    "application/vnd.databricks.v1+cell": {
     "cellMetadata": {
      "byteLimit": 2048000,
      "rowLimit": 10000
     },
     "inputWidgets": {},
     "nuid": "b22edc19-2279-4225-86a6-fdb267e913f5",
     "showTitle": false,
     "tableResultSettingsMap": {},
     "title": ""
    }
   },
   "outputs": [],
   "source": [
    "project_results_url = f\"https://api.talkwalker.com/api/v1/search/p/{project_id}/results?time_range=7d\"\n",
    "data = get(project_results_url) "
   ]
  },
  {
   "cell_type": "code",
   "execution_count": 0,
   "metadata": {
    "application/vnd.databricks.v1+cell": {
     "cellMetadata": {
      "byteLimit": 2048000,
      "rowLimit": 10000
     },
     "inputWidgets": {},
     "nuid": "bbeebb83-74db-4073-b906-c4bc43cf2845",
     "showTitle": false,
     "tableResultSettingsMap": {},
     "title": ""
    }
   },
   "outputs": [],
   "source": [
    "results_url = \"https://api.talkwalker.com/api/v1/search/results?q=mobility\"\n",
    "data = get(results_url)\n",
    "print(data)"
   ]
  },
  {
   "cell_type": "markdown",
   "metadata": {
    "application/vnd.databricks.v1+cell": {
     "cellMetadata": {
      "byteLimit": 2048000,
      "rowLimit": 10000
     },
     "inputWidgets": {},
     "nuid": "ca832a4f-a955-41a3-abba-3eee10012de7",
     "showTitle": false,
     "tableResultSettingsMap": {},
     "title": ""
    }
   },
   "source": [
    "## GET Summary API"
   ]
  },
  {
   "cell_type": "code",
   "execution_count": 0,
   "metadata": {
    "application/vnd.databricks.v1+cell": {
     "cellMetadata": {
      "byteLimit": 2048000,
      "rowLimit": 10000
     },
     "inputWidgets": {},
     "nuid": "5afced2c-5781-449f-b9fa-24984a81fe53",
     "showTitle": false,
     "tableResultSettingsMap": {},
     "title": ""
    }
   },
   "outputs": [],
   "source": [
    "summary_url = \"https://api.talkwalker.com/api/v1/search/summary?q=A\"\n",
    "data = get(summary_url)\n",
    "print(data)"
   ]
  },
  {
   "cell_type": "code",
   "execution_count": 0,
   "metadata": {
    "application/vnd.databricks.v1+cell": {
     "cellMetadata": {
      "byteLimit": 2048000,
      "rowLimit": 10000
     },
     "inputWidgets": {},
     "nuid": "f5570762-1b3b-46ff-9a7c-a73fc11faf45",
     "showTitle": false,
     "tableResultSettingsMap": {},
     "title": ""
    }
   },
   "outputs": [],
   "source": [
    "project_summary_url = f\"https://api.talkwalker.com/api/v1/search/p/{project_id}/summary\"\n",
    "data = get(project_summary_url)\n",
    "print(data)"
   ]
  },
  {
   "cell_type": "markdown",
   "metadata": {
    "application/vnd.databricks.v1+cell": {
     "cellMetadata": {
      "byteLimit": 2048000,
      "rowLimit": 10000
     },
     "inputWidgets": {},
     "nuid": "b56ba9d8-b93b-43fa-96af-d91a0184c69f",
     "showTitle": false,
     "tableResultSettingsMap": {},
     "title": ""
    }
   },
   "source": [
    "## GET Histogram API"
   ]
  },
  {
   "cell_type": "code",
   "execution_count": 0,
   "metadata": {
    "application/vnd.databricks.v1+cell": {
     "cellMetadata": {
      "byteLimit": 2048000,
      "rowLimit": 10000
     },
     "inputWidgets": {},
     "nuid": "f44056cc-c79a-4420-b28c-19a3144728f1",
     "showTitle": false,
     "tableResultSettingsMap": {},
     "title": ""
    }
   },
   "outputs": [],
   "source": [
    "histo_api = f\"https://api.talkwalker.com/api/v1/search/p/{project_id}/histogram/published\"\n",
    "data = get(histo_api)\n",
    "print(data)"
   ]
  },
  {
   "cell_type": "code",
   "execution_count": 0,
   "metadata": {
    "application/vnd.databricks.v1+cell": {
     "cellMetadata": {
      "byteLimit": 2048000,
      "rowLimit": 10000
     },
     "inputWidgets": {},
     "nuid": "73bea6d2-7022-4f92-b5f5-545c66692880",
     "showTitle": false,
     "tableResultSettingsMap": {},
     "title": ""
    }
   },
   "outputs": [],
   "source": [
    "histo_infl_api = f\"https://api.talkwalker.com/api/v1/search/p/{project_id}/histogram/top_influencers\"\n",
    "data = get(histo_infl_api)\n",
    "print(data)"
   ]
  }
 ],
 "metadata": {
  "application/vnd.databricks.v1+notebook": {
   "computePreferences": null,
   "dashboards": [],
   "environmentMetadata": {
    "base_environment": "",
    "environment_version": "2"
   },
   "inputWidgetPreferences": null,
   "language": "python",
   "notebookMetadata": {
    "pythonIndentUnit": 4
   },
   "notebookName": "nb_raw_talkwalker_hieu",
   "widgets": {}
  },
  "language_info": {
   "name": "python"
  }
 },
 "nbformat": 4,
 "nbformat_minor": 0
}
