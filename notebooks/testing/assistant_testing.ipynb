{
 "cells": [
  {
   "cell_type": "code",
   "execution_count": 0,
   "metadata": {
    "application/vnd.databricks.v1+cell": {
     "cellMetadata": {
      "byteLimit": 2048000,
      "rowLimit": 10000
     },
     "collapsed": true,
     "inputWidgets": {},
     "nuid": "ae7c4995-4fb2-4970-bc91-822698913d32",
     "showTitle": false,
     "tableResultSettingsMap": {},
     "title": ""
    }
   },
   "outputs": [],
   "source": [
    "%pip install --upgrade openaI numpy==1.23.5 databricks-vectorsearch"
   ]
  },
  {
   "cell_type": "code",
   "execution_count": 0,
   "metadata": {
    "application/vnd.databricks.v1+cell": {
     "cellMetadata": {
      "byteLimit": 2048000,
      "rowLimit": 10000
     },
     "collapsed": true,
     "inputWidgets": {},
     "nuid": "ea6b9cb8-069d-4ae5-a68c-4fed47136a36",
     "showTitle": false,
     "tableResultSettingsMap": {},
     "title": ""
    }
   },
   "outputs": [],
   "source": [
    "dbutils.library.restartPython()"
   ]
  },
  {
   "cell_type": "code",
   "execution_count": 0,
   "metadata": {
    "application/vnd.databricks.v1+cell": {
     "cellMetadata": {
      "byteLimit": 2048000,
      "rowLimit": 10000
     },
     "collapsed": true,
     "inputWidgets": {},
     "nuid": "d7467b83-b74b-4c8d-bcc8-000011797eec",
     "showTitle": false,
     "tableResultSettingsMap": {},
     "title": ""
    }
   },
   "outputs": [],
   "source": [
    "import json\n",
    "import pandas as pd\n",
    "from openai import OpenAI\n",
    "from openai import AssistantEventHandler, AzureOpenAI"
   ]
  },
  {
   "cell_type": "code",
   "execution_count": 0,
   "metadata": {
    "application/vnd.databricks.v1+cell": {
     "cellMetadata": {
      "byteLimit": 2048000,
      "rowLimit": 10000
     },
     "collapsed": true,
     "inputWidgets": {},
     "nuid": "ef0298e2-abec-40b6-aa1e-dbba9e01c6ea",
     "showTitle": false,
     "tableResultSettingsMap": {},
     "title": ""
    }
   },
   "outputs": [],
   "source": [
    "%run ../common/nb_init"
   ]
  },
  {
   "cell_type": "markdown",
   "metadata": {
    "application/vnd.databricks.v1+cell": {
     "cellMetadata": {},
     "inputWidgets": {},
     "nuid": "b54dfd9d-f490-4dc8-a7e8-2d9e533a7fee",
     "showTitle": false,
     "tableResultSettingsMap": {},
     "title": ""
    }
   },
   "source": [
    "#Fragen"
   ]
  },
  {
   "cell_type": "markdown",
   "metadata": {
    "application/vnd.databricks.v1+cell": {
     "cellMetadata": {},
     "inputWidgets": {},
     "nuid": "67a31942-5a3a-4b52-af79-a95b23b81d12",
     "showTitle": false,
     "tableResultSettingsMap": {},
     "title": ""
    }
   },
   "source": [
    "  {\n",
    "    \"id\": \"social_01_01\",\n",
    "    \"table\": \"consolidated_socials\",\n",
    "    \"query\": \"Wie viele Beiträge wurden im Januar 2025 auf Instagram veröffentlicht?\",\n",
    "    \"expected\": \"\"\n",
    "  }, \n",
    "\n",
    "  -> Bei Alternative letzte Stelle hochzählen\n",
    "\n",
    "    {\n",
    "    \"id\": \"social_01_02\",\n",
    "    \"table\": \"consolidated_socials\",\n",
    "    \"query\": \"Wie viele Beiträge wurden im Januar 2025 auf Instagram veröffentlicht?\",\n",
    "    \"expected\": \"\"\n",
    "  },"
   ]
  },
  {
   "cell_type": "code",
   "execution_count": 0,
   "metadata": {
    "application/vnd.databricks.v1+cell": {
     "cellMetadata": {
      "byteLimit": 2048000,
      "rowLimit": 10000
     },
     "inputWidgets": {},
     "nuid": "323c3194-0fec-444b-b4b9-b69bbd603bc4",
     "showTitle": false,
     "tableResultSettingsMap": {},
     "title": ""
    }
   },
   "outputs": [],
   "source": [
    "testcases = [\n",
    "  {\n",
    "    \"id\": \"social_01_01\",\n",
    "    \"table\": \"consolidated_socials\",\n",
    "    \"query\": \"Wie viele Beiträge wurden im Januar 2025 auf Instagram veröffentlicht?\",\n",
    "    \"expected\": \"\"\n",
    "  },\n",
    "  {\n",
    "    \"id\": \"social_02_01\",\n",
    "    \"table\": \"consolidated_socials\",\n",
    "    \"query\": \"Welcher Channel hatte im Februar 2025 die meisten Impressions?\",\n",
    "    \"expected\": \"\"\n",
    "  },\n",
    "  {\n",
    "    \"id\": \"social_03_01\",\n",
    "    \"table\": \"consolidated_socials\",\n",
    "    \"query\": \"Gib den Durchschnitt der EngagementRateInPercent für alle LinkedIn-Posts im Q1 2025 an.\",\n",
    "    \"expected\": \"\"\n",
    "  },\n",
    "  {\n",
    "    \"id\": \"social_04_01\",\n",
    "    \"table\": \"consolidated_socials\",\n",
    "    \"query\": \"Zeige die Top 5 Posts mit der höchsten EngagementRateInPercent im März 2025.\",\n",
    "    \"expected\": \"\"\n",
    "  },\n",
    "  {\n",
    "    \"id\": \"social_05_01\",\n",
    "    \"table\": \"consolidated_socials\",\n",
    "    \"query\": \"Welcher PostType erzielte im April 2025 die meisten Impressions?\",\n",
    "    \"expected\": \"\"\n",
    "  },\n",
    "  {\n",
    "    \"id\": \"social_06_01\",\n",
    "    \"table\": \"consolidated_socials\",\n",
    "    \"query\": \"Vergleiche die Impressions von Facebook-Posts und Instagram-Posts im Mai 2025.\",\n",
    "    \"expected\": \"\"\n",
    "  },\n",
    "  {\n",
    "    \"id\": \"social_07_01\",\n",
    "    \"table\": \"consolidated_socials\",\n",
    "    \"query\": \"Wie viele Posts sind mehreren Strategischen Themen zugeordnet?\",\n",
    "    \"expected\": \"\"\n",
    "  },\n",
    "  {\n",
    "    \"id\": \"social_08_01\",\n",
    "    \"table\": \"consolidated_socials\",\n",
    "    \"query\": \"Welche Themenbereiche hatten die höchste durchschnittliche EngagementRateInPercent im ersten Halbjahr 2025?\",\n",
    "    \"expected\": \"\"\n",
    "  },\n",
    "  {\n",
    "    \"id\": \"social_09_01\",\n",
    "    \"table\": \"consolidated_socials\",\n",
    "    \"query\": \"Gibt es einen Monat, in dem der Channel X neue Inhalte veröffentlicht hat?\",\n",
    "    \"expected\": \"\"\n",
    "  },\n",
    "  {\n",
    "    \"id\": \"social_10_01\",\n",
    "    \"table\": \"consolidated_socials\",\n",
    "    \"query\": \"Welcher Post hatte die meisten Impressions insgesamt?\",\n",
    "    \"expected\": \"\"\n",
    "  },\n",
    "  {\n",
    "    \"id\": \"eco_01_01\",\n",
    "    \"table\": \"consolidated_eco_journal\",\n",
    "    \"query\": \"Wie viele Artikel wurden im Januar 2025 veröffentlicht?\",\n",
    "    \"expected\": \"\"\n",
    "  },\n",
    "  {\n",
    "    \"id\": \"eco_02_01\",\n",
    "    \"table\": \"consolidated_eco_journal\",\n",
    "    \"query\": \"Welcher Artikel hatte die meisten Views im Februar 2025?\",\n",
    "    \"expected\": \"\"\n",
    "  },\n",
    "  {\n",
    "    \"id\": \"eco_03_01\",\n",
    "    \"table\": \"consolidated_eco_journal\",\n",
    "    \"query\": \"Berechne die durchschnittliche Bounce_rate im Q1 2025.\",\n",
    "    \"expected\": \"\"\n",
    "  },\n",
    "  {\n",
    "    \"id\": \"eco_04_01\",\n",
    "    \"table\": \"consolidated_eco_journal\",\n",
    "    \"query\": \"Vergleiche die Gesamtzahl der Sessions im März und April 2025.\",\n",
    "    \"expected\": \"\"\n",
    "  },\n",
    "  {\n",
    "    \"id\": \"eco_05_01\",\n",
    "    \"table\": \"consolidated_eco_journal\",\n",
    "    \"query\": \"Welcher Themenbereich hat die höchste durchschnittliche User_engagement-Zeit?\",\n",
    "    \"expected\": \"\"\n",
    "  },\n",
    "  {\n",
    "    \"id\": \"rep_01_01\",\n",
    "    \"table\": \"reputationsindex\",\n",
    "    \"query\": \"Wie entwickelt sich die Bekanntheit_in_Prozent von A über die Monate 2025?\",\n",
    "    \"expected\": \"\"\n",
    "  },\n",
    "  {\n",
    "    \"id\": \"rep_0_01\",\n",
    "    \"table\": \"reputationsindex\",\n",
    "    \"query\": \"Welches Unternehmen hatte im März 2025 den höchsten Bekanntsheitwert?\",\n",
    "    \"expected\": \"\"\n",
    "  },\n",
    "  {\n",
    "    \"id\": \"rep_03_01\",\n",
    "    \"table\": \"reputationsindex\",\n",
    "    \"query\": \"Vergleiche den durchschnittlichen Bekanntheitswert von B, A und C im Q1 2025.\",\n",
    "    \"expected\": \"\"\n",
    "  },\n",
    "  {\n",
    "    \"id\": \"rep_04_01\",\n",
    "    \"table\": \"reputationsindex\",\n",
    "    \"query\": \"Gibt es Monate, in denen alle drei Unternehmen denselben Wert hatten?\",\n",
    "    \"expected\": \"\"\n",
    "  },\n",
    "  {\n",
    "    \"id\": \"rep_05_01\",\n",
    "    \"table\": \"reputationsindex\",\n",
    "    \"query\": \"Welches Unternehmen zeigt die größte Schwankung in der Bekanntheit_in_Prozent im ersten Halbjahr 2025?\",\n",
    "    \"expected\": \"\"\n",
    "  }\n",
    "]\n"
   ]
  },
  {
   "cell_type": "markdown",
   "metadata": {
    "application/vnd.databricks.v1+cell": {
     "cellMetadata": {},
     "inputWidgets": {},
     "nuid": "7a159c76-8e6f-4e8e-a338-c742a8def751",
     "showTitle": false,
     "tableResultSettingsMap": {},
     "title": ""
    }
   },
   "source": [
    "#Evaluierung"
   ]
  },
  {
   "cell_type": "code",
   "execution_count": 0,
   "metadata": {
    "application/vnd.databricks.v1+cell": {
     "cellMetadata": {
      "byteLimit": 2048000,
      "rowLimit": 10000
     },
     "inputWidgets": {},
     "nuid": "ddfd7ebd-fd0f-4a8c-b615-c9d636df1caa",
     "showTitle": false,
     "tableResultSettingsMap": {},
     "title": ""
    }
   },
   "outputs": [],
   "source": [
    "secret= get_secret(\"openai-assistant-key\")\n",
    "endpoint = get_secret(\"openai-assistant-endpoint\")\n",
    "ASSISTANT_ID = get_secret(\"openai-assistant-id\")"
   ]
  },
  {
   "cell_type": "code",
   "execution_count": 0,
   "metadata": {
    "application/vnd.databricks.v1+cell": {
     "cellMetadata": {
      "byteLimit": 2048000,
      "rowLimit": 10000
     },
     "inputWidgets": {},
     "nuid": "9ee15212-0535-4bef-8db6-199b8f4b7468",
     "showTitle": false,
     "tableResultSettingsMap": {},
     "title": ""
    }
   },
   "outputs": [],
   "source": [
    "# Client\n",
    "client = AzureOpenAI(\n",
    "    api_key=secret,\n",
    "    api_version=\"2024-05-01-preview\",\n",
    "    azure_endpoint=endpoint\n",
    ")\n",
    "\n",
    "# Funktion: Assistant-Call\n",
    "def ask_bot(query):\n",
    "    # neuen Thread mit User-Eingabe anlegen\n",
    "    thread = client.beta.threads.create(\n",
    "        messages=[\n",
    "            {\"role\": \"user\", \"content\": query}\n",
    "        ]\n",
    "    )\n",
    "\n",
    "    # Thread erstellen\n",
    "    run = client.beta.threads.runs.create_and_poll(\n",
    "        thread_id=thread.id,\n",
    "        assistant_id=ASSISTANT_ID\n",
    "    )\n",
    "\n",
    "    # Nachrichten auslesen\n",
    "    messages = client.beta.threads.messages.list(thread_id=thread.id)\n",
    "    answer = messages.data[0].content[0].text.value\n",
    "\n",
    "    return answer.strip()\n",
    "\n",
    "# Funktion: LLM-Judge\n",
    "def llm_judge(query, answer, expected):\n",
    "    if not expected:  # keine GT → kein Scoring\n",
    "        return None\n",
    "    \n",
    "    judge_prompt = f\"\"\"\n",
    "        Du bist ein Evaluator für Chatbot-Antworten.\n",
    "        Bewerte die Qualität einer Antwort im Vergleich zur erwarteten Lösung.\n",
    "\n",
    "        Frage: {query}\n",
    "        Antwort des Bots: {answer}\n",
    "        Erwartet: {expected}\n",
    "\n",
    "        Bewerte von 1 bis 5:\n",
    "        1 = falsch oder unverständlich\n",
    "        3 = teilweise korrekt, aber unvollständig oder unklar\n",
    "        5 = vollständig korrekt und klar formuliert\n",
    "\n",
    "        Gib NUR die Zahl zurück.\n",
    "    \"\"\"\n",
    "\n",
    "    resp = client.chat.completions.create(\n",
    "        model=\"gpt-4o-mini\",\n",
    "        messages=[{\"role\": \"user\", \"content\": judge_prompt}]\n",
    "    )\n",
    "    try:\n",
    "        return int(resp.choices[0].message.content.strip())\n",
    "    except:\n",
    "        return None\n",
    "\n",
    "# Test-Loop\n",
    "results = []\n",
    "for case in testcases:\n",
    "    query = case[\"query\"]\n",
    "    expected = case[\"expected\"]\n",
    "\n",
    "    # Bot-Antwort\n",
    "    answer = ask_bot(query)\n",
    "\n",
    "    # Bewertung (nur falls Expected eingetragen ist)\n",
    "    score = llm_judge(query, answer, expected) if expected else None\n",
    "\n",
    "    results.append({\n",
    "        \"id\": case[\"id\"],\n",
    "        \"table\": case[\"table\"],\n",
    "        \"query\": query,\n",
    "        \"expected\": expected,\n",
    "        \"answer\": answer,\n",
    "        \"score\": score\n",
    "    })\n",
    "\n",
    "# DataFrame bauen\n",
    "df = pd.DataFrame(results)"
   ]
  },
  {
   "cell_type": "markdown",
   "metadata": {
    "application/vnd.databricks.v1+cell": {
     "cellMetadata": {},
     "inputWidgets": {},
     "nuid": "8d8bb5a9-4818-42c9-bf03-d5a0322b32ff",
     "showTitle": false,
     "tableResultSettingsMap": {},
     "title": ""
    }
   },
   "source": [
    "#Anzeigen der Ergebnisse"
   ]
  },
  {
   "cell_type": "code",
   "execution_count": 0,
   "metadata": {
    "application/vnd.databricks.v1+cell": {
     "cellMetadata": {
      "byteLimit": 2048000,
      "rowLimit": 10000
     },
     "inputWidgets": {},
     "nuid": "00cbb29f-cdfd-482d-9fde-b03c4dd1ab11",
     "showTitle": false,
     "tableResultSettingsMap": {},
     "title": ""
    }
   },
   "outputs": [],
   "source": [
    "df.display()"
   ]
  }
 ],
 "metadata": {
  "application/vnd.databricks.v1+notebook": {
   "computePreferences": null,
   "dashboards": [],
   "environmentMetadata": {
    "base_environment": "",
    "environment_version": "3"
   },
   "inputWidgetPreferences": null,
   "language": "python",
   "notebookMetadata": {
    "pythonIndentUnit": 4
   },
   "notebookName": "assistant_testing",
   "widgets": {}
  },
  "language_info": {
   "name": "python"
  }
 },
 "nbformat": 4,
 "nbformat_minor": 0
}
