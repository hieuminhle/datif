{
 "cells": [
  {
   "cell_type": "markdown",
   "metadata": {
    "application/vnd.databricks.v1+cell": {
     "cellMetadata": {},
     "inputWidgets": {},
     "nuid": "37927d1e-2665-423e-8a3a-737bffd10af8",
     "showTitle": false,
     "tableResultSettingsMap": {},
     "title": ""
    }
   },
   "source": [
    "# Mediachatbot"
   ]
  },
  {
   "cell_type": "markdown",
   "metadata": {
    "application/vnd.databricks.v1+cell": {
     "cellMetadata": {},
     "inputWidgets": {},
     "nuid": "eb8715f3-f2bf-4579-a4af-feadbe4c4e61",
     "showTitle": false,
     "tableResultSettingsMap": {},
     "title": ""
    }
   },
   "source": [
    "# Installs and Imports"
   ]
  },
  {
   "cell_type": "code",
   "execution_count": 0,
   "metadata": {
    "application/vnd.databricks.v1+cell": {
     "cellMetadata": {
      "byteLimit": 2048000,
      "rowLimit": 10000
     },
     "collapsed": true,
     "inputWidgets": {},
     "nuid": "253009af-b930-4c51-8859-5a08844ffbaa",
     "showTitle": false,
     "tableResultSettingsMap": {},
     "title": ""
    }
   },
   "outputs": [],
   "source": [
    "%pip install --upgrade openaI numpy==1.23.5 databricks-vectorsearch"
   ]
  },
  {
   "cell_type": "code",
   "execution_count": 0,
   "metadata": {
    "application/vnd.databricks.v1+cell": {
     "cellMetadata": {
      "byteLimit": 2048000,
      "rowLimit": 10000
     },
     "inputWidgets": {},
     "nuid": "8e5c1aac-ecaf-4d7c-b582-040f39f851eb",
     "showTitle": false,
     "tableResultSettingsMap": {},
     "title": ""
    }
   },
   "outputs": [],
   "source": [
    "dbutils.library.restartPython()"
   ]
  },
  {
   "cell_type": "code",
   "execution_count": 0,
   "metadata": {
    "application/vnd.databricks.v1+cell": {
     "cellMetadata": {
      "byteLimit": 2048000,
      "rowLimit": 10000
     },
     "inputWidgets": {},
     "nuid": "9d0e9507-aadf-49be-900f-e5fb03c09bf4",
     "showTitle": false,
     "tableResultSettingsMap": {},
     "title": ""
    }
   },
   "outputs": [],
   "source": [
    "import os\n",
    "import re\n",
    "import json\n",
    "import pandas as pd\n",
    "from datetime import datetime, timedelta \n",
    "from openai import AssistantEventHandler, OpenAI\n",
    "import openai\n",
    "import requests\n",
    "from typing_extensions import override\n",
    "import unicodedata\n",
    "from databricks.vector_search.client import VectorSearchClient"
   ]
  },
  {
   "cell_type": "code",
   "execution_count": 0,
   "metadata": {
    "application/vnd.databricks.v1+cell": {
     "cellMetadata": {
      "byteLimit": 2048000,
      "rowLimit": 10000
     },
     "inputWidgets": {},
     "nuid": "821db27c-8932-4dd1-9dda-c20648a23a5e",
     "showTitle": false,
     "tableResultSettingsMap": {},
     "title": ""
    }
   },
   "outputs": [],
   "source": [
    "%run ../../notebooks/common/nb_init"
   ]
  },
  {
   "cell_type": "markdown",
   "metadata": {
    "application/vnd.databricks.v1+cell": {
     "cellMetadata": {},
     "inputWidgets": {},
     "nuid": "5eb2b96b-e3e2-4dd2-bb07-f61aa6ef8817",
     "showTitle": false,
     "tableResultSettingsMap": {},
     "title": ""
    }
   },
   "source": [
    "# Load and Save Data"
   ]
  },
  {
   "cell_type": "code",
   "execution_count": 0,
   "metadata": {
    "application/vnd.databricks.v1+cell": {
     "cellMetadata": {
      "byteLimit": 2048000,
      "rowLimit": 10000
     },
     "inputWidgets": {},
     "nuid": "db49b28f-4c5b-45d1-a827-cd9e0fb60954",
     "showTitle": false,
     "tableResultSettingsMap": {},
     "title": ""
    }
   },
   "outputs": [],
   "source": [
    "source_path = sta_endpoint_pz_uk[\"01_raw\"] + \"/PowerBI_Test\""
   ]
  },
  {
   "cell_type": "code",
   "execution_count": 0,
   "metadata": {
    "application/vnd.databricks.v1+cell": {
     "cellMetadata": {
      "byteLimit": 2048000,
      "rowLimit": 10000
     },
     "collapsed": true,
     "inputWidgets": {},
     "nuid": "48ffda72-a663-46b9-a460-08508244d164",
     "showTitle": false,
     "tableResultSettingsMap": {},
     "title": ""
    }
   },
   "outputs": [],
   "source": [
    "file_info_list = dbutils.fs.ls(source_path)\n",
    "df_power_bi = spark.read.option(\"encoding\", \"UTF-8\").csv(source_path + \"/data.csv\", header=True, inferSchema=True, quote=\"\\\"\", escape=\"\\\"\")\n",
    "df_power_bi.write.mode('overwrite').csv('power_bi_socials.csv')\n",
    "df_pandas = df_power_bi.toPandas()\n",
    "with open('power_bi_socials.json', 'w', encoding='utf-8') as file:\n",
    "    df_pandas.to_json(file, force_ascii=False, orient=\"records\",)"
   ]
  },
  {
   "cell_type": "markdown",
   "metadata": {
    "application/vnd.databricks.v1+cell": {
     "cellMetadata": {},
     "inputWidgets": {},
     "nuid": "d466f70e-f1d5-42b2-916d-92c2056c9140",
     "showTitle": false,
     "tableResultSettingsMap": {},
     "title": ""
    }
   },
   "source": [
    "# Create OpenAI Client"
   ]
  },
  {
   "cell_type": "code",
   "execution_count": 0,
   "metadata": {
    "application/vnd.databricks.v1+cell": {
     "cellMetadata": {
      "byteLimit": 2048000,
      "rowLimit": 10000
     },
     "inputWidgets": {},
     "nuid": "466aa417-ffa4-4df9-aef0-168d47843fac",
     "showTitle": false,
     "tableResultSettingsMap": {},
     "title": ""
    }
   },
   "outputs": [],
   "source": [
    "secret= get_secret(\"openai-key\")\n",
    "endpoint = get_secret(\"openai-endpoint\")"
   ]
  },
  {
   "cell_type": "code",
   "execution_count": 0,
   "metadata": {
    "application/vnd.databricks.v1+cell": {
     "cellMetadata": {
      "byteLimit": 2048000,
      "rowLimit": 10000
     },
     "inputWidgets": {},
     "nuid": "a20504bd-ad29-4ebd-94f9-da5654d9d6dd",
     "showTitle": false,
     "tableResultSettingsMap": {},
     "title": ""
    }
   },
   "outputs": [],
   "source": [
    "if \"AZURE_OPENAI_API_KEY_PROD\" not in os.environ:\n",
    "    # os.environ[\"AZURE_OPENAI_API_KEY_PROD\"] = ''\n",
    "    raise Exception('Please set the environment variable \"AZURE_OPENAI_API_KEY_PROD\"')"
   ]
  },
  {
   "cell_type": "code",
   "execution_count": 0,
   "metadata": {
    "application/vnd.databricks.v1+cell": {
     "cellMetadata": {
      "byteLimit": 2048000,
      "rowLimit": 10000
     },
     "inputWidgets": {},
     "nuid": "597fb9f2-b6fa-41f5-a6b6-bb023473bf51",
     "showTitle": false,
     "tableResultSettingsMap": {},
     "title": ""
    }
   },
   "outputs": [],
   "source": [
    "key=\"\""
   ]
  },
  {
   "cell_type": "code",
   "execution_count": 0,
   "metadata": {
    "application/vnd.databricks.v1+cell": {
     "cellMetadata": {
      "byteLimit": 2048000,
      "rowLimit": 10000
     },
     "inputWidgets": {},
     "nuid": "44d13e6d-7c44-466b-972b-731502d4393d",
     "showTitle": false,
     "tableResultSettingsMap": {},
     "title": ""
    }
   },
   "outputs": [],
   "source": [
    "client = OpenAI(api_key= Key)\n",
    "\n",
    "'''\n",
    "openai.AzureOpenAI(base_url=\"https://api.competence-cente-cc-genai-prod.A-az.cloud/openai\",\n",
    "        api_version=\"2024-10-21\",\n",
    "        api_key=os.environ[\"AZURE_OPENAI_API_KEY_PROD\"],)\n",
    "'''\n"
   ]
  },
  {
   "cell_type": "markdown",
   "metadata": {
    "application/vnd.databricks.v1+cell": {
     "cellMetadata": {},
     "inputWidgets": {},
     "nuid": "ba0d5c41-2acf-4325-8068-8d162606e051",
     "showTitle": false,
     "tableResultSettingsMap": {},
     "title": ""
    }
   },
   "source": [
    "# Databricks VectorSearchIndex"
   ]
  },
  {
   "cell_type": "code",
   "execution_count": 0,
   "metadata": {
    "application/vnd.databricks.v1+cell": {
     "cellMetadata": {
      "byteLimit": 2048000,
      "rowLimit": 10000
     },
     "inputWidgets": {},
     "nuid": "7e2163b8-79e8-4631-8922-510db1617143",
     "showTitle": false,
     "tableResultSettingsMap": {},
     "title": ""
    }
   },
   "outputs": [],
   "source": [
    "\n",
    "vsc = VectorSearchClient(disable_notice=True)\n",
    "\n",
    "index = vsc.get_index(endpoint_name=\"uk-search-endpoint\" , index_name=\"datif_pz_uk_dev.04_ai.search_vector_index\")"
   ]
  },
  {
   "cell_type": "markdown",
   "metadata": {
    "application/vnd.databricks.v1+cell": {
     "cellMetadata": {},
     "inputWidgets": {},
     "nuid": "3ecae9ff-352b-43c0-a802-3d71eddd13dd",
     "showTitle": false,
     "tableResultSettingsMap": {},
     "title": ""
    }
   },
   "source": [
    "# Create VectorStoreSearch Tool"
   ]
  },
  {
   "cell_type": "code",
   "execution_count": 0,
   "metadata": {
    "application/vnd.databricks.v1+cell": {
     "cellMetadata": {
      "byteLimit": 2048000,
      "rowLimit": 10000
     },
     "inputWidgets": {},
     "nuid": "ce322c8c-c37f-4053-b1cb-7af11f59ef7c",
     "showTitle": false,
     "tableResultSettingsMap": {},
     "title": ""
    }
   },
   "outputs": [],
   "source": [
    "def semantic_search(user_query):\n",
    "    results = index.similarity_search(query_text=user_query, num_results=10, query_type=\"hybrid\", score_threshold=0.5,\n",
    "    columns=[\n",
    "        \"ID\",\n",
    "        \"Date\",\n",
    "        \"Channel\",\n",
    "        \"Chunk\",\n",
    "        \"URL\",\n",
    "    ],\n",
    "    )\n",
    "    return json.dumps(results)\n",
    "\n",
    "# Beispielaufruf\n",
    "#results_new = semantic_search(\"Dirk Güsewell\")\n",
    "#print(results_new)"
   ]
  },
  {
   "cell_type": "markdown",
   "metadata": {
    "application/vnd.databricks.v1+cell": {
     "cellMetadata": {},
     "inputWidgets": {},
     "nuid": "41e94df6-b293-4d4d-8702-4eb42ad091fe",
     "showTitle": false,
     "tableResultSettingsMap": {},
     "title": ""
    }
   },
   "source": [
    "results = client.vector_stores.search(\n",
    "        vector_store_id=vector_store.id,\n",
    "        query=user_query,\n",
    "        max_num_results=7,\n",
    "        ranking_options={\n",
    "            'ranker': 'auto',\n",
    "            'score_threshold': 0.1\n",
    "        },\n",
    "        rewrite_query=True,\n",
    "    )\n",
    "    formatted_results = format_results(results)\n",
    "    return formatted_results"
   ]
  },
  {
   "cell_type": "code",
   "execution_count": 0,
   "metadata": {
    "application/vnd.databricks.v1+cell": {
     "cellMetadata": {
      "byteLimit": 2048000,
      "rowLimit": 10000
     },
     "inputWidgets": {},
     "nuid": "5d89e9fd-7118-4173-9527-0c0be545872f",
     "showTitle": false,
     "tableResultSettingsMap": {},
     "title": ""
    }
   },
   "outputs": [],
   "source": [
    "semantic_search_tool = {\n",
    "    \"type\": \"function\",\n",
    "    \"function\": {\n",
    "        \"name\": \"semantic_search\",\n",
    "        \"description\": \"Performs a semantic search.\",\n",
    "        \"parameters\": {\n",
    "            \"type\": \"object\",\n",
    "            \"properties\": {\n",
    "                \"user_query\": {\n",
    "                    \"type\": \"string\",\n",
    "                    \"description\": \"The optimized search query.\"\n",
    "                }\n",
    "            },\n",
    "            \"required\": [\"user_query\"]\n",
    "        }\n",
    "    }\n",
    "}"
   ]
  },
  {
   "cell_type": "markdown",
   "metadata": {
    "application/vnd.databricks.v1+cell": {
     "cellMetadata": {},
     "inputWidgets": {},
     "nuid": "5bc5a243-2679-48df-8bea-df87d197f0cc",
     "showTitle": false,
     "tableResultSettingsMap": {},
     "title": ""
    }
   },
   "source": [
    "# Passing Files to Client"
   ]
  },
  {
   "cell_type": "code",
   "execution_count": 0,
   "metadata": {
    "application/vnd.databricks.v1+cell": {
     "cellMetadata": {
      "byteLimit": 2048000,
      "rowLimit": 10000
     },
     "inputWidgets": {},
     "nuid": "619b52fb-5c33-44f5-bb4e-5916362c7609",
     "showTitle": false,
     "tableResultSettingsMap": {},
     "title": ""
    }
   },
   "outputs": [],
   "source": [
    "# Delete old Files.\n",
    "list=client.files.list()\n",
    "for file in list.data:\n",
    "    file_id = file.id\n",
    "    client.files.delete(file_id)\n",
    "list=client.files.list()\n",
    "print(list.data)"
   ]
  },
  {
   "cell_type": "code",
   "execution_count": 0,
   "metadata": {
    "application/vnd.databricks.v1+cell": {
     "cellMetadata": {
      "byteLimit": 2048000,
      "rowLimit": 10000
     },
     "inputWidgets": {},
     "nuid": "90d5f8e3-8fd9-425b-a891-09f00b001084",
     "showTitle": false,
     "tableResultSettingsMap": {},
     "title": ""
    }
   },
   "outputs": [],
   "source": [
    "#Upload the newest Files.\n",
    "file = client.files.create(\n",
    "  file=open(\"power_bi_socials.csv\", \"rb\"),\n",
    "  purpose='assistants'\n",
    ")"
   ]
  },
  {
   "cell_type": "markdown",
   "metadata": {
    "application/vnd.databricks.v1+cell": {
     "cellMetadata": {},
     "inputWidgets": {},
     "nuid": "4dce7c72-289d-438c-82fb-122a62eef271",
     "showTitle": false,
     "tableResultSettingsMap": {},
     "title": ""
    }
   },
   "source": [
    "# Create Assistant"
   ]
  },
  {
   "cell_type": "code",
   "execution_count": 0,
   "metadata": {
    "application/vnd.databricks.v1+cell": {
     "cellMetadata": {
      "byteLimit": 2048000,
      "rowLimit": 10000
     },
     "inputWidgets": {},
     "nuid": "60842d16-a6cc-4591-ae4e-efe9858d667d",
     "showTitle": false,
     "tableResultSettingsMap": {},
     "title": ""
    }
   },
   "outputs": [],
   "source": [
    "instructions = \"\"\"\n",
    "Du bist ein datenintelligenter KI-Chatbot. Dir steht eine vollständig geladene CSV-Datei mit Social-Media-Posts zur Verfügung. Diese Datei wurde korrekt verarbeitet, ist **keine Excel-Datei**, und ist für das Tool **Code Interpreter** direkt lesbar und verwendbar.\n",
    " \n",
    "---\n",
    " \n",
    "📊 Du hast Zugriff auf zwei spezialisierte Tools:\n",
    " \n",
    "1. **Code Interpreter**  \n",
    "   Verwende dieses Tool für numerische, analytische oder datengestützte Fragen, z. B.:\n",
    "   - „Wann war die Woche mit den meisten Impressionen?“\n",
    "   - „Welche Plattform hatte das meiste Engagement im Schnitt?“\n",
    " \n",
    "2. **Semantic Search**  \n",
    "   Verwende dieses Tool für inhaltliche oder semantische Fragen, z. B.:\n",
    "   - „Wurde in einem Beitrag über Güsewell gesprochen?“\n",
    "   - „Gab es einen Post über Photovoltaik?“\n",
    " \n",
    "---\n",
    " \n",
    "🔁 Wenn eine Nutzerfrage **sowohl numerische als auch inhaltliche Aspekte** enthält:\n",
    "- **Teile sie automatisch in zwei Teilfragen auf**\n",
    "- Beantworte den analytischen Teil mit dem Code Interpreter\n",
    "- Beantworte den inhaltlichen Teil mit Semantic Search\n",
    "- Kombiniere beide Ergebnisse am Ende zu einer verständlichen Antwort auf Deutsch\n",
    " \n",
    "---\n",
    " \n",
    "📂 Die Daten enthalten folgende Spalten:\n",
    " \n",
    "- **Date** → Veröffentlichungsdatum des Social-Media-Posts  \n",
    "- **Platform** → Plattform des Beitrags (z. B. Facebook, Instagram)  \n",
    "- **Post Message** → Textinhalt des Beitrags  \n",
    "- **Engagement** → Anzahl der Interaktionen (Likes, Kommentare etc.)  \n",
    "- **Impression** → Anzahl der Sichtungen des Beitrags  \n",
    "- **Post Type** → Art des Beitrags (Bild, Video, Story etc.)  \n",
    "- **Strategische Thema** → Zuordnung zu strategischen Themen, dort können mehrere Themen stehen die werden mit einen & getrennt\n",
    "- **Themenbereich** → Inhaltlicher Themencluster, dort können mehrere Themen stehen die werden mit einen & getrennt\n",
    "- **ID** → Eindeutige Beitragskennung  \n",
    "- **URL** → Direkter Link zum Beitrag\n",
    " \n",
    "---\n",
    " \n",
    "🧠 Verhalten des Assistenten:\n",
    " \n",
    "- **Analysiere jede Nutzerfrage sorgfältig** auf numerische und semantische Bestandteile.\n",
    "- **Verwende bei Bedarf beide Tools nacheinander**, aber strukturiert – trenne Analyse und Interpretation sauber.\n",
    "- **Vermeide es, falsche Rückschlüsse über das Dateiformat zu ziehen** – es handelt sich garantiert um eine **korrekt eingelesene CSV-Datei**.\n",
    "- Beantworte alle Fragen **in sachlichem, verständlichem Deutsch**, gerne mit Beispielen oder Begründungen, wenn sinnvoll.\n",
    "- Falls notwendig, **führe Rechenschritte mit dem Code Interpreter durch**, um zur korrekten Antwort zu gelangen.\n",
    "- Bei semantischen Fragen nutze den **vektorisierten JSON-basierten Vector Store**, der dieselben Inhalte wie die CSV enthält.\n",
    " \n",
    "\"\"\""
   ]
  },
  {
   "cell_type": "code",
   "execution_count": 0,
   "metadata": {
    "application/vnd.databricks.v1+cell": {
     "cellMetadata": {
      "byteLimit": 2048000,
      "rowLimit": 10000
     },
     "inputWidgets": {},
     "nuid": "afd0773f-ef36-4c3f-8c51-f47a4267b281",
     "showTitle": false,
     "tableResultSettingsMap": {},
     "title": ""
    }
   },
   "outputs": [],
   "source": [
    "ASSISTANT_ID = os.getenv(\"ASSISTANT_ID\")  \n",
    " \n",
    "if ASSISTANT_ID:\n",
    "  assistant = client.beta.assistants.update(\n",
    "    assistant_id=ASSISTANT_ID,\n",
    "    name=\"Chatbot_new\",\n",
    "    instructions=instructions,\n",
    "    model=\"gpt-4o\",\n",
    "    temperature=0.4,\n",
    "    tools=[\n",
    "        {\"type\": \"code_interpreter\"},\n",
    "        semantic_search_tool\n",
    "    ],\n",
    "    tool_resources={\"code_interpreter\":{\"file_ids\":[file.id]}},\n",
    "  )\n",
    "else:\n",
    "  assistant = client.beta.assistants.create(\n",
    "  name=\"Chatbot_new\",\n",
    "  instructions=instructions,\n",
    "  model=\"gpt-4o\",\n",
    "  temperature=0.4,\n",
    "  tools=[\n",
    "        {\"type\": \"code_interpreter\"},\n",
    "        semantic_search_tool\n",
    "    ],\n",
    "  tool_resources={\"code_interpreter\":{\"file_ids\":[file.id]}},\n",
    "  )\n",
    "  os.environ[\"ASSISTANT_ID\"] = assistant.id"
   ]
  },
  {
   "cell_type": "markdown",
   "metadata": {
    "application/vnd.databricks.v1+cell": {
     "cellMetadata": {},
     "inputWidgets": {},
     "nuid": "52006130-1549-4b40-8869-a035ffacddbf",
     "showTitle": false,
     "tableResultSettingsMap": {},
     "title": ""
    }
   },
   "source": [
    "# Create EventHandler"
   ]
  },
  {
   "cell_type": "code",
   "execution_count": 0,
   "metadata": {
    "application/vnd.databricks.v1+cell": {
     "cellMetadata": {
      "byteLimit": 2048000,
      "rowLimit": 10000
     },
     "inputWidgets": {},
     "nuid": "2f60dbe6-7f86-49b0-a60c-36378e0d5a75",
     "showTitle": false,
     "tableResultSettingsMap": {},
     "title": ""
    }
   },
   "outputs": [],
   "source": [
    "def get_last_user_message(thread_id):\n",
    "    messages = client.beta.threads.messages.list(thread_id=thread_id)\n",
    "    for message in messages:\n",
    "        if message.role == \"user\":\n",
    "            return message.content[0].text.value\n",
    "    return None\n",
    "\n",
    "class EventHandler(AssistantEventHandler):\n",
    "    def __init__(self, last_user_message=None, thread_id=None, run_id=None):\n",
    "        super().__init__()\n",
    "        self.last_user_message = last_user_message\n",
    "        self._my_thread_id = thread_id\n",
    "        self._my_run_id = run_id\n",
    " \n",
    "    @override\n",
    "    def on_text_created(self, text) -> None:\n",
    "        print(f\"\\nassistant > \", end=\"\", flush=True)\n",
    " \n",
    "    @override\n",
    "    def on_tool_call_created(self, tool_call):\n",
    "        print(f\"\\nassistant > {tool_call.type}\\n\", flush=True)\n",
    " \n",
    "    @override\n",
    "    def on_message_done(self, message) -> None:\n",
    "        message_content = message.content[0].text\n",
    "        annotations = message_content.annotations\n",
    "        citations = []\n",
    "        for index, annotation in enumerate(annotations):\n",
    "            message_content.value = message_content.value.replace(\n",
    "                annotation.text, f\"[{index}]\"\n",
    "            )\n",
    "            if file_citation := getattr(annotation, \"file_citation\", None):\n",
    "                cited_file = client.files.retrieve(file_citation.file_id)\n",
    "                citations.append(f\"[{index}] {cited_file.filename}\")\n",
    "        print(message_content.value)\n",
    "        print(\"\\n\".join(citations))\n",
    " \n",
    "    @override\n",
    "    def on_event(self, event):\n",
    "        if event.event == 'thread.run.requires_action':\n",
    "            self._my_thread_id = event.data.thread_id\n",
    "            self._my_run_id = event.data.id\n",
    "            self.handle_requires_action(event.data, event.data.id)\n",
    " \n",
    "    def handle_requires_action(self, data, run_id):\n",
    "        tool_outputs = []\n",
    "        for tool in data.required_action.submit_tool_outputs.tool_calls:\n",
    "            if tool.function.name == \"semantic_search\":\n",
    "                arguments = json.loads(tool.function.arguments) \n",
    "                user_query = arguments.get(\"user_query\", \"\")\n",
    "                search_results = semantic_search(user_query)\n",
    "                tool_outputs.append({\n",
    "                    \"tool_call_id\": tool.id,\n",
    "                    \"output\": search_results\n",
    "                })\n",
    "        self.submit_tool_outputs(tool_outputs)\n",
    " \n",
    "    def submit_tool_outputs(self, tool_outputs):\n",
    "        new_handler = EventHandler(\n",
    "            last_user_message=self.last_user_message,\n",
    "            thread_id=self._my_thread_id,\n",
    "            run_id=self._my_run_id,\n",
    "        )\n",
    "        with client.beta.threads.runs.submit_tool_outputs_stream(\n",
    "            thread_id=self._my_thread_id,\n",
    "            run_id=self._my_run_id,\n",
    "            tool_outputs=tool_outputs,\n",
    "            event_handler=new_handler,\n",
    "        ) as stream:\n",
    "            for text in stream.text_deltas:\n",
    "                print(text, end=\"\", flush=True)\n",
    "            print()"
   ]
  },
  {
   "cell_type": "markdown",
   "metadata": {
    "application/vnd.databricks.v1+cell": {
     "cellMetadata": {},
     "inputWidgets": {},
     "nuid": "5b6a9a6f-c7cc-4503-b3ee-4174c33e1c9d",
     "showTitle": false,
     "tableResultSettingsMap": {},
     "title": ""
    }
   },
   "source": [
    "# Create and Run Thread"
   ]
  },
  {
   "cell_type": "code",
   "execution_count": 0,
   "metadata": {
    "application/vnd.databricks.v1+cell": {
     "cellMetadata": {
      "byteLimit": 2048000,
      "rowLimit": 10000
     },
     "inputWidgets": {},
     "nuid": "3f0af89a-27d9-468e-8d07-4b5141ade7c5",
     "showTitle": false,
     "tableResultSettingsMap": {},
     "title": ""
    }
   },
   "outputs": [],
   "source": [
    "thread = client.beta.threads.create()\n",
    "\n",
    "client.beta.threads.messages.create(\n",
    "  thread_id=thread.id,\n",
    "  role=\"user\",\n",
    "  content=\"Wie viele Impressions gab es auf LinkedIn in dem Monat Februar?\",\n",
    ")\n",
    "\n",
    "with client.beta.threads.runs.stream(\n",
    "    thread_id=thread.id,\n",
    "    assistant_id=assistant.id,\n",
    "    event_handler=EventHandler(),\n",
    "    \n",
    ") as stream:\n",
    "    stream.until_done()"
   ]
  },
  {
   "cell_type": "code",
   "execution_count": 0,
   "metadata": {
    "application/vnd.databricks.v1+cell": {
     "cellMetadata": {
      "byteLimit": 2048000,
      "rowLimit": 10000
     },
     "inputWidgets": {},
     "nuid": "4f47bd6e-9457-4f65-86fe-52597d1db79f",
     "showTitle": false,
     "tableResultSettingsMap": {},
     "title": ""
    }
   },
   "outputs": [],
   "source": [
    "client.beta.threads.messages.create(\n",
    "  thread_id=thread.id,\n",
    "  role=\"user\",\n",
    "  content=\"Gab es einen Post in dem Dirk Güsewell erwähnt wurde?\",\n",
    ")\n",
    "\n",
    "with client.beta.threads.runs.stream(\n",
    "    thread_id=thread.id,\n",
    "    assistant_id=assistant.id,\n",
    "    event_handler=EventHandler(),\n",
    "    \n",
    ") as stream:\n",
    "    stream.until_done()"
   ]
  }
 ],
 "metadata": {
  "application/vnd.databricks.v1+notebook": {
   "computePreferences": null,
   "dashboards": [],
   "environmentMetadata": {
    "base_environment": "",
    "environment_version": "2"
   },
   "inputWidgetPreferences": null,
   "language": "python",
   "notebookMetadata": {
    "pythonIndentUnit": 4
   },
   "notebookName": "mediachatbot",
   "widgets": {}
  },
  "language_info": {
   "name": "python"
  }
 },
 "nbformat": 4,
 "nbformat_minor": 0
}
