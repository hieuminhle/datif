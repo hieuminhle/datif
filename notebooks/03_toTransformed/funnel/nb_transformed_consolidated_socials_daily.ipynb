{
 "cells": [
  {
   "cell_type": "markdown",
   "metadata": {
    "application/vnd.databricks.v1+cell": {
     "cellMetadata": {
      "byteLimit": 2048000,
      "rowLimit": 10000
     },
     "inputWidgets": {},
     "nuid": "c77b981d-ab92-4836-8ac7-58b5704a1c06",
     "showTitle": false,
     "tableResultSettingsMap": {},
     "title": ""
    }
   },
   "source": [
    "# UK - Datenanbindung Social Media Daten via Funnel - Daily SoMe Consolidate\n",
    "\n",
    "* Um was handelt es sich hier  (Kurzbeschreibung Inhalt):\n",
    "Die täglich von der FUnnel API abgezogenen Daten der Social Media Daten wurden in der DZ unter dem Schema 02_cleaned für die PZ-UK bereitgestellt.\n",
    "Mit diesem notebook wird die Daily SoMe Consolidate Tabelle geupdatetd.\n",
    "\n",
    "---\n",
    "* QUELLEN:  \n",
    "- Unity-Catalog:\n",
    "- 03_transformed.linkedin_organic_daily_view\n",
    "- 03_transformed.youtube_organic_post_daily_view\n",
    "- 03_transformed.x_organic_daily_view\n",
    "- 03_transformed.instagram_organic_post_daily\n",
    "- 03_transformed.instagram_organic_stories_daily\n",
    "\n",
    "* ZIEL:  \n",
    "- Unity-Catalog:\n",
    "- 03_transformed.consolidated_socials_daily\n",
    "\n",
    "\n",
    "---\n",
    "* Versionen (aktuelle immer oben):\n",
    "- 07.10.2025 Minh Hieu Le: add columns which are relevant for calculating engagement\n",
    "- 25.09.2025 Minh Hieu Le: correct data types of metric columns\n",
    "- 29.07.2025 Max Mustermann: Bug fixes\n",
    "- 10.06.2025 Max Mustermann: Init"
   ]
  },
  {
   "cell_type": "markdown",
   "metadata": {
    "application/vnd.databricks.v1+cell": {
     "cellMetadata": {
      "byteLimit": 2048000,
      "rowLimit": 10000
     },
     "inputWidgets": {},
     "nuid": "ed471039-c1d3-42e3-8a54-bd15e8c881bf",
     "showTitle": false,
     "tableResultSettingsMap": {},
     "title": ""
    }
   },
   "source": [
    "#Imports"
   ]
  },
  {
   "cell_type": "code",
   "execution_count": 0,
   "metadata": {
    "application/vnd.databricks.v1+cell": {
     "cellMetadata": {
      "byteLimit": 2048000,
      "rowLimit": 10000
     },
     "inputWidgets": {},
     "nuid": "16ed816b-2d6e-4e0a-ac80-881b498a8da1",
     "showTitle": false,
     "tableResultSettingsMap": {},
     "title": ""
    }
   },
   "outputs": [],
   "source": [
    "from pyspark.sql.functions import col, lit, to_date, year, udf, concat_ws, when, trim\n",
    "from pyspark.sql.types import StringType, StructType, StructField, IntegerType, DoubleType\n",
    "import pyspark.sql.functions as F\n",
    "from pyspark.sql.functions import regexp_replace, trim, col"
   ]
  },
  {
   "cell_type": "code",
   "execution_count": 0,
   "metadata": {
    "application/vnd.databricks.v1+cell": {
     "cellMetadata": {
      "byteLimit": 2048000,
      "rowLimit": 10000
     },
     "inputWidgets": {},
     "nuid": "1f7ba08e-94d7-49a0-85bd-552ecd06cc26",
     "showTitle": false,
     "tableResultSettingsMap": {},
     "title": ""
    }
   },
   "outputs": [],
   "source": [
    "%run ../../common/nb_init"
   ]
  },
  {
   "cell_type": "markdown",
   "metadata": {
    "application/vnd.databricks.v1+cell": {
     "cellMetadata": {
      "byteLimit": 2048000,
      "rowLimit": 10000
     },
     "inputWidgets": {},
     "nuid": "9aaf4959-89a4-413a-a0cd-5cca7d28d353",
     "showTitle": false,
     "tableResultSettingsMap": {},
     "title": ""
    }
   },
   "source": [
    "# Target Schema"
   ]
  },
  {
   "cell_type": "code",
   "execution_count": 0,
   "metadata": {
    "application/vnd.databricks.v1+cell": {
     "cellMetadata": {
      "byteLimit": 2048000,
      "rowLimit": 10000
     },
     "inputWidgets": {},
     "nuid": "f2e13e70-92e3-41f2-964b-6c0412be5c7c",
     "showTitle": false,
     "tableResultSettingsMap": {},
     "title": ""
    }
   },
   "outputs": [],
   "source": [
    "target_schema_name = '03_transformed'\n",
    "target_path = 'funnel'"
   ]
  },
  {
   "cell_type": "markdown",
   "metadata": {
    "application/vnd.databricks.v1+cell": {
     "cellMetadata": {
      "byteLimit": 2048000,
      "rowLimit": 10000
     },
     "inputWidgets": {},
     "nuid": "da543166-7325-4c2d-87ef-828acfac6479",
     "showTitle": false,
     "tableResultSettingsMap": {},
     "title": ""
    }
   },
   "source": [
    "#Configure Tables"
   ]
  },
  {
   "cell_type": "code",
   "execution_count": 0,
   "metadata": {
    "application/vnd.databricks.v1+cell": {
     "cellMetadata": {
      "byteLimit": 2048000,
      "rowLimit": 10000
     },
     "inputWidgets": {},
     "nuid": "96499ea9-d5ea-4631-9a95-c1650ae8dbba",
     "showTitle": false,
     "tableResultSettingsMap": {},
     "title": ""
    }
   },
   "outputs": [],
   "source": [
    "relevant_tables = [\n",
    "    {\n",
    "        'table_name': '03_transformed.facebook_organic_daily',\n",
    "        'id_column': 'PostID',\n",
    "        'created_date': 'CreatedDate',\n",
    "        'date': 'Date',\n",
    "        'channel': 'Facebook',\n",
    "        'url': 'PostURL',\n",
    "        'post_message': 'PostMessage',\n",
    "        'post_type': 'PostType',\n",
    "        'impressions': 'PostTotalImpressionsLifetime',\n",
    "        'total_reactions': 'TotalReactionsDiff',\n",
    "        'total_comments': 'TotalPostCommentsDiff',\n",
    "        'total_shares': 'TotalPostSharesDiff',\n",
    "        'total_clicks': 'LinkClicksLifetimeDiff',\n",
    "        'engagement_rate': 'EngagementRating',\n",
    "        'engagaments': 'Engagement',\n",
    "        'weighted_engagement': 'WeightedEngagements',\n",
    "        'Owner': 'Kein Owner'\n",
    "    },\n",
    "    {\n",
    "        'table_name': '03_transformed.instagram_organic_post_daily',\n",
    "        'id_column': 'PostID',\n",
    "        'created_date': 'CreatedDate',\n",
    "        'date': 'Date',\n",
    "        'channel': 'Instagram',\n",
    "        'url': 'PostURL',\n",
    "        'post_message': 'PostMessage',\n",
    "        'post_type': 'PostType',\n",
    "        'impressions': 'TotalImpressions',\n",
    "        'total_reactions': 'TotalInteractionsDiff',\n",
    "        'total_comments': 'TotalCommentsDiff',\n",
    "        'total_shares': 'TotalSharesDiff',\n",
    "        'total_saves': 'TotalSavedDiff',\n",
    "        'engagement_rate': 'EngagementRating',\n",
    "        'engagaments': 'Engagement',\n",
    "        'weighted_engagement': 'WeightedEngagements',\n",
    "        'Owner': 'Kein Owner'\n",
    "    },\n",
    "    {\n",
    "        'table_name': '03_transformed.instagram_organic_stories_daily',\n",
    "        'id_column': 'StoryID',\n",
    "        'created_date': 'CreatedDate',\n",
    "        'date': 'Date',\n",
    "        'channel': 'Instagram_Storie',\n",
    "        'url': 'Fehlt noch',\n",
    "        'post_message': 'Caption',\n",
    "        'post_type': 'Storie',\n",
    "        'impressions': 'TotalImpressions',\n",
    "        'total_comments': 'TotalRepliesDiff',\n",
    "        'total_shares': 'TotalSharesDiff',\n",
    "        'total_reach': 'TotalReachDiff',\n",
    "        'engagement_rate': 'EngagementRating',\n",
    "        'engagaments': 'Engagement',\n",
    "        'weighted_engagement': 'WeightedEngagements',\n",
    "        'Owner': 'Kein Owner'\n",
    "    },\n",
    "    {\n",
    "        'table_name': '03_transformed.linkedin_organic_daily_view',\n",
    "        'id_column': 'PostID',\n",
    "        'created_date': 'CreatedDate',\n",
    "        'date': 'Date',\n",
    "        'channel': 'LinkedIn',\n",
    "        'url': 'PostURL',\n",
    "        'post_message': 'PostContent',\n",
    "        'post_type': 'ContentType',\n",
    "        'impressions': 'Impressions',\n",
    "        'total_reactions': 'Likes',\n",
    "        'total_comments': 'Comments',\n",
    "        'total_shares': 'Shares',\n",
    "        'total_clicks': 'Clicks',\n",
    "        'engagement_rate': 'EngagementRateInPercent',\n",
    "        'engagaments': 'Engagements',\n",
    "        'weighted_engagement': 'WeightedEngagements',\n",
    "        'Owner': 'Kein Owner'\n",
    "    },\n",
    "    {\n",
    "        'table_name': '03_transformed.x_organic_daily_view',\n",
    "        'id_column': 'PostID',\n",
    "        'created_date': 'CreatedDate',\n",
    "        'date': 'Date',\n",
    "        'channel': 'X',\n",
    "        'url': 'PostURL',\n",
    "        'post_message': 'PostMessage',\n",
    "        'post_type': 'PostType',\n",
    "        'impressions': 'Impressions',\n",
    "        'total_reactions': 'Likes',\n",
    "        'total_comments': 'Replies',\n",
    "        'total_shares': 'Reposts',\n",
    "        'total_clicks': 'LinkClicks',\n",
    "        'engagement_rate': 'EngagementRateInPercent',\n",
    "        'engagaments': 'Engagements',\n",
    "        'weighted_engagement': 'WeightedEngagements',\n",
    "        'Owner': 'Kein Owner'\n",
    "    },\n",
    "    { # TODO: include YouTube, if descriptions are available\n",
    "       'table_name': '03_transformed.youtube_organic_post_daily_view',\n",
    "       'id_column': 'VideoID',\n",
    "       'created_date': 'CreatedDate',\n",
    "       'date': 'Date',\n",
    "       'channel': 'YouTube',\n",
    "       'url': 'VideoURL',\n",
    "       'post_type': 'Video',\n",
    "       'post_message': 'VideoDescription',\n",
    "       'impressions': 'Views',\n",
    "       'total_reactions': 'Likes',\n",
    "       'total_dislikes': 'Dislikes',\n",
    "       'total_comments': 'Comments',\n",
    "       'total_shares': 'Shares',\n",
    "       'minutes_watched': 'EstimatedMinutesWatched',\n",
    "       'total_views': 'Views',\n",
    "       'engagement_rate': 'EngagementRateInPercent',\n",
    "       'engagaments': 'Engagements',\n",
    "       'weighted_engagement': 'WeightedEngagements',\n",
    "       'Owner': 'Owner'\n",
    "    },\n",
    "    # TODO: include genios print media, if available\n",
    "    # TODO: include genios online media, if available\n",
    "]"
   ]
  },
  {
   "cell_type": "markdown",
   "metadata": {
    "application/vnd.databricks.v1+cell": {
     "cellMetadata": {
      "byteLimit": 2048000,
      "rowLimit": 10000
     },
     "inputWidgets": {},
     "nuid": "621a7565-b202-4437-9224-c23458348cd2",
     "showTitle": false,
     "tableResultSettingsMap": {},
     "title": ""
    }
   },
   "source": [
    "# Combine relevant Tables"
   ]
  },
  {
   "cell_type": "code",
   "execution_count": 0,
   "metadata": {
    "application/vnd.databricks.v1+cell": {
     "cellMetadata": {
      "byteLimit": 2048000,
      "rowLimit": 10000
     },
     "inputWidgets": {},
     "nuid": "87db9e4a-e553-4fdc-80ee-501693d2caeb",
     "showTitle": false,
     "tableResultSettingsMap": {},
     "title": ""
    }
   },
   "outputs": [],
   "source": [
    "schema = T.StructType([\n",
    "    T.StructField(\"ID\", T.StringType(), True),\n",
    "    T.StructField(\"CreatedDate\", T.StringType(), True),\n",
    "    T.StructField(\"Date\", T.StringType(), True),\n",
    "    T.StructField(\"Channel\", T.StringType(), True),\n",
    "    T.StructField(\"URL\", T.StringType(), True),\n",
    "    T.StructField(\"Owner\", T.StringType(), True),\n",
    "    T.StructField(\"PostMessage\", T.StringType(), True),\n",
    "    T.StructField(\"PostType\", T.StringType(), True),\n",
    "    T.StructField(\"Impressions\", T.IntegerType(), True),\n",
    "    T.StructField(\"TotalReactions\", T.IntegerType(), True),\n",
    "    T.StructField(\"TotalDislikes\", T.IntegerType(), True),\n",
    "    T.StructField(\"TotalComments\", T.IntegerType(), True),\n",
    "    T.StructField(\"TotalShares\", T.IntegerType(), True),\n",
    "    T.StructField(\"TotalClicks\", T.IntegerType(), True),\n",
    "    T.StructField(\"TotalSaves\", T.IntegerType(), True),\n",
    "    T.StructField(\"MinutesWatched\", T.IntegerType(), True),\n",
    "    T.StructField(\"TotalViews\", T.IntegerType(), True),\n",
    "    T.StructField(\"TotalReach\", T.IntegerType(), True),\n",
    "    T.StructField(\"EngagementRate\", T.DoubleType(), True),\n",
    "    T.StructField(\"WeightedEngagement\", T.DoubleType(), True),\n",
    "    T.StructField(\"Engagement\", T.DoubleType(), True),\n",
    "])\n",
    "df_consolidated = spark.createDataFrame([], schema=schema)\n",
    "\n",
    "for t in relevant_tables:\n",
    "    df = spark.read.table(f\"datif_pz_uk_{env}.{t['table_name']}\")\n",
    "\n",
    "    if t['channel'] == \"Facebook\":\n",
    "        post_type_column = F.col(t['post_type'])\n",
    "        channel_column = F.lit(t['channel'])\n",
    "        URL_column = F.col(t['url'])\n",
    "        Owner_column = F.lit('Kein Owner')\n",
    "        total_reactions = F.col(t['total_reactions'])\n",
    "        total_dislikes = F.lit(0)\n",
    "        total_comments = F.col(t['total_comments'])\n",
    "        total_shares = F.col(t['total_shares'])\n",
    "        total_clicks = F.col(t['total_clicks'])\n",
    "        total_saves = F.lit(0)\n",
    "        minutes_watched = F.lit(0)\n",
    "        total_views = F.lit(0)\n",
    "        total_reach = F.lit(0)\n",
    "\n",
    "    elif t['channel'] == \"Instagram\":\n",
    "        post_type_column = F.col(t['post_type'])\n",
    "        channel_column = F.lit(t['channel'])\n",
    "        URL_column = F.col(t['url'])\n",
    "        Owner_column = F.lit('Kein Owner')\n",
    "        total_reactions = F.col(t['total_reactions'])\n",
    "        total_dislikes = F.lit(0)\n",
    "        total_comments = F.col(t['total_comments'])\n",
    "        total_shares = F.col(t['total_shares'])\n",
    "        total_clicks = F.lit(0)\n",
    "        total_saves = F.col(t['total_saves'])\n",
    "        minutes_watched = F.lit(0)\n",
    "        total_views = F.lit(0)\n",
    "        total_reach = F.lit(0)\n",
    "\n",
    "    # Youtube Posttype Hartcodierung\n",
    "    elif t['channel'] == \"YouTube\":\n",
    "        post_type_column = F.lit(\"Video\")\n",
    "        channel_column = F.lit(t['channel'])\n",
    "        URL_column = F.col(t['url'])\n",
    "        Owner_column = F.col(t['Owner'])\n",
    "        total_reactions = F.col(t['total_reactions'])\n",
    "        total_dislikes = F.col(t['total_dislikes'])\n",
    "        total_comments = F.col(t['total_comments'])\n",
    "        total_shares = F.col(t['total_shares'])\n",
    "        total_clicks = F.lit(0)\n",
    "        total_saves = F.lit(0)\n",
    "        minutes_watched = F.col(t['minutes_watched'])\n",
    "        total_views = F.col(t['total_views'])\n",
    "        total_reach = F.lit(0)\n",
    "\n",
    "    # Instagram Storie Posttype Hartcodierung\n",
    "    elif t['channel'] == \"Instagram_Storie\":\n",
    "        post_type_column = F.lit(\"Storie\")\n",
    "        URL_column = F.lit(\"Existiert nicht\")\n",
    "        channel_column = F.lit(\"Instagram\")\n",
    "        Owner_column = F.lit(\"Kein Owner\")\n",
    "        total_reactions = F.lit(0)\n",
    "        total_dislikes = F.lit(0)\n",
    "        total_comments = F.col(t['total_comments'])\n",
    "        total_shares = F.col(t['total_shares'])\n",
    "        total_clicks = F.lit(0)\n",
    "        total_saves = F.lit(0)\n",
    "        minutes_watched = F.lit(0)\n",
    "        total_views = F.lit(0)\n",
    "        total_reach = F.col(t['total_reach'])\n",
    "\n",
    "    elif t['channel'] == 'LinkedIn':\n",
    "        post_type_column = F.col(t['post_type'])\n",
    "        channel_column = F.lit(t['channel'])\n",
    "        URL_column = F.col(t['url'])\n",
    "        Owner_column = F.lit(\"Kein Owner\")\n",
    "        total_reactions = F.col(t['total_reactions'])\n",
    "        total_dislikes = F.lit(0)\n",
    "        total_comments = F.col(t['total_comments'])\n",
    "        total_shares = F.col(t['total_shares'])\n",
    "        total_clicks = F.col(t['total_clicks'])\n",
    "        total_saves = F.lit(0)\n",
    "        minutes_watched = F.lit(0)\n",
    "        total_views = F.lit(0)\n",
    "        total_reach = F.lit(0)\n",
    "\n",
    "    elif t['channel'] == \"X\":\n",
    "        post_type_column = F.col(t['post_type'])\n",
    "        # X Daten nur wenn der Post Type nicht none ist\n",
    "        df = df.filter(F.col(t['post_type']).isNotNull())\n",
    "        channel_column = F.lit(t['channel'])\n",
    "        URL_column = F.col(t['url'])\n",
    "        Owner_column = F.lit(\"Kein Owner\")\n",
    "        total_reactions = F.col(t['total_reactions'])\n",
    "        total_dislikes = F.lit(0)\n",
    "        total_comments = F.col(t['total_comments'])\n",
    "        total_shares = F.col(t['total_shares'])\n",
    "        total_clicks = F.col(t['total_clicks'])\n",
    "        total_saves = F.lit(0)\n",
    "        minutes_watched = F.lit(0)\n",
    "        total_views = F.lit(0)\n",
    "        total_reach = F.lit(0)\n",
    "    \n",
    "    df = df.select(\n",
    "        F.col(t['id_column']).alias(\"ID\"),\n",
    "        F.col(t['created_date']).alias(\"CreatedDate\"),\n",
    "        F.col(t['date']).alias(\"Date\"),\n",
    "        channel_column.alias(\"Channel\"),\n",
    "        # F.lit(t['channel']).alias(\"Channel\"),\n",
    "        # F.col(t['url']).alias(\"URL\"),\n",
    "        URL_column.alias(\"URL\"),\n",
    "        Owner_column.alias(\"Owner\"),\n",
    "        F.col(t['post_message']).alias(\"PostMessage\"),\n",
    "        post_type_column.alias(\"PostType\"),\n",
    "        F.col(t['impressions']).alias(\"Impressions\"),\n",
    "        total_reactions.alias(\"TotalReactions\"),\n",
    "        total_dislikes.alias(\"TotalDislikes\"),\n",
    "        total_comments.alias(\"TotalComments\"),\n",
    "        total_shares.alias(\"TotalShares\"),\n",
    "        total_clicks.alias(\"TotalClicks\"),\n",
    "        total_saves.alias(\"TotalSaves\"),\n",
    "        minutes_watched.alias(\"MinutesWatched\"),\n",
    "        total_views.alias(\"TotalViews\"),\n",
    "        total_reach.alias(\"TotalReach\"),\n",
    "        F.col(t['engagement_rate']).alias(\"EngagementRate\"),\n",
    "        F.col(t['weighted_engagement']).alias(\"WeightedEngagement\"),\n",
    "        F.col(t['engagaments']).alias(\"Engagement\")\n",
    "    )\n",
    "    \n",
    "    df_consolidated = df_consolidated.unionByName(df)"
   ]
  },
  {
   "cell_type": "markdown",
   "metadata": {
    "application/vnd.databricks.v1+cell": {
     "cellMetadata": {
      "byteLimit": 2048000,
      "rowLimit": 10000
     },
     "inputWidgets": {},
     "nuid": "fc1436eb-8fd6-43be-9383-cfc67fd5fd13",
     "showTitle": false,
     "tableResultSettingsMap": {},
     "title": ""
    }
   },
   "source": [
    "#### Bug das bei Facebook manchmal der PostType Null ist obwohl es einer Exisitiert"
   ]
  },
  {
   "cell_type": "code",
   "execution_count": 0,
   "metadata": {
    "application/vnd.databricks.v1+cell": {
     "cellMetadata": {
      "byteLimit": 2048000,
      "rowLimit": 10000
     },
     "inputWidgets": {},
     "nuid": "4a41640e-0dde-4fe7-9d7e-a4dfa6afe266",
     "showTitle": false,
     "tableResultSettingsMap": {},
     "title": ""
    }
   },
   "outputs": [],
   "source": [
    "# 1. Quelle laden mit expliziter Umbenennung der PostType-Spalte\n",
    "df_posttype_source = spark.read.table(f\"datif_pz_uk_{env}.03_transformed.consolidated_socials\") \\\n",
    "    .select(\n",
    "        F.col(\"ID\").alias(\"JoinID\"),\n",
    "        F.col(\"PostType\").alias(\"PostType_source\")\n",
    "    ) \\\n",
    "    .dropDuplicates([\"JoinID\"])\n",
    "\n",
    "# 2. Join & PostType auffüllen, falls im Ziel Null\n",
    "df_consolidated = df_consolidated.join(\n",
    "    df_posttype_source,\n",
    "    df_consolidated[\"ID\"] == df_posttype_source[\"JoinID\"],\n",
    "    how=\"left\"\n",
    ").withColumn(\n",
    "    \"PostType\",\n",
    "    F.when(F.col(\"PostType\").isNull(), F.col(\"PostType_source\"))\n",
    "     .otherwise(F.col(\"PostType\"))\n",
    ").drop(\"PostType_source\", \"JoinID\")"
   ]
  },
  {
   "cell_type": "markdown",
   "metadata": {
    "application/vnd.databricks.v1+cell": {
     "cellMetadata": {
      "byteLimit": 2048000,
      "rowLimit": 10000
     },
     "inputWidgets": {},
     "nuid": "880edfaa-a9c9-4f0a-b337-8cd4a97a4181",
     "showTitle": false,
     "tableResultSettingsMap": {},
     "title": ""
    }
   },
   "source": [
    "### Alle https: in der Postmessage löschen https://A.visualstudio.com/DaTIF/_workitems/edit/4281898/"
   ]
  },
  {
   "cell_type": "code",
   "execution_count": 0,
   "metadata": {
    "application/vnd.databricks.v1+cell": {
     "cellMetadata": {
      "byteLimit": 2048000,
      "rowLimit": 10000
     },
     "inputWidgets": {},
     "nuid": "4c5a4360-604f-41f3-9e91-6cea45377a08",
     "showTitle": false,
     "tableResultSettingsMap": {},
     "title": ""
    }
   },
   "outputs": [],
   "source": [
    "df_consolidated = df_consolidated.withColumn(\n",
    "    \"PostMessage\",\n",
    "    regexp_replace(\"PostMessage\", r\"https:\\/\\/\\S+\", \"\")\n",
    ")"
   ]
  },
  {
   "cell_type": "markdown",
   "metadata": {
    "application/vnd.databricks.v1+cell": {
     "cellMetadata": {
      "byteLimit": 2048000,
      "rowLimit": 10000
     },
     "inputWidgets": {},
     "nuid": "a1625a9e-2542-49f9-90ce-d22f156ed22d",
     "showTitle": false,
     "tableResultSettingsMap": {},
     "title": ""
    }
   },
   "source": [
    "### Einheitliches PostType Zuordnung"
   ]
  },
  {
   "cell_type": "code",
   "execution_count": 0,
   "metadata": {
    "application/vnd.databricks.v1+cell": {
     "cellMetadata": {
      "byteLimit": 2048000,
      "rowLimit": 10000
     },
     "inputWidgets": {},
     "nuid": "4f114f34-e6a5-4069-a7d6-70fd7bfcf50b",
     "showTitle": false,
     "tableResultSettingsMap": {},
     "title": ""
    }
   },
   "outputs": [],
   "source": [
    "post_type_mapping = {\n",
    "    (\"YouTube\", \"Video\"): \"Video\",\n",
    "    (\"Facebook\", \"video_direct_response\"): \"Video\",\n",
    "    (\"Facebook\", \"video_inline\"): \"Video\",\n",
    "    (\"Facebook\", \"Ohne Post Type\"): \"Other\",\n",
    "    (\"Facebook\", \"album\"): \"Image\",\n",
    "    (\"Facebook\", \"share\"): \"Other\",\n",
    "    (\"Facebook\", \"photo\"): \"Image\",\n",
    "    (\"Facebook\", \"profile_media\"): \"Other\",\n",
    "    (\"Facebook\", \"cover_photo\"): \"Other\",\n",
    "    (\"Facebook\", \"multi_share\"): \"Carousel / Document\",\n",
    "    (\"Facebook\", \"multi_share_no_end_card\"): \"Other\",\n",
    "    (\"Instagram\", \"VIDEO\"): \"Video\",\n",
    "    (\"Instagram\", \"IMAGE\"): \"Image\",\n",
    "    (\"Instagram\", \"CAROUSEL_ALBUM\"): \"Carousel / Document\",\n",
    "    (\"Instagram\", \"Storie\"): \"Story\",\n",
    "    (\"X\", \"mixed\"): \"Image\",\n",
    "    (\"X\", \"gif\"): \"Other\",\n",
    "    (\"X\", \"image\"): \"Image\",\n",
    "    (\"X\", \"video\"): \"Video\",\n",
    "    (\"LinkedIn\", \"Article\"): \"Other\",\n",
    "    (\"LinkedIn\", \"Repost\"): \"Other\",\n",
    "    (\"LinkedIn\", \"Image\"): \"Image\",\n",
    "    (\"LinkedIn\", \"Poll\"): \"Poll\",\n",
    "    (\"LinkedIn\", \"Document\"): \"Carousel / Document\",\n",
    "    (\"LinkedIn\", \"Video\"): \"Video\"\n",
    "}\n",
    "\n",
    "\n",
    "\n",
    "def map_post_type(channel, post_type):\n",
    "    key = (channel, post_type)\n",
    "    return post_type_mapping.get(key, \"Keine Zuordnung möglich\")\n",
    "\n",
    "map_post_type_udf = udf(map_post_type, StringType())\n",
    "\n",
    "\n",
    "df_consolidated = df_consolidated.withColumn(\n",
    "    \"PostTypeGeneralized\",\n",
    "    map_post_type_udf(F.col(\"Channel\"), F.col(\"PostType\"))\n",
    ")\n",
    "\n",
    "df_consolidated = df_consolidated.drop(\"PostType\")\n",
    "df_consolidated = df_consolidated.withColumnRenamed(\"PostTypeGeneralized\", \"PostType\")"
   ]
  },
  {
   "cell_type": "markdown",
   "metadata": {
    "application/vnd.databricks.v1+cell": {
     "cellMetadata": {
      "byteLimit": 2048000,
      "rowLimit": 10000
     },
     "inputWidgets": {},
     "nuid": "76905126-c5ba-47b6-84ac-9472cc719b85",
     "showTitle": false,
     "tableResultSettingsMap": {},
     "title": ""
    }
   },
   "source": [
    "## Themen Mapping und null Werte ersetzen"
   ]
  },
  {
   "cell_type": "code",
   "execution_count": 0,
   "metadata": {
    "application/vnd.databricks.v1+cell": {
     "cellMetadata": {
      "byteLimit": 2048000,
      "rowLimit": 10000
     },
     "inputWidgets": {},
     "nuid": "d5c3fe18-a888-4915-a0cf-edcb7d49e84b",
     "showTitle": false,
     "tableResultSettingsMap": {},
     "title": ""
    }
   },
   "outputs": [],
   "source": [
    "%python\n",
    "df_consolidated_total = spark.sql(f\"\"\"\n",
    "SELECT\n",
    "    ID,\n",
    "    StrategischesThema1,\n",
    "    StrategischesThema2,\n",
    "    StrategischesThema3,\n",
    "    Themenbereich1,\n",
    "    Themenbereich2,\n",
    "    Themenbereich3\n",
    "    from datif_pz_uk_{env}.03_transformed.consolidated_socials\"\"\")\n",
    "\n",
    "\n",
    "df_consolidated = df_consolidated.drop(\n",
    "    \"StrategischesThema1\", \"StrategischesThema2\", \"StrategischesThema3\",\n",
    "    \"Themenbereich1\", \"Themenbereich2\", \"Themenbereich3\"\n",
    ").join(df_consolidated_total.alias(\"total\"), on=\"ID\", how=\"left\")\n",
    "\n",
    "def replace_empty_and_null(df, column_name, replacement):\n",
    "    return df.withColumn(\n",
    "        column_name,\n",
    "        when(col(f\"total.{column_name}\").isNull() | (trim(col(f\"total.{column_name}\")) == \"\"), replacement)\n",
    "        .otherwise(col(f\"total.{column_name}\"))\n",
    "    )\n",
    "\n",
    "# Liste der Spalten und ihre gewünschten Fallbacks\n",
    "replacements = {\n",
    "    \"StrategischesThema1\": \"Kein strategisches Thema\",\n",
    "    \"StrategischesThema2\": \"Kein strategisches Thema\",\n",
    "    \"StrategischesThema3\": \"Kein strategisches Thema\",\n",
    "    \"Themenbereich1\": \"Kein Themenbereich\",\n",
    "    \"Themenbereich2\": \"Kein Themenbereich\",\n",
    "    \"Themenbereich3\": \"Kein Themenbereich\",\n",
    "}\n",
    "\n",
    "# Anwenden auf das DataFrame\n",
    "for col_name, replacement_text in replacements.items():\n",
    "    df_consolidated = replace_empty_and_null(df_consolidated, col_name, replacement_text)"
   ]
  },
  {
   "cell_type": "markdown",
   "metadata": {
    "application/vnd.databricks.v1+cell": {
     "cellMetadata": {
      "byteLimit": 2048000,
      "rowLimit": 10000
     },
     "inputWidgets": {},
     "nuid": "35e4bf37-a45a-4538-b82c-5264a3880c8d",
     "showTitle": false,
     "tableResultSettingsMap": {},
     "title": ""
    }
   },
   "source": [
    "\n",
    "Bug in Themenbereiche\n",
    "\n",
    "\"Geothermie/Pumpspeicher\" → \"Geothermie / Pumpspeicher\"\n",
    "\" / Pumpspeicherkraftwerke\" → \" / Pumpspeicherkraftwerke\"\n",
    "\"Geothermie /  Pumpspeicher\" → \"Geothermie / Pumpspeicher\""
   ]
  },
  {
   "cell_type": "code",
   "execution_count": 0,
   "metadata": {
    "application/vnd.databricks.v1+cell": {
     "cellMetadata": {
      "byteLimit": 2048000,
      "rowLimit": 10000
     },
     "inputWidgets": {},
     "nuid": "787a2079-719b-498c-a0fe-8b80f9144c3e",
     "showTitle": false,
     "tableResultSettingsMap": {},
     "title": ""
    }
   },
   "outputs": [],
   "source": [
    "\n",
    "\n",
    "# Spalten, auf die die Regel angewendet werden soll\n",
    "columns_to_fix = [\"Themenbereich1\", \"Themenbereich2\", \"Themenbereich3\"]\n",
    "\n",
    "for col_name in columns_to_fix:\n",
    "    df_consolidated = df_consolidated.withColumn(\n",
    "        col_name,\n",
    "        regexp_replace(col(col_name), r\"\\s*/\\s*\", \" / \")  # ersetzt alle \"/\"-Varianten durch \" / \"\n",
    "    ).withColumn(\n",
    "        col_name,\n",
    "        regexp_replace(col(col_name), r\"\\s{2,}\", \" \")  # entfernt doppelte Leerzeichen\n",
    "    ).withColumn(\n",
    "        col_name,\n",
    "        trim(col(col_name))  # entfernt führende/trailing Leerzeichen\n",
    "    )\n"
   ]
  },
  {
   "cell_type": "markdown",
   "metadata": {
    "application/vnd.databricks.v1+cell": {
     "cellMetadata": {
      "byteLimit": 2048000,
      "rowLimit": 10000
     },
     "inputWidgets": {},
     "nuid": "d755ad4c-a7f2-4357-b588-3c8c82ebd6f0",
     "showTitle": false,
     "tableResultSettingsMap": {},
     "title": ""
    }
   },
   "source": [
    "#Write Table"
   ]
  },
  {
   "cell_type": "code",
   "execution_count": 0,
   "metadata": {
    "application/vnd.databricks.v1+cell": {
     "cellMetadata": {
      "byteLimit": 2048000,
      "rowLimit": 10000
     },
     "inputWidgets": {},
     "nuid": "60af4000-1357-4ef4-93bc-45bcc8e319ef",
     "showTitle": false,
     "tableResultSettingsMap": {},
     "title": ""
    }
   },
   "outputs": [],
   "source": [
    "fn_overwrite_table(df_source=df_consolidated, target_schema_name=target_schema_name, target_table_name=\"consolidated_socials_daily\", target_path=target_path)"
   ]
  }
 ],
 "metadata": {
  "application/vnd.databricks.v1+notebook": {
   "computePreferences": null,
   "dashboards": [],
   "environmentMetadata": {
    "base_environment": "",
    "environment_version": "2"
   },
   "inputWidgetPreferences": null,
   "language": "python",
   "notebookMetadata": {
    "pythonIndentUnit": 4
   },
   "notebookName": "nb_transformed_consolidated_socials_daily",
   "widgets": {}
  },
  "language_info": {
   "name": "python"
  }
 },
 "nbformat": 4,
 "nbformat_minor": 0
}
