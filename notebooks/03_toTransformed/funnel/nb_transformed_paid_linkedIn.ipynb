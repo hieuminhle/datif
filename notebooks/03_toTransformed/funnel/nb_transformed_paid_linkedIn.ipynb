{
 "cells": [
  {
   "cell_type": "markdown",
   "metadata": {
    "application/vnd.databricks.v1+cell": {
     "cellMetadata": {
      "byteLimit": 2048000,
      "rowLimit": 10000
     },
     "inputWidgets": {},
     "nuid": "0c164d65-6abe-4071-b14d-50e4dbcb36fe",
     "showTitle": false,
     "tableResultSettingsMap": {},
     "title": ""
    }
   },
   "source": [
    "# UK - Anbindung Paid Themen \n",
    "\n",
    "* Um was handelt es sich hier  (Kurzbeschreibung Inhalt):\n",
    "- Die Paid Data Transformatation von LinkedIn\n",
    "\n",
    "\n",
    "---\n",
    "* QUELLEN:  \n",
    "- datif_dz_{}.`02_cleaned_uk_linkedin`.`020_li_paid_current_view`\n",
    "\n",
    "\n",
    "* ZIEL:  \n",
    "- datif_pz_uk_{}.03_transformed.linkedin_paid_daily\n",
    "- datif_pz_uk_{}.03_transformed.linkedin_paid_total\n",
    "\n",
    "---\n",
    "* Versionen (aktuelle immer oben):\n",
    "- 21.08.2025 Justin Stange-Heiduk: init\n",
    "- 17.09.2025 Justin Stange-Heiduk: Ad OrganicInfo"
   ]
  },
  {
   "cell_type": "markdown",
   "metadata": {
    "application/vnd.databricks.v1+cell": {
     "cellMetadata": {
      "byteLimit": 2048000,
      "rowLimit": 10000
     },
     "inputWidgets": {},
     "nuid": "5f079c03-4a25-4a1f-a8c8-887b615445a6",
     "showTitle": false,
     "tableResultSettingsMap": {},
     "title": ""
    }
   },
   "source": [
    "\n",
    "# 1. Initialnotebooks & Libraries"
   ]
  },
  {
   "cell_type": "code",
   "execution_count": 0,
   "metadata": {
    "application/vnd.databricks.v1+cell": {
     "cellMetadata": {
      "byteLimit": 2048000,
      "rowLimit": 10000
     },
     "inputWidgets": {},
     "nuid": "db6e8fad-11fa-494c-a538-10d030679e50",
     "showTitle": false,
     "tableResultSettingsMap": {},
     "title": ""
    }
   },
   "outputs": [],
   "source": [
    "%run ../../common/nb_init"
   ]
  },
  {
   "cell_type": "code",
   "execution_count": 0,
   "metadata": {
    "application/vnd.databricks.v1+cell": {
     "cellMetadata": {
      "byteLimit": 2048000,
      "rowLimit": 10000
     },
     "inputWidgets": {},
     "nuid": "34e309ff-27a3-49d0-aa2f-e3524db05223",
     "showTitle": false,
     "tableResultSettingsMap": {},
     "title": ""
    }
   },
   "outputs": [],
   "source": [
    "target_schema_name = \"03_transformed\"\n",
    "target_path = \"funnel\""
   ]
  },
  {
   "cell_type": "markdown",
   "metadata": {
    "application/vnd.databricks.v1+cell": {
     "cellMetadata": {
      "byteLimit": 2048000,
      "rowLimit": 10000
     },
     "inputWidgets": {},
     "nuid": "0b5be8cf-7562-4940-a5bd-ce50d9dc930e",
     "showTitle": false,
     "tableResultSettingsMap": {},
     "title": ""
    }
   },
   "source": [
    "## 03-transformed"
   ]
  },
  {
   "cell_type": "markdown",
   "metadata": {
    "application/vnd.databricks.v1+cell": {
     "cellMetadata": {
      "byteLimit": 2048000,
      "rowLimit": 10000
     },
     "inputWidgets": {},
     "nuid": "a4cc8d63-584d-4777-8015-1dfa56890d91",
     "showTitle": false,
     "tableResultSettingsMap": {},
     "title": ""
    }
   },
   "source": [
    "### Daily"
   ]
  },
  {
   "cell_type": "code",
   "execution_count": 0,
   "metadata": {
    "application/vnd.databricks.v1+cell": {
     "cellMetadata": {
      "byteLimit": 2048000,
      "rowLimit": 10000
     },
     "inputWidgets": {},
     "nuid": "f27cb4c5-d8db-436d-b3ce-c3ba7adce515",
     "showTitle": false,
     "tableResultSettingsMap": {},
     "title": ""
    }
   },
   "outputs": [],
   "source": [
    "spark.sql(f\"\"\"\n",
    "    CREATE OR REPLACE VIEW datif_pz_uk_{env}.03_transformed.linkedin_paid_daily AS\n",
    "    SELECT\n",
    "        FIRST(CAST(DATE_FORMAT(Date, 'yyyy-MM-dd') AS DATE)) AS Date,\n",
    "        FIRST(CAST(Creative_ID__LinkedIn AS STRING)) AS AdID,\n",
    "        FIRST(CAST(Campaign__LinkedIn AS STRING)) AS CampaignName,\n",
    "        FIRST(CAST(Campaign_Group__LinkedIn AS STRING)) AS AdSetName,\n",
    "        FIRST(CAST(Creative_Name__LinkedIn AS STRING)) AS AdName,\n",
    "        FIRST(\n",
    "            CASE \n",
    "                WHEN Creative_Name__LinkedIn = Creative_ID__LinkedIn\n",
    "                    THEN 'Kein Dark Post'\n",
    "                ELSE 'Dark Post'\n",
    "            END\n",
    "        ) AS OrganicInfo,\n",
    "        FIRST(CAST(Creative_Text__LinkedIn AS STRING)) AS Text,\n",
    "        FIRST(CAST(Creative_Title__LinkedIn AS STRING)) AS Title,\n",
    "        FIRST(CAST(Click_URL__LinkedIn AS STRING)) AS Click_URL,\n",
    "        FIRST(CAST(Campaign_Objective__LinkedIn AS STRING)) AS Campaign_Objective,\n",
    "        FIRST(CAST(Ad_Type__LinkedIn AS STRING)) AS PostType,\n",
    "        SUM(COALESCE(ROUND(CAST(Spend__LinkedIn AS DOUBLE), 2), 0)) AS Amount_Spend,\n",
    "        SUM(COALESCE(CAST(Clicks__LinkedIn AS INTEGER), 0)) AS Clicks,\n",
    "        SUM(COALESCE(CAST(Impressions__LinkedIn AS INTEGER), 0)) AS Impressions,\n",
    "        SUM(COALESCE(CAST(Text_URL_Clicks__LinkedIn AS INTEGER), 0)) AS Link_Clicks,\n",
    "        SUM(COALESCE(CAST(Conversions__LinkedIn AS INTEGER), 0)) AS Conversions,\n",
    "        SUM(COALESCE(CAST(Post_Reactions__LinkedIn AS INTEGER), 0)) AS Reactions,\n",
    "        SUM(COALESCE(CAST(Download_Clicks__LinkedIn AS INTEGER), 0)) AS Post_Saves,\n",
    "        SUM(COALESCE(CAST(Shares__LinkedIn AS INTEGER), 0)) AS Post_Shares,\n",
    "        SUM(COALESCE(CAST(Comments__LinkedIn AS INTEGER), 0)) AS Comments,\n",
    "        SUM(COALESCE(CAST(Likes__LinkedIn AS INTEGER), 0)) AS Likes,\n",
    "        SUM(COALESCE(CAST(Video_Views__LinkedIn AS INTEGER), 0)) AS Video_View,\n",
    "        SUM(\n",
    "            COALESCE(0.4 * CAST(Comments__LinkedIn AS DOUBLE), 0) +\n",
    "            COALESCE(0.3 * CAST(Shares__LinkedIn AS DOUBLE), 0) +\n",
    "            COALESCE(0.2 * CAST(Clicks__LinkedIn AS DOUBLE), 0) +\n",
    "            COALESCE(0.1 * CAST(Likes__LinkedIn AS DOUBLE), 0)\n",
    "        ) AS WeightedEngagements,\n",
    "        SUM(\n",
    "            COALESCE(CAST(Comments__LinkedIn AS INTEGER), 0) +\n",
    "            COALESCE(CAST(Shares__LinkedIn AS INTEGER), 0) +\n",
    "            COALESCE(CAST(Clicks__LinkedIn AS INTEGER), 0) +\n",
    "            COALESCE(CAST(Likes__LinkedIn AS INTEGER), 0)\n",
    "        ) AS Engagements\n",
    "    FROM datif_dz_{env}.`02_cleaned_uk_linkedin`.`020_li_paid_current_view`\n",
    "    GROUP BY Date, Creative_Title__LinkedIn\n",
    "\"\"\")"
   ]
  },
  {
   "cell_type": "markdown",
   "metadata": {
    "application/vnd.databricks.v1+cell": {
     "cellMetadata": {
      "byteLimit": 2048000,
      "rowLimit": 10000
     },
     "inputWidgets": {},
     "nuid": "d5c538df-d1cd-409a-8b0a-adc08bfad4ac",
     "showTitle": false,
     "tableResultSettingsMap": {},
     "title": ""
    }
   },
   "source": [
    "### Total"
   ]
  },
  {
   "cell_type": "code",
   "execution_count": 0,
   "metadata": {
    "application/vnd.databricks.v1+cell": {
     "cellMetadata": {
      "byteLimit": 2048000,
      "rowLimit": 10000
     },
     "inputWidgets": {},
     "nuid": "32d73b3c-d1e1-4ea0-a2bb-ea6e620a5dee",
     "showTitle": false,
     "tableResultSettingsMap": {},
     "title": ""
    }
   },
   "outputs": [],
   "source": [
    "%python\n",
    "df_daily = spark.read.table(f\"datif_pz_uk_{env}.03_transformed.linkedin_paid_daily\")\n",
    "\n",
    "df_total = (\n",
    "    df_daily.groupBy(\"AdID\").agg(\n",
    "        F.first(\"AdID\").alias(\"ID\"),\n",
    "        F.first(\"OrganicInfo\").alias(\"OrganicInfo\"),\n",
    "        F.min(\"Date\").alias(\"CreatedDate\").cast('date'),\n",
    "        F.first(\"CampaignName\").alias(\"CampaignName\"),\n",
    "        F.first(\"AdSetName\").alias(\"AdSetName\"),\n",
    "        F.first(\"AdName\").alias(\"AdName\"),\n",
    "        F.first(\"Text\").alias(\"Text\"),\n",
    "        F.first(\"Click_URL\").alias(\"Click_URL\"),\n",
    "        F.round(F.sum(\"Amount_Spend\"),2).alias(\"TotalSpend\").cast('Double'),\n",
    "        F.sum(\"Impressions\").alias(\"TotalImpressions\").cast('integer'),\n",
    "        F.sum(\"Clicks\").alias(\"TotalClicks\").cast('integer'),\n",
    "        F.sum(\"Link_Clicks\").alias(\"TotalLinkClicks\").cast('integer'),\n",
    "        F.sum(\"Post_Saves\").alias(\"TotalPostSaves\").cast('integer'),\n",
    "        F.sum(\"Post_Shares\").alias(\"TotalPostShares\").cast('integer'),\n",
    "        F.sum(\"Comments\").alias(\"TotalPostComments\").cast('integer'),\n",
    "        F.sum(\"Likes\").alias(\"TotalLikes\").cast('integer'),\n",
    "        F.sum(\"Video_View\").alias(\"TotalVideoView\").cast('integer'),\n",
    "        F.sum(\"WeightedEngagements\").alias(\"TotalWeightedEngagements\").cast('integer'),\n",
    "        F.sum(\"Engagements\").alias(\"TotalEngagements\").cast('integer') \n",
    "    ).drop(\"AdID\")\n",
    "    .withColumn(\n",
    "        \"EngagementRatings\",\n",
    "        F.coalesce(\n",
    "            F.round(\n",
    "                F.when(F.col(\"TotalImpressions\") == 0, 0).otherwise(\n",
    "                    F.col(\"TotalWeightedEngagements\") / F.col(\"TotalImpressions\")\n",
    "                ), 3\n",
    "            ),\n",
    "            F.lit(0)\n",
    "        )\n",
    "    )\n",
    "    .withColumn(\n",
    "        \"CPM\",\n",
    "        F.coalesce(\n",
    "            F.round(\n",
    "                F.when(F.col(\"TotalImpressions\") == 0, 0).otherwise(\n",
    "                    (F.col(\"TotalSpend\") / F.col(\"TotalImpressions\")) * 1000\n",
    "                ), 4\n",
    "            ),\n",
    "            F.lit(0)\n",
    "        )\n",
    "    )\n",
    "    .withColumn(\n",
    "        \"CPC\",\n",
    "        F.coalesce(\n",
    "            F.round(\n",
    "                F.when(F.col(\"TotalClicks\") == 0, 0).otherwise(\n",
    "                    F.col(\"TotalSpend\") / F.col(\"TotalClicks\")\n",
    "                ), 4\n",
    "            ),\n",
    "            F.lit(0)\n",
    "        )\n",
    "    )\n",
    "    .withColumn(\n",
    "        \"CTR\",\n",
    "        F.coalesce(\n",
    "            F.round(\n",
    "                F.when(F.col(\"TotalImpressions\") == 0, 0).otherwise(\n",
    "                    F.col(\"TotalClicks\") / F.col(\"TotalImpressions\")\n",
    "                ), 4\n",
    "            ),\n",
    "            F.lit(0)\n",
    "        )\n",
    "    )\n",
    "    .withColumn(\n",
    "        \"CPV\",\n",
    "        F.coalesce(\n",
    "            F.round(\n",
    "                F.when(F.col(\"TotalVideoView\") == 0, 0).otherwise(\n",
    "                    F.col(\"TotalSpend\") / F.col(\"TotalVideoView\")\n",
    "                ), 4\n",
    "            ),\n",
    "            F.lit(0)\n",
    "        )\n",
    "    )\n",
    "    .withColumn(\n",
    "        \"VideoViewRate\",\n",
    "        F.coalesce(\n",
    "            F.round(\n",
    "                F.when(F.col(\"TotalImpressions\") == 0, 0).otherwise(\n",
    "                    F.col(\"TotalVideoView\") / F.col(\"TotalImpressions\")\n",
    "                ), 4\n",
    "            ),\n",
    "            F.lit(0)\n",
    "        )\n",
    "    )\n",
    "    .drop(\"AdSetName\", \"Click_URL\", \"Clicks\", \"Link_Clicks\", \"Post_Saves\", \"Post_Shares\", \"Comments\", \"Likes\", \"Video_View\")\n",
    ")\n",
    "\n",
    "fn_overwrite_table(df_source=df_total, target_schema_name=target_schema_name, target_table_name=\"linkedin_paid_total\", target_path=target_path)"
   ]
  },
  {
   "cell_type": "markdown",
   "metadata": {
    "application/vnd.databricks.v1+cell": {
     "cellMetadata": {
      "byteLimit": 2048000,
      "rowLimit": 10000
     },
     "inputWidgets": {},
     "nuid": "1009e00d-def4-4278-8117-2f0c8ac41767",
     "showTitle": false,
     "tableResultSettingsMap": {},
     "title": ""
    }
   },
   "source": []
  }
 ],
 "metadata": {
  "application/vnd.databricks.v1+notebook": {
   "computePreferences": null,
   "dashboards": [],
   "environmentMetadata": {
    "base_environment": "",
    "environment_version": "2"
   },
   "inputWidgetPreferences": null,
   "language": "python",
   "notebookMetadata": {
    "pythonIndentUnit": 4
   },
   "notebookName": "nb_transformed_paid_linkedIn",
   "widgets": {}
  },
  "language_info": {
   "name": "python"
  }
 },
 "nbformat": 4,
 "nbformat_minor": 0
}
