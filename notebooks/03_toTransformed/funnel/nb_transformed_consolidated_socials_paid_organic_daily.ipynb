{
 "cells": [
  {
   "cell_type": "markdown",
   "metadata": {
    "application/vnd.databricks.v1+cell": {
     "cellMetadata": {
      "byteLimit": 2048000,
      "rowLimit": 10000
     },
     "inputWidgets": {},
     "nuid": "9f7c378d-9825-4b35-a7ad-3123c5695147",
     "showTitle": false,
     "tableResultSettingsMap": {},
     "title": ""
    }
   },
   "source": [
    "# UK - Anbindung Paid Organic Themen \n",
    "\n",
    "* Um was handelt es sich hier  (Kurzbeschreibung Inhalt):\n",
    "- Alle Paid und Organic SoMe Total Tabellen in einer consolidierten Tabelle\n",
    "\n",
    "\n",
    "---\n",
    "* QUELLEN:  \n",
    "- datif_pz_uk_{}.03_transformed.linkedin_paid_oraganic_daily\n",
    "- datif_pz_uk_{}.03_transformed.youtube_paid_oraganic_daily\n",
    "- datif_pz_uk_{}.03_transformed.meta_paid_oraganic_daily\n",
    "- datif_pz_uk_{}.03_transformed.outbrain_paid_daily\n",
    "- datif_pz_uk_{}.03_transformed.instagram_organic_stories_daily\n",
    "\n",
    "\n",
    "* ZIEL:  \n",
    "- datif_pz_uk_{}.03_transformed.consolidated_socials_paid_organic_daily\n",
    "\n",
    "\n",
    "---\n",
    "* Versionen (aktuelle immer oben):\n",
    "- 08.10.2025 Max Mustermann: init"
   ]
  },
  {
   "cell_type": "markdown",
   "metadata": {
    "application/vnd.databricks.v1+cell": {
     "cellMetadata": {
      "byteLimit": 2048000,
      "rowLimit": 10000
     },
     "inputWidgets": {},
     "nuid": "ed471039-c1d3-42e3-8a54-bd15e8c881bf",
     "showTitle": false,
     "tableResultSettingsMap": {},
     "title": ""
    }
   },
   "source": [
    "#Imports"
   ]
  },
  {
   "cell_type": "code",
   "execution_count": 0,
   "metadata": {
    "application/vnd.databricks.v1+cell": {
     "cellMetadata": {
      "byteLimit": 2048000,
      "rowLimit": 10000
     },
     "inputWidgets": {},
     "nuid": "16ed816b-2d6e-4e0a-ac80-881b498a8da1",
     "showTitle": false,
     "tableResultSettingsMap": {},
     "title": ""
    }
   },
   "outputs": [],
   "source": [
    "from pyspark.sql.functions import col, lit, to_date, year, udf, concat_ws, when, regexp_replace, trim\n",
    "from pyspark.sql.types import StringType, StructType, StructField\n",
    "import pyspark.sql.functions as F\n",
    "import pyspark.sql.types as T"
   ]
  },
  {
   "cell_type": "code",
   "execution_count": 0,
   "metadata": {
    "application/vnd.databricks.v1+cell": {
     "cellMetadata": {
      "byteLimit": 2048000,
      "rowLimit": 10000
     },
     "inputWidgets": {},
     "nuid": "1f7ba08e-94d7-49a0-85bd-552ecd06cc26",
     "showTitle": false,
     "tableResultSettingsMap": {},
     "title": ""
    }
   },
   "outputs": [],
   "source": [
    "%run ../../common/nb_init"
   ]
  },
  {
   "cell_type": "markdown",
   "metadata": {
    "application/vnd.databricks.v1+cell": {
     "cellMetadata": {
      "byteLimit": 2048000,
      "rowLimit": 10000
     },
     "inputWidgets": {},
     "nuid": "9aaf4959-89a4-413a-a0cd-5cca7d28d353",
     "showTitle": false,
     "tableResultSettingsMap": {},
     "title": ""
    }
   },
   "source": [
    "# Target Schema"
   ]
  },
  {
   "cell_type": "code",
   "execution_count": 0,
   "metadata": {
    "application/vnd.databricks.v1+cell": {
     "cellMetadata": {
      "byteLimit": 2048000,
      "rowLimit": 10000
     },
     "inputWidgets": {},
     "nuid": "821cec7d-b764-446a-911d-74741cdc05c1",
     "showTitle": false,
     "tableResultSettingsMap": {},
     "title": ""
    }
   },
   "outputs": [],
   "source": [
    "target_schema_name = '03_transformed'\n",
    "target_path = 'funnel'"
   ]
  },
  {
   "cell_type": "markdown",
   "metadata": {
    "application/vnd.databricks.v1+cell": {
     "cellMetadata": {
      "byteLimit": 2048000,
      "rowLimit": 10000
     },
     "inputWidgets": {},
     "nuid": "da543166-7325-4c2d-87ef-828acfac6479",
     "showTitle": false,
     "tableResultSettingsMap": {},
     "title": ""
    }
   },
   "source": [
    "#Configure Tables"
   ]
  },
  {
   "cell_type": "code",
   "execution_count": 0,
   "metadata": {
    "application/vnd.databricks.v1+cell": {
     "cellMetadata": {
      "byteLimit": 2048000,
      "rowLimit": 10000
     },
     "inputWidgets": {},
     "nuid": "96499ea9-d5ea-4631-9a95-c1650ae8dbba",
     "showTitle": false,
     "tableResultSettingsMap": {},
     "title": ""
    }
   },
   "outputs": [],
   "source": [
    "relevant_tables = [\n",
    "    {\n",
    "        'table_name': '03_transformed.youtube_paid_organic_daily',\n",
    "        # --- Allgemein ---\n",
    "        'organic_id': 'OrganicID',\n",
    "        'paid_id': 'AdID',\n",
    "        'source': 'Source',\n",
    "        'channel': 'YouTube',\n",
    "        'created_date': 'CreatedDate',\n",
    "        'campaign_name': 'CampaignName',\n",
    "        'ad_name': 'AdName',\n",
    "        'url': 'URL',\n",
    "        'post_type': 'Video',\n",
    "        'title': 'VideoDescription',\n",
    "        'owner': 'Owner',\n",
    "        'spend': 'Amount_Spend',\n",
    "\n",
    "        # --- All_ ---\n",
    "        'all_impressions': 'All_Views',\n",
    "        'all_engagement': 'All_Engagements',\n",
    "        'all_weighted_engagement': 'All_WeightedEngagements',\n",
    "        'all_total_likes': 'All_Likes',\n",
    "        'all_total_dislikes': 'All_Dislikes',\n",
    "        'all_total_comments': 'All_Comments',\n",
    "        'all_total_shares': 'All_Shares',\n",
    "        'all_total_clicks': 'KPI existiert nicht',\n",
    "        'all_total_reactions': 'KPI existiert nicht',\n",
    "        'all_average_view_duration': 'All_AverageViewDuration',\n",
    "\n",
    "        # --- Organic_ ---\n",
    "        'organic_impressions': 'Organic_Views',\n",
    "        'organic_engagement': 'Organic_Engagements',\n",
    "        'organic_weighted_engagement': 'KPI existiert nicht',\n",
    "        'organic_total_likes': 'KPI existiert nicht',\n",
    "        'organic_total_comments': 'KPI existiert nicht',\n",
    "        'organic_total_shares': 'KPI existiert nicht',\n",
    "        'organic_total_clicks': 'KPI existiert nicht',\n",
    "        'organic_total_reactions': 'KPI existiert nicht',\n",
    "\n",
    "        # --- Paid_ ---\n",
    "        'paid_impressions': 'Paid_Impressions',\n",
    "        'paid_engagement': 'Paid_Engagements',\n",
    "        'paid_weighted_engagement': 'KPI existiert nicht',\n",
    "        'paid_total_likes': 'KPI existiert nicht',\n",
    "        'paid_total_comments': 'KPI existiert nicht',\n",
    "        'paid_total_shares': 'KPI existiert nicht',\n",
    "        'paid_total_clicks': 'KPI existiert nicht',\n",
    "        'paid_total_reactions': 'KPI existiert nicht',\n",
    "    },\n",
    "\n",
    "    {\n",
    "        'table_name': '03_transformed.linkedIn_paid_organic_daily',\n",
    "        # --- Allgemein ---\n",
    "        'organic_id': 'OrganicID',\n",
    "        'paid_id': 'AdID',\n",
    "        'source': 'Source',\n",
    "        'channel': 'LinkedIn',\n",
    "        'created_date': 'CreatedDate',\n",
    "        'campaign_name': 'CampaignName',\n",
    "        'ad_name': 'AdName',\n",
    "        'url': 'URL',\n",
    "        'post_type': 'PostType',\n",
    "        'title': 'Title',\n",
    "        'owner': 'Existiert nicht',\n",
    "        'spend': 'Amount_Spend',\n",
    "\n",
    "        # --- All_ ---\n",
    "        'all_impressions': 'All_Impressions',\n",
    "        'all_engagement': 'All_Engagements',\n",
    "        'all_weighted_engagement': 'All_WeightedEngagements',\n",
    "        'all_total_likes': 'All_Likes',\n",
    "        'all_total_comments': 'All_Comments',\n",
    "        'all_total_shares': 'All_Shares',\n",
    "        'all_total_clicks': 'All_Clicks',\n",
    "        'all_total_reactions': 'KPI existiert nicht',\n",
    "        'all_average_view_duration': 'KPI existiert nicht',\n",
    "        'all_total_dislikes': 'KPI existiert nicht',\n",
    "\n",
    "        # --- Organic_ ---\n",
    "        'organic_impressions': 'Organic_Impressions',\n",
    "        'organic_engagement': 'Organic_Engagements',\n",
    "        'organic_weighted_engagement': 'Organic_WeightedEngagements',\n",
    "        'organic_total_likes': 'Organic_Likes',\n",
    "        'organic_total_comments': 'Organic_Comments',\n",
    "        'organic_total_shares': 'Organic_Shares',\n",
    "        'organic_total_clicks': 'Organic_Clicks',\n",
    "        'organic_total_reactions': 'KPI existiert nicht',\n",
    "\n",
    "        # --- Paid_ ---\n",
    "        'paid_impressions': 'Paid_Impressions',\n",
    "        'paid_engagement': 'Paid_Engagements',\n",
    "        'paid_weighted_engagement': 'Paid_WeightedEngagements',\n",
    "        'paid_total_likes': 'Paid_Likes',\n",
    "        'paid_total_comments': 'Paid_Comments',\n",
    "        'paid_total_shares': 'Paid_Shares',\n",
    "        'paid_total_clicks': 'Paid_Clicks',\n",
    "        'paid_total_reactions': 'KPI existiert nicht',\n",
    "    },\n",
    "\n",
    "    {\n",
    "        'table_name': '03_transformed.meta_paid_organic_daily',\n",
    "        # --- Allgemein ---\n",
    "        'organic_id': 'OrganicID',\n",
    "        'paid_id': 'AdID',\n",
    "        'source': 'Source',\n",
    "        'channel': 'Plattform',\n",
    "        'created_date': 'CreatedDate',\n",
    "        'campaign_name': 'CampaignName',\n",
    "        'ad_name': 'AdName',\n",
    "        'url': 'URL',\n",
    "        'post_type': 'PostType',\n",
    "        'title': 'Existiert nicht',\n",
    "        'owner': 'Existiert nicht',\n",
    "        'spend': 'Amount_Spend',\n",
    "\n",
    "        # --- All_ ---\n",
    "        'all_impressions': 'All_Impressions',\n",
    "        'all_engagement': 'All_Engagements',\n",
    "        'all_weighted_engagement': 'All_WeightedEngagements',\n",
    "        'all_total_shares': 'All_Shares',\n",
    "        'all_total_clicks': 'All_Clicks',\n",
    "        'all_total_comments': 'All_Comments',\n",
    "        'all_total_reactions': 'All_Reactions',\n",
    "        'all_total_likes': 'KPI existiert nicht',\n",
    "        'all_total_dislikes': 'KPI existiert nicht',\n",
    "        'all_average_view_duration': 'KPI existiert nicht',\n",
    "\n",
    "        # --- Organic_ ---\n",
    "        'organic_impressions': 'Organic_Impressions',\n",
    "        'organic_engagement': 'Organic_Engagements',\n",
    "        'organic_weighted_engagement': 'Organic_WeightedEngagements',\n",
    "        'organic_total_shares': 'Organic_Shares',\n",
    "        'organic_total_clicks': 'Organic_Clicks',\n",
    "        'organic_total_comments': 'Organic_Comments',\n",
    "        'organic_total_reactions': 'Organic_Reactions',\n",
    "        'organic_total_saved': 'Organic_Saved',\n",
    "        'organic_total_likes': 'KPI existiert nicht',\n",
    "\n",
    "        # --- Paid_ ---\n",
    "        'paid_impressions': 'Paid_Impressions',\n",
    "        'paid_engagement': 'Paid_Engagements',\n",
    "        'paid_weighted_engagement': 'Paid_WeightedEngagements',\n",
    "        'paid_total_shares': 'Paid_Shares',\n",
    "        'paid_total_clicks': 'Paid_Clicks',\n",
    "        'paid_total_comments': 'Paid_Comments',\n",
    "        'paid_total_reactions': 'Paid_Reactions',\n",
    "        'paid_total_likes': 'KPI existiert nicht',\n",
    "    },\n",
    "\n",
    "    {\n",
    "        'table_name': '03_transformed.outbrain_paid_daily',\n",
    "        # --- Allgemein ---\n",
    "        'organic_id': 'Existiert nicht',\n",
    "        'paid_id': 'AdID',\n",
    "        'source': 'Paid',\n",
    "        'channel': 'Outbrain',\n",
    "        'created_date': 'Existiert nicht',\n",
    "        'campaign_name': 'CampaignName',\n",
    "        'ad_name': 'AdName',\n",
    "        'url': 'Content_URL',\n",
    "        'post_type': 'Existiert nicht',\n",
    "        'title': 'Title',\n",
    "        'owner': 'Existiert nicht',\n",
    "        'spend': 'Amount_Spend',\n",
    "\n",
    "        # --- All_ ---\n",
    "        'all_impressions': 'Impressions',\n",
    "        'all_engagement': 'KPI existiert nicht',\n",
    "        'all_weighted_engagement': 'KPI existiert nicht',\n",
    "        'all_total_clicks': 'Clicks',\n",
    "        'all_total_likes': 'KPI existiert nicht',\n",
    "        'all_total_comments': 'KPI existiert nicht',\n",
    "        'all_total_shares': 'KPI existiert nicht',\n",
    "        'all_total_reactions': 'KPI existiert nicht',\n",
    "        'all_total_dislikes': 'KPI existiert nicht',\n",
    "        'all_average_view_duration': 'Video_Average_View',\n",
    "\n",
    "        # --- Organic_ ---\n",
    "        'organic_impressions': 'KPI existiert nicht',\n",
    "        'organic_engagement': 'KPI existiert nicht',\n",
    "        'organic_weighted_engagement': 'KPI existiert nicht',\n",
    "        'organic_total_clicks': 'KPI existiert nicht',\n",
    "        'organic_total_likes': 'KPI existiert nicht',\n",
    "        'organic_total_comments': 'KPI existiert nicht',\n",
    "        'organic_total_shares': 'KPI existiert nicht',\n",
    "        'organic_total_reactions': 'KPI existiert nicht',\n",
    "\n",
    "        # --- Paid_ ---\n",
    "        'paid_impressions': 'Impressions',\n",
    "        'paid_engagement': 'KPI existiert nicht',\n",
    "        'paid_weighted_engagement': 'KPI existiert nicht',\n",
    "        'paid_total_clicks': 'Clicks',\n",
    "        'paid_total_likes': 'KPI existiert nicht',\n",
    "        'paid_total_comments': 'KPI existiert nicht',\n",
    "        'paid_total_shares': 'KPI existiert nicht',\n",
    "        'paid_total_reactions': 'KPI existiert nicht',\n",
    "    },\n",
    "\n",
    "    {\n",
    "        'table_name': '03_transformed.instagram_organic_stories_daily',\n",
    "        # --- Allgemein ---\n",
    "        'organic_id': 'StoryID',\n",
    "        'paid_id': 'Existiert nicht',\n",
    "        'source': 'Organic',\n",
    "        'channel': 'Instagram',\n",
    "        'created_date': 'CreatedDate',\n",
    "        'campaign_name': 'Existiert nicht',\n",
    "        'ad_name': 'Existiert nicht',\n",
    "        'url': 'Existiert nicht',\n",
    "        'post_type': 'Story',\n",
    "        'title': 'Caption',\n",
    "        'owner': 'Existiert nicht',\n",
    "        'spend': 'KPI existiert nicht',\n",
    "\n",
    "        # --- All_ ---\n",
    "        'all_impressions': 'TotalImpressionsSum',\n",
    "        'all_engagement': 'Engagement',\n",
    "        'all_weighted_engagement': 'WeightedEngagements',\n",
    "        'all_total_shares': 'TotalSharesSum',\n",
    "        'all_total_comments': 'TotalRepliesSum',\n",
    "        'all_total_likes': 'KPI existiert nicht',\n",
    "        'all_total_clicks': 'KPI existiert nicht',\n",
    "        'all_total_reactions': 'KPI existiert nicht',\n",
    "        'all_average_view_duration': 'KPI existiert nicht',\n",
    "        'all_total_dislikes': 'KPI existiert nicht',\n",
    "\n",
    "        # --- Organic_ ---\n",
    "        'organic_impressions': 'TotalImpressions',\n",
    "        'organic_engagement': 'Engagement',\n",
    "        'organic_weighted_engagement': 'WeightedEngagements',\n",
    "        'organic_total_shares': 'TotalShares',\n",
    "        'organic_total_comments': 'TotalReplies',\n",
    "        'organic_total_likes': 'KPI existiert nicht',\n",
    "        'organic_total_clicks': 'KPI existiert nicht',\n",
    "        'organic_total_reactions': 'KPI existiert nicht',\n",
    "\n",
    "        # --- Paid_ ---\n",
    "        'paid_impressions': 'KPI existiert nicht',\n",
    "        'paid_engagement': 'KPI existiert nicht',\n",
    "        'paid_weighted_engagement': 'KPI existiert nicht',\n",
    "        'paid_total_shares': 'KPI existiert nicht',\n",
    "        'paid_total_comments': 'KPI existiert nicht',\n",
    "        'paid_total_likes': 'KPI existiert nicht',\n",
    "        'paid_total_clicks': 'KPI existiert nicht',\n",
    "        'paid_total_reactions': 'KPI existiert nicht',\n",
    "    }\n",
    "]\n"
   ]
  },
  {
   "cell_type": "markdown",
   "metadata": {
    "application/vnd.databricks.v1+cell": {
     "cellMetadata": {
      "byteLimit": 2048000,
      "rowLimit": 10000
     },
     "inputWidgets": {},
     "nuid": "621a7565-b202-4437-9224-c23458348cd2",
     "showTitle": false,
     "tableResultSettingsMap": {},
     "title": ""
    }
   },
   "source": [
    "# Combine relevant Tables"
   ]
  },
  {
   "cell_type": "code",
   "execution_count": 0,
   "metadata": {
    "application/vnd.databricks.v1+cell": {
     "cellMetadata": {
      "byteLimit": 2048000,
      "rowLimit": 10000
     },
     "inputWidgets": {},
     "nuid": "87db9e4a-e553-4fdc-80ee-501693d2caeb",
     "showTitle": false,
     "tableResultSettingsMap": {},
     "title": ""
    }
   },
   "outputs": [],
   "source": [
    "schema = T.StructType([\n",
    "    # --- IDs & Allgemein ---\n",
    "    T.StructField(\"OrganicID\", T.StringType(), True),\n",
    "    T.StructField(\"PaidID\", T.StringType(), True),\n",
    "    T.StructField(\"Source\", T.StringType(), True),\n",
    "    T.StructField(\"Channel\", T.StringType(), True),\n",
    "    T.StructField(\"CreatedDate\", T.StringType(), True),\n",
    "    T.StructField(\"CampaignName\", T.StringType(), True),\n",
    "    T.StructField(\"AdName\", T.StringType(), True),\n",
    "    T.StructField(\"URL\", T.StringType(), True),\n",
    "    T.StructField(\"PostType\", T.StringType(), True),\n",
    "    T.StructField(\"Title\", T.StringType(), True),\n",
    "    T.StructField(\"Owner\", T.StringType(), True),\n",
    "    T.StructField(\"Spend\", T.StringType(), True),\n",
    "\n",
    "    # --- Impressions ---\n",
    "    T.StructField(\"All_Impressions\", T.StringType(), True),\n",
    "    T.StructField(\"Organic_Impressions\", T.StringType(), True),\n",
    "    T.StructField(\"Paid_Impressions\", T.StringType(), True),\n",
    "\n",
    "    # --- Engagements ---\n",
    "    T.StructField(\"All_Engagements\", T.StringType(), True),\n",
    "    T.StructField(\"Organic_Engagements\", T.StringType(), True),\n",
    "    T.StructField(\"Paid_Engagements\", T.StringType(), True),\n",
    "\n",
    "    # --- Weighted Engagements ---\n",
    "    T.StructField(\"All_WeightedEngagements\", T.StringType(), True),\n",
    "    T.StructField(\"Organic_WeightedEngagements\", T.StringType(), True),\n",
    "    T.StructField(\"Paid_WeightedEngagements\", T.StringType(), True),\n",
    "\n",
    "    # --- Likes ---\n",
    "    T.StructField(\"All_Likes\", T.StringType(), True),\n",
    "    T.StructField(\"Organic_Likes\", T.StringType(), True),\n",
    "    T.StructField(\"Paid_Likes\", T.StringType(), True),\n",
    "\n",
    "    # --- Dislikes ---\n",
    "    T.StructField(\"All_Dislikes\", T.StringType(), True),\n",
    "\n",
    "    # --- Comments ---\n",
    "    T.StructField(\"All_Comments\", T.StringType(), True),\n",
    "    T.StructField(\"Organic_Comments\", T.StringType(), True),\n",
    "    T.StructField(\"Paid_Comments\", T.StringType(), True),\n",
    "\n",
    "    # --- Shares ---\n",
    "    T.StructField(\"All_Shares\", T.StringType(), True),\n",
    "    T.StructField(\"Organic_Shares\", T.StringType(), True),\n",
    "    T.StructField(\"Paid_Shares\", T.StringType(), True),\n",
    "\n",
    "    # --- Replies ---\n",
    "    T.StructField(\"All_Replies\", T.StringType(), True),\n",
    "    T.StructField(\"Organic_Replies\", T.StringType(), True),\n",
    "    T.StructField(\"Paid_Replies\", T.StringType(), True),\n",
    "\n",
    "    # --- Clicks ---\n",
    "    T.StructField(\"All_Clicks\", T.StringType(), True),\n",
    "    T.StructField(\"Organic_Clicks\", T.StringType(), True),\n",
    "    T.StructField(\"Paid_Clicks\", T.StringType(), True),\n",
    "\n",
    "    # --- Reactions ---\n",
    "    T.StructField(\"All_Reactions\", T.StringType(), True),\n",
    "    T.StructField(\"Organic_Reactions\", T.StringType(), True),\n",
    "    T.StructField(\"Paid_Reactions\", T.StringType(), True),\n",
    "\n",
    "    # --- View Duration ---\n",
    "    T.StructField(\"All_AverageViewDuration\", T.StringType(), True),\n",
    "\n",
    "    # --- Topics ---\n",
    "    T.StructField(\"StrategischesThema1\", T.StringType(), True),\n",
    "    T.StructField(\"StrategischesThema2\", T.StringType(), True),\n",
    "    T.StructField(\"StrategischesThema3\", T.StringType(), True),\n",
    "    T.StructField(\"Themenbereich1\", T.StringType(), True),\n",
    "    T.StructField(\"Themenbereich2\", T.StringType(), True),\n",
    "    T.StructField(\"Themenbereich3\", T.StringType(), True),\n",
    "])\n",
    "\n",
    "df_consolidated = spark.createDataFrame([], schema=schema)\n"
   ]
  },
  {
   "cell_type": "code",
   "execution_count": 0,
   "metadata": {
    "application/vnd.databricks.v1+cell": {
     "cellMetadata": {
      "byteLimit": 2048000,
      "rowLimit": 10000
     },
     "inputWidgets": {},
     "nuid": "c15c96a8-22ed-418c-acf1-3af4f4077f1a",
     "showTitle": false,
     "tableResultSettingsMap": {
      "0": {
       "dataGridStateBlob": "{\"version\":1,\"tableState\":{\"columnPinning\":{\"left\":[\"#row_number#\"],\"right\":[]},\"columnSizing\":{},\"columnVisibility\":{}},\"settings\":{\"columns\":{\"URL\":{\"format\":{\"preset\":\"string-preset-url\"}}}},\"syncTimestamp\":1759912564843}",
       "filterBlob": null,
       "queryPlanFiltersBlob": null,
       "tableResultIndex": 0
      }
     },
     "title": ""
    }
   },
   "outputs": [],
   "source": [
    "# ---------------------------------------------------------------------\n",
    "# Hilfsfunktion für Spaltenzugriff\n",
    "# ---------------------------------------------------------------------\n",
    "def _safe_col_from(df, name: str):\n",
    "    \"\"\"\n",
    "    Gibt eine String-Spalte zurück:\n",
    "      - Wenn 'Fehlt noch' / 'Existiert nicht' / leer -> Literal \"Existiert nicht\"\n",
    "      - Wenn 'KPI existiert nicht' -> Literal 0\n",
    "      - Wenn konstanter Begriff ('Organic', 'Paid', 'Video', 'Story') -> Literal dieses Werts\n",
    "      - Wenn Spalte nicht existiert -> Literal \"Existiert nicht\"\n",
    "      - Sonst -> df[name] (als string gecastet)\n",
    "    \"\"\"\n",
    "    if not name:\n",
    "        return F.lit(\"Existiert nicht\")\n",
    "\n",
    "    key = str(name).strip()\n",
    "    if key in {\"Fehlt noch\", \"Existiert nicht\", \"\", None}:\n",
    "        return F.lit(\"Existiert nicht\")\n",
    "    if key == \"KPI existiert nicht\":\n",
    "        return F.lit(0)\n",
    "    if key in {\"Organic\", \"Paid\", \"Story\", \"Video\"}:\n",
    "        return F.lit(key)\n",
    "    if key not in df.columns:\n",
    "        return F.lit(\"Existiert nicht\")\n",
    "\n",
    "    return F.col(key).cast(\"string\")\n",
    "\n",
    "\n",
    "# ---------------------------------------------------------------------\n",
    "# Hauptlogik: Vereinheitlichung aller Tabellen\n",
    "# ---------------------------------------------------------------------\n",
    "df_consolidated = None\n",
    "\n",
    "for t in relevant_tables:\n",
    "    print(f\"Verarbeite Tabelle: {t['table_name']}\")\n",
    "    df = spark.read.table(f\"datif_pz_uk_{env}.{t['table_name']}\")\n",
    "\n",
    "    # Einheitliches Select nach dem neuen Schema\n",
    "    df_sel = df.select(\n",
    "        # --- IDs & Allgemein ---\n",
    "        _safe_col_from(df, t.get('organic_id')).alias(\"OrganicID\"),\n",
    "        _safe_col_from(df, t.get('paid_id')).alias(\"PaidID\"),\n",
    "        _safe_col_from(df, t.get('source')).alias(\"Source\"),\n",
    "        # Änderung 1: Channel nur bei Meta dynamisch\n",
    "        F.when(F.lit(t['channel']) == \"Plattform\", _safe_col_from(df, t.get('channel')))\n",
    "         .otherwise(F.lit(t.get('channel', 'Existiert nicht'))).alias(\"Channel\"),\n",
    "        _safe_col_from(df, t.get('created_date')).alias(\"CreatedDate\"),\n",
    "        _safe_col_from(df, t.get('campaign_name')).alias(\"CampaignName\"),\n",
    "        _safe_col_from(df, t.get('ad_name')).alias(\"AdName\"),\n",
    "        _safe_col_from(df, t.get('url')).alias(\"URL\"),\n",
    "        _safe_col_from(df, t.get('post_type')).alias(\"PostType\"),\n",
    "        _safe_col_from(df, t.get('title')).alias(\"Title\"),\n",
    "        _safe_col_from(df, t.get('owner')).alias(\"Owner\"),\n",
    "        _safe_col_from(df, t.get('spend')).alias(\"Spend\"),\n",
    "\n",
    "        # --- Impressions ---\n",
    "        _safe_col_from(df, t.get('all_impressions')).alias(\"All_Impressions\"),\n",
    "        _safe_col_from(df, t.get('organic_impressions')).alias(\"Organic_Impressions\"),\n",
    "        _safe_col_from(df, t.get('paid_impressions')).alias(\"Paid_Impressions\"),\n",
    "\n",
    "        # --- Engagements ---\n",
    "        _safe_col_from(df, t.get('all_engagement')).alias(\"All_Engagements\"),\n",
    "        _safe_col_from(df, t.get('organic_engagement')).alias(\"Organic_Engagements\"),\n",
    "        _safe_col_from(df, t.get('paid_engagement')).alias(\"Paid_Engagements\"),\n",
    "\n",
    "        # --- Weighted Engagements ---\n",
    "        _safe_col_from(df, t.get('all_weighted_engagement')).alias(\"All_WeightedEngagements\"),\n",
    "        _safe_col_from(df, t.get('organic_weighted_engagement')).alias(\"Organic_WeightedEngagements\"),\n",
    "        _safe_col_from(df, t.get('paid_weighted_engagement')).alias(\"Paid_WeightedEngagements\"),\n",
    "\n",
    "        # --- Likes ---\n",
    "        _safe_col_from(df, t.get('all_total_likes')).alias(\"All_Likes\"),\n",
    "        _safe_col_from(df, t.get('organic_total_likes')).alias(\"Organic_Likes\"),\n",
    "        _safe_col_from(df, t.get('paid_total_likes')).alias(\"Paid_Likes\"),\n",
    "\n",
    "        # --- Dislikes ---\n",
    "        _safe_col_from(df, t.get('all_total_dislikes')).alias(\"All_Dislikes\"),\n",
    "\n",
    "        # --- Comments ---\n",
    "        _safe_col_from(df, t.get('all_total_comments')).alias(\"All_Comments\"),\n",
    "        _safe_col_from(df, t.get('organic_total_comments')).alias(\"Organic_Comments\"),\n",
    "        _safe_col_from(df, t.get('paid_total_comments')).alias(\"Paid_Comments\"),\n",
    "\n",
    "        # --- Shares ---\n",
    "        _safe_col_from(df, t.get('all_total_shares')).alias(\"All_Shares\"),\n",
    "        _safe_col_from(df, t.get('organic_total_shares')).alias(\"Organic_Shares\"),\n",
    "        _safe_col_from(df, t.get('paid_total_shares')).alias(\"Paid_Shares\"),\n",
    "\n",
    "        # --- Replies ---\n",
    "        _safe_col_from(df, t.get('all_replies')).alias(\"All_Replies\"),\n",
    "        _safe_col_from(df, t.get('organic_replies')).alias(\"Organic_Replies\"),\n",
    "        _safe_col_from(df, t.get('paid_replies')).alias(\"Paid_Replies\"),\n",
    "\n",
    "        # --- Clicks ---\n",
    "        _safe_col_from(df, t.get('all_total_clicks')).alias(\"All_Clicks\"),\n",
    "        _safe_col_from(df, t.get('organic_total_clicks')).alias(\"Organic_Clicks\"),\n",
    "        _safe_col_from(df, t.get('paid_total_clicks')).alias(\"Paid_Clicks\"),\n",
    "\n",
    "        # --- Reactions ---\n",
    "        _safe_col_from(df, t.get('all_total_reactions')).alias(\"All_Reactions\"),\n",
    "        _safe_col_from(df, t.get('organic_total_reactions')).alias(\"Organic_Reactions\"),\n",
    "        _safe_col_from(df, t.get('paid_total_reactions')).alias(\"Paid_Reactions\"),\n",
    "\n",
    "        # --- View Duration ---\n",
    "        _safe_col_from(df, t.get('all_average_view_duration')).alias(\"All_AverageViewDuration\"),\n",
    "\n",
    "        # --- Topics ---\n",
    "        F.lit(\"Kein strategisches Thema\").alias(\"StrategischesThema1\"),\n",
    "        F.lit(\"Kein strategisches Thema\").alias(\"StrategischesThema2\"),\n",
    "        F.lit(\"Kein strategisches Thema\").alias(\"StrategischesThema3\"),\n",
    "        F.lit(\"Kein Themenbereich\").alias(\"Themenbereich1\"),\n",
    "        F.lit(\"Kein Themenbereich\").alias(\"Themenbereich2\"),\n",
    "        F.lit(\"Kein Themenbereich\").alias(\"Themenbereich3\"),\n",
    "    )\n",
    "\n",
    "    # Union der Tabellen mit gleichem Schema\n",
    "    df_consolidated = (\n",
    "        df_sel if df_consolidated is None\n",
    "        else df_consolidated.unionByName(df_sel, allowMissingColumns=True)\n",
    "    )\n",
    "\n",
    "# Ergebnis anzeigen\n",
    "df_consolidated.display()\n"
   ]
  },
  {
   "cell_type": "markdown",
   "metadata": {
    "application/vnd.databricks.v1+cell": {
     "cellMetadata": {
      "byteLimit": 2048000,
      "rowLimit": 10000
     },
     "inputWidgets": {},
     "nuid": "c984bfc4-64cf-4b94-ad8c-5c1ca995658b",
     "showTitle": false,
     "tableResultSettingsMap": {},
     "title": ""
    }
   },
   "source": [
    "### Bug das bei Facebook manchmal der PostType Null ist obwohl es einer Exisitiert"
   ]
  },
  {
   "cell_type": "code",
   "execution_count": 0,
   "metadata": {
    "application/vnd.databricks.v1+cell": {
     "cellMetadata": {
      "byteLimit": 2048000,
      "rowLimit": 10000
     },
     "inputWidgets": {},
     "nuid": "93b13db6-6104-4877-9279-910da8d8e3fd",
     "showTitle": false,
     "tableResultSettingsMap": {},
     "title": ""
    }
   },
   "outputs": [],
   "source": [
    "# 1. Quelle laden mit expliziter Umbenennung der PostType-Spalte\n",
    "df_posttype_source = spark.read.table(f\"datif_pz_uk_{env}.03_transformed.consolidated_socials\") \\\n",
    "    .select(\n",
    "        F.col(\"ID\").alias(\"JoinID\"),\n",
    "        F.col(\"PostType\").alias(\"PostType_source\")\n",
    "    ) \\\n",
    "    .dropDuplicates([\"JoinID\"])\n",
    "\n",
    "# 2. Join & PostType auffüllen, falls im Ziel Null\n",
    "df_consolidated = df_consolidated.join(\n",
    "    df_posttype_source,\n",
    "    df_consolidated[\"OrganicID\"] == df_posttype_source[\"JoinID\"],\n",
    "    how=\"left\"\n",
    ").withColumn(\n",
    "    \"PostType\",\n",
    "    F.when(F.col(\"PostType\").isNull(), F.col(\"PostType_source\"))\n",
    "     .otherwise(F.col(\"PostType\"))\n",
    ").drop(\"PostType_source\", \"JoinID\")"
   ]
  },
  {
   "cell_type": "markdown",
   "metadata": {
    "application/vnd.databricks.v1+cell": {
     "cellMetadata": {
      "byteLimit": 2048000,
      "rowLimit": 10000
     },
     "inputWidgets": {},
     "nuid": "d4e84ad7-b9d6-4bdb-9016-42d9d63224f8",
     "showTitle": false,
     "tableResultSettingsMap": {},
     "title": ""
    }
   },
   "source": [
    "### Alle https: in der Postmessage löschen https://A.visualstudio.com/DaTIF/_workitems/edit/4281898/"
   ]
  },
  {
   "cell_type": "code",
   "execution_count": 0,
   "metadata": {
    "application/vnd.databricks.v1+cell": {
     "cellMetadata": {
      "byteLimit": 2048000,
      "rowLimit": 10000
     },
     "inputWidgets": {},
     "nuid": "56c6bca5-44f4-4260-8ff8-0033bdefbe5a",
     "showTitle": false,
     "tableResultSettingsMap": {},
     "title": ""
    }
   },
   "outputs": [],
   "source": [
    "df_consolidated = df_consolidated.withColumn(\n",
    "    \"Title\",\n",
    "    regexp_replace(\"Title\", r\"https:\\/\\/\\S+\", \"\")\n",
    ")"
   ]
  },
  {
   "cell_type": "markdown",
   "metadata": {
    "application/vnd.databricks.v1+cell": {
     "cellMetadata": {
      "byteLimit": 2048000,
      "rowLimit": 10000
     },
     "inputWidgets": {},
     "nuid": "76dc043f-12f1-4d0c-95f2-869e46ab45d3",
     "showTitle": false,
     "tableResultSettingsMap": {},
     "title": ""
    }
   },
   "source": []
  },
  {
   "cell_type": "markdown",
   "metadata": {
    "application/vnd.databricks.v1+cell": {
     "cellMetadata": {
      "byteLimit": 2048000,
      "rowLimit": 10000
     },
     "inputWidgets": {},
     "nuid": "56fb226b-bd54-4b7d-abd5-289a52810e1d",
     "showTitle": false,
     "tableResultSettingsMap": {},
     "title": ""
    }
   },
   "source": [
    "### Einheitliches PostType Mapping"
   ]
  },
  {
   "cell_type": "code",
   "execution_count": 0,
   "metadata": {
    "application/vnd.databricks.v1+cell": {
     "cellMetadata": {
      "byteLimit": 2048000,
      "rowLimit": 10000
     },
     "inputWidgets": {},
     "nuid": "26530742-0316-4bd1-8718-76d26eb274d3",
     "showTitle": false,
     "tableResultSettingsMap": {},
     "title": ""
    }
   },
   "outputs": [],
   "source": [
    "post_type_mapping = {\n",
    "    (\"YouTube\", \"Video\"): \"Video\",\n",
    "    (\"Facebook\", \"video_direct_response\"): \"Video\",\n",
    "    (\"Facebook\", \"video_inline\"): \"Video\",\n",
    "    (\"Facebook\", \"Ohne Post Type\"): \"Other\",\n",
    "    (\"Facebook\", \"album\"): \"Image\",\n",
    "    (\"Facebook\", \"share\"): \"Other\",\n",
    "    (\"Facebook\", \"photo\"): \"Image\",\n",
    "    (\"Facebook\", \"profile_media\"): \"Other\",\n",
    "    (\"Facebook\", \"cover_photo\"): \"Other\",\n",
    "    (\"Facebook\", \"multi_share\"): \"Carousel / Document\",\n",
    "    (\"Facebook\", \"multi_share_no_end_card\"): \"Other\",\n",
    "    (\"Instagram\", \"VIDEO\"): \"Video\",\n",
    "    (\"Instagram\", \"IMAGE\"): \"Image\",\n",
    "    (\"Instagram\", \"CAROUSEL_ALBUM\"): \"Carousel / Document\",\n",
    "    (\"Instagram\", \"Story\"): \"Story\",\n",
    "    (\"LinkedIn\", \"Article\"): \"Other\",\n",
    "    (\"LinkedIn\", \"Repost\"): \"Other\",\n",
    "    (\"LinkedIn\", \"Image\"): \"Image\",\n",
    "    (\"LinkedIn\", \"Poll\"): \"Poll\",\n",
    "    (\"LinkedIn\", \"Document\"): \"Carousel / Document\",\n",
    "    (\"LinkedIn\", \"Video\"): \"Video\",\n",
    "\n",
    "\n",
    "}\n",
    "\n",
    "\n",
    "\n",
    "def map_post_type(channel, post_type):\n",
    "    key = (channel, post_type)\n",
    "    return post_type_mapping.get(key, \"Keine Zuordnung möglich\")\n",
    "\n",
    "map_post_type_udf = udf(map_post_type, StringType())\n",
    "\n",
    "\n",
    "df_consolidated = df_consolidated.withColumn(\n",
    "    \"PostTypeGeneralized\",\n",
    "    map_post_type_udf(F.col(\"Channel\"), F.col(\"PostType\"))\n",
    ")\n",
    "\n",
    "df_consolidated = df_consolidated.drop(\"PostType\")\n",
    "df_consolidated = df_consolidated.withColumnRenamed(\"PostTypeGeneralized\", \"PostType\")"
   ]
  },
  {
   "cell_type": "markdown",
   "metadata": {
    "application/vnd.databricks.v1+cell": {
     "cellMetadata": {
      "byteLimit": 2048000,
      "rowLimit": 10000
     },
     "inputWidgets": {},
     "nuid": "bc323435-1e3d-452d-bfdc-393dcfba8457",
     "showTitle": false,
     "tableResultSettingsMap": {},
     "title": ""
    }
   },
   "source": [
    "### Themen Mapping und null Werte ersetzen\n"
   ]
  },
  {
   "cell_type": "code",
   "execution_count": 0,
   "metadata": {
    "application/vnd.databricks.v1+cell": {
     "cellMetadata": {
      "byteLimit": 2048000,
      "rowLimit": 10000
     },
     "inputWidgets": {},
     "nuid": "87c67c7f-6f76-4b76-ae46-4d3560e84954",
     "showTitle": false,
     "tableResultSettingsMap": {},
     "title": ""
    }
   },
   "outputs": [],
   "source": [
    "df_consolidated_total = spark.sql(f\"\"\"\n",
    "SELECT\n",
    "    ID as OrganicID,\n",
    "    StrategischesThema1,\n",
    "    StrategischesThema2,\n",
    "    StrategischesThema3,\n",
    "    Themenbereich1,\n",
    "    Themenbereich2,\n",
    "    Themenbereich3\n",
    "    from datif_pz_uk_{env}.03_transformed.consolidated_socials\"\"\")\n",
    "\n",
    "\n",
    "df_consolidated = df_consolidated.drop(\n",
    "    \"StrategischesThema1\", \"StrategischesThema2\", \"StrategischesThema3\",\n",
    "    \"Themenbereich1\", \"Themenbereich2\", \"Themenbereich3\"\n",
    ").join(df_consolidated_total.alias(\"total\"), on=\"OrganicID\", how=\"left\")\n",
    "\n",
    "def replace_empty_and_null(df, column_name, replacement):\n",
    "    return df.withColumn(\n",
    "        column_name,\n",
    "        when(col(f\"total.{column_name}\").isNull() | (trim(col(f\"total.{column_name}\")) == \"\"), replacement)\n",
    "        .otherwise(col(f\"total.{column_name}\"))\n",
    "    )\n",
    "\n",
    "# Liste der Spalten und ihre gewünschten Fallbacks\n",
    "replacements = {\n",
    "    \"StrategischesThema1\": \"Kein strategisches Thema\",\n",
    "    \"StrategischesThema2\": \"Kein strategisches Thema\",\n",
    "    \"StrategischesThema3\": \"Kein strategisches Thema\",\n",
    "    \"Themenbereich1\": \"Kein Themenbereich\",\n",
    "    \"Themenbereich2\": \"Kein Themenbereich\",\n",
    "    \"Themenbereich3\": \"Kein Themenbereich\",\n",
    "}\n",
    "\n",
    "# Anwenden auf das DataFrame\n",
    "for col_name, replacement_text in replacements.items():\n",
    "    df_consolidated = replace_empty_and_null(df_consolidated, col_name, replacement_text)\n",
    "\n",
    "# display(df_consolidated)"
   ]
  },
  {
   "cell_type": "markdown",
   "metadata": {
    "application/vnd.databricks.v1+cell": {
     "cellMetadata": {
      "byteLimit": 2048000,
      "rowLimit": 10000
     },
     "inputWidgets": {},
     "nuid": "5fcf3aee-03d6-4ec7-9947-e279967ad94e",
     "showTitle": false,
     "tableResultSettingsMap": {},
     "title": ""
    }
   },
   "source": [
    "### Bug in Themenbereiche\n",
    "\n",
    "\"Geothermie/Pumpspeicher\" → \"Geothermie / Pumpspeicher\" \" / Pumpspeicherkraftwerke\" → \" / Pumpspeicherkraftwerke\" \"Geothermie / Pumpspeicher\" → \"Geothermie / Pumpspeicher\""
   ]
  },
  {
   "cell_type": "code",
   "execution_count": 0,
   "metadata": {
    "application/vnd.databricks.v1+cell": {
     "cellMetadata": {
      "byteLimit": 2048000,
      "rowLimit": 10000
     },
     "inputWidgets": {},
     "nuid": "8c78df74-2564-45d9-b59d-44ea641e16fb",
     "showTitle": false,
     "tableResultSettingsMap": {},
     "title": ""
    }
   },
   "outputs": [],
   "source": [
    "\n",
    "# Spalten, auf die die Regel angewendet werden soll\n",
    "columns_to_fix = [\"Themenbereich1\", \"Themenbereich2\", \"Themenbereich3\"]\n",
    "\n",
    "for col_name in columns_to_fix:\n",
    "    df_consolidated = df_consolidated.withColumn(\n",
    "        col_name,\n",
    "        regexp_replace(col(col_name), r\"\\s*/\\s*\", \" / \")  # ersetzt alle \"/\"-Varianten durch \" / \"\n",
    "    ).withColumn(\n",
    "        col_name,\n",
    "        regexp_replace(col(col_name), r\"\\s{2,}\", \" \")  # entfernt doppelte Leerzeichen\n",
    "    ).withColumn(\n",
    "        col_name,\n",
    "        trim(col(col_name))  # entfernt führende/trailing Leerzeichen\n",
    "    )"
   ]
  },
  {
   "cell_type": "markdown",
   "metadata": {
    "application/vnd.databricks.v1+cell": {
     "cellMetadata": {
      "byteLimit": 2048000,
      "rowLimit": 10000
     },
     "inputWidgets": {},
     "nuid": "d755ad4c-a7f2-4357-b588-3c8c82ebd6f0",
     "showTitle": false,
     "tableResultSettingsMap": {},
     "title": ""
    }
   },
   "source": [
    "#Write Table"
   ]
  },
  {
   "cell_type": "code",
   "execution_count": 0,
   "metadata": {
    "application/vnd.databricks.v1+cell": {
     "cellMetadata": {
      "byteLimit": 2048000,
      "rowLimit": 10000
     },
     "inputWidgets": {},
     "nuid": "60af4000-1357-4ef4-93bc-45bcc8e319ef",
     "showTitle": false,
     "tableResultSettingsMap": {},
     "title": ""
    }
   },
   "outputs": [],
   "source": [
    "fn_overwrite_table(df_source=df_consolidated, target_schema_name=target_schema_name, target_table_name=\"consolidated_socials_paid_organic_daily\", target_path=target_path)"
   ]
  }
 ],
 "metadata": {
  "application/vnd.databricks.v1+notebook": {
   "computePreferences": null,
   "dashboards": [],
   "environmentMetadata": {
    "base_environment": "",
    "environment_version": "2"
   },
   "inputWidgetPreferences": null,
   "language": "python",
   "notebookMetadata": {
    "pythonIndentUnit": 4
   },
   "notebookName": "nb_transformed_consolidated_socials_paid_organic_daily",
   "widgets": {}
  },
  "language_info": {
   "name": "python"
  }
 },
 "nbformat": 4,
 "nbformat_minor": 0
}
