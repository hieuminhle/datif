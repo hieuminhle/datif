{
 "cells": [
  {
   "cell_type": "markdown",
   "metadata": {
    "application/vnd.databricks.v1+cell": {
     "cellMetadata": {
      "byteLimit": 2048000,
      "rowLimit": 10000
     },
     "inputWidgets": {},
     "nuid": "0c164d65-6abe-4071-b14d-50e4dbcb36fe",
     "showTitle": false,
     "tableResultSettingsMap": {},
     "title": ""
    }
   },
   "source": [
    "# UK - Anbindung Paid Themen \n",
    "\n",
    "* Um was handelt es sich hier  (Kurzbeschreibung Inhalt):\n",
    "- Die Paid Data Transformatation von LinkedIn\n",
    "\n",
    "\n",
    "---\n",
    "* QUELLEN:  \n",
    "- datif_pz_uk_{}.03_transformed.linkedin_paid_daily\n",
    "- datif_pz_uk_{}.03_transformed.linkedin_paid_total\n",
    "\n",
    "\n",
    "* ZIEL:  \n",
    "- datif_pz_uk_{}.03_transformed.linkedin_paid_organic_daily\n",
    "- datif_pz_uk_{}.03_transformed.linkedin_paid_organic_total\n",
    "\n",
    "\n",
    "---\n",
    "* Versionen (aktuelle immer oben):\n",
    "- 17.09.2025 Justin Stange-Heiduk: init"
   ]
  },
  {
   "cell_type": "markdown",
   "metadata": {
    "application/vnd.databricks.v1+cell": {
     "cellMetadata": {
      "byteLimit": 2048000,
      "rowLimit": 10000
     },
     "inputWidgets": {},
     "nuid": "5f079c03-4a25-4a1f-a8c8-887b615445a6",
     "showTitle": false,
     "tableResultSettingsMap": {},
     "title": ""
    }
   },
   "source": [
    "\n",
    "# 1. Initialnotebooks & Libraries"
   ]
  },
  {
   "cell_type": "code",
   "execution_count": 0,
   "metadata": {
    "application/vnd.databricks.v1+cell": {
     "cellMetadata": {
      "byteLimit": 2048000,
      "rowLimit": 10000
     },
     "inputWidgets": {},
     "nuid": "db6e8fad-11fa-494c-a538-10d030679e50",
     "showTitle": false,
     "tableResultSettingsMap": {},
     "title": ""
    }
   },
   "outputs": [],
   "source": [
    "%run ../../common/nb_init"
   ]
  },
  {
   "cell_type": "code",
   "execution_count": 0,
   "metadata": {
    "application/vnd.databricks.v1+cell": {
     "cellMetadata": {
      "byteLimit": 2048000,
      "rowLimit": 10000
     },
     "inputWidgets": {},
     "nuid": "34e309ff-27a3-49d0-aa2f-e3524db05223",
     "showTitle": false,
     "tableResultSettingsMap": {},
     "title": ""
    }
   },
   "outputs": [],
   "source": [
    "target_schema_name = \"03_transformed\"\n",
    "target_path = \"funnel\""
   ]
  },
  {
   "cell_type": "markdown",
   "metadata": {
    "application/vnd.databricks.v1+cell": {
     "cellMetadata": {
      "byteLimit": 2048000,
      "rowLimit": 10000
     },
     "inputWidgets": {},
     "nuid": "0b5be8cf-7562-4940-a5bd-ce50d9dc930e",
     "showTitle": false,
     "tableResultSettingsMap": {},
     "title": ""
    }
   },
   "source": [
    "## 03-transformed"
   ]
  },
  {
   "cell_type": "markdown",
   "metadata": {
    "application/vnd.databricks.v1+cell": {
     "cellMetadata": {
      "byteLimit": 2048000,
      "rowLimit": 10000
     },
     "inputWidgets": {},
     "nuid": "a4cc8d63-584d-4777-8015-1dfa56890d91",
     "showTitle": false,
     "tableResultSettingsMap": {},
     "title": ""
    }
   },
   "source": [
    "### Daily"
   ]
  },
  {
   "cell_type": "code",
   "execution_count": 0,
   "metadata": {
    "application/vnd.databricks.v1+cell": {
     "cellMetadata": {
      "byteLimit": 2048000,
      "rowLimit": 10000
     },
     "inputWidgets": {},
     "nuid": "e0b6e645-eb96-4d89-8b1a-fd0835c96c3e",
     "showTitle": false,
     "tableResultSettingsMap": {},
     "title": ""
    }
   },
   "outputs": [],
   "source": [
    "df_daily = spark.sql(f\"\"\"\n",
    "                    CREATE OR REPLACE VIEW datif_pz_uk_{env}.03_transformed.linkedin_paid_organic_daily AS\n",
    "                    SELECT\n",
    "                        CASE\n",
    "                            WHEN lo.PostID is NULL Then \"Paid\"\n",
    "                            WHEN lp.AdID is NULL Then \"Organic\"\n",
    "                            ELSE \"Organic&Paid\"\n",
    "                        END AS Source,\n",
    "                        COALESCE(lo.PostID,'Existiert nicht') AS OrganicID,\n",
    "                        COALESCE(lo.Date, lp.Date, 'Existiert nicht') AS Date,\n",
    "                        COALESCE(lo.CreatedDate, 'Existiert nicht') AS CreatedDate,\n",
    "                        COALESCE(lo.PostContent, lp.Text,  'Existiert nicht') AS Title,\n",
    "                        COALESCE(lo.PostURL, 'Existiert nicht') AS URL,\n",
    "                        COALESCE(lo.ContentType, 'Existiert nicht') AS PostType,\n",
    "                        COALESCE(lo.Impressions, 0) AS Organic_Impressions,\n",
    "                        COALESCE(lo.Engagements, 0) AS Organic_Engagements,\n",
    "                        COALESCE(round(lo.WeightedEngagements,2), 0) AS Organic_WeightedEngagements,\n",
    "                        COALESCE(lo.Shares, 0) AS Organic_Shares,\n",
    "                        COALESCE(lo.Comments, 0) AS Organic_Comments,\n",
    "                        COALESCE(lo.Likes, 0) AS Organic_Likes,\n",
    "                        COALESCE(lo.Clicks, 0) AS Organic_Clicks,\n",
    "                        COALESCE(lp.AdID, 'Existiert nicht') AS AdID,\n",
    "                        COALESCE(lp.CampaignName, 'Existiert nicht') AS CampaignName,\n",
    "                        COALESCE(lp.AdSetName, 'Existiert nicht') AS AdSetName,\n",
    "                        COALESCE(lp.AdName, 'Existiert nicht') AS AdName,\n",
    "                        COALESCE(round(lp.Amount_Spend,2), 0) AS Amount_Spend,\n",
    "                        COALESCE(lp.Impressions, 0) AS Paid_Impressions,\n",
    "                        COALESCE(lp.Engagements, 0) AS Paid_Engagements,\n",
    "                        COALESCE(round(lp.WeightedEngagements,2), 0) AS Paid_WeightedEngagements,\n",
    "                        COALESCE(lp.Post_Shares, 0) AS Paid_Shares,\n",
    "                        COALESCE(lp.Comments, 0) AS Paid_Comments,\n",
    "                        COALESCE(lp.Likes, 0) AS Paid_Likes,\n",
    "                        COALESCE(lp.Clicks, 0) AS Paid_Clicks,\n",
    "                        COALESCE(Organic_Impressions + Paid_Impressions, 0) AS All_Impressions,\n",
    "                        COALESCE(Organic_Engagements + Paid_Engagements, 0) AS All_Engagements,\n",
    "                        COALESCE(round(Organic_WeightedEngagements + Paid_WeightedEngagements,2), 0) AS All_WeightedEngagements,\n",
    "                        COALESCE(Organic_Shares + Paid_Shares, 0) AS All_Shares,\n",
    "                        COALESCE(Organic_Comments + Paid_Comments, 0) AS All_Comments,\n",
    "                        COALESCE(Organic_Likes + Paid_Likes, 0) AS All_Likes,\n",
    "                        COALESCE(Organic_Clicks + Paid_Clicks, 0) AS All_Clicks\n",
    "                    FROM datif_pz_uk_{env}.03_transformed.linkedin_organic_daily_view AS lo\n",
    "                    FULL OUTER JOIN datif_pz_uk_{env}.03_transformed.linkedin_paid_daily AS lp\n",
    "                        ON TRIM(LOWER(lo.PostContent)) = TRIM(LOWER(lp.Text))\n",
    "                        AND CAST(lo.Date AS DATE) = CAST(lp.Date AS DATE)\n",
    "                    \"\"\")"
   ]
  },
  {
   "cell_type": "markdown",
   "metadata": {
    "application/vnd.databricks.v1+cell": {
     "cellMetadata": {
      "byteLimit": 2048000,
      "rowLimit": 10000
     },
     "inputWidgets": {},
     "nuid": "d5c538df-d1cd-409a-8b0a-adc08bfad4ac",
     "showTitle": false,
     "tableResultSettingsMap": {},
     "title": ""
    }
   },
   "source": [
    "### Total"
   ]
  },
  {
   "cell_type": "code",
   "execution_count": 0,
   "metadata": {
    "application/vnd.databricks.v1+cell": {
     "cellMetadata": {
      "byteLimit": 2048000,
      "rowLimit": 10000
     },
     "inputWidgets": {},
     "nuid": "d2bd6de2-ddb6-4c5c-a437-88119ff6c338",
     "showTitle": false,
     "tableResultSettingsMap": {},
     "title": ""
    }
   },
   "outputs": [],
   "source": [
    "spark.sql(f\"\"\"\n",
    "CREATE OR REPLACE VIEW datif_pz_uk_{env}.03_transformed.linkedin_paid_organic_total AS\n",
    "SELECT\n",
    "    CASE\n",
    "        WHEN lo.PostID IS NULL THEN \"Paid\"\n",
    "        WHEN lp.ID IS NULL THEN \"Organic\"\n",
    "        ELSE \"Organic&Paid\"\n",
    "    END AS Source,\n",
    "    COALESCE(lo.PostID, 'Existiert nicht') AS OrganicID,\n",
    "    COALESCE(lo.CreatedDate, 'Existiert nicht') AS Organic_CreatedDate,\n",
    "    COALESCE(lp.CreatedDate, 'Existiert nicht') AS Paid_CreatedDate,\n",
    "    COALESCE(lo.PostContent, lp.Text, 'Existiert nicht') AS Title,\n",
    "    COALESCE(lo.PostURL, 'Existiert nicht') AS URL,\n",
    "    COALESCE(lo.ContentType, 'Existiert nicht') AS PostType,\n",
    "\n",
    "\n",
    "\n",
    "    -- Organisch\n",
    "    COALESCE(lo.TotalShares, 0) AS Organic_TotalShares,\n",
    "    COALESCE(lo.TotalComments, 0) AS Organic_TotalComments,\n",
    "    COALESCE(lo.TotalLikes, 0) AS Organic_TotalLikes,\n",
    "    COALESCE(lo.TotalClicks, 0) AS Organic_TotalClicks,\n",
    "    COALESCE(lo.TotalImpressions, 0) AS Organic_TotalImpressions,\n",
    "    COALESCE(lo.TotalEngagements, 0) AS Organic_TotalEngagements,\n",
    "    COALESCE(ROUND(lo.TotalWeightedEngagements, 2), 0) AS Organic_TotalWeightedEngagements,\n",
    "    COALESCE(lo.EngagementRateInPercent, 0) AS Organic_TotalEngagementRateInPercent,   \n",
    "\n",
    "\n",
    "    -- Paid\n",
    "    COALESCE(lp.ID, 'Existiert nicht') AS AdID,\n",
    "    COALESCE(lp.CampaignName, 'Existiert nicht') AS CampaignName,\n",
    "    COALESCE(lp.AdName, 'Existiert nicht') AS AdName,\n",
    "    COALESCE(ROUND(lp.TotalSpend, 2), 0) AS TotalSpend,\n",
    "    COALESCE(lp.TotalImpressions, 0) AS Paid_TotalImpressions,\n",
    "    COALESCE(lp.TotalEngagements, 0) AS Paid_TotalEngagements,\n",
    "    COALESCE(ROUND(lp.TotalWeightedEngagements, 2), 0) AS Paid_TotalWeightedEngagements,\n",
    "    COALESCE(lp.EngagementRatings, 0) AS Paid_TotalEngagementRating,\n",
    "    COALESCE(lp.TotalPostShares, 0) AS Paid_TotalShares,\n",
    "    COALESCE(lp.TotalPostComments, 0) AS Paid_TotalComments,\n",
    "    COALESCE(lp.TotalLikes, 0) AS Paid_TotalLikes,\n",
    "    COALESCE(lp.TotalClicks, 0) AS Paid_TotalClicks,\n",
    "    COALESCE(lp.CPM, 0) AS CPM,\n",
    "    COALESCE(lp.CPC, 0) AS CPC,\n",
    "    COALESCE(lp.CTR, 0) AS CTR,\n",
    "    COALESCE(lp.CPV, 0) AS CPV,\n",
    "    COALESCE(lp.VideoViewRate, 0) AS VideoViewRate,\n",
    "\n",
    "       -- Gesamtergebnisse\n",
    "    COALESCE(Organic_TotalImpressions + Paid_TotalImpressions, 0) AS All_TotalImpressions,\n",
    "    COALESCE(Organic_TotalEngagements + Paid_TotalEngagements, 0) AS All_TotalEngagements,\n",
    "    COALESCE(ROUND(Organic_TotalWeightedEngagements + Paid_TotalWeightedEngagements, 2), 0) AS All_TotalWeightedEngagements,\n",
    "    COALESCE(Organic_TotalEngagementRateInPercent + Paid_TotalEngagementRating, 0) AS All_TotalEngagementRateInPercent,\n",
    "    COALESCE(Organic_TotalShares + Paid_TotalShares, 0) AS All_TotalShares,\n",
    "    COALESCE(Organic_TotalComments + Paid_TotalComments, 0) AS All_TotalComments,\n",
    "    COALESCE(Organic_TotalLikes + Paid_TotalLikes, 0) AS All_TotalLikes,\n",
    "    COALESCE(Organic_TotalClicks + Paid_TotalClicks, 0) AS All_TotalClicks,\n",
    "\n",
    "    -- Neue Themen-Spalten aus linkedin_organic_total\n",
    "    COALESCE(lo.Themenbereich1, 'Existiert nicht') AS Themenbereich1,\n",
    "    COALESCE(lo.Themenbereich2, 'Existiert nicht') AS Themenbereich2,\n",
    "    COALESCE(lo.Themenbereich3, 'Existiert nicht') AS Themenbereich3,\n",
    "    COALESCE(lo.Themenbereich1_Conf, 0) AS Themenbereich1_Conf,\n",
    "    COALESCE(lo.Themenbereich2_Conf, 0) AS Themenbereich2_Conf,\n",
    "    COALESCE(lo.Themenbereich3_Conf, 0) AS Themenbereich3_Conf,\n",
    "    COALESCE(lo.Strategie2030, 0.0) AS Strategie2030,\n",
    "    COALESCE(lo.FinanzierungEnergiewende, 0.0) AS FinanzierungEnergiewende,\n",
    "    COALESCE(lo.EMobilitaet, 0.0) AS EMobilitaet,\n",
    "    COALESCE(lo.VernetzeEnergiewelt, 0.0) AS VernetzeEnergiewelt,\n",
    "    COALESCE(lo.TransformationGasnetzeWasserstoff, 0.0) AS TransformationGasnetzeWasserstoff,\n",
    "    COALESCE(lo.ErneuerbareEnergien, 0.0) AS ErneuerbareEnergien,\n",
    "    COALESCE(lo.DisponibleErzeugung, 0.0) AS DisponibleErzeugung,\n",
    "    COALESCE(lo.IntelligenteStromnetze, 0.0) AS IntelligenteStromnetze,\n",
    "    COALESCE(lo.EnBWAlsArbeitgeberIn, 0.0) AS EnBWAlsArbeitgeberIn,\n",
    "    COALESCE(lo.NachhaltigkeitCSRESG, 0.0) AS NachhaltigkeitCSRESG,\n",
    "    COALESCE(lo.MarkeEnBW, 0.0) AS MarkeEnBW,\n",
    "    COALESCE(lo.CLevelErwaehnungen, 'Existiert nicht') AS CLevelErwaehnungen\n",
    "FROM datif_pz_uk_{env}.03_transformed.linkedin_organic_total AS lo\n",
    "FULL OUTER JOIN datif_pz_uk_{env}.03_transformed.linkedin_paid_total AS lp\n",
    "    ON TRIM(LOWER(lo.PostContent)) = TRIM(LOWER(lp.Text))\n",
    "\"\"\")"
   ]
  },
  {
   "cell_type": "markdown",
   "metadata": {
    "application/vnd.databricks.v1+cell": {
     "cellMetadata": {
      "byteLimit": 2048000,
      "rowLimit": 10000
     },
     "inputWidgets": {},
     "nuid": "1009e00d-def4-4278-8117-2f0c8ac41767",
     "showTitle": false,
     "tableResultSettingsMap": {},
     "title": ""
    }
   },
   "source": []
  }
 ],
 "metadata": {
  "application/vnd.databricks.v1+notebook": {
   "computePreferences": null,
   "dashboards": [],
   "environmentMetadata": {
    "base_environment": "",
    "environment_version": "2"
   },
   "inputWidgetPreferences": null,
   "language": "python",
   "notebookMetadata": {
    "pythonIndentUnit": 4
   },
   "notebookName": "nb_transformed_paid_organic_linkedIn",
   "widgets": {}
  },
  "language_info": {
   "name": "python"
  }
 },
 "nbformat": 4,
 "nbformat_minor": 0
}
