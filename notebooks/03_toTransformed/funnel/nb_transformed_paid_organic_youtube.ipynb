{
 "cells": [
  {
   "cell_type": "markdown",
   "metadata": {
    "application/vnd.databricks.v1+cell": {
     "cellMetadata": {
      "byteLimit": 2048000,
      "rowLimit": 10000
     },
     "inputWidgets": {},
     "nuid": "0c164d65-6abe-4071-b14d-50e4dbcb36fe",
     "showTitle": false,
     "tableResultSettingsMap": {},
     "title": ""
    }
   },
   "source": [
    "# UK - Anbindung Paid Themen \n",
    "\n",
    "* Um was handelt es sich hier  (Kurzbeschreibung Inhalt):\n",
    "- Die Paid/Organic Data Transformatation von Youtube\n",
    "\n",
    "\n",
    "---\n",
    "* QUELLEN:  \n",
    "- datif_pz_uk_{}.03_transformed.youtube_paid_daily\n",
    "- datif_pz_uk_{}.03_transformed.youtube_paid_total\n",
    "\n",
    "\n",
    "* ZIEL:  \n",
    "- datif_pz_uk_{}.03_transformed.youtube_paid_organic_daily\n",
    "- datif_pz_uk_{}.03_transformed.youtube_paid_organic_total\n",
    "\n",
    "---\n",
    "* Versionen (aktuelle immer oben):\n",
    "- 16.09.2025 Max Mustermann: init\n"
   ]
  },
  {
   "cell_type": "markdown",
   "metadata": {
    "application/vnd.databricks.v1+cell": {
     "cellMetadata": {
      "byteLimit": 2048000,
      "rowLimit": 10000
     },
     "inputWidgets": {},
     "nuid": "5f079c03-4a25-4a1f-a8c8-887b615445a6",
     "showTitle": false,
     "tableResultSettingsMap": {},
     "title": ""
    }
   },
   "source": [
    "\n",
    "# 1. Initialnotebooks & Libraries"
   ]
  },
  {
   "cell_type": "code",
   "execution_count": 0,
   "metadata": {
    "application/vnd.databricks.v1+cell": {
     "cellMetadata": {
      "byteLimit": 2048000,
      "rowLimit": 10000
     },
     "inputWidgets": {},
     "nuid": "db6e8fad-11fa-494c-a538-10d030679e50",
     "showTitle": false,
     "tableResultSettingsMap": {},
     "title": ""
    }
   },
   "outputs": [],
   "source": [
    "%run ../../common/nb_init"
   ]
  },
  {
   "cell_type": "code",
   "execution_count": 0,
   "metadata": {
    "application/vnd.databricks.v1+cell": {
     "cellMetadata": {
      "byteLimit": 2048000,
      "rowLimit": 10000
     },
     "inputWidgets": {},
     "nuid": "dfdd42d6-93f1-4a67-8703-816d26eb7f08",
     "showTitle": false,
     "tableResultSettingsMap": {},
     "title": ""
    }
   },
   "outputs": [],
   "source": [
    "target_schema_name = \"03_transformed\"\n",
    "target_path = \"funnel\""
   ]
  },
  {
   "cell_type": "code",
   "execution_count": 0,
   "metadata": {
    "application/vnd.databricks.v1+cell": {
     "cellMetadata": {
      "byteLimit": 2048000,
      "rowLimit": 10000
     },
     "inputWidgets": {},
     "nuid": "8f8c02c0-b695-4fc1-8633-8ff9b922c100",
     "showTitle": false,
     "tableResultSettingsMap": {},
     "title": ""
    }
   },
   "outputs": [],
   "source": [
    "from pyspark.sql.functions import col, when"
   ]
  },
  {
   "cell_type": "markdown",
   "metadata": {
    "application/vnd.databricks.v1+cell": {
     "cellMetadata": {
      "byteLimit": 2048000,
      "rowLimit": 10000
     },
     "inputWidgets": {},
     "nuid": "0b5be8cf-7562-4940-a5bd-ce50d9dc930e",
     "showTitle": false,
     "tableResultSettingsMap": {},
     "title": ""
    }
   },
   "source": [
    "## 03-transformed"
   ]
  },
  {
   "cell_type": "markdown",
   "metadata": {
    "application/vnd.databricks.v1+cell": {
     "cellMetadata": {
      "byteLimit": 2048000,
      "rowLimit": 10000
     },
     "inputWidgets": {},
     "nuid": "7742d2cb-987b-4e99-a316-5574b98f9713",
     "showTitle": false,
     "tableResultSettingsMap": {},
     "title": ""
    }
   },
   "source": [
    "### Youtube Paid Organic Daily"
   ]
  },
  {
   "cell_type": "code",
   "execution_count": 0,
   "metadata": {
    "application/vnd.databricks.v1+cell": {
     "cellMetadata": {
      "byteLimit": 2048000,
      "rowLimit": 10000
     },
     "inputWidgets": {},
     "nuid": "c04c72a8-8487-4def-8724-5a6162d82970",
     "showTitle": false,
     "tableResultSettingsMap": {},
     "title": ""
    }
   },
   "outputs": [],
   "source": [
    "spark.sql(\n",
    "    f\"\"\"\n",
    "    CREATE OR REPLACE VIEW datif_pz_uk_{env}.03_transformed.youtube_paid_organic_daily AS\n",
    "    SELECT\n",
    "        CASE\n",
    "            WHEN yo.VideoID IS NULL THEN 'Paid'\n",
    "            WHEN yp.OrganicID IS NULL THEN 'Organic'\n",
    "            ELSE 'Organic&Paid'\n",
    "        END AS Source,\n",
    "        COALESCE(yo.Date, yp.Date, 'Existiert nicht') AS Date,\n",
    "        COALESCE(CAST(yo.CreatedDate AS STRING), 'Existiert nicht') AS CreatedDate,\n",
    "        COALESCE(yo.VideoID, 'Existiert nicht') AS OrganicID,\n",
    "        COALESCE(yo.VideoTitle, 'Existiert nicht') AS VideoTitle,\n",
    "        COALESCE(yo.VideoURL, 'Existiert nicht') AS URL,\n",
    "        COALESCE(yo.Tags, 'Existiert nicht') AS Tags,\n",
    "        COALESCE(yo.VideoDescription, 'Existiert nicht') AS VideoDescription,\n",
    "        COALESCE(CAST(yo.Views AS STRING), 0) AS All_Views,\n",
    "        COALESCE(CAST(yo.Engagements AS STRING), 0) AS All_Engagements,\n",
    "        COALESCE(CAST(yo.WeightedEngagements AS STRING), 0) AS All_WeightedEngagements,\n",
    "        COALESCE(CAST(yo.Likes AS STRING), 0) AS All_Likes,\n",
    "        COALESCE(CAST(yo.Dislikes AS STRING), 0) AS All_Dislikes,\n",
    "        COALESCE(CAST(yo.Comments AS STRING), 0) AS All_Comments,\n",
    "        COALESCE(CAST(yo.Shares AS STRING), 0) AS All_Shares,\n",
    "        COALESCE(CAST(yo.TotalAverageViewDuration AS STRING), 0) AS All_AverageViewDuration,\n",
    "\n",
    "        COALESCE(yp.AdID, 'Existiert nicht') AS AdID,\n",
    "        COALESCE(yp.CampaignName, 'Existiert nicht') AS CampaignName,\n",
    "        COALESCE(yp.AdSetName, 'Existiert nicht') AS AdSetName,\n",
    "        COALESCE(yp.AdName, 'Existiert nicht') AS AdName,\n",
    "        COALESCE(CAST(yp.Amount_Spend AS STRING), 0) AS Amount_Spend,\n",
    "        COALESCE(yp.Video_View, 0) AS Paid_VideoView,\n",
    "        COALESCE(CAST(yp.Impressions AS STRING), 0) AS Paid_Impressions,\n",
    "        COALESCE(CAST(yp.Engagements AS STRING), 0) AS Paid_Engagements,\n",
    "\n",
    "        CASE\n",
    "            WHEN (yo.VideoID IS NOT NULL AND yp.OrganicID IS NOT NULL) \n",
    "                 AND (CAST(All_Views AS BIGINT) - COALESCE(Paid_VideoView, 0)) > 0\n",
    "            THEN CAST(All_Views AS BIGINT) - COALESCE(Paid_VideoView, 0)\n",
    "            ELSE CAST(All_Views AS BIGINT)\n",
    "        END AS Organic_Views,\n",
    "        CASE\n",
    "            WHEN (yo.VideoID IS NOT NULL AND yp.OrganicID IS NOT NULL) \n",
    "                 AND (CAST(All_Engagements AS BIGINT) - COALESCE(Paid_Engagements, 0)) > 0\n",
    "            THEN CAST(All_Engagements AS BIGINT) - COALESCE(Paid_Engagements, 0)\n",
    "            ELSE CAST(All_Engagements AS BIGINT)\n",
    "        END AS Organic_Engagements,\n",
    "    COALESCE(CAST(yo.WeightedEngagements AS STRING), 0) AS Organic_WeightedEngagements\n",
    "    FROM datif_pz_uk_{env}.03_transformed.youtube_organic_post_daily_view AS yo\n",
    "    FULL OUTER JOIN datif_pz_uk_{env}.03_transformed.youtube_paid_daily AS yp\n",
    "        ON yo.VideoID = yp.OrganicID\n",
    "        AND yo.Date = yp.Date\n",
    "    \"\"\"\n",
    ")\n"
   ]
  },
  {
   "cell_type": "markdown",
   "metadata": {
    "application/vnd.databricks.v1+cell": {
     "cellMetadata": {
      "byteLimit": 2048000,
      "rowLimit": 10000
     },
     "inputWidgets": {},
     "nuid": "923a8086-a225-4d73-9e99-6df0e00c9aad",
     "showTitle": false,
     "tableResultSettingsMap": {},
     "title": ""
    }
   },
   "source": [
    "### Youtube Paid Organic Total"
   ]
  },
  {
   "cell_type": "code",
   "execution_count": 0,
   "metadata": {
    "application/vnd.databricks.v1+cell": {
     "cellMetadata": {
      "byteLimit": 2048000,
      "rowLimit": 10000
     },
     "inputWidgets": {},
     "nuid": "a943a9ef-b693-45a7-bafb-25bcfdcc95f0",
     "showTitle": false,
     "tableResultSettingsMap": {},
     "title": ""
    }
   },
   "outputs": [],
   "source": [
    "spark.sql(f\"\"\"\n",
    "CREATE OR REPLACE VIEW datif_pz_uk_{env}.03_transformed.youtube_paid_organic_total AS\n",
    "SELECT\n",
    "    -- =============================\n",
    "    -- 1. Allgemeine Metadaten\n",
    "    -- =============================\n",
    "    CASE\n",
    "        WHEN yo.VideoID IS NULL THEN 'Paid'\n",
    "        WHEN yp.OrganicID IS NULL THEN 'Organic'\n",
    "        ELSE 'Organic&Paid'\n",
    "    END AS Source,\n",
    "    COALESCE(yo.VideoID, 'Existiert nicht') AS OrganicID,\n",
    "    COALESCE(yo.CreatedDate, 'Existiert nicht') AS Organic_CreatedDate,\n",
    "    COALESCE(yp.CreatedDate, 'Existiert nicht') AS Paid_CreatedDate,\n",
    "    COALESCE(yo.VideoTitle, 'Existiert nicht') AS VideoTitle,\n",
    "    COALESCE(yo.VideoURL, 'Existiert nicht') AS VideoURL,\n",
    "    COALESCE(yo.VideoDescription, 'Existiert nicht') AS VideoDescription,\n",
    "    COALESCE(yo.Tags, 'Existiert nicht') AS Tags,\n",
    "    COALESCE(yo.Owner, 'Existiert nicht') AS Owner,\n",
    "\n",
    "    -- =============================\n",
    "    -- 2. Kombinierte KPIs (All_)\n",
    "    -- =============================\n",
    "    COALESCE(yo.TotalViews, 0) AS All_TotalViews,\n",
    "    COALESCE(yo.TotalEngagements, 0) AS All_TotalEngagements,\n",
    "    COALESCE(yo.TotalWeightedEngagements, 0) AS All_TotalWeightedEngagements,\n",
    "    COALESCE(yo.TotalLikes, 0) AS All_TotalLikes,\n",
    "    COALESCE(yo.TotalDislikes, 0) AS All_TotalDislikes,\n",
    "    COALESCE(yo.TotalComments, 0) AS All_TotalComments,\n",
    "    COALESCE(yo.TotalShares, 0) AS All_TotalShares,\n",
    "    COALESCE(yo.TotalAverageViewDuration, 0) AS All_AverageViewDuration,\n",
    "\n",
    " \n",
    "\n",
    "    -- =============================\n",
    "    -- 3. Paid-Kennzahlen\n",
    "    -- =============================\n",
    "    COALESCE(yp.ID, 'Existiert nicht') AS AdID,\n",
    "    COALESCE(yp.CampaignName, 'Existiert nicht') AS CampaignName,\n",
    "    COALESCE(yp.AdName, 'Existiert nicht') AS AdName,\n",
    "    COALESCE(ROUND(yp.TotalSpend, 2), 0) AS TotalSpend,\n",
    "    COALESCE(yp.TotalVideoView, 0) AS Paid_TotalViews,\n",
    "    COALESCE(yp.TotalImpressions, 0) AS Paid_TotalImpressions,\n",
    "    COALESCE(yp.TotalEngagement, 0) AS Paid_TotalEngagements,\n",
    "    COALESCE(yp.CPM, 0) AS CPM,\n",
    "    COALESCE(yp.CPC, 0) AS CPC,\n",
    "    COALESCE(yp.CTR, 0) AS CTR,\n",
    "    COALESCE(yp.CPV, 0) AS CPV,\n",
    "    COALESCE(yp.VideoViewRate, 0) AS VideoViewRate,\n",
    "    COALESCE(yp.VTR, 0) AS VTR,\n",
    "\n",
    "    -- =============================\n",
    "    -- 4. Neue Themen-Spalten (aus youtube_organic_post_total)\n",
    "    -- =============================\n",
    "    COALESCE(yo.Themenbereich1, 'Existiert nicht') AS Themenbereich1,\n",
    "    COALESCE(yo.Themenbereich2, 'Existiert nicht') AS Themenbereich2,\n",
    "    COALESCE(yo.Themenbereich3, 'Existiert nicht') AS Themenbereich3,\n",
    "    COALESCE(yo.Themenbereich1_Conf, 0) AS Themenbereich1_Conf,\n",
    "    COALESCE(yo.Themenbereich2_Conf, 0) AS Themenbereich2_Conf,\n",
    "    COALESCE(yo.Themenbereich3_Conf, 0) AS Themenbereich3_Conf,\n",
    "    COALESCE(yo.Strategie2030, 0.0) AS Strategie2030,\n",
    "    COALESCE(yo.FinanzierungEnergiewende, 0.0) AS FinanzierungEnergiewende,\n",
    "    COALESCE(yo.EMobilitaet, 0.0) AS EMobilitaet,\n",
    "    COALESCE(yo.VernetzeEnergiewelt, 0.0) AS VernetzeEnergiewelt,\n",
    "    COALESCE(yo.TransformationGasnetzeWasserstoff, 0.0) AS TransformationGasnetzeWasserstoff,\n",
    "    COALESCE(yo.ErneuerbareEnergien, 0.0) AS ErneuerbareEnergien,\n",
    "    COALESCE(yo.DisponibleErzeugung, 0.0) AS DisponibleErzeugung,\n",
    "    COALESCE(yo.IntelligenteStromnetze, 0.0) AS IntelligenteStromnetze,\n",
    "    COALESCE(yo.EnBWAlsArbeitgeberIn, 0.0) AS EnBWAlsArbeitgeberIn,\n",
    "    COALESCE(yo.NachhaltigkeitCSRESG, 0.0) AS NachhaltigkeitCSRESG,\n",
    "    COALESCE(yo.MarkeEnBW, 0.0) AS MarkeEnBW,\n",
    "    COALESCE(yo.CLevelErwaehnungen, 0) AS CLevelErwaehnungen,\n",
    "\n",
    "       -- =============================\n",
    "    -- 5. Organische Kennzahlen\n",
    "    -- =============================\n",
    "    CASE\n",
    "        WHEN (yo.VideoID IS NOT NULL AND yp.OrganicID IS NOT NULL) \n",
    "             AND (CAST(All_TotalViews AS BIGINT) - COALESCE(Paid_TotalViews, 0)) > 0\n",
    "        THEN CAST(All_TotalViews AS BIGINT) - COALESCE(Paid_TotalViews, 0)\n",
    "        ELSE CAST(All_TotalViews AS BIGINT)\n",
    "    END AS Organic_TotalViews,\n",
    "\n",
    "    CASE\n",
    "        WHEN (yo.VideoID IS NOT NULL AND yp.OrganicID IS NOT NULL) \n",
    "             AND (CAST(All_TotalEngagements AS BIGINT) - COALESCE(Paid_TotalEngagements, 0)) > 0\n",
    "        THEN CAST(All_TotalEngagements AS BIGINT) - COALESCE(Paid_TotalEngagements, 0)\n",
    "        ELSE CAST(All_TotalEngagements AS BIGINT)\n",
    "    END AS Organic_TotalEngagements\n",
    "\n",
    "    -- COALESCE(yo.TotalWeightedEngagements, 0) AS Organic_TotalWeightedEngagements,\n",
    "    -- COALESCE(yo.EngagementRateInPercent, 0) AS Organic_TotalEngagementRateInPercent,\n",
    "    -- COALESCE(yo.TotalLikes, 0) AS Organic_TotalLikes,\n",
    "    -- COALESCE(yo.TotalDislikes, 0) AS Organic_TotalDislikes,\n",
    "    -- COALESCE(yo.TotalComments, 0) AS Organic_TotalComments,\n",
    "    -- COALESCE(yo.TotalShares, 0) AS Organic_TotalShares,\n",
    "    -- COALESCE(yo.TotalAverageViewDuration, 0) AS Organic_AverageViewDuration\n",
    "\n",
    "FROM datif_pz_uk_{env}.03_transformed.youtube_organic_post_total AS yo\n",
    "FULL OUTER JOIN datif_pz_uk_{env}.03_transformed.youtube_paid_total AS yp\n",
    "    ON yo.VideoID = yp.OrganicID\n",
    "\"\"\")\n"
   ]
  }
 ],
 "metadata": {
  "application/vnd.databricks.v1+notebook": {
   "computePreferences": null,
   "dashboards": [],
   "environmentMetadata": {
    "base_environment": "",
    "environment_version": "2"
   },
   "inputWidgetPreferences": null,
   "language": "python",
   "notebookMetadata": {
    "pythonIndentUnit": 4
   },
   "notebookName": "nb_transformed_paid_organic_youtube",
   "widgets": {}
  },
  "language_info": {
   "name": "python"
  }
 },
 "nbformat": 4,
 "nbformat_minor": 0
}
