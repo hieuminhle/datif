{
 "cells": [
  {
   "cell_type": "markdown",
   "metadata": {
    "application/vnd.databricks.v1+cell": {
     "cellMetadata": {
      "byteLimit": 2048000,
      "rowLimit": 10000
     },
     "inputWidgets": {},
     "nuid": "0c164d65-6abe-4071-b14d-50e4dbcb36fe",
     "showTitle": false,
     "tableResultSettingsMap": {},
     "title": ""
    }
   },
   "source": [
    "# UK - Anbindung Paid Themen\n",
    "\n",
    "* Um was handelt es sich hier  (Kurzbeschreibung Inhalt):\n",
    "- Die Paid Data Transformatation von Meta\n",
    "\n",
    "\n",
    "---\n",
    "* QUELLEN:  \n",
    "- datif_pz_uk_{}.03_transformed.meta_paid_daily\n",
    "- datif_pz_uk_{}.03_transformed.meta_paid_total\n",
    "\n",
    "* ZIEL:  \n",
    "- datif_pz_uk_{}.03_transformed.meta_paid_organic_daily\n",
    "- datif_pz_uk_{}.03_transformed.meta_paid_organic_total\n",
    "\n",
    "---\n",
    "* Versionen (aktuelle immer oben):\n",
    "- 18.09.2025 Max Mustermann: init"
   ]
  },
  {
   "cell_type": "markdown",
   "metadata": {
    "application/vnd.databricks.v1+cell": {
     "cellMetadata": {
      "byteLimit": 2048000,
      "rowLimit": 10000
     },
     "inputWidgets": {},
     "nuid": "5f079c03-4a25-4a1f-a8c8-887b615445a6",
     "showTitle": false,
     "tableResultSettingsMap": {},
     "title": ""
    }
   },
   "source": [
    "\n",
    "# 1. Initialnotebooks & Libraries"
   ]
  },
  {
   "cell_type": "code",
   "execution_count": 0,
   "metadata": {
    "application/vnd.databricks.v1+cell": {
     "cellMetadata": {
      "byteLimit": 2048000,
      "rowLimit": 10000
     },
     "inputWidgets": {},
     "nuid": "db6e8fad-11fa-494c-a538-10d030679e50",
     "showTitle": false,
     "tableResultSettingsMap": {},
     "title": ""
    }
   },
   "outputs": [],
   "source": [
    "%run ../../common/nb_init"
   ]
  },
  {
   "cell_type": "markdown",
   "metadata": {
    "application/vnd.databricks.v1+cell": {
     "cellMetadata": {
      "byteLimit": 2048000,
      "rowLimit": 10000
     },
     "inputWidgets": {},
     "nuid": "0b5be8cf-7562-4940-a5bd-ce50d9dc930e",
     "showTitle": false,
     "tableResultSettingsMap": {},
     "title": ""
    }
   },
   "source": [
    "## 03-transformed"
   ]
  },
  {
   "cell_type": "code",
   "execution_count": 0,
   "metadata": {
    "application/vnd.databricks.v1+cell": {
     "cellMetadata": {
      "byteLimit": 2048000,
      "rowLimit": 10000
     },
     "inputWidgets": {},
     "nuid": "5b3f35f6-5b36-405c-8261-fb41c002943c",
     "showTitle": false,
     "tableResultSettingsMap": {},
     "title": ""
    }
   },
   "outputs": [],
   "source": [
    "target_schema_name = \"03_transformed\"\n",
    "target_path = \"funnel\""
   ]
  },
  {
   "cell_type": "markdown",
   "metadata": {
    "application/vnd.databricks.v1+cell": {
     "cellMetadata": {
      "byteLimit": 2048000,
      "rowLimit": 10000
     },
     "inputWidgets": {},
     "nuid": "570d289d-0e7b-4b75-9c80-ffea1c0f06a8",
     "showTitle": false,
     "tableResultSettingsMap": {},
     "title": ""
    }
   },
   "source": [
    "### Meta daily"
   ]
  },
  {
   "cell_type": "code",
   "execution_count": 0,
   "metadata": {
    "application/vnd.databricks.v1+cell": {
     "cellMetadata": {
      "byteLimit": 2048000,
      "rowLimit": 10000
     },
     "inputWidgets": {},
     "nuid": "3fd33655-fb9f-40e4-b05f-0dc29fa52339",
     "showTitle": false,
     "tableResultSettingsMap": {},
     "title": ""
    }
   },
   "outputs": [],
   "source": [
    "spark.sql(f\"\"\"\n",
    "    CREATE OR REPLACE VIEW datif_pz_uk_{env}.03_transformed.meta_paid_organic_daily AS\n",
    "    SELECT\n",
    "        CASE\n",
    "                WHEN io.PostID IS NULL and fo.PostID IS NULL THEN 'Paid'\n",
    "                WHEN mp.AdID IS NULL THEN 'Organic'\n",
    "                ELSE 'Organic&Paid'\n",
    "            END AS Source,\n",
    "        CASE\n",
    "                WHEN io.PostID IS NOT NULL THEN 'Instagram'\n",
    "                WHEN fo.PostID IS NOT NULL THEN 'Facebook'\n",
    "                ELSE 'Meta'\n",
    "            END AS Plattform,\n",
    "        COALESCE(io.Date, fo.Date, mp.Date, 'Existiert nicht') AS Date,\n",
    "        COALESCE(io.CreatedDate, fo.CreatedDate, 'Existiert nicht') AS CreatedDate,\n",
    "        COALESCE(io.PostID, fo.PostID,'Existiert nicht') AS OrganicID,\n",
    "        COALESCE(io.PostURL, fo.PostURL, 'Existiert nicht') AS URL,\n",
    "        COALESCE(io.PostType, fo.PostType, 'Existiert nicht') AS PostType,\n",
    "        COALESCE(\n",
    "            io.TotalImpressions,\n",
    "            CASE\n",
    "                WHEN fo.PostTotalImpressionsLifetime IS NOT NULL \n",
    "                    AND mp.Impressions IS NOT NULL THEN fo.PostTotalImpressionsLifetime - mp.Impressions\n",
    "                WHEN fo.PostTotalImpressionsLifetime IS NOT NULL THEN fo.PostTotalImpressionsLifetime\n",
    "                ELSE 0\n",
    "            END\n",
    "        ) AS Organic_Impressions,\n",
    "\n",
    "        -- Organic Engagements\n",
    "        COALESCE(\n",
    "            io.Engagement,\n",
    "            Case\n",
    "                WHEN fo.Engagement IS NOT NULL\n",
    "                    AND mp.Engagements IS NOT NULL THEN fo.Engagement - mp.Engagements\n",
    "                WHEN fo.Engagement IS NOT NULL THEN fo.Engagement\n",
    "                ELSE 0\n",
    "            END\n",
    "        ) AS Organic_Engagements,\n",
    "\n",
    "        -- Organic Weighted Engagements\n",
    "        COALESCE(\n",
    "            round(io.WeightedEngagements,2),\n",
    "            CASE\n",
    "                WHEN fo.WeightedEngagements IS NOT NULL\n",
    "                    AND mp.WeightedEngagements IS NOT NULL THEN round(fo.WeightedEngagements - mp.WeightedEngagements,2)\n",
    "                WHEN fo.WeightedEngagements IS NOT NULL THEN round(fo.WeightedEngagements,2)\n",
    "                ELSE 0\n",
    "            END\n",
    "        ) AS Organic_WeightedEngagements,\n",
    "        \n",
    "        -- Organic Shares\n",
    "        COALESCE(\n",
    "            io.TotalSharesDiff,\n",
    "            CASE\n",
    "                WHEN fo.TotalPostSharesDiff IS NOT NULL\n",
    "                     AND mp.Post_Shares IS NOT NULL THEN fo.TotalPostSharesDiff - mp.Post_Shares\n",
    "                WHEN fo.TotalPostSharesDiff IS NOT NULL THEN fo.TotalPostSharesDiff\n",
    "                ELSE 0\n",
    "            END\n",
    "        ) AS Organic_Shares,\n",
    "\n",
    "        -- Organic Clicks\n",
    "        COALESCE(\n",
    "            io.TotalInteractionsDiff,\n",
    "            CASE\n",
    "                WHEN fo.LinkClicksLifetimeDiff IS NOT NULL\n",
    "                     AND mp.Link_Clicks IS NOT NULL THEN fo.LinkClicksLifetimeDiff - mp.Link_Clicks\n",
    "                WHEN fo.LinkClicksLifetimeDiff IS NOT NULL THEN fo.LinkClicksLifetimeDiff\n",
    "                ELSE 0\n",
    "            END\n",
    "        ) AS Organic_Clicks,\n",
    "\n",
    "        -- Organic Comments\n",
    "        COALESCE(\n",
    "            io.TotalCommentsDiff,\n",
    "            CASE\n",
    "                WHEN fo.TotalPostCommentsDiff IS NOT NULL\n",
    "                     AND mp.Comments IS NOT NULL THEN fo.TotalPostCommentsDiff - mp.Comments\n",
    "                WHEN fo.TotalPostCommentsDiff IS NOT NULL THEN fo.TotalPostCommentsDiff\n",
    "                ELSE 0\n",
    "            END\n",
    "        ) AS Organic_Comments,\n",
    "\n",
    "        -- Organic Reactions\n",
    "        COALESCE(\n",
    "            io.TotalLikesDiff,\n",
    "            CASE\n",
    "                WHEN fo.TotalReactionsDiff IS NOT NULL\n",
    "                     AND mp.Reactions IS NOT NULL THEN fo.TotalReactionsDiff - mp.Reactions\n",
    "                WHEN fo.TotalReactionsDiff IS NOT NULL THEN fo.TotalReactionsDiff\n",
    "                ELSE 0\n",
    "            END\n",
    "        ) AS Organic_Reactions,\n",
    "        COALESCE(round(io.TotalSavedDiff,2), 0) AS Organic_Saved,\n",
    "        COALESCE(mp.AdID, 'Existiert nicht') AS AdID,\n",
    "        COALESCE(mp.CampaignName, 'Existiert nicht') AS CampaignName,\n",
    "        COALESCE(mp.AdSetName, 'Existiert nicht') AS AdSetName,\n",
    "        COALESCE(mp.AdName, 'Existiert nicht') AS AdName,\n",
    "        COALESCE(round(mp.Amount_Spend,2), 0) AS Amount_Spend,\n",
    "        COALESCE(mp.Impressions, 0) AS Paid_Impressions,\n",
    "        COALESCE(mp.Engagements, 0) AS Paid_Engagements,\n",
    "        COALESCE(round(mp.WeightedEngagements,2), 0) AS Paid_WeightedEngagements,\n",
    "        COALESCE(round(mp.Post_Shares,2), 0) AS Paid_Shares,\n",
    "        COALESCE(round(mp.Link_Clicks,2), 0) AS Paid_Clicks,\n",
    "        COALESCE(round(mp.Comments,2), 0) AS Paid_Comments,\n",
    "        COALESCE(round(mp.Reactions,2), 0) AS Paid_Reactions,\n",
    "        COALESCE(Organic_Impressions + Paid_Impressions, 0) AS All_Impressions,\n",
    "        COALESCE(Organic_Engagements + Paid_Engagements, 0) AS All_Engagements,\n",
    "        COALESCE(Organic_WeightedEngagements + Paid_WeightedEngagements, 0) AS All_WeightedEngagements,\n",
    "        COALESCE(Organic_Shares + Paid_Shares, 0) AS All_Shares,\n",
    "        COALESCE(Organic_Clicks + Paid_Clicks, 0) AS All_Clicks,\n",
    "        COALESCE(Organic_Comments + Paid_Comments, 0) AS All_Comments,\n",
    "        COALESCE(Organic_Reactions + Paid_Reactions, 0) AS All_Reactions\n",
    "    FROM datif_pz_uk_{env}.03_transformed.instagram_organic_post_daily AS io\n",
    "    FULL OUTER JOIN datif_pz_uk_{env}.03_transformed.facebook_organic_daily AS fo\n",
    "        ON io.PostID = fo.PostID\n",
    "    FULL OUTER JOIN datif_pz_uk_{env}.03_transformed.meta_paid_daily AS mp\n",
    "        ON (\n",
    "            ((io.PostID = mp.OrganicID) AND CAST(io.Date AS DATE) = CAST(mp.Date AS DATE))\n",
    "            OR\n",
    "            (fo.PostID LIKE CONCAT('%', mp.OrganicID, '%') AND CAST(fo.Date AS DATE) = CAST(mp.Date AS DATE))\n",
    "        )\n",
    "\"\"\")\n"
   ]
  },
  {
   "cell_type": "markdown",
   "metadata": {
    "application/vnd.databricks.v1+cell": {
     "cellMetadata": {
      "byteLimit": 2048000,
      "rowLimit": 10000
     },
     "inputWidgets": {},
     "nuid": "ec6e302c-79d9-484e-b888-6b985892faac",
     "showTitle": false,
     "tableResultSettingsMap": {},
     "title": ""
    }
   },
   "source": [
    "### Meta Total"
   ]
  },
  {
   "cell_type": "code",
   "execution_count": 0,
   "metadata": {
    "application/vnd.databricks.v1+cell": {
     "cellMetadata": {
      "byteLimit": 2048000,
      "rowLimit": 10000
     },
     "inputWidgets": {},
     "nuid": "c344a6a6-6f7d-47fa-b314-0071cd8fdfb5",
     "showTitle": false,
     "tableResultSettingsMap": {},
     "title": ""
    }
   },
   "outputs": [],
   "source": [
    "spark.sql(f\"\"\"\n",
    "CREATE OR REPLACE VIEW datif_pz_uk_{env}.03_transformed.meta_paid_organic_total AS\n",
    "SELECT\n",
    "    CASE\n",
    "        WHEN io.PostID IS NULL AND fo.PostID IS NULL THEN 'Paid'\n",
    "        WHEN mp.ID IS NULL THEN 'Organic'\n",
    "        ELSE 'Organic&Paid'\n",
    "    END AS Source,\n",
    "\n",
    "    CASE\n",
    "        WHEN io.PostID IS NOT NULL THEN 'Instagram'\n",
    "        WHEN fo.PostID IS NOT NULL THEN 'Facebook'\n",
    "        ELSE 'Meta'\n",
    "    END AS Plattform,\n",
    "\n",
    "    COALESCE(io.PostID, fo.PostID, 'Existiert nicht') AS OrganicID,\n",
    "    COALESCE(io.CreatedDate, fo.CreatedDate, 'Existiert nicht') AS Organic_CreatedDate,\n",
    "    COALESCE(mp.CreatedDate, 'Existiert nicht') AS Paid_CreatedDate,\n",
    "    COALESCE(io.PostURL, fo.PostURL, 'Existiert nicht') AS URL,\n",
    "    COALESCE(io.PostType, fo.PostType, 'Existiert nicht') AS PostType,\n",
    "    COALESCE(io.PostMessage, fo.PostMessage, 'Existiert nicht') AS PostMessage,\n",
    "\n",
    "\n",
    "\n",
    "    -- Organische KPIs\n",
    "    COALESCE(\n",
    "            io.TotalViews,\n",
    "            CASE\n",
    "                WHEN fo.PostTotalImpressionsLifetime IS NOT NULL \n",
    "                    AND mp.TotalImpressions IS NOT NULL THEN fo.PostTotalImpressionsLifetime - mp.TotalImpressions\n",
    "                WHEN fo.PostTotalImpressionsLifetime IS NOT NULL THEN fo.PostTotalImpressionsLifetime\n",
    "                ELSE 0\n",
    "            END\n",
    "        ) AS Organic_TotalImpressions,\n",
    "\n",
    "    -- Engagements\n",
    "    COALESCE(\n",
    "        io.TotalEngagements,\n",
    "        CASE\n",
    "            WHEN fo.TotalEngagements IS NOT NULL\n",
    "                 AND mp.TotalEngagements IS NOT NULL THEN fo.TotalEngagements - mp.TotalEngagements\n",
    "            WHEN fo.TotalEngagements IS NOT NULL THEN fo.TotalEngagements\n",
    "            ELSE 0\n",
    "        END\n",
    "    ) AS Organic_TotalEngagements,\n",
    "\n",
    "    -- Weighted Engagements (gewichtete Interaktionen)\n",
    "    COALESCE(\n",
    "        ROUND(io.TotalWeightedEngagements, 2),\n",
    "        CASE\n",
    "            WHEN fo.TotalWeightedEngagements IS NOT NULL\n",
    "                 AND mp.TotalWeightedEngagements IS NOT NULL THEN ROUND(fo.TotalWeightedEngagements - mp.TotalWeightedEngagements, 2)\n",
    "            WHEN fo.TotalWeightedEngagements IS NOT NULL THEN ROUND(fo.TotalWeightedEngagements, 2)\n",
    "            ELSE 0\n",
    "        END\n",
    "    ) AS Organic_TotalWeightedEngagements,\n",
    "\n",
    "        -- Shares\n",
    "    COALESCE(\n",
    "        io.TotalShares,\n",
    "        CASE\n",
    "            WHEN fo.TotalPostShares IS NOT NULL\n",
    "                 AND mp.TotalPostShares IS NOT NULL THEN fo.TotalPostShares - mp.TotalPostShares\n",
    "            WHEN fo.TotalPostShares IS NOT NULL THEN fo.TotalPostShares\n",
    "            ELSE 0\n",
    "        END\n",
    "    ) AS Organic_TotalShares,\n",
    "\n",
    "    -- Clicks\n",
    "    COALESCE(\n",
    "        io.TotalInteractions,\n",
    "        CASE\n",
    "            WHEN fo.LinkClicksLifetime IS NOT NULL\n",
    "                 AND mp.TotalLinkClicks IS NOT NULL THEN fo.LinkClicksLifetime - mp.TotalLinkClicks\n",
    "            WHEN fo.LinkClicksLifetime IS NOT NULL THEN fo.LinkClicksLifetime\n",
    "            ELSE 0\n",
    "        END\n",
    "    ) AS Organic_TotalClicks,\n",
    "\n",
    "    -- Comments\n",
    "    COALESCE(\n",
    "        io.TotalComments,\n",
    "        CASE\n",
    "            WHEN fo.TotalPostComments IS NOT NULL\n",
    "                 AND mp.TotalPostComments IS NOT NULL THEN fo.TotalPostComments - mp.TotalPostComments\n",
    "            WHEN fo.TotalPostComments IS NOT NULL THEN fo.TotalPostComments\n",
    "            ELSE 0\n",
    "        END\n",
    "    ) AS Organic_TotalComments,\n",
    "\n",
    "    -- Reactions\n",
    "    COALESCE(\n",
    "        io.TotalLikes,\n",
    "        CASE\n",
    "            WHEN (\n",
    "                fo.TotalLikeReactions + fo.TotalAngerReactions + fo.TotalhahaReactions +\n",
    "                fo.TotalLoveReactions + fo.TotalSadReactions + fo.TotalwowReactions\n",
    "            ) IS NOT NULL\n",
    "            AND mp.TotalReactions IS NOT NULL THEN\n",
    "                (fo.TotalLikeReactions + fo.TotalAngerReactions + fo.TotalhahaReactions +\n",
    "                 fo.TotalLoveReactions + fo.TotalSadReactions + fo.TotalwowReactions) - mp.TotalReactions\n",
    "            WHEN (\n",
    "                fo.TotalLikeReactions + fo.TotalAngerReactions + fo.TotalhahaReactions +\n",
    "                fo.TotalLoveReactions + fo.TotalSadReactions + fo.TotalwowReactions\n",
    "            ) IS NOT NULL THEN\n",
    "                (fo.TotalLikeReactions + fo.TotalAngerReactions + fo.TotalhahaReactions +\n",
    "                 fo.TotalLoveReactions + fo.TotalSadReactions + fo.TotalwowReactions)\n",
    "            ELSE 0\n",
    "        END\n",
    "    ) AS Organic_TotalReactions,\n",
    "    COALESCE(ROUND(io.TotalSaved, 2), 0) AS Organic_TotalSaved,\n",
    "\n",
    "    -- Engagement Rate\n",
    "    COALESCE(\n",
    "        io.EngagementRateInPercent,\n",
    "        CASE\n",
    "            WHEN fo.EngagementRateInPercent IS NOT NULL \n",
    "                And mp.EngagementRatings IS NOT NULL THEN ROUND(fo.EngagementRateInPercent - mp.EngagementRatings,2)\n",
    "            WHEN fo.EngagementRateInPercent IS NOT NULL THEN fo.EngagementRateInPercent\n",
    "            ELSE 0\n",
    "        END\n",
    "    ) AS Organic_EngagementRateInPercent,\n",
    "\n",
    "    -- Paid-Daten\n",
    "    COALESCE(mp.ID, 'Existiert nicht') AS AdID,\n",
    "    COALESCE(mp.CampaignName, 'Existiert nicht') AS CampaignName,\n",
    "    COALESCE(mp.AdName, 'Existiert nicht') AS AdName,\n",
    "    COALESCE(ROUND(mp.TotalSpend, 2), 0) AS TotalSpend,\n",
    "    COALESCE(mp.TotalImpressions, 0) AS Paid_TotalImpressions,\n",
    "    COALESCE(mp.TotalEngagements, 0) AS Paid_TotalEngagements,\n",
    "    COALESCE(ROUND(mp.TotalWeightedEngagements, 2), 0) AS Paid_TotalWeightedEngagements,\n",
    "    COALESCE(mp.EngagementRatings, 0) AS Paid_TotalEngagementRating,\n",
    "    COALESCE(ROUND(mp.TotalPostShares, 2), 0) AS Paid_TotalShares,\n",
    "    COALESCE(ROUND(mp.TotalLinkClicks, 2), 0) AS Paid_TotalClicks,\n",
    "    COALESCE(ROUND(mp.TotalPostComments, 2), 0) AS Paid_TotalComments,\n",
    "    COALESCE(ROUND(mp.TotalReactions, 2), 0) AS Paid_TotalReactions,\n",
    "    COALESCE(mp.CPM, 0) AS CPM,\n",
    "    COALESCE(mp.CPC, 0) AS CPC,\n",
    "    COALESCE(mp.CTR, 0) AS CTR,\n",
    "    COALESCE(mp.CPV, 0) AS CTV,\n",
    "    COALESCE(mp.VideoViewRate, 0) AS VideoViewRate,\n",
    "\n",
    "        -- Gesamtergebnisse (kombiniert)\n",
    "    COALESCE(Paid_TotalImpressions + Organic_TotalImpressions, 0) AS All_TotalImpressions,\n",
    "    COALESCE(Paid_TotalEngagements + Organic_TotalEngagements, 0) AS All_TotalEngagements,\n",
    "    COALESCE(Paid_TotalWeightedEngagements + Organic_TotalWeightedEngagements,0) AS All_TotalWeightedEngagements,\n",
    "    COALESCE(Paid_TotalShares + Organic_TotalShares, 0) AS All_TotalShares,\n",
    "    COALESCE(Paid_TotalClicks + Organic_TotalClicks, 0) AS All_TotalClicks,\n",
    "    COALESCE(Paid_TotalComments + Organic_TotalComments, 0) AS All_TotalComments,\n",
    "    COALESCE(Paid_TotalReactions + Organic_TotalReactions, 0) AS All_TotalReactions,\n",
    "    COALESCE(Organic_TotalSaved, 0) AS All_TotalSaved,\n",
    "    COALESCE(Organic_EngagementRateInPercent + Paid_TotalEngagementRating, 0) AS All_EngagementRateInPercent,\n",
    "\n",
    "    -- Neue Themen-Spalten aus beiden organischen Quellen\n",
    "    COALESCE(io.Themenbereich1, fo.Themenbereich1, 'Existiert nicht') AS Themenbereich1,\n",
    "    COALESCE(io.Themenbereich2, fo.Themenbereich2, 'Existiert nicht') AS Themenbereich2,\n",
    "    COALESCE(io.Themenbereich3, fo.Themenbereich3, 'Existiert nicht') AS Themenbereich3,\n",
    "    COALESCE(io.Themenbereich1_Conf, fo.Themenbereich1_Conf, 0) AS Themenbereich1_Conf,\n",
    "    COALESCE(io.Themenbereich2_Conf, fo.Themenbereich2_Conf, 0) AS Themenbereich2_Conf,\n",
    "    COALESCE(io.Themenbereich3_Conf, fo.Themenbereich3_Conf, 0) AS Themenbereich3_Conf,\n",
    "    COALESCE(io.Strategie2030, fo.Strategie2030, 0.0) AS Strategie2030,\n",
    "    COALESCE(io.FinanzierungEnergiewende, fo.FinanzierungEnergiewende, 0.0) AS FinanzierungEnergiewende,\n",
    "    COALESCE(io.EMobilitaet, fo.EMobilitaet, 0.0) AS EMobilitaet,\n",
    "    COALESCE(io.VernetzeEnergiewelt, fo.VernetzeEnergiewelt, 0.0) AS VernetzeEnergiewelt,\n",
    "    COALESCE(io.TransformationGasnetzeWasserstoff, fo.TransformationGasnetzeWasserstoff, 0.0) AS TransformationGasnetzeWasserstoff,\n",
    "    COALESCE(io.ErneuerbareEnergien, fo.ErneuerbareEnergien, 0.0) AS ErneuerbareEnergien,\n",
    "    COALESCE(io.DisponibleErzeugung, fo.DisponibleErzeugung, 0.0) AS DisponibleErzeugung,\n",
    "    COALESCE(io.IntelligenteStromnetze, fo.IntelligenteStromnetze, 0.0) AS IntelligenteStromnetze,\n",
    "    COALESCE(io.AAlsArbeitgeberIn, fo.AAlsArbeitgeberIn, 0.0) AS AAlsArbeitgeberIn,\n",
    "    COALESCE(io.NachhaltigkeitCSRESG, fo.NachhaltigkeitCSRESG, 0.0) AS NachhaltigkeitCSRESG,\n",
    "    COALESCE(io.MarkeA, fo.MarkeA, 0.0) AS MarkeA,\n",
    "    COALESCE(io.CLevelErwaehnungen, fo.CLevelErwaehnungen, 0) AS CLevelErwaehnung\n",
    "\n",
    "FROM datif_pz_uk_{env}.03_transformed.instagram_organic_total AS io\n",
    "FULL OUTER JOIN datif_pz_uk_{env}.03_transformed.facebook_organic_total AS fo\n",
    "    ON io.PostID = fo.PostID\n",
    "FULL OUTER JOIN datif_pz_uk_{env}.03_transformed.meta_paid_total AS mp\n",
    "    ON (\n",
    "        (io.PostID = mp.OrganicID)\n",
    "        OR\n",
    "        (fo.PostID LIKE CONCAT('%', mp.OrganicID, '%'))\n",
    "    )\n",
    "\"\"\")\n"
   ]
  }
 ],
 "metadata": {
  "application/vnd.databricks.v1+notebook": {
   "computePreferences": null,
   "dashboards": [],
   "environmentMetadata": {
    "base_environment": "",
    "environment_version": "2"
   },
   "inputWidgetPreferences": null,
   "language": "python",
   "notebookMetadata": {
    "pythonIndentUnit": 4
   },
   "notebookName": "nb_transformed_paid_organic_meta",
   "widgets": {}
  },
  "language_info": {
   "name": "python"
  }
 },
 "nbformat": 4,
 "nbformat_minor": 0
}
