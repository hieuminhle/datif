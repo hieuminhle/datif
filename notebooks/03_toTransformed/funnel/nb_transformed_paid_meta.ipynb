{
 "cells": [
  {
   "cell_type": "markdown",
   "metadata": {
    "application/vnd.databricks.v1+cell": {
     "cellMetadata": {},
     "inputWidgets": {},
     "nuid": "0c164d65-6abe-4071-b14d-50e4dbcb36fe",
     "showTitle": false,
     "tableResultSettingsMap": {},
     "title": ""
    }
   },
   "source": [
    "# UK - Anbindung Paid Themen\n",
    "\n",
    "* Um was handelt es sich hier  (Kurzbeschreibung Inhalt):\n",
    "- Die Paid Data Transformatation von Meta\n",
    "\n",
    "\n",
    "---\n",
    "* QUELLEN:  \n",
    "- datif_dz_{}.`02_cleaned_uk_facebook`.`018_meta_ads_c_kkc_some_current_view`\n",
    "\n",
    "* ZIEL:  \n",
    "- datif_pz_uk_{}.03_transformed.meta_paid_daily\n",
    "- datif_pz_uk_{}.03_transformed.meta_paid_total\n",
    "\n",
    "---\n",
    "* Versionen (aktuelle immer oben):\n",
    "- 18.09.2025 Max Mustermann: Add OrganicID\n",
    "- 20.08.2025 Max Mustermann: init"
   ]
  },
  {
   "cell_type": "markdown",
   "metadata": {
    "application/vnd.databricks.v1+cell": {
     "cellMetadata": {},
     "inputWidgets": {},
     "nuid": "5f079c03-4a25-4a1f-a8c8-887b615445a6",
     "showTitle": false,
     "tableResultSettingsMap": {},
     "title": ""
    }
   },
   "source": [
    "\n",
    "# 1. Initialnotebooks & Libraries"
   ]
  },
  {
   "cell_type": "code",
   "execution_count": 0,
   "metadata": {
    "application/vnd.databricks.v1+cell": {
     "cellMetadata": {
      "byteLimit": 2048000,
      "rowLimit": 10000
     },
     "inputWidgets": {},
     "nuid": "db6e8fad-11fa-494c-a538-10d030679e50",
     "showTitle": false,
     "tableResultSettingsMap": {},
     "title": ""
    }
   },
   "outputs": [],
   "source": [
    "%run ../../common/nb_init"
   ]
  },
  {
   "cell_type": "markdown",
   "metadata": {
    "application/vnd.databricks.v1+cell": {
     "cellMetadata": {},
     "inputWidgets": {},
     "nuid": "0b5be8cf-7562-4940-a5bd-ce50d9dc930e",
     "showTitle": false,
     "tableResultSettingsMap": {},
     "title": ""
    }
   },
   "source": [
    "## 03-transformed"
   ]
  },
  {
   "cell_type": "code",
   "execution_count": 0,
   "metadata": {
    "application/vnd.databricks.v1+cell": {
     "cellMetadata": {
      "byteLimit": 2048000,
      "rowLimit": 10000
     },
     "inputWidgets": {},
     "nuid": "5b3f35f6-5b36-405c-8261-fb41c002943c",
     "showTitle": false,
     "tableResultSettingsMap": {},
     "title": ""
    }
   },
   "outputs": [],
   "source": [
    "target_schema_name = \"03_transformed\"\n",
    "target_path = \"funnel\""
   ]
  },
  {
   "cell_type": "markdown",
   "metadata": {
    "application/vnd.databricks.v1+cell": {
     "cellMetadata": {},
     "inputWidgets": {},
     "nuid": "2b59691f-ccdf-4860-abd5-431fcbc33a57",
     "showTitle": false,
     "tableResultSettingsMap": {},
     "title": ""
    }
   },
   "source": []
  },
  {
   "cell_type": "markdown",
   "metadata": {
    "application/vnd.databricks.v1+cell": {
     "cellMetadata": {},
     "inputWidgets": {},
     "nuid": "570d289d-0e7b-4b75-9c80-ffea1c0f06a8",
     "showTitle": false,
     "tableResultSettingsMap": {},
     "title": ""
    }
   },
   "source": [
    "### Meta daily"
   ]
  },
  {
   "cell_type": "code",
   "execution_count": 0,
   "metadata": {
    "application/vnd.databricks.v1+cell": {
     "cellMetadata": {
      "byteLimit": 2048000,
      "rowLimit": 10000
     },
     "inputWidgets": {},
     "nuid": "f27cb4c5-d8db-436d-b3ce-c3ba7adce515",
     "showTitle": false,
     "tableResultSettingsMap": {},
     "title": ""
    }
   },
   "outputs": [],
   "source": [
    "spark.sql(\n",
    "    f\"\"\"\n",
    "    CREATE OR REPLACE VIEW datif_pz_uk_{env}.03_transformed.meta_paid_daily AS\n",
    "    SELECT\n",
    "      First(CAST(DATE_FORMAT(Date, 'yyyy-MM-dd') as DATE)) as Date,\n",
    "      First(CAST(Ad_ID__Facebook_Ads AS STRING)) as AdID,\n",
    "      First(CAST(Campaign_Name__Facebook_Ads AS STRING)) as CampaignName,\n",
    "      First(CAST(Ad_Set_Name__Facebook_Ads AS STRING)) as AdSetName,\n",
    "      First(CAST(Ad_Name__Facebook_Ads AS STRING)) as AdName,\n",
    "      case\n",
    "             when AdName like \"%!%\"\n",
    "             THEN REGEXP_EXTRACT(AdName, '!([^!]+)$', 1)\n",
    "             ELSE 'Dark Post'\n",
    "            END AS OrganicID,\n",
    "      Sum(COALESCE(round(CAST(Amount_Spent__Facebook_Ads AS Double),2),0)) as Amount_Spend,\n",
    "      Sum(COALESCE(CAST(Impressions__Facebook_Ads AS INTEGER),0)) as Impressions,\n",
    "      Sum(COALESCE(CAST(Clicks_all__Facebook_Ads AS INTEGER),0)) as Clicks,\n",
    "      Sum(COALESCE(CAST(Link_Clicks__Facebook_Ads AS INTEGER),0)) as Link_Clicks,\n",
    "      Sum(COALESCE(CAST(Post_Saves__Facebook_Ads AS INTEGER),0)) as Post_Saves,\n",
    "      Sum(COALESCE(CAST(Post_Shares__Facebook_Ads AS INTEGER),0)) as Post_Shares,\n",
    "      Sum(COALESCE(CAST(Post_Comments__Facebook_Ads AS INTEGER),0)) as Comments,\n",
    "      Sum(COALESCE(CAST(Post_Reactions__Facebook_Ads AS INTEGER),0)) as Reactions,\n",
    "      Sum(COALESCE(CAST(n_3_Second_Video_Views__Facebook_Ads AS INTEGER),0)) as Video_View,\n",
    "      COALESCE(\n",
    "        (0.4 * Comments + \n",
    "         0.1 * Post_Shares +\n",
    "         0.3 * Link_Clicks + \n",
    "         0.2 * Reactions\n",
    "        ),0) As WeightedEngagements,\n",
    "      COALESCE(\n",
    "        (Comments + \n",
    "         Post_Shares +\n",
    "         Link_Clicks + \n",
    "         Reactions\n",
    "        ),0) As Engagements\n",
    "    FROM datif_dz_{env}.`02_cleaned_uk_facebook`.`018_meta_ads_c_kkc_some_current_view`\n",
    "    GROUP BY Ad_ID__Facebook_Ads, Date\n",
    "    \"\"\"\n",
    ")"
   ]
  },
  {
   "cell_type": "markdown",
   "metadata": {
    "application/vnd.databricks.v1+cell": {
     "cellMetadata": {},
     "inputWidgets": {},
     "nuid": "ec6e302c-79d9-484e-b888-6b985892faac",
     "showTitle": false,
     "tableResultSettingsMap": {},
     "title": ""
    }
   },
   "source": [
    "### Meta Total"
   ]
  },
  {
   "cell_type": "code",
   "execution_count": 0,
   "metadata": {
    "application/vnd.databricks.v1+cell": {
     "cellMetadata": {
      "byteLimit": 2048000,
      "rowLimit": 10000
     },
     "inputWidgets": {},
     "nuid": "8b81495d-6b4c-4c24-adb9-fe28bed11914",
     "showTitle": false,
     "tableResultSettingsMap": {},
     "title": ""
    }
   },
   "outputs": [],
   "source": [
    "%python\n",
    "df_daily = spark.read.table(f\"datif_pz_uk_{env}.03_transformed.meta_paid_daily\")\n",
    "\n",
    "# Es muss hier nach ADName aggregiert werden weil es Paid Posts gibt die zu einen Organic Post gehören, diese Paid Posts haben unterschiedliche ADIDs aber die gleiche ADName\n",
    "df_total = (\n",
    "    df_daily.groupBy(\"ADName\").agg(\n",
    "        F.first(\"AdID\").alias(\"ID\"),\n",
    "        F.first(\"OrganicID\").alias(\"OrganicID\"),\n",
    "        F.min(\"Date\").alias(\"CreatedDate\").cast('date'),\n",
    "        F.first(\"CampaignName\").alias(\"CampaignName\"),\n",
    "        F.first(\"AdSetName\").alias(\"AdSetName\"),\n",
    "        # F.first(\"AdName\").alias(\"AdName\"),\n",
    "        F.round(F.sum(\"Amount_Spend\"),2).alias(\"TotalSpend\").cast('Double'),\n",
    "        F.sum(\"Impressions\").alias(\"TotalImpressions\").cast('integer'),\n",
    "        F.sum(\"Clicks\").alias(\"TotalClicks\").cast('integer'),\n",
    "        F.sum(\"Link_Clicks\").alias(\"TotalLinkClicks\").cast('integer'),\n",
    "        F.sum(\"Post_Saves\").alias(\"TotalPostSaves\").cast('integer'),\n",
    "        F.sum(\"Post_Shares\").alias(\"TotalPostShares\").cast('integer'),\n",
    "        F.sum(\"Comments\").alias(\"TotalPostComments\").cast('integer'),\n",
    "        F.sum(\"Reactions\").alias(\"TotalReactions\").cast('integer'),\n",
    "        F.sum(\"Video_View\").alias(\"TotalVideoView\").cast('integer'),\n",
    "        F.sum(\"WeightedEngagements\").alias(\"TotalWeightedEngagements\").cast('integer'),\n",
    "        F.sum(\"Engagements\").alias(\"TotalEngagements\").cast('integer')\n",
    "    ) # .drop(\"ADName\")\n",
    "    .withColumn(\n",
    "        \"EngagementRatings\",\n",
    "        F.coalesce(\n",
    "            F.round(\n",
    "                F.when(F.col(\"TotalImpressions\") == 0, 0).otherwise(\n",
    "                    F.col(\"TotalWeightedEngagements\") / F.col(\"TotalImpressions\")\n",
    "                ), 3\n",
    "            ),\n",
    "            F.lit(0)\n",
    "        )\n",
    "    )\n",
    "    .withColumn(\n",
    "        \"CPM\",\n",
    "        F.coalesce(\n",
    "            F.round(\n",
    "                F.when(F.col(\"TotalImpressions\") == 0, 0).otherwise(\n",
    "                    (F.col(\"TotalSpend\") / F.col(\"TotalImpressions\")) * 1000\n",
    "                ), 4\n",
    "            ),\n",
    "            F.lit(0)\n",
    "        )\n",
    "    )\n",
    "    .withColumn(\n",
    "        \"CPC\",\n",
    "        F.coalesce(\n",
    "            F.round(\n",
    "                F.when(F.col(\"TotalClicks\") == 0, 0).otherwise(\n",
    "                    F.col(\"TotalSpend\") / F.col(\"TotalClicks\")\n",
    "                ), 4\n",
    "            ),\n",
    "            F.lit(0)\n",
    "        )\n",
    "    )\n",
    "    .withColumn(\n",
    "        \"CTR\",\n",
    "        F.coalesce(\n",
    "            F.round(\n",
    "                F.when(F.col(\"TotalImpressions\") == 0, 0).otherwise(\n",
    "                    F.col(\"TotalClicks\") / F.col(\"TotalImpressions\")\n",
    "                ), 4\n",
    "            ),\n",
    "            F.lit(0)\n",
    "        )\n",
    "    )\n",
    "    .withColumn(\n",
    "        \"CPV\",\n",
    "        F.coalesce(\n",
    "            F.round(\n",
    "                F.when(F.col(\"TotalVideoView\") == 0, 0).otherwise(\n",
    "                    F.col(\"TotalSpend\") / F.col(\"TotalVideoView\")\n",
    "                ), 4\n",
    "            ),\n",
    "            F.lit(0)\n",
    "        )\n",
    "    )\n",
    "    .withColumn(\n",
    "        \"VideoViewRate\",\n",
    "        F.coalesce(\n",
    "            F.round(\n",
    "                F.when(F.col(\"TotalImpressions\") == 0, 0).otherwise(\n",
    "                    F.col(\"TotalVideoView\") / F.col(\"TotalImpressions\")\n",
    "                ), 4\n",
    "            ),\n",
    "            F.lit(0)\n",
    "        )\n",
    "    )\n",
    "    .drop(\"AdSetName\", \"Clicks\", \"Link_Clicks\", \"Post_Saves\", \"Post_Shares\", \"Comments\", \"Reactions\", \"Video_View\")\n",
    ")\n",
    "\n",
    "fn_overwrite_table(df_source=df_total, target_schema_name=target_schema_name, target_table_name=\"meta_paid_total\", target_path=target_path)"
   ]
  }
 ],
 "metadata": {
  "application/vnd.databricks.v1+notebook": {
   "computePreferences": null,
   "dashboards": [],
   "environmentMetadata": {
    "base_environment": "",
    "environment_version": "2"
   },
   "inputWidgetPreferences": null,
   "language": "python",
   "notebookMetadata": {
    "pythonIndentUnit": 4
   },
   "notebookName": "nb_transformed_paid_meta",
   "widgets": {}
  },
  "language_info": {
   "name": "python"
  }
 },
 "nbformat": 4,
 "nbformat_minor": 0
}
