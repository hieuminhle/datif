{
 "cells": [
  {
   "cell_type": "markdown",
   "metadata": {
    "application/vnd.databricks.v1+cell": {
     "cellMetadata": {
      "byteLimit": 2048000,
      "rowLimit": 10000
     },
     "inputWidgets": {},
     "nuid": "ed471039-c1d3-42e3-8a54-bd15e8c881bf",
     "showTitle": false,
     "tableResultSettingsMap": {},
     "title": ""
    }
   },
   "source": [
    "#Imports"
   ]
  },
  {
   "cell_type": "code",
   "execution_count": 0,
   "metadata": {
    "application/vnd.databricks.v1+cell": {
     "cellMetadata": {
      "byteLimit": 2048000,
      "rowLimit": 10000
     },
     "inputWidgets": {},
     "nuid": "16ed816b-2d6e-4e0a-ac80-881b498a8da1",
     "showTitle": false,
     "tableResultSettingsMap": {},
     "title": ""
    }
   },
   "outputs": [],
   "source": [
    "from pyspark.sql.functions import col, lit, to_date, year, udf, concat_ws, when\n",
    "from pyspark.sql.types import StringType, StructType, StructField, IntegerType, DoubleType\n",
    "import pyspark.sql.functions as F"
   ]
  },
  {
   "cell_type": "code",
   "execution_count": 0,
   "metadata": {
    "application/vnd.databricks.v1+cell": {
     "cellMetadata": {
      "byteLimit": 2048000,
      "rowLimit": 10000
     },
     "inputWidgets": {},
     "nuid": "1f7ba08e-94d7-49a0-85bd-552ecd06cc26",
     "showTitle": false,
     "tableResultSettingsMap": {},
     "title": ""
    }
   },
   "outputs": [],
   "source": [
    "%run ../../common/nb_init"
   ]
  },
  {
   "cell_type": "markdown",
   "metadata": {
    "application/vnd.databricks.v1+cell": {
     "cellMetadata": {
      "byteLimit": 2048000,
      "rowLimit": 10000
     },
     "inputWidgets": {},
     "nuid": "73781087-785b-4e56-8ce4-81bc43a47d0d",
     "showTitle": false,
     "tableResultSettingsMap": {},
     "title": ""
    }
   },
   "source": [
    "#Functions"
   ]
  },
  {
   "cell_type": "code",
   "execution_count": 0,
   "metadata": {
    "application/vnd.databricks.v1+cell": {
     "cellMetadata": {
      "byteLimit": 2048000,
      "rowLimit": 10000
     },
     "inputWidgets": {},
     "nuid": "f8b2caeb-5655-473e-b377-9d89df902dc2",
     "showTitle": false,
     "tableResultSettingsMap": {},
     "title": ""
    }
   },
   "outputs": [],
   "source": [
    "strategische_spalten = [\n",
    "    'Strategie2030', 'FinanzierungEnergiewende', 'EMobilitaet',\n",
    "    'VernetzeEnergiewelt', 'TransformationGasnetzeWasserstoff', 'ErneuerbareEnergien',\n",
    "    'DisponibleErzeugung', 'IntelligenteStromnetze', 'EnBWAlsArbeitgeberIn',\n",
    "    'NachhaltigkeitCSRESG', 'MarkeEnBW'\n",
    "]\n",
    "\n",
    "def get_top_topic(*args):\n",
    "    thema_werte = dict(zip(strategische_spalten, args))\n",
    "    top = max(thema_werte.items(), key=lambda x: x[1] if x[1] is not None else 0)\n",
    "    return top[0] if top[1] is not None and top[1] > 0.8 else None\n",
    "\n",
    "get_top_thema_udf = F.udf(get_top_topic, StringType())"
   ]
  },
  {
   "cell_type": "code",
   "execution_count": 0,
   "metadata": {
    "application/vnd.databricks.v1+cell": {
     "cellMetadata": {
      "byteLimit": 2048000,
      "rowLimit": 10000
     },
     "inputWidgets": {},
     "nuid": "e44c95cc-ac62-4cd8-81cf-a339bb8d0474",
     "showTitle": false,
     "tableResultSettingsMap": {},
     "title": ""
    }
   },
   "outputs": [],
   "source": [
    "def get_top_3_topics(*args):\n",
    "    thema_werte = dict(zip(strategische_spalten, args))\n",
    "    # Nur Werte >= 0.8 behalten\n",
    "    gefiltert = [(thema, wert) for thema, wert in thema_werte.items() if wert is not None and wert >= 0.8]\n",
    "    # Sortiert nach Wert absteigend\n",
    "    top3 = sorted(gefiltert, key=lambda x: x[1], reverse=True)[:3]\n",
    "    # Liste auf Länge 3 bringen (auffüllen mit None)\n",
    "    return [t[0] for t in top3] + [\"Kein strategisches Thema\"] * (3 - len(top3))\n",
    "\n",
    "top3_schema = StructType([\n",
    "    StructField(\"StrategischesThema1\", StringType(), True),\n",
    "    StructField(\"StrategischesThema2\", StringType(), True),\n",
    "    StructField(\"StrategischesThema3\", StringType(), True),\n",
    "])\n",
    "\n",
    "get_top3_thema_udf = udf(get_top_3_topics, top3_schema)"
   ]
  },
  {
   "cell_type": "markdown",
   "metadata": {
    "application/vnd.databricks.v1+cell": {
     "cellMetadata": {
      "byteLimit": 2048000,
      "rowLimit": 10000
     },
     "inputWidgets": {},
     "nuid": "9aaf4959-89a4-413a-a0cd-5cca7d28d353",
     "showTitle": false,
     "tableResultSettingsMap": {},
     "title": ""
    }
   },
   "source": [
    "# Target Schema"
   ]
  },
  {
   "cell_type": "code",
   "execution_count": 0,
   "metadata": {
    "application/vnd.databricks.v1+cell": {
     "cellMetadata": {
      "byteLimit": 2048000,
      "rowLimit": 10000
     },
     "inputWidgets": {},
     "nuid": "f2e13e70-92e3-41f2-964b-6c0412be5c7c",
     "showTitle": false,
     "tableResultSettingsMap": {},
     "title": ""
    }
   },
   "outputs": [],
   "source": [
    "target_schema_name = '03_transformed'\n",
    "target_path = 'funnel'"
   ]
  },
  {
   "cell_type": "markdown",
   "metadata": {
    "application/vnd.databricks.v1+cell": {
     "cellMetadata": {
      "byteLimit": 2048000,
      "rowLimit": 10000
     },
     "inputWidgets": {},
     "nuid": "da543166-7325-4c2d-87ef-828acfac6479",
     "showTitle": false,
     "tableResultSettingsMap": {},
     "title": ""
    }
   },
   "source": [
    "#Configure Tables"
   ]
  },
  {
   "cell_type": "code",
   "execution_count": 0,
   "metadata": {
    "application/vnd.databricks.v1+cell": {
     "cellMetadata": {
      "byteLimit": 2048000,
      "rowLimit": 10000
     },
     "inputWidgets": {},
     "nuid": "96499ea9-d5ea-4631-9a95-c1650ae8dbba",
     "showTitle": false,
     "tableResultSettingsMap": {},
     "title": ""
    }
   },
   "outputs": [],
   "source": [
    "relevant_tables = [\n",
    "    {\n",
    "        'table_name': '03_transformed.facebook_organic_total',\n",
    "        'id_column': 'PostID',\n",
    "        'date': 'CreatedDate',\n",
    "        'channel': 'Facebook',\n",
    "        'url': 'PostURL',\n",
    "        'post_message': 'PostMessage',\n",
    "        'post_type': 'PostType',\n",
    "        'impressions': 'PostTotalImpressionsLifetime',\n",
    "        'engagement_rate': 'EngagementRateInPercent',\n",
    "    },\n",
    "    {\n",
    "        'table_name': '03_transformed.instagram_organic_total',\n",
    "        'id_column': 'PostID',\n",
    "        'date': 'CreatedDate',\n",
    "        'channel': 'Instagram',\n",
    "        'url': 'PostURL',\n",
    "        'post_message': 'PostMessage',\n",
    "        'post_type': 'PostType',\n",
    "        'impressions': 'TotalViews',\n",
    "        'engagement_rate': 'EngagementRateInPercent',\n",
    "    },\n",
    "    {\n",
    "        'table_name': '03_transformed.linkedin_organic_total', #\n",
    "        'id_column': 'PostID',\n",
    "        'date': 'CreatedDate',\n",
    "        'channel': 'LinkedIn',\n",
    "        'url': 'PostURL',\n",
    "        'post_message': 'PostContent',\n",
    "        'post_type': 'ContentType',\n",
    "        'impressions': 'TotalImpressions',\n",
    "        'engagement_rate': 'EngagementRateInPercent',\n",
    "    },\n",
    "    {\n",
    "        'table_name': '03_transformed.x_organic_total',\n",
    "        'id_column': 'PostID',\n",
    "        'date': 'CreatedDate',\n",
    "        'channel': 'X',\n",
    "        'url': 'PostURL',\n",
    "        'post_message': 'PostMessage',\n",
    "        'post_type': 'PostType',\n",
    "        'impressions': 'TotalImpressions',\n",
    "        'engagement_rate': 'EngagementRateInPercent',\n",
    "    },\n",
    "    { # TODO: include YouTube, if descriptions are available\n",
    "       'table_name': '03_transformed.youtube_organic_post_total',\n",
    "       'id_column': 'VideoID',\n",
    "       'date': 'CreatedDate',\n",
    "       'channel': 'YouTube',\n",
    "       'url': 'VideoURL',\n",
    "       'post_type': 'Video',\n",
    "       'post_message': 'VideoDescription',\n",
    "       'impressions': 'TotalViews',\n",
    "       'engagement_rate': 'EngagementRateInPercent'\n",
    "    },\n",
    "    # TODO: include genios print media, if available\n",
    "    # TODO: include genios online media, if available\n",
    "]"
   ]
  },
  {
   "cell_type": "markdown",
   "metadata": {
    "application/vnd.databricks.v1+cell": {
     "cellMetadata": {
      "byteLimit": 2048000,
      "rowLimit": 10000
     },
     "inputWidgets": {},
     "nuid": "621a7565-b202-4437-9224-c23458348cd2",
     "showTitle": false,
     "tableResultSettingsMap": {},
     "title": ""
    }
   },
   "source": [
    "# Combine relevant Tables"
   ]
  },
  {
   "cell_type": "code",
   "execution_count": 0,
   "metadata": {
    "application/vnd.databricks.v1+cell": {
     "cellMetadata": {
      "byteLimit": 2048000,
      "rowLimit": 10000
     },
     "inputWidgets": {},
     "nuid": "87db9e4a-e553-4fdc-80ee-501693d2caeb",
     "showTitle": false,
     "tableResultSettingsMap": {},
     "title": ""
    }
   },
   "outputs": [],
   "source": [
    "schema = T.StructType([\n",
    "    T.StructField(\"ID\", T.StringType(), True),\n",
    "    T.StructField(\"Date\", T.StringType(), True),\n",
    "    T.StructField(\"Channel\", T.StringType(), True),\n",
    "    T.StructField(\"URL\", T.StringType(), True),\n",
    "    T.StructField(\"PostMessage\", T.StringType(), True),\n",
    "    T.StructField(\"PostType\", T.StringType(), True),\n",
    "    T.StructField(\"Impressions\", T.IntegerType(), True),\n",
    "    T.StructField(\"EngagementRateInPercent\", T.DoubleType(), True),\n",
    "    T.StructField(\"StrategischesThema1\", T.StringType(), True),\n",
    "    T.StructField(\"StrategischesThema2\", T.StringType(), True),\n",
    "    T.StructField(\"StrategischesThema3\", T.StringType(), True),\n",
    "    T.StructField(\"Themenbereich1\", T.StringType(), True),\n",
    "    T.StructField(\"Themenbereich2\", T.StringType(), True),\n",
    "    T.StructField(\"Themenbereich3\", T.StringType(), True),\n",
    "])\n",
    "df_consolidated = spark.createDataFrame([], schema=schema)\n",
    "\n",
    "for t in relevant_tables:\n",
    "    df = spark.read.table(f\"datif_pz_uk_{env}.{t['table_name']}\")\n",
    "    \n",
    "    # Strategisches Thema berechnen\n",
    "    df = df.withColumn(\n",
    "            \"StrategischeThemen\",\n",
    "            get_top3_thema_udf(*[F.col(col) for col in strategische_spalten])\n",
    "            ).selectExpr(\"*\", \n",
    "                \"StrategischeThemen.StrategischesThema1\", \n",
    "                \"StrategischeThemen.StrategischesThema2\", \n",
    "                \"StrategischeThemen.StrategischesThema3\"\n",
    "            ).drop(\"StrategischeThemen\")\n",
    "    \n",
    "    # Themenbereiche nach Confidence filtern\n",
    "    df = df.withColumn(\"Themenbereich1\", F.when(F.col(\"Themenbereich1_Conf\") >= 80, F.col(\"Themenbereich1\")))\n",
    "    df = df.withColumn(\"Themenbereich2\", F.when(F.col(\"Themenbereich2_Conf\") >= 80, F.col(\"Themenbereich2\")))\n",
    "    df = df.withColumn(\"Themenbereich3\", F.when(F.col(\"Themenbereich3_Conf\") >= 80, F.col(\"Themenbereich3\")))\n",
    "    \n",
    "    # PostType: YouTube hardcodiert\n",
    "    if t['channel'] == \"YouTube\":\n",
    "        post_type_column = F.lit(\"Video\")\n",
    "    else:\n",
    "        post_type_column = F.col(t['post_type'])\n",
    "\n",
    "    # X Daten nur wenn der Post Type nicht none ist\n",
    "    if t['channel'] == \"X\":\n",
    "        df = df.filter(F.col(t['post_type']).isNotNull())\n",
    "    \n",
    "    df = df.select(\n",
    "        F.col(t['id_column']).alias(\"ID\"),\n",
    "        F.col(t['date']).alias(\"Date\"),\n",
    "        F.lit(t['channel']).alias(\"Channel\"),\n",
    "        F.col(t['url']).alias(\"URL\"),\n",
    "        F.col(t['post_message']).alias(\"PostMessage\"),\n",
    "        post_type_column.alias(\"PostType\"),\n",
    "        F.col(t['impressions']).alias(\"Impressions\"),\n",
    "        F.col(t['engagement_rate']).alias(\"EngagementRateInPercent\"),\n",
    "        F.col(\"StrategischesThema1\"),\n",
    "        F.col(\"StrategischesThema2\"),\n",
    "        F.col(\"StrategischesThema3\"),\n",
    "        F.col(\"Themenbereich1\"),\n",
    "        F.col(\"Themenbereich2\"),\n",
    "        F.col(\"Themenbereich3\"),\n",
    "    )\n",
    "    \n",
    "    df_consolidated = df_consolidated.unionByName(df)\n",
    "\n",
    "df_consolidated.display()\n"
   ]
  },
  {
   "cell_type": "markdown",
   "metadata": {
    "application/vnd.databricks.v1+cell": {
     "cellMetadata": {
      "byteLimit": 2048000,
      "rowLimit": 10000
     },
     "inputWidgets": {},
     "nuid": "56fb226b-bd54-4b7d-abd5-289a52810e1d",
     "showTitle": false,
     "tableResultSettingsMap": {},
     "title": ""
    }
   },
   "source": [
    "### Einheitliches PostType Mapping"
   ]
  },
  {
   "cell_type": "code",
   "execution_count": 0,
   "metadata": {
    "application/vnd.databricks.v1+cell": {
     "cellMetadata": {
      "byteLimit": 2048000,
      "rowLimit": 10000
     },
     "inputWidgets": {},
     "nuid": "922a94a2-f61c-4a2c-8df2-eb9209fb6551",
     "showTitle": false,
     "tableResultSettingsMap": {},
     "title": ""
    }
   },
   "outputs": [],
   "source": [
    "post_type_mapping = {\n",
    "    (\"YouTube\", \"Video\"): \"Video\",\n",
    "    (\"Facebook\", \"video_direct_response\"): \"Video\",\n",
    "    (\"Facebook\", \"video_inline\"): \"Video\",\n",
    "    (\"Facebook\", \"Ohne Post Type\"): \"Other\",\n",
    "    (\"Facebook\", \"album\"): \"Image\",\n",
    "    (\"Facebook\", \"share\"): \"Other\",\n",
    "    (\"Facebook\", \"photo\"): \"Image\",\n",
    "    (\"Facebook\", \"profile_media\"): \"Other\",\n",
    "    (\"Facebook\", \"cover_photo\"): \"Other\",\n",
    "    (\"Facebook\", \"multi_share\"): \"Carousel / Document\",\n",
    "    (\"Facebook\", \"multi_share_no_end_card\"): \"Other\",\n",
    "    (\"Instagram\", \"VIDEO\"): \"Video\",\n",
    "    (\"Instagram\", \"IMAGE\"): \"Image\",\n",
    "    (\"Instagram\", \"CAROUSEL_ALBUM\"): \"Carousel / Document\",\n",
    "    (\"Instagram\", \"Storie\"): \"Story\",\n",
    "    (\"X\", \"mixed\"): \"Image\",\n",
    "    (\"X\", \"gif\"): \"Other\",\n",
    "    (\"X\", \"image\"): \"Image\",\n",
    "    (\"X\", \"video\"): \"Video\",\n",
    "    (\"LinkedIn\", \"Article\"): \"Other\",\n",
    "    (\"LinkedIn\", \"Repost\"): \"Other\",\n",
    "    (\"LinkedIn\", \"Image\"): \"Image\",\n",
    "    (\"LinkedIn\", \"Poll\"): \"Poll\",\n",
    "    (\"LinkedIn\", \"Document\"): \"Carousel / Document\",\n",
    "    (\"LinkedIn\", \"Video\"): \"Video\"\n",
    "}\n",
    "\n",
    "\n",
    "\n",
    "def map_post_type(channel, post_type):\n",
    "    key = (channel, post_type)\n",
    "    return post_type_mapping.get(key, \"Keine Zuordnung möglich\")\n",
    "\n",
    "map_post_type_udf = udf(map_post_type, StringType())\n",
    "\n",
    "\n",
    "df_consolidated = df_consolidated.withColumn(\n",
    "    \"PostTypeGeneralized\",\n",
    "    map_post_type_udf(F.col(\"Channel\"), F.col(\"PostType\"))\n",
    ")\n",
    "\n",
    "df_consolidated = df_consolidated.drop(\"PostType\")\n",
    "df_consolidated = df_consolidated.withColumnRenamed(\"PostTypeGeneralized\", \"PostType\")"
   ]
  },
  {
   "cell_type": "markdown",
   "metadata": {
    "application/vnd.databricks.v1+cell": {
     "cellMetadata": {
      "byteLimit": 2048000,
      "rowLimit": 10000
     },
     "inputWidgets": {},
     "nuid": "d755ad4c-a7f2-4357-b588-3c8c82ebd6f0",
     "showTitle": false,
     "tableResultSettingsMap": {},
     "title": ""
    }
   },
   "source": [
    "#Write Table"
   ]
  },
  {
   "cell_type": "code",
   "execution_count": 0,
   "metadata": {
    "application/vnd.databricks.v1+cell": {
     "cellMetadata": {
      "byteLimit": 2048000,
      "rowLimit": 10000
     },
     "inputWidgets": {},
     "nuid": "60af4000-1357-4ef4-93bc-45bcc8e319ef",
     "showTitle": false,
     "tableResultSettingsMap": {},
     "title": ""
    }
   },
   "outputs": [],
   "source": [
    "fn_overwrite_table(df_source=df_consolidated, target_schema_name=target_schema_name, target_table_name=\"consolidated_socials\", target_path=target_path)"
   ]
  }
 ],
 "metadata": {
  "application/vnd.databricks.v1+notebook": {
   "computePreferences": null,
   "dashboards": [],
   "environmentMetadata": {
    "base_environment": "",
    "environment_version": "2"
   },
   "inputWidgetPreferences": null,
   "language": "python",
   "notebookMetadata": {
    "pythonIndentUnit": 4
   },
   "notebookName": "nb_transformed_consolidated_socials",
   "widgets": {}
  },
  "language_info": {
   "name": "python"
  }
 },
 "nbformat": 4,
 "nbformat_minor": 0
}
