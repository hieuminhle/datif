{
 "cells": [
  {
   "cell_type": "markdown",
   "metadata": {
    "application/vnd.databricks.v1+cell": {
     "cellMetadata": {},
     "inputWidgets": {},
     "nuid": "832a965b-6b2d-452f-96cb-a2eac3d656e6",
     "showTitle": false,
     "tableResultSettingsMap": {},
     "title": ""
    }
   },
   "source": [
    "# UK - Anbindung Paid Themen \n",
    "\n",
    "* Um was handelt es sich hier  (Kurzbeschreibung Inhalt):\n",
    "- Alle SoMe Total Tabellen in einer consolidierten Tabelle\n",
    "\n",
    "\n",
    "---\n",
    "* QUELLEN:  \n",
    "- datif_pz_uk_{}.03_transformed.linkedin_paid_oraganic_total\n",
    "- datif_pz_uk_{}.03_transformed.youtube_paid_oraganic_total\n",
    "- datif_pz_uk_{}.03_transformed.meta_paid_oraganic_total\n",
    "- datif_pz_uk_{}.03_transformed.outbrain_paid_oraganic_total\n",
    "- datif_pz_uk_{}.03_transformed.instagram_organic_stories_total\n",
    "\n",
    "\n",
    "* ZIEL:  \n",
    "- datif_pz_uk_{}.03_transformed.consolidated_socials_paid_organic_total\n",
    "\n",
    "\n",
    "---\n",
    "* Versionen (aktuelle immer oben):\n",
    "- 07.10.2025 Justin Stange-Heiduk: init"
   ]
  },
  {
   "cell_type": "markdown",
   "metadata": {
    "application/vnd.databricks.v1+cell": {
     "cellMetadata": {
      "byteLimit": 2048000,
      "rowLimit": 10000
     },
     "inputWidgets": {},
     "nuid": "ed471039-c1d3-42e3-8a54-bd15e8c881bf",
     "showTitle": false,
     "tableResultSettingsMap": {},
     "title": ""
    }
   },
   "source": [
    "#Imports"
   ]
  },
  {
   "cell_type": "code",
   "execution_count": 0,
   "metadata": {
    "application/vnd.databricks.v1+cell": {
     "cellMetadata": {
      "byteLimit": 2048000,
      "rowLimit": 10000
     },
     "inputWidgets": {},
     "nuid": "16ed816b-2d6e-4e0a-ac80-881b498a8da1",
     "showTitle": false,
     "tableResultSettingsMap": {},
     "title": ""
    }
   },
   "outputs": [],
   "source": [
    "from pyspark.sql.functions import col, lit, to_date, year, udf, concat_ws, when\n",
    "from pyspark.sql.types import StringType, StructType, StructField\n",
    "import pyspark.sql.functions as F"
   ]
  },
  {
   "cell_type": "code",
   "execution_count": 0,
   "metadata": {
    "application/vnd.databricks.v1+cell": {
     "cellMetadata": {
      "byteLimit": 2048000,
      "rowLimit": 10000
     },
     "inputWidgets": {},
     "nuid": "1f7ba08e-94d7-49a0-85bd-552ecd06cc26",
     "showTitle": false,
     "tableResultSettingsMap": {},
     "title": ""
    }
   },
   "outputs": [],
   "source": [
    "%run ../../common/nb_init"
   ]
  },
  {
   "cell_type": "markdown",
   "metadata": {
    "application/vnd.databricks.v1+cell": {
     "cellMetadata": {
      "byteLimit": 2048000,
      "rowLimit": 10000
     },
     "inputWidgets": {},
     "nuid": "73781087-785b-4e56-8ce4-81bc43a47d0d",
     "showTitle": false,
     "tableResultSettingsMap": {},
     "title": ""
    }
   },
   "source": [
    "#Functions"
   ]
  },
  {
   "cell_type": "markdown",
   "metadata": {
    "application/vnd.databricks.v1+cell": {
     "cellMetadata": {
      "byteLimit": 2048000,
      "rowLimit": 10000
     },
     "inputWidgets": {},
     "nuid": "9aaf4959-89a4-413a-a0cd-5cca7d28d353",
     "showTitle": false,
     "tableResultSettingsMap": {},
     "title": ""
    }
   },
   "source": [
    "# Target Schema"
   ]
  },
  {
   "cell_type": "code",
   "execution_count": 0,
   "metadata": {
    "application/vnd.databricks.v1+cell": {
     "cellMetadata": {
      "byteLimit": 2048000,
      "rowLimit": 10000
     },
     "inputWidgets": {},
     "nuid": "f2e13e70-92e3-41f2-964b-6c0412be5c7c",
     "showTitle": false,
     "tableResultSettingsMap": {},
     "title": ""
    }
   },
   "outputs": [],
   "source": [
    "target_schema_name = '03_transformed'\n",
    "target_path = 'funnel'"
   ]
  },
  {
   "cell_type": "markdown",
   "metadata": {
    "application/vnd.databricks.v1+cell": {
     "cellMetadata": {
      "byteLimit": 2048000,
      "rowLimit": 10000
     },
     "inputWidgets": {},
     "nuid": "da543166-7325-4c2d-87ef-828acfac6479",
     "showTitle": false,
     "tableResultSettingsMap": {},
     "title": ""
    }
   },
   "source": [
    "#Configure Tables"
   ]
  },
  {
   "cell_type": "code",
   "execution_count": 0,
   "metadata": {
    "application/vnd.databricks.v1+cell": {
     "cellMetadata": {
      "byteLimit": 2048000,
      "rowLimit": 10000
     },
     "inputWidgets": {},
     "nuid": "96499ea9-d5ea-4631-9a95-c1650ae8dbba",
     "showTitle": false,
     "tableResultSettingsMap": {},
     "title": ""
    }
   },
   "outputs": [],
   "source": [
    "relevant_paid_tables = [\n",
    "    {\n",
    "        'table_name': 'datif_pz_uk_dev.03_transformed.youtube_paid_total',\n",
    "        'id_column': 'ID',\n",
    "        'date': 'CreatedDate',\n",
    "        'channel': 'YouTube',\n",
    "        'campaign_name': 'CampaignName',\n",
    "        'ad_name': 'AdName',\n",
    "        'spend': 'TotalSpend',\n",
    "        'impressions': 'TotalImpressions',\n",
    "        'weighted_engagement': 'Fehlt noch',\n",
    "        'engagement': 'TotalEngagement',\n",
    "        'engagement_rating': 'Fehlt noch',\n",
    "        'cpm': 'CPM',\n",
    "        'cpc': 'CPC',\n",
    "        'ctr': 'CTR',\n",
    "        'cpv': 'CPV',\n",
    "        'video_view_rate': 'VideoViewRate',\n",
    "        'vtr': 'VTR',\n",
    "        'cps': 'Existiert nicht',\n",
    "        'click_to_session': 'Existiert nicht',\n",
    "    \n",
    "    },\n",
    "    {\n",
    "        'table_name': 'datif_pz_uk_dev.03_transformed.outbrain_paid_total',\n",
    "        'id_column': 'ID',\n",
    "        'date': 'CreatedDate',\n",
    "        'channel': 'Outbrain',\n",
    "        'campaign_name': 'CampaignName',\n",
    "        'ad_name': 'AdName',\n",
    "        'spend': 'TotalSpend',\n",
    "        'impressions': 'TotalImpressions',\n",
    "        'weighted_engagement': 'Fehlt noch',\n",
    "        'engagement': 'Fehlt noch',\n",
    "        'engagement_rating': 'Fehlt noch',\n",
    "        'cpm': 'CPM',\n",
    "        'cpc': 'CPC',\n",
    "        'ctr': 'CTR',\n",
    "        'cpv': 'CPV',\n",
    "        'video_view_rate': 'VideoViewRate',\n",
    "        'vtr': 'Existiert nicht',\n",
    "        'cps': 'CPS',\n",
    "        'click_to_session': 'Clicks-to-Sessions',\n",
    "    },\n",
    "    {\n",
    "        'table_name': 'datif_pz_uk_dev.03_transformed.meta_paid_total',\n",
    "        'id_column': 'ID',\n",
    "        'date': 'CreatedDate',\n",
    "        'channel': 'Meta',\n",
    "        'campaign_name': 'CampaignName',\n",
    "        'ad_name': 'AdName',\n",
    "        'spend': 'TotalSpend',\n",
    "        'impressions': 'TotalImpressions',\n",
    "        'weighted_engagement': 'TotalWeightedEngagement',\n",
    "        'engagement': 'TotalEngagement',\n",
    "        'engagement_rating': 'EngagementRating',\n",
    "        'cpm': 'CPM',\n",
    "        'cpc': 'CPC',\n",
    "        'ctr': 'CTR',\n",
    "        'cpv': 'CPV',\n",
    "        'video_view_rate': 'Existiert nicht',\n",
    "        'vtr':'Existiert nicht',\n",
    "        'cps': 'Existiert nicht',\n",
    "        'click_to_session': 'Existiert nicht',\n",
    "    },\n",
    "    {\n",
    "       'table_name': 'datif_pz_uk_dev.03_transformed.linkedin_paid_total',\n",
    "        'id_column': 'ID',\n",
    "        'date': 'CreatedDate',\n",
    "        'channel': 'LinkedIn',\n",
    "        'campaign_name': 'CampaignName',\n",
    "        'ad_name': 'AdName', \n",
    "        'spend': 'TotalSpend',\n",
    "        'impressions': 'TotalImpressions',\n",
    "        'weighted_engagement': 'TotalWeightedEngagement',\n",
    "        'engagement': 'TotalEngagement',\n",
    "        'engagement_rating': 'EngagementRating',\n",
    "        'cpm': 'CPM',\n",
    "        'cpc': 'CPC',\n",
    "        'ctr': 'CTR',\n",
    "        'cpv': 'CPV',\n",
    "        'video_view_rate': 'View Rate',\n",
    "        'vtr': 'Existiert nicht',\n",
    "        'cps': 'Existiert nicht',\n",
    "        'click_to_session': 'Existiert nicht',\n",
    "    },\n",
    "]\n"
   ]
  },
  {
   "cell_type": "markdown",
   "metadata": {
    "application/vnd.databricks.v1+cell": {
     "cellMetadata": {
      "byteLimit": 2048000,
      "rowLimit": 10000
     },
     "inputWidgets": {},
     "nuid": "621a7565-b202-4437-9224-c23458348cd2",
     "showTitle": false,
     "tableResultSettingsMap": {},
     "title": ""
    }
   },
   "source": [
    "# Combine relevant Tables"
   ]
  },
  {
   "cell_type": "code",
   "execution_count": 0,
   "metadata": {
    "application/vnd.databricks.v1+cell": {
     "cellMetadata": {
      "byteLimit": 2048000,
      "rowLimit": 10000
     },
     "inputWidgets": {},
     "nuid": "87db9e4a-e553-4fdc-80ee-501693d2caeb",
     "showTitle": false,
     "tableResultSettingsMap": {},
     "title": ""
    }
   },
   "outputs": [],
   "source": [
    "schema = T.StructType([\n",
    "    T.StructField(\"ID\", T.StringType(), True),\n",
    "    T.StructField(\"CreatedDate\", T.StringType(), True),\n",
    "    T.StructField(\"Channel\", T.StringType(), True),\n",
    "    T.StructField(\"CampaignName\", T.StringType(), True),\n",
    "    T.StructField(\"AdName\", T.StringType(), True),\n",
    "    T.StructField(\"TotalSpend\", T.StringType(), True),\n",
    "    T.StructField(\"TotalImpressions\", T.StringType(), True),\n",
    "    T.StructField(\"TotalWeightedEngagement\", T.StringType(), True),\n",
    "    T.StructField(\"TotalEngagement\", T.StringType(), True),\n",
    "    T.StructField(\"EngagementRating\", T.StringType(), True),\n",
    "    T.StructField(\"CPM\", T.StringType(), True),\n",
    "    T.StructField(\"CPC\", T.StringType(), True),\n",
    "    T.StructField(\"CTR\", T.StringType(), True),\n",
    "    T.StructField(\"CPV\", T.StringType(), True),\n",
    "    T.StructField(\"View Rate\", T.StringType(), True),\n",
    "])\n",
    "df_consolidated = spark.createDataFrame([], schema=schema)\n"
   ]
  },
  {
   "cell_type": "code",
   "execution_count": 0,
   "metadata": {
    "application/vnd.databricks.v1+cell": {
     "cellMetadata": {
      "byteLimit": 2048000,
      "rowLimit": 10000
     },
     "inputWidgets": {},
     "nuid": "c15c96a8-22ed-418c-acf1-3af4f4077f1a",
     "showTitle": false,
     "tableResultSettingsMap": {
      "0": {
       "dataGridStateBlob": "{\"version\":1,\"tableState\":{\"columnPinning\":{\"left\":[\"#row_number#\"],\"right\":[]},\"columnSizing\":{},\"columnVisibility\":{}},\"settings\":{\"columns\":{}},\"syncTimestamp\":1756982480089}",
       "filterBlob": null,
       "queryPlanFiltersBlob": null,
       "tableResultIndex": 0
      }
     },
     "title": ""
    }
   },
   "outputs": [],
   "source": [
    "from pyspark.sql import functions as F\n",
    "\n",
    "def _safe_col_from(df, name: str):\n",
    "    \"\"\"\n",
    "    Gibt eine String-Spalte zurück:\n",
    "      - Wenn name 'fehlt_noch'/'Existiert nicht'/leer -> Literal \"Existiert nicht\"\n",
    "      - Wenn die Spalte im df nicht existiert            -> Literal \"Existiert nicht\"\n",
    "      - Sonst                                            -> df[name] (als string gecastet)\n",
    "    \"\"\"\n",
    "    \n",
    "    key = str(name).strip()\n",
    "    if key in {\"Fehlt noch\", \"Existiert nicht\"}:\n",
    "        return F.lit(key)\n",
    "    # Spalten-Existenz prüfen (Spark ist case-sensitiv auf den tatsächlichen Namen)\n",
    "    # if key not in df.columns:\n",
    "    #     return F.lit(key)\n",
    "    return F.col(key).cast(\"string\")\n",
    "\n",
    "df_consolidated = None\n",
    "\n",
    "for t in relevant_paid_tables:\n",
    "    df = spark.table(t['table_name'])\n",
    "\n",
    "    # WICHTIG: Falls dein Mapping noch \"View Rate\" enthält, hier einmal korrigieren:\n",
    "    # (Alternativ: Mapping oben dauerhaft auf 'VideoViewRate' ändern)\n",
    "    if t.get('video_view_rate') == 'View Rate':\n",
    "        t = {**t, 'video_view_rate': 'VideoViewRate'}\n",
    "\n",
    "    df_sel = df.select(\n",
    "        F.col(t['id_column']).alias(\"ID\"),\n",
    "        F.col(t['date']).alias(\"Date\"),\n",
    "        F.lit(t['channel']).alias(\"Channel\"),\n",
    "        F.col(t['campaign_name']).alias(\"CampaignName\"),\n",
    "        F.col(t['ad_name']).alias(\"AdName\"),\n",
    "        F.round(F.col(t['spend']).cast(\"double\"), 2).alias(\"TotalSpend\"),\n",
    "        F.col(t['impressions']).alias(\"TotalImpressions\"),\n",
    "        _safe_col_from(df, t.get('weighted_engagement')).alias(\"TotalWeightedEngagement\"),\n",
    "        _safe_col_from(df, t.get('engagement')).alias(\"TotalEngagement\"),\n",
    "        _safe_col_from(df, t.get('engagement_rating')).alias(\"EngagementRating\"),\n",
    "        _safe_col_from(df, t.get('cpm')).alias(\"CPM\"),\n",
    "        _safe_col_from(df, t.get('cpc')).alias(\"CPC\"),\n",
    "        _safe_col_from(df, t.get('ctr')).alias(\"CTR\"),\n",
    "        _safe_col_from(df, t.get('cpv')).alias(\"CPV\"),\n",
    "        _safe_col_from(df, t.get('video_view_rate')).alias(\"VideoViewRate\"),\n",
    "        _safe_col_from(df, t.get('vtr')).alias(\"VTR\"),\n",
    "    )\n",
    "\n",
    "    df_consolidated = df_sel if df_consolidated is None else df_consolidated.unionByName(df_sel)\n",
    "\n",
    "df_consolidated.display()\n"
   ]
  },
  {
   "cell_type": "markdown",
   "metadata": {
    "application/vnd.databricks.v1+cell": {
     "cellMetadata": {
      "byteLimit": 2048000,
      "rowLimit": 10000
     },
     "inputWidgets": {},
     "nuid": "56fb226b-bd54-4b7d-abd5-289a52810e1d",
     "showTitle": false,
     "tableResultSettingsMap": {},
     "title": ""
    }
   },
   "source": [
    "### Einheitliches PostType Mapping"
   ]
  },
  {
   "cell_type": "markdown",
   "metadata": {
    "application/vnd.databricks.v1+cell": {
     "cellMetadata": {
      "byteLimit": 2048000,
      "rowLimit": 10000
     },
     "inputWidgets": {},
     "nuid": "d755ad4c-a7f2-4357-b588-3c8c82ebd6f0",
     "showTitle": false,
     "tableResultSettingsMap": {},
     "title": ""
    }
   },
   "source": [
    "#Write Table"
   ]
  },
  {
   "cell_type": "code",
   "execution_count": 0,
   "metadata": {
    "application/vnd.databricks.v1+cell": {
     "cellMetadata": {
      "byteLimit": 2048000,
      "rowLimit": 10000
     },
     "inputWidgets": {},
     "nuid": "60af4000-1357-4ef4-93bc-45bcc8e319ef",
     "showTitle": false,
     "tableResultSettingsMap": {},
     "title": ""
    }
   },
   "outputs": [],
   "source": [
    "fn_overwrite_table(df_source=df_consolidated, target_schema_name=target_schema_name, target_table_name=\"consolidated_socials_paid_total\", target_path=target_path)"
   ]
  }
 ],
 "metadata": {
  "application/vnd.databricks.v1+notebook": {
   "computePreferences": null,
   "dashboards": [],
   "environmentMetadata": {
    "base_environment": "",
    "environment_version": "2"
   },
   "inputWidgetPreferences": null,
   "language": "python",
   "notebookMetadata": {
    "pythonIndentUnit": 4
   },
   "notebookName": "nb_transformed_consolidated_socials_paid_total",
   "widgets": {}
  },
  "language_info": {
   "name": "python"
  }
 },
 "nbformat": 4,
 "nbformat_minor": 0
}
