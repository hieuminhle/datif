{
 "cells": [
  {
   "cell_type": "markdown",
   "metadata": {
    "application/vnd.databricks.v1+cell": {
     "cellMetadata": {
      "byteLimit": 2048000,
      "rowLimit": 10000
     },
     "inputWidgets": {},
     "nuid": "0a7dc0ff-d969-4c95-ba9f-49f89b978af4",
     "showTitle": false,
     "tableResultSettingsMap": {},
     "title": ""
    }
   },
   "source": [
    "# UK - Anbindung Paid Themen \n",
    "\n",
    "* Um was handelt es sich hier  (Kurzbeschreibung Inhalt):\n",
    "- Alle SoMe Total Tabellen in einer consolidierten Tabelle\n",
    "\n",
    "\n",
    "---\n",
    "* QUELLEN:  \n",
    "- datif_pz_uk_{}.03_transformed.linkedin_paid_oraganic_total\n",
    "- datif_pz_uk_{}.03_transformed.youtube_paid_oraganic_total\n",
    "- datif_pz_uk_{}.03_transformed.meta_paid_oraganic_total\n",
    "- datif_pz_uk_{}.03_transformed.outbrain_paid_oraganic_total\n",
    "- datif_pz_uk_{}.03_transformed.instagram_organic_stories_total\n",
    "\n",
    "\n",
    "* ZIEL:  \n",
    "- datif_pz_uk_{}.03_transformed.consolidated_socials_paid_organic_total\n",
    "\n",
    "\n",
    "---\n",
    "* Versionen (aktuelle immer oben):\n",
    "- 29.10.2025 Max Mustermann: Add Engagements Columns\n",
    "- 07.10.2025 Max Mustermann: init"
   ]
  },
  {
   "cell_type": "markdown",
   "metadata": {
    "application/vnd.databricks.v1+cell": {
     "cellMetadata": {
      "byteLimit": 2048000,
      "rowLimit": 10000
     },
     "inputWidgets": {},
     "nuid": "ed471039-c1d3-42e3-8a54-bd15e8c881bf",
     "showTitle": false,
     "tableResultSettingsMap": {},
     "title": ""
    }
   },
   "source": [
    "#Imports"
   ]
  },
  {
   "cell_type": "code",
   "execution_count": 0,
   "metadata": {
    "application/vnd.databricks.v1+cell": {
     "cellMetadata": {
      "byteLimit": 2048000,
      "rowLimit": 10000
     },
     "inputWidgets": {},
     "nuid": "16ed816b-2d6e-4e0a-ac80-881b498a8da1",
     "showTitle": false,
     "tableResultSettingsMap": {},
     "title": ""
    }
   },
   "outputs": [],
   "source": [
    "from pyspark.sql.functions import col, lit, to_date, year, udf, concat_ws, when\n",
    "from pyspark.sql.types import StringType, StructType, StructField\n",
    "import pyspark.sql.functions as F\n",
    "import pyspark.sql.types as T"
   ]
  },
  {
   "cell_type": "code",
   "execution_count": 0,
   "metadata": {
    "application/vnd.databricks.v1+cell": {
     "cellMetadata": {
      "byteLimit": 2048000,
      "rowLimit": 10000
     },
     "inputWidgets": {},
     "nuid": "1f7ba08e-94d7-49a0-85bd-552ecd06cc26",
     "showTitle": false,
     "tableResultSettingsMap": {},
     "title": ""
    }
   },
   "outputs": [],
   "source": [
    "%run ../../common/nb_init"
   ]
  },
  {
   "cell_type": "markdown",
   "metadata": {
    "application/vnd.databricks.v1+cell": {
     "cellMetadata": {
      "byteLimit": 2048000,
      "rowLimit": 10000
     },
     "inputWidgets": {},
     "nuid": "73781087-785b-4e56-8ce4-81bc43a47d0d",
     "showTitle": false,
     "tableResultSettingsMap": {},
     "title": ""
    }
   },
   "source": [
    "#Functions"
   ]
  },
  {
   "cell_type": "markdown",
   "metadata": {
    "application/vnd.databricks.v1+cell": {
     "cellMetadata": {
      "byteLimit": 2048000,
      "rowLimit": 10000
     },
     "inputWidgets": {},
     "nuid": "9aaf4959-89a4-413a-a0cd-5cca7d28d353",
     "showTitle": false,
     "tableResultSettingsMap": {},
     "title": ""
    }
   },
   "source": [
    "# Target Schema"
   ]
  },
  {
   "cell_type": "code",
   "execution_count": 0,
   "metadata": {
    "application/vnd.databricks.v1+cell": {
     "cellMetadata": {
      "byteLimit": 2048000,
      "rowLimit": 10000
     },
     "inputWidgets": {},
     "nuid": "f2e13e70-92e3-41f2-964b-6c0412be5c7c",
     "showTitle": false,
     "tableResultSettingsMap": {},
     "title": ""
    }
   },
   "outputs": [],
   "source": [
    "target_schema_name = '03_transformed'\n",
    "target_path = 'funnel'"
   ]
  },
  {
   "cell_type": "markdown",
   "metadata": {
    "application/vnd.databricks.v1+cell": {
     "cellMetadata": {
      "byteLimit": 2048000,
      "rowLimit": 10000
     },
     "inputWidgets": {},
     "nuid": "01c47e49-9fb0-4ea7-b1da-c5af66cc5569",
     "showTitle": false,
     "tableResultSettingsMap": {},
     "title": ""
    }
   },
   "source": [
    "# Function for strategy topics"
   ]
  },
  {
   "cell_type": "code",
   "execution_count": 0,
   "metadata": {
    "application/vnd.databricks.v1+cell": {
     "cellMetadata": {
      "byteLimit": 2048000,
      "rowLimit": 10000
     },
     "inputWidgets": {},
     "nuid": "6a8ae93b-5dbe-441c-a6d0-caf918da007c",
     "showTitle": false,
     "tableResultSettingsMap": {},
     "title": ""
    }
   },
   "outputs": [],
   "source": [
    "strategische_spalten = [\n",
    "    'Strategie2030', 'FinanzierungEnergiewende', 'EMobilitaet',\n",
    "    'VernetzeEnergiewelt', 'TransformationGasnetzeWasserstoff', 'ErneuerbareEnergien',\n",
    "    'DisponibleErzeugung', 'IntelligenteStromnetze', 'AAlsArbeitgeberIn',\n",
    "    'NachhaltigkeitCSRESG', 'MarkeA'\n",
    "]\n",
    "\n",
    "def get_top_topic(*args):\n",
    "    thema_werte = dict(zip(strategische_spalten, args))\n",
    "    top = max(thema_werte.items(), key=lambda x: x[1] if x[1] is not None else 0)\n",
    "    return top[0] if top[1] is not None and top[1] > 0.8 else None\n",
    "\n",
    "get_top_thema_udf = F.udf(get_top_topic, StringType())"
   ]
  },
  {
   "cell_type": "markdown",
   "metadata": {
    "application/vnd.databricks.v1+cell": {
     "cellMetadata": {
      "byteLimit": 2048000,
      "rowLimit": 10000
     },
     "inputWidgets": {},
     "nuid": "b96517eb-6565-4a58-b812-d2e479852828",
     "showTitle": false,
     "tableResultSettingsMap": {},
     "title": ""
    }
   },
   "source": [
    "# Function for topics"
   ]
  },
  {
   "cell_type": "code",
   "execution_count": 0,
   "metadata": {
    "application/vnd.databricks.v1+cell": {
     "cellMetadata": {
      "byteLimit": 2048000,
      "rowLimit": 10000
     },
     "inputWidgets": {},
     "nuid": "ffb38a14-4482-4f0a-a1c4-86c253a948f3",
     "showTitle": false,
     "tableResultSettingsMap": {},
     "title": ""
    }
   },
   "outputs": [],
   "source": [
    "def get_top_3_topics(*args):\n",
    "    thema_werte = dict(zip(strategische_spalten, args))\n",
    "    # Nur Werte >= 0.8 behalten\n",
    "    gefiltert = [(thema, wert) for thema, wert in thema_werte.items() if wert is not None and wert >= 0.8]\n",
    "    # Sortiert nach Wert absteigend\n",
    "    top3 = sorted(gefiltert, key=lambda x: x[1], reverse=True)[:3]\n",
    "    # Liste auf Länge 3 bringen (auffüllen mit None)\n",
    "    return [t[0] for t in top3] + [\"Kein strategisches Thema\"] * (3 - len(top3))\n",
    "\n",
    "top3_schema = StructType([\n",
    "    StructField(\"StrategischesThema1\", StringType(), True),\n",
    "    StructField(\"StrategischesThema2\", StringType(), True),\n",
    "    StructField(\"StrategischesThema3\", StringType(), True),\n",
    "])\n",
    "\n",
    "get_top3_thema_udf = udf(get_top_3_topics, top3_schema)"
   ]
  },
  {
   "cell_type": "markdown",
   "metadata": {
    "application/vnd.databricks.v1+cell": {
     "cellMetadata": {
      "byteLimit": 2048000,
      "rowLimit": 10000
     },
     "inputWidgets": {},
     "nuid": "da543166-7325-4c2d-87ef-828acfac6479",
     "showTitle": false,
     "tableResultSettingsMap": {},
     "title": ""
    }
   },
   "source": [
    "#Configure Tables"
   ]
  },
  {
   "cell_type": "code",
   "execution_count": 0,
   "metadata": {
    "application/vnd.databricks.v1+cell": {
     "cellMetadata": {
      "byteLimit": 2048000,
      "rowLimit": 10000
     },
     "inputWidgets": {},
     "nuid": "96499ea9-d5ea-4631-9a95-c1650ae8dbba",
     "showTitle": false,
     "tableResultSettingsMap": {},
     "title": ""
    }
   },
   "outputs": [],
   "source": [
    "relevant_tables = [\n",
    "    {\n",
    "        'table_name': '03_transformed.youtube_paid_organic_total',\n",
    "        # --- Allgemein ---\n",
    "        'organic_id': 'OrganicID',\n",
    "        'paid_id': 'AdID',\n",
    "        'source': 'Source',\n",
    "        'channel': 'YouTube',\n",
    "        'organic_created_date': 'Organic_CreatedDate',\n",
    "        'paid_created_date': 'Paid_CreatedDate',\n",
    "        'campaign_name': 'CampaignName',\n",
    "        'ad_name': 'AdName',\n",
    "        'url': 'VideoURL',\n",
    "        'post_type': 'Video',\n",
    "        'title': 'VideoDescription',\n",
    "        'owner': 'Owner',\n",
    "        'spend': 'TotalSpend',\n",
    "        # --- All_ ---\n",
    "        'all_impressions': 'All_TotalViews',\n",
    "        'all_engagement': 'All_TotalEngagements',\n",
    "        'all_weighted_engagement': 'All_TotalWeightedEngagements',\n",
    "        'all_total_likes': 'All_TotalLikes',\n",
    "        'all_total_dislikes': 'All_TotalDislikes',\n",
    "        'all_total_comments': 'All_TotalComments',\n",
    "        'all_total_shares': 'All_TotalShares',\n",
    "        'all_total_clicks': 'KPI existiert nicht',\n",
    "        'all_total_reactions': 'KPI existiert nicht',\n",
    "        'all_average_view_duration': 'All_AverageViewDuration',\n",
    "        # --- Organic_ ---\n",
    "        'organic_impressions': 'Organic_TotalViews',\n",
    "        'organic_engagement': 'Organic_TotalEngagements',\n",
    "        'organic_weighted_engagement': 'KPI existiert nicht',\n",
    "        'organic_engagement_rating': 'KPI existiert nicht',\n",
    "        'organic_total_likes': 'KPI existiert nicht',\n",
    "        'organic_total_comments': 'KPI existiert nicht',\n",
    "        'organic_total_shares': 'KPI existiert nicht',\n",
    "        'organic_total_clicks': 'KPI existiert nicht',\n",
    "        'organic_total_reactions': 'KPI existiert nicht',\n",
    "        # --- Paid_ ---\n",
    "        'paid_impressions': 'Paid_TotalImpressions',\n",
    "        'paid_engagement': 'Paid_TotalEngagements',\n",
    "        'paid_weighted_engagement': 'KPI existiert nicht',\n",
    "        'paid_engagement_rating': 'KPI existiert nicht',\n",
    "        'paid_total_likes': 'KPI existiert nicht',\n",
    "        'paid_total_comments': 'KPI existiert nicht',\n",
    "        'paid_total_shares': 'KPI existiert nicht',\n",
    "        'paid_total_clicks': 'KPI existiert nicht',\n",
    "        'paid_total_reactions': 'KPI existiert nicht',\n",
    "        # --- KPIs ---\n",
    "        'cpm': 'CPM',\n",
    "        'cpc': 'CPC',\n",
    "        'ctr': 'CTR',\n",
    "        'cpv': 'CPV',\n",
    "        'video_view_rate': 'VideoViewRate',\n",
    "        'vtr': 'VTR',\n",
    "        'cps': 'KPI existiert nicht',\n",
    "        'click_to_session': 'KPI existiert nicht',\n",
    "    },\n",
    "    {\n",
    "        'table_name': '03_transformed.linkedIn_paid_organic_total',\n",
    "        # --- Allgemein ---\n",
    "        'organic_id': 'OrganicID',\n",
    "        'paid_id': 'AdID',\n",
    "        'source': 'Source',\n",
    "        'channel': 'LinkedIn',\n",
    "        'organic_created_date': 'Organic_CreatedDate',\n",
    "        'paid_created_date': 'Paid_CreatedDate',\n",
    "        'campaign_name': 'CampaignName',\n",
    "        'ad_name': 'AdName',\n",
    "        'url': 'URL',\n",
    "        'post_type': 'PostType',\n",
    "        'title': 'Title',\n",
    "        'owner': 'Existiert nicht',\n",
    "        'spend': 'TotalSpend',\n",
    "        # --- All_ ---\n",
    "        'all_impressions': 'All_TotalImpressions',\n",
    "        'all_engagement': 'All_TotalEngagements',\n",
    "        'all_weighted_engagement': 'All_TotalWeightedEngagements',\n",
    "        'all_total_shares': 'All_TotalShares',\n",
    "        'all_total_comments': 'All_TotalComments',\n",
    "        'all_total_likes': 'All_TotalLikes',\n",
    "        'all_total_clicks': 'All_TotalClicks',\n",
    "        'all_total_dislikes': 'KPI existiert nicht',\n",
    "        'all_total_reactions': 'KPI existiert nicht',\n",
    "        'all_average_view_duration': 'KPI existiert nicht',\n",
    "        # --- Organic_ ---\n",
    "        'organic_impressions': 'Organic_TotalImpressions',\n",
    "        'organic_engagement': 'Organic_TotalEngagements',\n",
    "        'organic_weighted_engagement': 'Organic_TotalWeightedEngagements',\n",
    "        'organic_engagement_rating': 'Organic_TotalEngagementRateInPercent',\n",
    "        'organic_total_shares': 'Organic_TotalShares',\n",
    "        'organic_total_comments': 'Organic_TotalComments',\n",
    "        'organic_total_likes': 'Organic_TotalLikes',\n",
    "        'organic_total_clicks': 'Organic_TotalClicks',\n",
    "        'organic_total_reactions': 'KPI existiert nicht',\n",
    "        # --- Paid_ ---\n",
    "        'paid_impressions': 'Paid_TotalImpressions',\n",
    "        'paid_engagement': 'Paid_TotalEngagements',\n",
    "        'paid_weighted_engagement': 'Paid_TotalWeightedEngagements',\n",
    "        'paid_engagement_rating': 'Paid_TotalEngagementRating',\n",
    "        'paid_total_shares': 'Paid_TotalShares',\n",
    "        'paid_total_comments': 'Paid_TotalComments',\n",
    "        'paid_total_likes': 'Paid_TotalLikes',\n",
    "        'paid_total_clicks': 'Paid_TotalClicks',\n",
    "        'paid_total_reactions': 'KPI existiert nicht',\n",
    "        # --- KPIs ---\n",
    "        'cpm': 'CPM',\n",
    "        'cpc': 'CPC',\n",
    "        'ctr': 'CTR',\n",
    "        'cpv': 'CPV',\n",
    "        'video_view_rate': 'VideoViewRate',\n",
    "        'vtr': 'KPI existiert nicht',\n",
    "        'cps': 'KPI existiert nicht',\n",
    "        'click_to_session': 'KPI existiert nicht',\n",
    "    },\n",
    "    {\n",
    "        'table_name': '03_transformed.meta_paid_organic_total',\n",
    "        # --- Allgemein ---\n",
    "        'organic_id': 'OrganicID',\n",
    "        'paid_id': 'AdID',\n",
    "        'source': 'Source',\n",
    "        'channel': 'Plattform',\n",
    "        'organic_created_date': 'Organic_CreatedDate',\n",
    "        'paid_created_date': 'Paid_CreatedDate',\n",
    "        'campaign_name': 'CampaignName',\n",
    "        'ad_name': 'AdName',\n",
    "        'url': 'URL',\n",
    "        'post_type': 'PostType',\n",
    "        'title': 'PostMessage',\n",
    "        'owner': 'Existiert nicht',\n",
    "        'spend': 'TotalSpend',\n",
    "        # --- All_ ---\n",
    "        'all_impressions': 'All_TotalImpressions',\n",
    "        'all_engagement': 'All_TotalEngagements',\n",
    "        'all_weighted_engagement': 'All_TotalWeightedEngagements',\n",
    "        'all_total_shares': 'All_TotalShares',\n",
    "        'all_total_clicks': 'All_TotalClicks',\n",
    "        'all_total_comments': 'All_TotalComments',\n",
    "        'all_total_reactions': 'All_TotalReactions',\n",
    "        'all_total_likes': 'KPI existiert nicht',\n",
    "        'all_total_dislikes': 'KPI existiert nicht',\n",
    "        'all_average_view_duration': 'KPI existiert nicht',\n",
    "        # --- Organic_ ---\n",
    "        'organic_impressions': 'Organic_TotalImpressions',\n",
    "        'organic_engagement': 'Organic_TotalEngagements',\n",
    "        'organic_weighted_engagement': 'Organic_TotalWeightedEngagements',\n",
    "        'organic_engagement_rating': 'Organic_EngagementRateInPercent',\n",
    "        'organic_total_shares': 'Organic_TotalShares',\n",
    "        'organic_total_clicks': 'Organic_TotalClicks',\n",
    "        'organic_total_comments': 'Organic_TotalComments',\n",
    "        'organic_total_reactions': 'Organic_TotalReactions',\n",
    "        'organic_total_likes': 'KPI existiert nicht',\n",
    "        # --- Paid_ ---\n",
    "        'paid_impressions': 'Paid_TotalImpressions',\n",
    "        'paid_engagement': 'Paid_TotalEngagements',\n",
    "        'paid_weighted_engagement': 'Paid_TotalWeightedEngagements',\n",
    "        'paid_engagement_rating': 'Paid_TotalEngagementRating',\n",
    "        'paid_total_shares': 'Paid_TotalShares',\n",
    "        'paid_total_clicks': 'Paid_TotalClicks',\n",
    "        'paid_total_comments': 'Paid_TotalComments',\n",
    "        'paid_total_reactions': 'Paid_TotalReactions',\n",
    "        'paid_total_likes': 'KPI existiert nicht',\n",
    "        # --- KPIs ---\n",
    "        'cpm': 'CPM',\n",
    "        'cpc': 'CPC',\n",
    "        'ctr': 'CTR',\n",
    "        'cpv': 'CPV',\n",
    "        'video_view_rate': 'VideoViewRate',\n",
    "        'vtr': 'KPI existiert nicht',\n",
    "        'cps': 'KPI existiert nicht',\n",
    "        'click_to_session': 'KPI existiert nicht',\n",
    "    },\n",
    "    {\n",
    "        'table_name': '03_transformed.outbrain_paid_total',\n",
    "        # --- Allgemein ---\n",
    "        'organic_id': 'Existiert nicht',\n",
    "        'paid_id': 'ID',\n",
    "        'source': 'Paid',\n",
    "        'channel': 'Outbrain',\n",
    "        'organic_created_date': 'Existiert nicht',\n",
    "        'paid_created_date': 'CreatedDate',\n",
    "        'campaign_name': 'CampaignName',\n",
    "        'ad_name': 'AdName',\n",
    "        'url': 'Existiert nicht',\n",
    "        'post_type': 'Existiert nicht',\n",
    "        'title': 'Existiert nicht',\n",
    "        'owner': 'Existiert nicht',\n",
    "        'spend': 'KPI existiert nicht',\n",
    "        # --- All_ ---\n",
    "        'all_impressions': 'TotalImpressions',\n",
    "        'all_engagement': 'KPI existiert nicht',\n",
    "        'all_weighted_engagement': 'KPI existiert nicht',\n",
    "        'all_total_likes': 'KPI existiert nicht',\n",
    "        'all_total_dislikes': 'KPI existiert nicht',\n",
    "        'all_total_comments': 'KPI existiert nicht',\n",
    "        'all_total_shares': 'KPI existiert nicht',\n",
    "        'all_total_clicks': 'KPI existiert nicht',\n",
    "        'all_total_reactions': 'KPI existiert nicht',\n",
    "        'all_average_view_duration': 'KPI existiert nicht',\n",
    "        # --- Organic_ ---\n",
    "        'organic_impressions': 'KPI existiert nicht',\n",
    "        'organic_engagement': 'KPI existiert nicht',\n",
    "        'organic_weighted_engagement': 'KPI existiert nicht',\n",
    "        'organic_engagement_rating': 'KPI existiert nicht',\n",
    "        'organic_total_likes': 'KPI existiert nicht',\n",
    "        'organic_total_comments': 'KPI existiert nicht',\n",
    "        'organic_total_shares': 'KPI existiert nicht',\n",
    "        'organic_total_clicks': 'KPI existiert nicht',\n",
    "        'organic_total_reactions': 'KPI existiert nicht',\n",
    "        'organic_total_saved': 'KPI existiert nicht',\n",
    "        # --- Paid_ ---\n",
    "        'paid_impressions': 'TotalImpressions',\n",
    "        'paid_engagement': 'KPI existiert nicht',\n",
    "        'paid_weighted_engagement': 'KPI existiert nicht',\n",
    "        'paid_engagement_rating': 'KPI existiert nicht',\n",
    "        'paid_total_likes': 'KPI existiert nicht',\n",
    "        'paid_total_comments': 'KPI existiert nicht',\n",
    "        'paid_total_shares': 'KPI existiert nicht',\n",
    "        'paid_total_clicks': 'Paid_Clicks',\n",
    "        'paid_total_reactions': 'KPI existiert nicht',\n",
    "        # --- KPIs ---\n",
    "        'cpm': 'CPM',\n",
    "        'cpc': 'CPC',\n",
    "        'ctr': 'CTR',\n",
    "        'cpv': 'CPV',\n",
    "        'video_view_rate': 'KPI existiert nicht',\n",
    "        'vtr': 'KPI existiert nicht',\n",
    "        'cps': 'CPS',\n",
    "        'click_to_session': 'Click-to-Session',\n",
    "    },\n",
    "    {\n",
    "        'table_name': '03_transformed.instagram_organic_stories_total',\n",
    "        # --- Allgemein ---\n",
    "        'organic_id': 'StoryID',\n",
    "        'paid_id': 'Existiert nicht',\n",
    "        'source': 'Organic',\n",
    "        'channel': 'Instagram',\n",
    "        'organic_created_date': 'CreatedDate',\n",
    "        'paid_created_date': 'Existiert nicht',\n",
    "        'campaign_name': 'Existiert nicht',\n",
    "        'ad_name': 'Existiert nicht',\n",
    "        'url': 'Existiert nicht',\n",
    "        'post_type': 'Story',\n",
    "        'title': 'Caption',\n",
    "        'owner': 'Existiert nicht',\n",
    "        'spend': 'KPI existiert nicht',\n",
    "        # --- All_ ---\n",
    "        'all_impressions': 'TotalImpressions',\n",
    "        'all_engagement': 'TotalEngagements',\n",
    "        'all_weighted_engagement': 'TotalWeightedEngagements',\n",
    "        'all_total_likes': 'KPI existiert nicht',\n",
    "        'all_total_comments': 'TotalReplies',\n",
    "        'all_total_shares': 'TotalShares',\n",
    "        'all_total_clicks': 'KPI existiert nicht',\n",
    "        'all_total_reactions': 'KPI existiert nicht',\n",
    "        'all_average_view_duration': 'KPI existiert nicht',\n",
    "        # --- Organic_ ---\n",
    "        'organic_impressions': 'TotalImpressions',\n",
    "        'organic_engagement': 'TotalEngagements',\n",
    "        'organic_weighted_engagement': 'TotalWeightedEngagements',\n",
    "        'organic_engagement_rating': 'TemporaryEngagementRateInPercent',\n",
    "        'organic_total_likes': 'KPI existiert nicht',\n",
    "        'organic_total_comments': 'TotalReplies',\n",
    "        'organic_total_shares': 'TotalShares',\n",
    "        'organic_total_clicks': 'KPI existiert nicht',\n",
    "        'organic_total_reactions': 'KPI existiert nicht',\n",
    "        # --- Paid_ ---\n",
    "        'paid_impressions': 'KPI existiert nicht',\n",
    "        'paid_engagement': 'KPI existiert nicht',\n",
    "        'paid_weighted_engagement': 'KPI existiert nicht',\n",
    "        'paid_engagement_rating': 'KPI existiert nicht',\n",
    "        'paid_total_likes': 'KPI existiert nicht',\n",
    "        'paid_total_comments': 'KPI existiert nicht',\n",
    "        'paid_total_shares': 'KPI existiert nicht',\n",
    "        'paid_total_clicks': 'KPI existiert nicht',\n",
    "        'paid_total_reactions': 'KPI existiert nicht',\n",
    "        # --- KPIs ---\n",
    "        'cpm': 'KPI existiert nicht',\n",
    "        'cpc': 'KPI existiert nicht',\n",
    "        'ctr': 'KPI existiert nicht',\n",
    "        'cpv': 'KPI existiert nicht',\n",
    "        'video_view_rate': 'KPI existiert nicht',\n",
    "        'vtr': 'KPI existiert nicht',\n",
    "        'cps': 'KPI existiert nicht',\n",
    "        'click_to_session': 'KPI existiert nicht',\n",
    "    }\n",
    "]\n"
   ]
  },
  {
   "cell_type": "markdown",
   "metadata": {
    "application/vnd.databricks.v1+cell": {
     "cellMetadata": {
      "byteLimit": 2048000,
      "rowLimit": 10000
     },
     "inputWidgets": {},
     "nuid": "621a7565-b202-4437-9224-c23458348cd2",
     "showTitle": false,
     "tableResultSettingsMap": {},
     "title": ""
    }
   },
   "source": [
    "# Combine relevant Tables"
   ]
  },
  {
   "cell_type": "code",
   "execution_count": 0,
   "metadata": {
    "application/vnd.databricks.v1+cell": {
     "cellMetadata": {
      "byteLimit": 2048000,
      "rowLimit": 10000
     },
     "inputWidgets": {},
     "nuid": "87db9e4a-e553-4fdc-80ee-501693d2caeb",
     "showTitle": false,
     "tableResultSettingsMap": {},
     "title": ""
    }
   },
   "outputs": [],
   "source": [
    "schema = T.StructType([\n",
    "    # --- IDs & Allgemein ---\n",
    "    T.StructField(\"OrganicID\", T.StringType(), True),\n",
    "    T.StructField(\"PaidID\", T.StringType(), True),\n",
    "    T.StructField(\"Source\", T.StringType(), True),\n",
    "    T.StructField(\"Channel\", T.StringType(), True),\n",
    "    T.StructField(\"Organic_CreatedDate\", T.StringType(), True),\n",
    "    T.StructField(\"Paid_CreatedDate\", T.StringType(), True),\n",
    "    T.StructField(\"CampaignName\", T.StringType(), True),\n",
    "    T.StructField(\"AdName\", T.StringType(), True),\n",
    "    T.StructField(\"URL\", T.StringType(), True),\n",
    "    T.StructField(\"PostType\", T.StringType(), True),\n",
    "    T.StructField(\"Title\", T.StringType(), True),\n",
    "    T.StructField(\"Owner\", T.StringType(), True),\n",
    "    T.StructField(\"TotalSpend\", T.StringType(), True),\n",
    "\n",
    "    # --- Impressions ---\n",
    "    T.StructField(\"All_TotalImpressions\", T.StringType(), True),\n",
    "    T.StructField(\"Organic_TotalImpressions\", T.StringType(), True),\n",
    "    T.StructField(\"Paid_TotalImpressions\", T.StringType(), True),\n",
    "\n",
    "    # --- Engagements ---\n",
    "    T.StructField(\"All_TotalEngagements\", T.StringType(), True),\n",
    "    T.StructField(\"Organic_TotalEngagements\", T.StringType(), True),\n",
    "    T.StructField(\"Paid_TotalEngagements\", T.StringType(), True),\n",
    "\n",
    "    # --- Weighted Engagements ---\n",
    "    T.StructField(\"All_TotalWeightedEngagements\", T.StringType(), True),\n",
    "    T.StructField(\"Organic_TotalWeightedEngagements\", T.StringType(), True),\n",
    "    T.StructField(\"Paid_TotalWeightedEngagements\", T.StringType(), True),\n",
    "\n",
    "    # --- Engagement Rate / Rating ---\n",
    "    T.StructField(\"Organic_TotalEngagementRateInPercent\", T.StringType(), True),\n",
    "    T.StructField(\"Paid_TotalEngagementRating\", T.StringType(), True),\n",
    "\n",
    "    # --- Likes ---\n",
    "    T.StructField(\"All_TotalLikes\", T.StringType(), True),\n",
    "    T.StructField(\"Organic_TotalLikes\", T.StringType(), True),\n",
    "    T.StructField(\"Paid_TotalLikes\", T.StringType(), True),\n",
    "\n",
    "    # --- Dislikes ---\n",
    "    T.StructField(\"All_TotalDislikes\", T.StringType(), True),\n",
    "\n",
    "    # --- Comments ---\n",
    "    T.StructField(\"All_TotalComments\", T.StringType(), True),\n",
    "    T.StructField(\"Organic_TotalComments\", T.StringType(), True),\n",
    "    T.StructField(\"Paid_TotalComments\", T.StringType(), True),\n",
    "\n",
    "    # --- Shares ---\n",
    "    T.StructField(\"All_TotalShares\", T.StringType(), True),\n",
    "    T.StructField(\"Organic_TotalShares\", T.StringType(), True),\n",
    "    T.StructField(\"Paid_TotalShares\", T.StringType(), True),\n",
    "\n",
    "    # --- Clicks ---\n",
    "    T.StructField(\"All_TotalClicks\", T.StringType(), True),\n",
    "    T.StructField(\"Organic_TotalClicks\", T.StringType(), True),\n",
    "    T.StructField(\"Paid_TotalClicks\", T.StringType(), True),\n",
    "\n",
    "    # --- Reactions ---\n",
    "    T.StructField(\"All_TotalReactions\", T.StringType(), True),\n",
    "    T.StructField(\"Organic_TotalReactions\", T.StringType(), True),\n",
    "    T.StructField(\"Paid_TotalReactions\", T.StringType(), True),\n",
    "\n",
    "    # --- View Duration ---\n",
    "    T.StructField(\"All_AverageViewDuration\", T.StringType(), True),\n",
    "\n",
    "    # --- KPIs ---\n",
    "    T.StructField(\"CPM\", T.StringType(), True),\n",
    "    T.StructField(\"CPC\", T.StringType(), True),\n",
    "    T.StructField(\"CTR\", T.StringType(), True),\n",
    "    T.StructField(\"CPV\", T.StringType(), True),\n",
    "    T.StructField(\"VideoViewRate\", T.StringType(), True),\n",
    "    T.StructField(\"VTR\", T.StringType(), True),\n",
    "    T.StructField(\"CPS\", T.StringType(), True),\n",
    "    T.StructField(\"Click_to_Session\", T.StringType(), True),\n",
    "\n",
    "    # --- Topics ---\n",
    "    T.StructField(\"StrategischesThema1\", T.StringType(), True),\n",
    "    T.StructField(\"StrategischesThema2\", T.StringType(), True),\n",
    "    T.StructField(\"StrategischesThema3\", T.StringType(), True),\n",
    "    T.StructField(\"Themenbereich1\", T.StringType(), True),\n",
    "    T.StructField(\"Themenbereich2\", T.StringType(), True),\n",
    "    T.StructField(\"Themenbereich3\", T.StringType(), True),\n",
    "])\n",
    "\n",
    "df_consolidated = spark.createDataFrame([], schema=schema)\n"
   ]
  },
  {
   "cell_type": "code",
   "execution_count": 0,
   "metadata": {
    "application/vnd.databricks.v1+cell": {
     "cellMetadata": {
      "byteLimit": 2048000,
      "rowLimit": 10000
     },
     "inputWidgets": {},
     "nuid": "c15c96a8-22ed-418c-acf1-3af4f4077f1a",
     "showTitle": false,
     "tableResultSettingsMap": {},
     "title": ""
    }
   },
   "outputs": [],
   "source": [
    "# ---------------------------------------------------------------------\n",
    "# Hilfsfunktion für sichere Spaltenauswahl\n",
    "# ---------------------------------------------------------------------\n",
    "def _safe_col_from(df, name: str):\n",
    "    \"\"\"\n",
    "    Gibt eine String-Spalte zurück:\n",
    "      - Wenn name 'Fehlt noch'/'Existiert nicht'/leer -> Literal \"Existiert nicht\"\n",
    "      - Wenn die Spalte im df nicht existiert         -> Literal \"Existiert nicht\"\n",
    "      - Wenn 'KPI existiert nicht'                    -> Literal 0\n",
    "      - Wenn 'Organic'/'Paid'/'Story'/'Video'         -> Literal des Werts\n",
    "      - Sonst                                         -> df[name] (als string gecastet)\n",
    "    \"\"\"\n",
    "    key = str(name).strip() if name is not None else \"\"\n",
    "    if key in {\"Fehlt noch\", \"Existiert nicht\", \"\", None}:\n",
    "        return F.lit(\"Existiert nicht\")\n",
    "    if key in {\"KPI existiert nicht\"}:\n",
    "        return F.lit(0)\n",
    "    if key in {\"Organic\", \"Paid\", \"Story\", \"Video\"}:\n",
    "        return F.lit(key)\n",
    "    if key not in df.columns:\n",
    "        return F.lit(\"Existiert nicht\")\n",
    "    return F.col(key).cast(\"string\")\n",
    "\n",
    "# ---------------------------------------------------------------------\n",
    "# Hauptlogik: Vereinheitlichung aller Tabellen\n",
    "# ---------------------------------------------------------------------\n",
    "df_consolidated = None\n",
    "\n",
    "for t in relevant_tables:\n",
    "    df = spark.read.table(f\"datif_pz_uk_{env}.{t['table_name']}\")\n",
    "\n",
    "    # Themenfelder: Fallback für Kanäle ohne Themen\n",
    "    if t['table_name'] in [\n",
    "        \"03_transformed.instagram_organic_stories_total\",\n",
    "        \"03_transformed.outbrain_paid_total\"\n",
    "    ]:\n",
    "        df = df.withColumn(\"StrategischesThema1\", F.lit(\"Kein strategisches Thema\"))\n",
    "        df = df.withColumn(\"StrategischesThema2\", F.lit(\"Kein strategisches Thema\"))\n",
    "        df = df.withColumn(\"StrategischesThema3\", F.lit(\"Kein strategisches Thema\"))\n",
    "        df = df.withColumn(\"Themenbereich1\", F.lit(\"Kein Themenbereich\"))\n",
    "        df = df.withColumn(\"Themenbereich2\", F.lit(\"Kein Themenbereich\"))\n",
    "        df = df.withColumn(\"Themenbereich3\", F.lit(\"Kein Themenbereich\"))\n",
    "    else:\n",
    "        df = df.withColumn(\n",
    "            \"StrategischeThemen\",\n",
    "            get_top3_thema_udf(*[F.col(col) for col in strategische_spalten])\n",
    "        ).selectExpr(\"*\",\n",
    "            \"StrategischeThemen.StrategischesThema1\",\n",
    "            \"StrategischeThemen.StrategischesThema2\",\n",
    "            \"StrategischeThemen.StrategischesThema3\"\n",
    "        ).drop(\"StrategischeThemen\")\n",
    "\n",
    "        df = df.withColumn(\"Themenbereich1\", F.when(F.col(\"Themenbereich1_Conf\") >= 80, F.col(\"Themenbereich1\")))\n",
    "        df = df.withColumn(\"Themenbereich2\", F.when(F.col(\"Themenbereich2_Conf\") >= 80, F.col(\"Themenbereich2\")))\n",
    "        df = df.withColumn(\"Themenbereich3\", F.when(F.col(\"Themenbereich3_Conf\") >= 80, F.col(\"Themenbereich3\")))\n",
    "\n",
    "    # Fallback für alte Spaltennamen\n",
    "    if t.get('video_view_rate') == 'View Rate':\n",
    "        t = {**t, 'video_view_rate': 'VideoViewRate'}\n",
    "\n",
    "    # --------------------------------------------------------------\n",
    "    # Vereinheitlichte Auswahl aller Spalten (angepasst)\n",
    "    # --------------------------------------------------------------\n",
    "    df_sel = df.select(\n",
    "        # --- Allgemein ---\n",
    "        _safe_col_from(df, t.get('organic_id')).alias(\"OrganicID\"),\n",
    "        _safe_col_from(df, t.get('paid_id')).alias(\"PaidID\"),\n",
    "        _safe_col_from(df, t.get('source')).alias(\"Source\"),\n",
    "        # Änderung 1: Channel nur bei Meta dynamisch\n",
    "        F.when(F.lit(t['channel']) == \"Plattform\", _safe_col_from(df, t.get('channel')))\n",
    "         .otherwise(F.lit(t.get('channel', 'Existiert nicht'))).alias(\"Channel\"),\n",
    "        _safe_col_from(df, t.get('organic_created_date')).alias(\"Organic_CreatedDate\"),\n",
    "        _safe_col_from(df, t.get('paid_created_date')).alias(\"Paid_CreatedDate\"),\n",
    "        _safe_col_from(df, t.get('campaign_name')).alias(\"CampaignName\"),\n",
    "        _safe_col_from(df, t.get('ad_name')).alias(\"AdName\"),\n",
    "        _safe_col_from(df, t.get('url')).alias(\"URL\"),\n",
    "        _safe_col_from(df, t.get('post_type')).alias(\"PostType\"),\n",
    "        _safe_col_from(df, t.get('title')).alias(\"Title\"),\n",
    "        _safe_col_from(df, t.get('owner')).alias(\"Owner\"),\n",
    "        _safe_col_from(df, t.get('spend')).alias(\"TotalSpend\"),\n",
    "\n",
    "        # --- Impressions ---\n",
    "        _safe_col_from(df, t.get('all_impressions')).alias(\"All_TotalImpressions\"),\n",
    "        _safe_col_from(df, t.get('organic_impressions')).alias(\"Organic_TotalImpressions\"),\n",
    "        _safe_col_from(df, t.get('paid_impressions')).alias(\"Paid_TotalImpressions\"),\n",
    "\n",
    "        # --- Engagements ---\n",
    "        _safe_col_from(df, t.get('all_engagement')).alias(\"All_TotalEngagements\"),\n",
    "        _safe_col_from(df, t.get('organic_engagement')).alias(\"Organic_TotalEngagements\"),\n",
    "        _safe_col_from(df, t.get('paid_engagement')).alias(\"Paid_TotalEngagements\"),\n",
    "\n",
    "        # --- Weighted Engagements (Änderung 2: auf 2 Nachkommastellen) ---\n",
    "        F.round(_safe_col_from(df, t.get('all_weighted_engagement')).cast(\"double\"), 2).alias(\"All_TotalWeightedEngagements\"),\n",
    "        F.round(_safe_col_from(df, t.get('organic_weighted_engagement')).cast(\"double\"), 2).alias(\"Organic_TotalWeightedEngagements\"),\n",
    "        F.round(_safe_col_from(df, t.get('paid_weighted_engagement')).cast(\"double\"), 2).alias(\"Paid_TotalWeightedEngagements\"),\n",
    "\n",
    "        # --- Engagement Rate (Änderung 3: später 3 Nachkommastellen) ---\n",
    "        # --- Engagement Rate (inkl. All neu berechnet & richtig positioniert) ---\n",
    "        F.round(\n",
    "            F.when(\n",
    "                (_safe_col_from(df, t.get('all_impressions')).cast(\"double\") > 0),\n",
    "                (\n",
    "                    _safe_col_from(df, t.get('all_weighted_engagement')).cast(\"double\") /\n",
    "                    _safe_col_from(df, t.get('all_impressions')).cast(\"double\")\n",
    "                ) * 100\n",
    "            ).otherwise(0),\n",
    "            3\n",
    "        ).alias(\"All_TotalEngagementRateInPercent\"),\n",
    "        F.round(_safe_col_from(df, t.get('organic_engagement_rating')).cast(\"double\"), 3).alias(\"Organic_TotalEngagementRateInPercent\"),\n",
    "        F.round(_safe_col_from(df, t.get('paid_engagement_rating')).cast(\"double\"), 3).alias(\"Paid_TotalEngagementRating\"),\n",
    "\n",
    "        # --- Likes ---\n",
    "        _safe_col_from(df, t.get('all_total_likes')).alias(\"All_TotalLikes\"),\n",
    "        _safe_col_from(df, t.get('organic_total_likes')).alias(\"Organic_TotalLikes\"),\n",
    "        _safe_col_from(df, t.get('paid_total_likes')).alias(\"Paid_TotalLikes\"),\n",
    "\n",
    "        # --- Dislikes ---\n",
    "        _safe_col_from(df, t.get('all_total_dislikes')).alias(\"All_TotalDislikes\"),\n",
    "        _safe_col_from(df, t.get('organic_total_dislikes')).alias(\"Organic_TotalDislikes\"),\n",
    "        _safe_col_from(df, t.get('paid_total_dislikes')).alias(\"Paid_TotalDislikes\"),\n",
    "\n",
    "        # --- Comments ---\n",
    "        _safe_col_from(df, t.get('all_total_comments')).alias(\"All_TotalComments\"),\n",
    "        _safe_col_from(df, t.get('organic_total_comments')).alias(\"Organic_TotalComments\"),\n",
    "        _safe_col_from(df, t.get('paid_total_comments')).alias(\"Paid_TotalComments\"),\n",
    "\n",
    "        # --- Shares ---\n",
    "        _safe_col_from(df, t.get('all_total_shares')).alias(\"All_TotalShares\"),\n",
    "        _safe_col_from(df, t.get('organic_total_shares')).alias(\"Organic_TotalShares\"),\n",
    "        _safe_col_from(df, t.get('paid_total_shares')).alias(\"Paid_TotalShares\"),\n",
    "\n",
    "        # --- Clicks ---\n",
    "        _safe_col_from(df, t.get('all_total_clicks')).alias(\"All_TotalClicks\"),\n",
    "        _safe_col_from(df, t.get('organic_total_clicks')).alias(\"Organic_TotalClicks\"),\n",
    "        _safe_col_from(df, t.get('paid_total_clicks')).alias(\"Paid_TotalClicks\"),\n",
    "\n",
    "        # --- Reactions ---\n",
    "        _safe_col_from(df, t.get('all_total_reactions')).alias(\"All_TotalReactions\"),\n",
    "        _safe_col_from(df, t.get('organic_total_reactions')).alias(\"Organic_TotalReactions\"),\n",
    "        _safe_col_from(df, t.get('paid_total_reactions')).alias(\"Paid_TotalReactions\"),\n",
    "\n",
    "        # --- Saved ---\n",
    "        _safe_col_from(df, t.get('all_total_saved')).alias(\"All_TotalSaved\"),\n",
    "        _safe_col_from(df, t.get('organic_total_saved')).alias(\"Organic_TotalSaved\"),\n",
    "        _safe_col_from(df, t.get('paid_total_saved')).alias(\"Paid_TotalSaved\"),\n",
    "\n",
    "        # --- View Duration ---\n",
    "        _safe_col_from(df, t.get('all_average_view_duration')).alias(\"All_AverageViewDuration\"),\n",
    "\n",
    "        # --- KPIs ---\n",
    "        F.round(_safe_col_from(df, t.get('cpm')),2).alias(\"CPM\"),\n",
    "        F.round(_safe_col_from(df, t.get('cpc')),2).alias(\"CPC\"),\n",
    "        F.round(_safe_col_from(df, t.get('ctr')),2).alias(\"CTR\"),\n",
    "        F.round(_safe_col_from(df, t.get('cpv')),2).alias(\"CPV\"),\n",
    "        F.round(_safe_col_from(df, t.get('video_view_rate')),2).alias(\"VideoViewRate\"),\n",
    "        F.round(_safe_col_from(df, t.get('vtr')),2).alias(\"VTR\"),\n",
    "        F.round(_safe_col_from(df, t.get('cps')),2).alias(\"CPS\"),\n",
    "        F.round(_safe_col_from(df, t.get('click_to_session')),2).alias(\"Click_to_Session\"),\n",
    "\n",
    "        # --- Topics ---\n",
    "        F.col(\"StrategischesThema1\"),\n",
    "        F.col(\"StrategischesThema2\"),\n",
    "        F.col(\"StrategischesThema3\"),\n",
    "        F.col(\"Themenbereich1\"),\n",
    "        F.col(\"Themenbereich2\"),\n",
    "        F.col(\"Themenbereich3\"),\n",
    "    )\n",
    "\n",
    "    # # --- Berechnung: All_TotalEngagementRateInPercent (gerundet auf 3 Stellen) ---\n",
    "    # df_sel = df_sel.withColumn(\n",
    "    #     \"All_TotalEngagementRateInPercent\",\n",
    "    #     F.round(\n",
    "    #         F.when(\n",
    "    #             (F.col(\"All_TotalImpressions\").cast(\"double\") > 0),\n",
    "    #             (F.col(\"All_TotalWeightedEngagements\").cast(\"double\") /\n",
    "    #              F.col(\"All_TotalImpressions\").cast(\"double\")) * 100\n",
    "    #         ).otherwise(0),\n",
    "    #         3\n",
    "    #     )\n",
    "    # )\n",
    "\n",
    "    # Union aller Quellen\n",
    "    df_consolidated = df_sel if df_consolidated is None else df_consolidated.unionByName(df_sel, allowMissingColumns=True)\n",
    "\n",
    "# Anzeige\n",
    "# df_consolidated.display()\n"
   ]
  },
  {
   "cell_type": "markdown",
   "metadata": {
    "application/vnd.databricks.v1+cell": {
     "cellMetadata": {
      "byteLimit": 2048000,
      "rowLimit": 10000
     },
     "inputWidgets": {},
     "nuid": "56fb226b-bd54-4b7d-abd5-289a52810e1d",
     "showTitle": false,
     "tableResultSettingsMap": {},
     "title": ""
    }
   },
   "source": [
    "### Einheitliches PostType Mapping"
   ]
  },
  {
   "cell_type": "code",
   "execution_count": 0,
   "metadata": {
    "application/vnd.databricks.v1+cell": {
     "cellMetadata": {
      "byteLimit": 2048000,
      "rowLimit": 10000
     },
     "inputWidgets": {},
     "nuid": "26530742-0316-4bd1-8718-76d26eb274d3",
     "showTitle": false,
     "tableResultSettingsMap": {},
     "title": ""
    }
   },
   "outputs": [],
   "source": [
    "post_type_mapping = {\n",
    "    (\"YouTube\", \"Video\"): \"Video\",\n",
    "    (\"Facebook\", \"video_direct_response\"): \"Video\",\n",
    "    (\"Facebook\", \"video_inline\"): \"Video\",\n",
    "    (\"Facebook\", \"Ohne Post Type\"): \"Other\",\n",
    "    (\"Facebook\", \"album\"): \"Image\",\n",
    "    (\"Facebook\", \"share\"): \"Other\",\n",
    "    (\"Facebook\", \"photo\"): \"Image\",\n",
    "    (\"Facebook\", \"profile_media\"): \"Other\",\n",
    "    (\"Facebook\", \"cover_photo\"): \"Other\",\n",
    "    (\"Facebook\", \"multi_share\"): \"Carousel / Document\",\n",
    "    (\"Facebook\", \"multi_share_no_end_card\"): \"Other\",\n",
    "    (\"Instagram\", \"VIDEO\"): \"Video\",\n",
    "    (\"Instagram\", \"IMAGE\"): \"Image\",\n",
    "    (\"Instagram\", \"CAROUSEL_ALBUM\"): \"Carousel / Document\",\n",
    "    (\"Instagram\", \"Story\"): \"Story\",\n",
    "    (\"LinkedIn\", \"Article\"): \"Other\",\n",
    "    (\"LinkedIn\", \"Repost\"): \"Other\",\n",
    "    (\"LinkedIn\", \"Image\"): \"Image\",\n",
    "    (\"LinkedIn\", \"Poll\"): \"Poll\",\n",
    "    (\"LinkedIn\", \"Document\"): \"Carousel / Document\",\n",
    "    (\"LinkedIn\", \"Video\"): \"Video\",\n",
    "\n",
    "\n",
    "}\n",
    "\n",
    "\n",
    "\n",
    "def map_post_type(channel, post_type):\n",
    "    key = (channel, post_type)\n",
    "    return post_type_mapping.get(key, \"Keine Zuordnung möglich\")\n",
    "\n",
    "map_post_type_udf = udf(map_post_type, StringType())\n",
    "\n",
    "\n",
    "df_consolidated = df_consolidated.withColumn(\n",
    "    \"PostTypeGeneralized\",\n",
    "    map_post_type_udf(F.col(\"Channel\"), F.col(\"PostType\"))\n",
    ")\n",
    "\n",
    "df_consolidated = df_consolidated.drop(\"PostType\")\n",
    "df_consolidated = df_consolidated.withColumnRenamed(\"PostTypeGeneralized\", \"PostType\")"
   ]
  },
  {
   "cell_type": "markdown",
   "metadata": {
    "application/vnd.databricks.v1+cell": {
     "cellMetadata": {
      "byteLimit": 2048000,
      "rowLimit": 10000
     },
     "inputWidgets": {},
     "nuid": "d755ad4c-a7f2-4357-b588-3c8c82ebd6f0",
     "showTitle": false,
     "tableResultSettingsMap": {},
     "title": ""
    }
   },
   "source": [
    "#Write Table"
   ]
  },
  {
   "cell_type": "code",
   "execution_count": 0,
   "metadata": {
    "application/vnd.databricks.v1+cell": {
     "cellMetadata": {
      "byteLimit": 2048000,
      "rowLimit": 10000
     },
     "inputWidgets": {},
     "nuid": "60af4000-1357-4ef4-93bc-45bcc8e319ef",
     "showTitle": false,
     "tableResultSettingsMap": {},
     "title": ""
    }
   },
   "outputs": [],
   "source": [
    "fn_overwrite_table(df_source=df_consolidated, target_schema_name=target_schema_name, target_table_name=\"consolidated_socials_paid_organic_total\", target_path=target_path)"
   ]
  }
 ],
 "metadata": {
  "application/vnd.databricks.v1+notebook": {
   "computePreferences": null,
   "dashboards": [],
   "environmentMetadata": {
    "base_environment": "",
    "environment_version": "2"
   },
   "inputWidgetPreferences": null,
   "language": "python",
   "notebookMetadata": {
    "pythonIndentUnit": 4
   },
   "notebookName": "nb_transformed_consolidated_socials_paid_organic_total",
   "widgets": {}
  },
  "language_info": {
   "name": "python"
  }
 },
 "nbformat": 4,
 "nbformat_minor": 0
}
