{
 "cells": [
  {
   "cell_type": "markdown",
   "metadata": {
    "application/vnd.databricks.v1+cell": {
     "cellMetadata": {
      "byteLimit": 2048000,
      "rowLimit": 10000
     },
     "inputWidgets": {},
     "nuid": "0c164d65-6abe-4071-b14d-50e4dbcb36fe",
     "showTitle": false,
     "tableResultSettingsMap": {},
     "title": ""
    }
   },
   "source": [
    "# UK - Anbindung Paid Themen \n",
    "\n",
    "* Um was handelt es sich hier  (Kurzbeschreibung Inhalt):\n",
    "- Die Paid Data Transformatation von Outbrian\n",
    "\n",
    "\n",
    "---\n",
    "* QUELLEN:  \n",
    "- datif_dz_{}.`02_cleaned_uk_linkedin`.`010_outbrain_current_view`\n",
    "\n",
    "\n",
    "* ZIEL:  \n",
    "- datif_pz_uk_{}.03_transformed.outbrain_paid_daily\n",
    "\n",
    "---\n",
    "* Versionen (aktuelle immer oben):\n",
    "- 21.08.2025 Max Mustermann: init"
   ]
  },
  {
   "cell_type": "markdown",
   "metadata": {
    "application/vnd.databricks.v1+cell": {
     "cellMetadata": {
      "byteLimit": 2048000,
      "rowLimit": 10000
     },
     "inputWidgets": {},
     "nuid": "5f079c03-4a25-4a1f-a8c8-887b615445a6",
     "showTitle": false,
     "tableResultSettingsMap": {},
     "title": ""
    }
   },
   "source": [
    "\n",
    "# 1. Initialnotebooks & Libraries"
   ]
  },
  {
   "cell_type": "code",
   "execution_count": 0,
   "metadata": {
    "application/vnd.databricks.v1+cell": {
     "cellMetadata": {
      "byteLimit": 2048000,
      "rowLimit": 10000
     },
     "inputWidgets": {},
     "nuid": "db6e8fad-11fa-494c-a538-10d030679e50",
     "showTitle": false,
     "tableResultSettingsMap": {},
     "title": ""
    }
   },
   "outputs": [],
   "source": [
    "%run ../../common/nb_init"
   ]
  },
  {
   "cell_type": "code",
   "execution_count": 0,
   "metadata": {
    "application/vnd.databricks.v1+cell": {
     "cellMetadata": {
      "byteLimit": 2048000,
      "rowLimit": 10000
     },
     "inputWidgets": {},
     "nuid": "cbb8a0fb-8c2e-48c8-8978-4cd17b2e3b6d",
     "showTitle": false,
     "tableResultSettingsMap": {},
     "title": ""
    }
   },
   "outputs": [],
   "source": [
    "target_schema_name = \"03_transformed\"\n",
    "target_path = \"funnel\""
   ]
  },
  {
   "cell_type": "markdown",
   "metadata": {
    "application/vnd.databricks.v1+cell": {
     "cellMetadata": {
      "byteLimit": 2048000,
      "rowLimit": 10000
     },
     "inputWidgets": {},
     "nuid": "0b5be8cf-7562-4940-a5bd-ce50d9dc930e",
     "showTitle": false,
     "tableResultSettingsMap": {},
     "title": ""
    }
   },
   "source": [
    "## 03-transformed"
   ]
  },
  {
   "cell_type": "markdown",
   "metadata": {
    "application/vnd.databricks.v1+cell": {
     "cellMetadata": {
      "byteLimit": 2048000,
      "rowLimit": 10000
     },
     "inputWidgets": {},
     "nuid": "2e86ce5b-73b8-4ee1-ad15-18fa49e95a1e",
     "showTitle": false,
     "tableResultSettingsMap": {},
     "title": ""
    }
   },
   "source": [
    "### Outbrain Paid Daily"
   ]
  },
  {
   "cell_type": "code",
   "execution_count": 0,
   "metadata": {
    "application/vnd.databricks.v1+cell": {
     "cellMetadata": {
      "byteLimit": 2048000,
      "implicitDf": true,
      "rowLimit": 10000
     },
     "inputWidgets": {},
     "nuid": "baed57cb-87c4-4bf5-90d5-408e1a40276e",
     "showTitle": false,
     "tableResultSettingsMap": {},
     "title": ""
    }
   },
   "outputs": [],
   "source": [
    "spark.sql(f\"\"\"\n",
    "CREATE OR REPLACE VIEW datif_pz_uk_{env}.`03_transformed`.outbrain_paid_daily AS\n",
    "WITH outbrain AS (\n",
    "  SELECT\n",
    "    CAST(DATE_FORMAT(Date, 'yyyy-MM-dd')       AS DATE)                 AS Date,\n",
    "    CAST(Promoted_Link_ID__Outbrain            AS STRING)               AS AdID,\n",
    "    CAST(Campaign_Name__Outbrain               AS STRING)               AS CampaignName,\n",
    "    CAST(Ad_Name__Outbrain                     AS STRING)               AS AdName,\n",
    "    CAST(Content_Title__Outbrain               AS STRING)               AS Title,\n",
    "    CAST(Content_URL__Outbrain                 AS STRING)               AS Content_URL,\n",
    "    CAST(Image_URL__Outbrain                   AS STRING)               AS Image_URL,\n",
    "    CAST(Status__Outbrain                      AS STRING)               AS Status,\n",
    "    COALESCE(ROUND(CAST(Spend__Outbrain        AS DOUBLE), 2), 0)     AS Amount_Spend,\n",
    "    COALESCE(CAST(Clicks__Outbrain             AS INT), 0)              AS Clicks,\n",
    "    COALESCE(CAST(Impressions__Outbrain        AS INT), 0)              AS Impressions,\n",
    "    COALESCE(CAST(Clicks_on_Video__Outbrain    AS INT), 0)              AS Link_Clicks,\n",
    "    COALESCE(CAST(Video_Plays__Outbrain        AS INT), 0)              AS Video_View,\n",
    "    COALESCE(CAST(Video_Average_View_Duration__Outbrain AS INT), 0)     AS Video_Average_View\n",
    "  FROM datif_dz_{env}.`02_cleaned_uk_outbrain`.`010_outbrain_current_view`\n",
    "),\n",
    "ga4 AS (\n",
    "  SELECT\n",
    "    CAST(Session_campaign___GA4__Google_Analytics               AS STRING)               AS CampaignName,\n",
    "    CAST(DATE_FORMAT(Date, 'yyyy-MM-dd')                        AS DATE)                 AS Date,\n",
    "    COALESCE(CAST(SUM(Sessions___GA4__Google_Analytics)         AS INT), 0)              AS Sessions\n",
    "  FROM datif_dz_{env}.`02_cleaned_uk_ga4`.`008_ga4_sessions_views_path_current_view`\n",
    "  GROUP BY Session_campaign___GA4__Google_Analytics, Date\n",
    ")\n",
    "SELECT\n",
    "  o.Date,\n",
    "  o.AdID,\n",
    "  o.CampaignName,\n",
    "  o.AdName,\n",
    "  o.Title,\n",
    "  o.Content_URL,\n",
    "  o.Image_URL,\n",
    "  o.Status,\n",
    "  o.Amount_Spend,\n",
    "  o.Clicks,\n",
    "  o.Impressions,\n",
    "  o.Link_Clicks,\n",
    "  o.Video_View,\n",
    "  o.Video_Average_View,\n",
    "  COALESCE(g.Sessions, 0) AS Sessions\n",
    "FROM outbrain o\n",
    "LEFT JOIN ga4 g\n",
    "  ON o.CampaignName = g.CampaignName\n",
    "  AND o.Date         = g.Date\n",
    "\"\"\")\n"
   ]
  },
  {
   "cell_type": "markdown",
   "metadata": {
    "application/vnd.databricks.v1+cell": {
     "cellMetadata": {
      "byteLimit": 2048000,
      "rowLimit": 10000
     },
     "inputWidgets": {},
     "nuid": "90249430-b163-4de2-87e6-b1d3d76227a6",
     "showTitle": false,
     "tableResultSettingsMap": {},
     "title": ""
    }
   },
   "source": [
    "### Outbrain Paid Total"
   ]
  },
  {
   "cell_type": "code",
   "execution_count": 0,
   "metadata": {
    "application/vnd.databricks.v1+cell": {
     "cellMetadata": {
      "byteLimit": 2048000,
      "rowLimit": 10000
     },
     "inputWidgets": {},
     "nuid": "d23cf861-2ec0-4ece-b5b3-c63d8b345264",
     "showTitle": false,
     "tableResultSettingsMap": {},
     "title": ""
    }
   },
   "outputs": [],
   "source": [
    "%python\n",
    "df_daily = spark.read.table(f\"datif_pz_uk_{env}.03_transformed.outbrain_paid_daily\")\n",
    "\n",
    "df_total = (\n",
    "    df_daily.groupBy(\"AdID\").agg(\n",
    "        F.first(\"AdID\").alias(\"ID\"),\n",
    "        F.min(\"Date\").alias(\"CreatedDate\").cast('date'),\n",
    "        F.first(\"CampaignName\").alias(\"CampaignName\"),\n",
    "        F.first(\"AdName\").alias(\"AdName\"),\n",
    "        F.round(F.sum(\"Amount_Spend\"),2).alias(\"TotalSpend\").cast('Double'),\n",
    "        F.sum(\"Impressions\").alias(\"TotalImpressions\").cast('integer'),\n",
    "        F.sum(\"Clicks\").alias(\"TotalClicks\").cast('integer'),\n",
    "        F.sum(\"Link_Clicks\").alias(\"TotalLinkClicks\").cast('integer'),\n",
    "        F.sum(\"Video_View\").alias(\"TotalVideoView\").cast('integer'),\n",
    "        F.sum(\"Video_Average_View\").alias(\"TotalVideo_Average_View\").cast('integer'), \n",
    "        F.sum(\"Sessions\").alias(\"TotalSessions\").cast('integer'),\n",
    "    ).drop(\"AdID\")\n",
    "    .withColumn(\n",
    "        \"CPM\",\n",
    "        F.coalesce(\n",
    "            F.round(\n",
    "                F.when(F.col(\"TotalImpressions\") == 0, 0).otherwise(\n",
    "                    (F.col(\"TotalSpend\") / F.col(\"TotalImpressions\")) * 1000\n",
    "                ), 4\n",
    "            ),\n",
    "            F.lit(0)\n",
    "        )\n",
    "    )\n",
    "    .withColumn(\n",
    "        \"CPC\",\n",
    "        F.coalesce(\n",
    "            F.round(\n",
    "                F.when(F.col(\"TotalClicks\") == 0, 0).otherwise(\n",
    "                    F.col(\"TotalSpend\") / F.col(\"TotalClicks\")\n",
    "                ), 4\n",
    "            ),\n",
    "            F.lit(0)\n",
    "        )\n",
    "    )\n",
    "    .withColumn(\n",
    "        \"CTR\",\n",
    "        F.coalesce(\n",
    "            F.round(\n",
    "                F.when(F.col(\"TotalImpressions\") == 0, 0).otherwise(\n",
    "                    F.col(\"TotalClicks\") / F.col(\"TotalImpressions\")\n",
    "                ), 4\n",
    "            ),\n",
    "            F.lit(0)\n",
    "        )\n",
    "    )\n",
    "    .withColumn(\n",
    "        \"CPV\",\n",
    "        F.coalesce(\n",
    "            F.round(\n",
    "                F.when(F.col(\"TotalVideoView\") == 0, 0).otherwise(\n",
    "                    F.col(\"TotalSpend\") / F.col(\"TotalVideoView\")\n",
    "                ), 4\n",
    "            ),\n",
    "            F.lit(0)\n",
    "        )\n",
    "    )\n",
    "    .withColumn(\n",
    "        \"VideoViewRate\",\n",
    "        F.coalesce(\n",
    "            F.round(\n",
    "                F.when(F.col(\"TotalImpressions\") == 0, 0).otherwise(\n",
    "                    F.col(\"TotalVideoView\") / F.col(\"TotalImpressions\")\n",
    "                ), 4\n",
    "            ),\n",
    "            F.lit(0)\n",
    "        )\n",
    "    )\n",
    "    .withColumn(\n",
    "        \"CPS\",\n",
    "        F.coalesce(\n",
    "            F.round(\n",
    "                F.when(F.col(\"TotalSessions\") == 0, 0).otherwise(\n",
    "                    F.col(\"TotalSpend\") / F.col(\"TotalSessions\")\n",
    "                ), 4\n",
    "            ),\n",
    "            F.lit(0)\n",
    "        )\n",
    "    )\n",
    "    .withColumn(\n",
    "        \"Click-to-Session\",\n",
    "        F.coalesce(\n",
    "            F.round(\n",
    "                F.when(F.col(\"TotalClicks\") == 0, 0).otherwise(\n",
    "                    F.col(\"TotalSessions\") / F.col(\"TotalClicks\")\n",
    "                ), 4\n",
    "            ),\n",
    "            F.lit(0)\n",
    "        )\n",
    "    )\n",
    "    .drop(\"Clicks\", \"Link_Clicks\", \"Video_View\", \"Video_Average_View\")\n",
    "\n",
    ")\n",
    "\n",
    "fn_overwrite_table(df_source=df_total, target_schema_name=target_schema_name, target_table_name=\"outbrain_paid_total\", target_path=target_path)"
   ]
  }
 ],
 "metadata": {
  "application/vnd.databricks.v1+notebook": {
   "computePreferences": null,
   "dashboards": [],
   "environmentMetadata": {
    "base_environment": "",
    "environment_version": "2"
   },
   "inputWidgetPreferences": null,
   "language": "python",
   "notebookMetadata": {
    "mostRecentlyExecutedCommandWithImplicitDF": {
     "commandId": -1,
     "dataframes": [
      "_sqldf"
     ]
    },
    "pythonIndentUnit": 4
   },
   "notebookName": "nb_transformed_paid_outbrain",
   "widgets": {}
  },
  "language_info": {
   "name": "python"
  }
 },
 "nbformat": 4,
 "nbformat_minor": 0
}
