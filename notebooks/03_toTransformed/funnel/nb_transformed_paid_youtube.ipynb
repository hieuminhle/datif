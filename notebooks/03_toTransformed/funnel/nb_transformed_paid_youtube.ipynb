{
 "cells": [
  {
   "cell_type": "markdown",
   "metadata": {
    "application/vnd.databricks.v1+cell": {
     "cellMetadata": {
      "byteLimit": 2048000,
      "rowLimit": 10000
     },
     "inputWidgets": {},
     "nuid": "0c164d65-6abe-4071-b14d-50e4dbcb36fe",
     "showTitle": false,
     "tableResultSettingsMap": {},
     "title": ""
    }
   },
   "source": [
    "# UK - Anbindung Paid Themen \n",
    "\n",
    "* Um was handelt es sich hier  (Kurzbeschreibung Inhalt):\n",
    "- Die Paid Data Transformatation von Youtube\n",
    "\n",
    "\n",
    "---\n",
    "* QUELLEN:  \n",
    "- datif_dz_{}.`02_cleaned_uk_google_ads`.`017_google_ads_kkc_some_current_view`\n",
    "\n",
    "\n",
    "* ZIEL:  \n",
    "- datif_pz_uk_{}.03_transformed.youtube_paid_daily\n",
    "- datif_pz_uk_{}.03_transformed.youtube_paid_total\n",
    "\n",
    "---\n",
    "* Versionen (aktuelle immer oben):\n",
    "- 15.09.2025 Max Mustermann: Add Organic ID\n",
    "- 21.08.2025 Max Mustermann: init\n"
   ]
  },
  {
   "cell_type": "markdown",
   "metadata": {
    "application/vnd.databricks.v1+cell": {
     "cellMetadata": {
      "byteLimit": 2048000,
      "rowLimit": 10000
     },
     "inputWidgets": {},
     "nuid": "5f079c03-4a25-4a1f-a8c8-887b615445a6",
     "showTitle": false,
     "tableResultSettingsMap": {},
     "title": ""
    }
   },
   "source": [
    "\n",
    "# 1. Initialnotebooks & Libraries"
   ]
  },
  {
   "cell_type": "code",
   "execution_count": 0,
   "metadata": {
    "application/vnd.databricks.v1+cell": {
     "cellMetadata": {
      "byteLimit": 2048000,
      "rowLimit": 10000
     },
     "inputWidgets": {},
     "nuid": "db6e8fad-11fa-494c-a538-10d030679e50",
     "showTitle": false,
     "tableResultSettingsMap": {},
     "title": ""
    }
   },
   "outputs": [],
   "source": [
    "%run ../../common/nb_init"
   ]
  },
  {
   "cell_type": "code",
   "execution_count": 0,
   "metadata": {
    "application/vnd.databricks.v1+cell": {
     "cellMetadata": {
      "byteLimit": 2048000,
      "rowLimit": 10000
     },
     "inputWidgets": {},
     "nuid": "dfdd42d6-93f1-4a67-8703-816d26eb7f08",
     "showTitle": false,
     "tableResultSettingsMap": {},
     "title": ""
    }
   },
   "outputs": [],
   "source": [
    "target_schema_name = \"03_transformed\"\n",
    "target_path = \"funnel\""
   ]
  },
  {
   "cell_type": "markdown",
   "metadata": {
    "application/vnd.databricks.v1+cell": {
     "cellMetadata": {
      "byteLimit": 2048000,
      "rowLimit": 10000
     },
     "inputWidgets": {},
     "nuid": "0b5be8cf-7562-4940-a5bd-ce50d9dc930e",
     "showTitle": false,
     "tableResultSettingsMap": {},
     "title": ""
    }
   },
   "source": [
    "## 03-transformed"
   ]
  },
  {
   "cell_type": "markdown",
   "metadata": {
    "application/vnd.databricks.v1+cell": {
     "cellMetadata": {
      "byteLimit": 2048000,
      "rowLimit": 10000
     },
     "inputWidgets": {},
     "nuid": "7742d2cb-987b-4e99-a316-5574b98f9713",
     "showTitle": false,
     "tableResultSettingsMap": {},
     "title": ""
    }
   },
   "source": [
    "### Youtube Paid Daily"
   ]
  },
  {
   "cell_type": "code",
   "execution_count": 0,
   "metadata": {
    "application/vnd.databricks.v1+cell": {
     "cellMetadata": {
      "byteLimit": 2048000,
      "rowLimit": 10000
     },
     "inputWidgets": {},
     "nuid": "f27cb4c5-d8db-436d-b3ce-c3ba7adce515",
     "showTitle": false,
     "tableResultSettingsMap": {},
     "title": ""
    }
   },
   "outputs": [],
   "source": [
    "spark.sql(f\"\"\"\n",
    "CREATE OR REPLACE VIEW datif_pz_uk_{env}.03_transformed.youtube_paid_daily AS\n",
    "SELECT\n",
    "    First(CAST(DATE_FORMAT(Date, 'yyyy-MM-dd') as DATE)) as Date,\n",
    "    First(CAST(Ad_ID__Google_Ads AS STRING)) as AdID,\n",
    "    First(CAST(Campaign__Google_Ads AS STRING)) as CampaignName,\n",
    "    First(CAST(Ad_Group_Name__Google_Ads AS STRING)) as AdSetName,\n",
    "    First(CAST(Ad_Name__Google_Ads AS STRING)) AS AdName,\n",
    "    First(CAST(Ad_Type__Google_Ads AS STRING)) as Campaign_Objective,\n",
    "    Sum(COALESCE(ROUND(CAST(Cost__Google_Ads AS Double),2),0)) as Amount_Spend,\n",
    "    Sum(COALESCE(CAST(Clicks__Google_Ads AS INTEGER),0)) as Clicks,\n",
    "    Sum(COALESCE(CAST(Impressions__Google_Ads AS INTEGER),0)) as Impressions,\n",
    "    Sum(COALESCE(CAST(Engagements__Google_Ads AS INTEGER),0)) as Engagements,\n",
    "    Sum(COALESCE(CAST(Conversions__Google_Ads AS INTEGER),0)) as Conversions,\n",
    "    Sum(COALESCE(CAST(Video_views__Google_Ads AS INTEGER),0)) as Video_View,\n",
    "    Sum(COALESCE(CAST(Views_100__Google_Ads AS INTEGER), 0)) as Video_100,\n",
    "\n",
    "    -- OrganicID-Logik: Alles nach letztem \"!\" oder \"Dark Post\"\n",
    "    CASE \n",
    "        WHEN AdName LIKE '%!%' \n",
    "        THEN REGEXP_EXTRACT(AdName, '!([^!]+)$', 1)\n",
    "        ELSE 'Dark Post'\n",
    "    END AS OrganicID\n",
    "\n",
    "FROM datif_dz_{env}.`02_cleaned_uk_google_ads`.`017_google_ads_kkc_some_current_view`\n",
    "GROUP BY Date, Ad_ID__Google_Ads\n",
    "\"\"\")\n"
   ]
  },
  {
   "cell_type": "markdown",
   "metadata": {
    "application/vnd.databricks.v1+cell": {
     "cellMetadata": {
      "byteLimit": 2048000,
      "rowLimit": 10000
     },
     "inputWidgets": {},
     "nuid": "8332349f-7a3e-49ff-a39d-3a13930df3ba",
     "showTitle": false,
     "tableResultSettingsMap": {},
     "title": ""
    }
   },
   "source": [
    "### Youtube Paid Total"
   ]
  },
  {
   "cell_type": "code",
   "execution_count": 0,
   "metadata": {
    "application/vnd.databricks.v1+cell": {
     "cellMetadata": {
      "byteLimit": 2048000,
      "rowLimit": 10000
     },
     "inputWidgets": {},
     "nuid": "a86b9e96-c772-4bfb-8619-85b735ec6b74",
     "showTitle": false,
     "tableResultSettingsMap": {},
     "title": ""
    }
   },
   "outputs": [],
   "source": [
    "df_daily = spark.read.table(f\"datif_pz_uk_{env}.03_transformed.youtube_paid_daily\")\n",
    "\n",
    "df_total = (\n",
    "    df_daily.groupBy(\"AdID\").agg(\n",
    "        F.first(\"AdID\").alias(\"ID\"),\n",
    "        F.first(\"OrganicID\").alias(\"OrganicID\"),\n",
    "        F.min(\"Date\").alias(\"CreatedDate\").cast('date'),\n",
    "        F.first(\"CampaignName\").alias(\"CampaignName\"),\n",
    "        F.first(\"AdSetName\").alias(\"AdSetName\"),\n",
    "        F.first(\"AdName\").alias(\"AdName\"),\n",
    "        F.round(F.sum(\"Amount_Spend\"),2).alias(\"TotalSpend\").cast('Double'),\n",
    "        F.sum(\"Impressions\").alias(\"TotalImpressions\").cast('integer'),\n",
    "        F.sum(\"Clicks\").alias(\"TotalClicks\").cast('integer'),\n",
    "        F.sum(\"Video_View\").alias(\"TotalVideoView\").cast('integer'),\n",
    "        F.sum(\"Video_100\").alias(\"TotalVideo_100\").cast('integer'),\n",
    "        F.sum(\"Engagements\").alias(\"TotalEngagement\").cast('integer')\n",
    "    ).drop(\"AdID\")\n",
    "    .withColumn(\n",
    "        \"CPM\",\n",
    "        F.coalesce(\n",
    "            F.round(\n",
    "                F.when(F.col(\"TotalImpressions\") == 0, 0).otherwise(\n",
    "                    (F.col(\"TotalSpend\") / F.col(\"TotalImpressions\")) * 1000\n",
    "                ), 4\n",
    "            ),\n",
    "            F.lit(0)\n",
    "        )\n",
    "    )\n",
    "    .withColumn(\n",
    "        \"CPC\",\n",
    "        F.coalesce(\n",
    "            F.round(\n",
    "                F.when(F.col(\"TotalClicks\") == 0, 0).otherwise(\n",
    "                    F.col(\"TotalSpend\") / F.col(\"TotalClicks\")\n",
    "                ), 4\n",
    "            ),\n",
    "            F.lit(0)\n",
    "        )\n",
    "    )\n",
    "    .withColumn(\n",
    "        \"CTR\",\n",
    "        F.coalesce(\n",
    "            F.round(\n",
    "                F.when(F.col(\"TotalImpressions\") == 0, 0).otherwise(\n",
    "                    F.col(\"TotalClicks\") / F.col(\"TotalImpressions\")\n",
    "                ), 4\n",
    "            ),\n",
    "            F.lit(0)\n",
    "        )\n",
    "    )\n",
    "    .withColumn(\n",
    "        \"CPV\",\n",
    "        F.coalesce(\n",
    "            F.round(\n",
    "                F.when(F.col(\"TotalVideoView\") == 0, 0).otherwise(\n",
    "                    F.col(\"TotalSpend\") / F.col(\"TotalVideoView\")\n",
    "                ), 4\n",
    "            ),\n",
    "            F.lit(0)\n",
    "        )\n",
    "    )\n",
    "    .withColumn(\n",
    "        \"VideoViewRate\",\n",
    "        F.coalesce(\n",
    "            F.round(\n",
    "                F.when(F.col(\"TotalImpressions\") == 0, 0).otherwise(\n",
    "                    F.col(\"TotalVideoView\") / F.col(\"TotalImpressions\")\n",
    "                ), 4\n",
    "            ),\n",
    "            F.lit(0)\n",
    "        )\n",
    "    )\n",
    "    .withColumn(\n",
    "        \"VTR\",\n",
    "        F.coalesce(\n",
    "            F.round(\n",
    "                F.when(F.col(\"TotalVideoView\") == 0, 0).otherwise(\n",
    "                    F.col(\"TotalVideo_100\") / F.col(\"TotalVideoView\")\n",
    "                ), 4\n",
    "            ),\n",
    "            F.lit(0)\n",
    "        )\n",
    "    )\n",
    "    .drop(\"AdSetName\", \"Clicks\", \"Video_View\", \"Video_100\")\n",
    ")\n",
    "\n",
    "fn_overwrite_table(df_source=df_total, target_schema_name=target_schema_name, target_table_name=\"youtube_paid_total\", target_path=target_path)"
   ]
  },
  {
   "cell_type": "markdown",
   "metadata": {
    "application/vnd.databricks.v1+cell": {
     "cellMetadata": {
      "byteLimit": 2048000,
      "rowLimit": 10000
     },
     "inputWidgets": {},
     "nuid": "9b270c12-1f0f-43e3-8267-61c45dbb2e42",
     "showTitle": false,
     "tableResultSettingsMap": {},
     "title": ""
    }
   },
   "source": []
  }
 ],
 "metadata": {
  "application/vnd.databricks.v1+notebook": {
   "computePreferences": null,
   "dashboards": [],
   "environmentMetadata": {
    "base_environment": "",
    "environment_version": "2"
   },
   "inputWidgetPreferences": null,
   "language": "python",
   "notebookMetadata": {
    "pythonIndentUnit": 4
   },
   "notebookName": "nb_transformed_paid_youtube",
   "widgets": {}
  },
  "language_info": {
   "name": "python"
  }
 },
 "nbformat": 4,
 "nbformat_minor": 0
}
