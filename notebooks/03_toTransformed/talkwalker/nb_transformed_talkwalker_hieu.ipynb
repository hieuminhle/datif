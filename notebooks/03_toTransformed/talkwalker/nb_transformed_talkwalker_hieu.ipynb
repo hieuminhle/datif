{
 "cells": [
  {
   "cell_type": "markdown",
   "metadata": {
    "application/vnd.databricks.v1+cell": {
     "cellMetadata": {
      "byteLimit": 2048000,
      "rowLimit": 10000
     },
     "inputWidgets": {},
     "nuid": "bbbb864a-ba66-4855-a21f-8c34cda4bec4",
     "showTitle": false,
     "tableResultSettingsMap": {},
     "title": ""
    }
   },
   "source": [
    "# 03-transformed: Transformation der Talkwalker Daten\n",
    "\n",
    "* Um was handelt es sich hier  (Kurzbeschreibung Inhalt):  \n",
    "Die Talkwalker Daten transformieren um die Daten für die Marts vorzubereiten\n",
    "\n",
    "\n",
    "---\n",
    "## QUELLEN:  \n",
    "- Unity-Catalog: \n",
    "  - datif_pz_uk_dev.03-transformed.talkwalker_cleaned\n",
    "\n",
    "## ZIEL  \n",
    "- Unity-Catalog: \n",
    "  - datif_pz_uk_dev.03-transformed.talkwalker_data\n",
    "\n",
    "  \n",
    "---\n",
    "* Versionen (aktuelle immer oben):\n",
    "-12.08.2025 Minh Hieu Le: Init"
   ]
  },
  {
   "cell_type": "code",
   "execution_count": 0,
   "metadata": {
    "application/vnd.databricks.v1+cell": {
     "cellMetadata": {
      "byteLimit": 2048000,
      "rowLimit": 10000
     },
     "inputWidgets": {},
     "nuid": "dce0c8a8-1739-4b30-920f-42a675834ee1",
     "showTitle": false,
     "tableResultSettingsMap": {},
     "title": ""
    }
   },
   "outputs": [],
   "source": [
    "%run ../../common/nb_init"
   ]
  },
  {
   "cell_type": "code",
   "execution_count": 0,
   "metadata": {
    "application/vnd.databricks.v1+cell": {
     "cellMetadata": {
      "byteLimit": 2048000,
      "rowLimit": 10000
     },
     "inputWidgets": {},
     "nuid": "66d81a38-8242-4309-aba4-bb24d885e0a0",
     "showTitle": false,
     "tableResultSettingsMap": {},
     "title": ""
    }
   },
   "outputs": [],
   "source": [
    "# Define schema name and path to store tables\n",
    "target_schema_name = \"03_transformed\"\n",
    "target_path = \"talkwalker_transformed\"\n",
    "target_table_name=\"talkwalker_data\"\n",
    "# Set source and trg path\n",
    "source_path = sta_endpoint_pz_uk[\"03_transformed\"] + \"/talkwalker\""
   ]
  },
  {
   "cell_type": "code",
   "execution_count": 0,
   "metadata": {
    "application/vnd.databricks.v1+cell": {
     "cellMetadata": {
      "byteLimit": 2048000,
      "rowLimit": 10000
     },
     "inputWidgets": {},
     "nuid": "66c52c64-bca6-452a-8525-39b4d4f14eff",
     "showTitle": false,
     "tableResultSettingsMap": {},
     "title": ""
    }
   },
   "outputs": [],
   "source": [
    "from pyspark.sql.functions import col"
   ]
  },
  {
   "cell_type": "code",
   "execution_count": 0,
   "metadata": {
    "application/vnd.databricks.v1+cell": {
     "cellMetadata": {
      "byteLimit": 2048000,
      "rowLimit": 10000
     },
     "inputWidgets": {},
     "nuid": "ece91037-fbc8-4909-8da6-acf80bc3d3eb",
     "showTitle": false,
     "tableResultSettingsMap": {},
     "title": ""
    }
   },
   "outputs": [],
   "source": [
    "spark.sql(\n",
    "    f\"\"\"\n",
    "    CREATE OR REPLACE VIEW datif_pz_uk_{env}.{target_schema_name}.{target_table_name} AS\n",
    "    WITH ranked AS (\n",
    "        SELECT \n",
    "            * ,\n",
    "            ROW_NUMBER() OVER (\n",
    "                PARTITION BY indexed\n",
    "                ORDER BY indexed\n",
    "                --   CASE WHEN subtopic = 'EnBW Vorstand' THEN 1 ELSE 2 END\n",
    "            ) AS rn\n",
    "        FROM datif_pz_uk_{env}.`02_cleaned`.talkwalker_cleaned\n",
    "        WHERE url IS NOT NULL AND url != '' -- AND NOT isnan(url)\n",
    "          AND lang IN ('de', 'en')\n",
    "    )\n",
    "    SELECT \n",
    "        TO_TIMESTAMP(published, 'yyyy-MM-dd HH:mm:ss') AS `Veröffentlichungsdatum`,\n",
    "        TO_TIMESTAMP(indexed, 'yyyy-MM-dd HH:mm:ss') AS `ID`,\n",
    "        lang AS `Sprache`,\n",
    "        sentiment AS `Tonalität`,\n",
    "        INITCAP(regexp_extract(domain_url, 'https?://(?:www\\\\.)?([^\\\\.]+)\\\\.', 1)) AS `Quelle`,\n",
    "        -- subtopic AS `Themenquelle`,\n",
    "        source_type[0] AS `QuellTyp`,\n",
    "        post_type[0] AS `Posttyp`,\n",
    "        url AS `URL`,\n",
    "        CASE \n",
    "            WHEN source_type[0] != \"SOCIALMEDIA\" THEN title\n",
    "            ELSE content\n",
    "        END AS `Titel`,\n",
    "        content AS `Kontext`,\n",
    "        CASE \n",
    "            WHEN isnan(engagement) OR engagement IS NULL THEN 0\n",
    "            ELSE engagement\n",
    "        END AS Engagement,\n",
    "        CASE \n",
    "            WHEN isnan(reach) OR reach IS NULL THEN 0\n",
    "            ELSE reach\n",
    "        END AS `Reichweite`,\n",
    "        CASE \n",
    "            WHEN isnan(estimated_reach) OR estimated_reach IS NULL THEN 0\n",
    "            ELSE estimated_reach\n",
    "        END AS `Geschätzte Reichweite`\n",
    "    FROM ranked\n",
    "    WHERE rn = 1\n",
    "    \"\"\"\n",
    ")\n"
   ]
  },
  {
   "cell_type": "code",
   "execution_count": 0,
   "metadata": {
    "application/vnd.databricks.v1+cell": {
     "cellMetadata": {
      "byteLimit": 2048000,
      "rowLimit": 10000
     },
     "inputWidgets": {},
     "nuid": "63f7f132-004d-4c96-93f7-7bbe580c8988",
     "showTitle": false,
     "tableResultSettingsMap": {
      "0": {
       "dataGridStateBlob": "{\"version\":1,\"tableState\":{\"columnPinning\":{\"left\":[\"#row_number#\"],\"right\":[]},\"columnSizing\":{\"ID\":169},\"columnVisibility\":{}},\"settings\":{\"columns\":{\"URL\":{\"format\":{\"preset\":\"string-preset-url\"}}}},\"syncTimestamp\":1755682687485}",
       "filterBlob": null,
       "queryPlanFiltersBlob": null,
       "tableResultIndex": 0
      }
     },
     "title": ""
    }
   },
   "outputs": [],
   "source": [
    "df = spark.sql(f\"SELECT * FROM datif_pz_uk_{env}.{target_schema_name}.{target_table_name}\")\n",
    "\n",
    "display(df)"
   ]
  }
 ],
 "metadata": {
  "application/vnd.databricks.v1+notebook": {
   "computePreferences": null,
   "dashboards": [],
   "environmentMetadata": {
    "base_environment": "",
    "environment_version": "2"
   },
   "inputWidgetPreferences": null,
   "language": "python",
   "notebookMetadata": {
    "pythonIndentUnit": 4
   },
   "notebookName": "nb_transformed_talkwalker_hieu",
   "widgets": {}
  },
  "language_info": {
   "name": "python"
  }
 },
 "nbformat": 4,
 "nbformat_minor": 0
}
