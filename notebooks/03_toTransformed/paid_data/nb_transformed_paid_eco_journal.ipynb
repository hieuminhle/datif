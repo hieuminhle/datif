{
 "cells": [
  {
   "cell_type": "markdown",
   "metadata": {
    "application/vnd.databricks.v1+cell": {
     "cellMetadata": {
      "byteLimit": 2048000,
      "rowLimit": 10000
     },
     "inputWidgets": {},
     "nuid": "bbbb864a-ba66-4855-a21f-8c34cda4bec4",
     "showTitle": false,
     "tableResultSettingsMap": {},
     "title": ""
    }
   },
   "source": [
    "# 03-transformed: Transformation der Paid Eco Journal Daten\n",
    "\n",
    "* Um was handelt es sich hier  (Kurzbeschreibung Inhalt):  \n",
    "Die Paid Eco Journal Daten transformieren um die Daten für die Marts vorzubereiten\n",
    "\n",
    "\n",
    "---\n",
    "## QUELLEN:  \n",
    "- Unity-Catalog: \n",
    "  - datif_dz_dev.02_cleaned_uk_facebook.019_meta_ads_c_kkc_eco_journal\n",
    "  - datif_dz_dev.02_cleaned_uk_facebook.019_meta_ads_c_kkc_eco_journal_current_view\n",
    "  - datif_dz_dev.02_cleaned_uk_facebook.019_meta_ads_c_kkc_eco_journal_scd2_view\n",
    "  \n",
    "## ZIEL  \n",
    "- Unity-Catalog: \n",
    "  - datif_pz_uk_dev.03_transformed.paid_eco_journal_total\n",
    "  - datif_pz_uk_dev.03_transformed.paid_eco_journal_daily\n",
    "  - datif_pz_uk_dev.03_transformed.paid_eco_journal_scd2_view\n",
    "\n",
    "  \n",
    "---\n",
    "* Versionen (aktuelle immer oben):\n",
    "  - 26.08.2025 Minh Hieu Le: Init\n",
    "  - 03.09.2025 Minh Hieu Le: Add metrics"
   ]
  },
  {
   "cell_type": "code",
   "execution_count": 0,
   "metadata": {
    "application/vnd.databricks.v1+cell": {
     "cellMetadata": {
      "byteLimit": 2048000,
      "rowLimit": 10000
     },
     "inputWidgets": {},
     "nuid": "dce0c8a8-1739-4b30-920f-42a675834ee1",
     "showTitle": false,
     "tableResultSettingsMap": {},
     "title": ""
    }
   },
   "outputs": [],
   "source": [
    "%run ../../common/nb_init"
   ]
  },
  {
   "cell_type": "code",
   "execution_count": 0,
   "metadata": {
    "application/vnd.databricks.v1+cell": {
     "cellMetadata": {
      "byteLimit": 2048000,
      "rowLimit": 10000
     },
     "inputWidgets": {},
     "nuid": "66d81a38-8242-4309-aba4-bb24d885e0a0",
     "showTitle": false,
     "tableResultSettingsMap": {},
     "title": ""
    }
   },
   "outputs": [],
   "source": [
    "# Define schema name and path to store tables\n",
    "target_schema_name = \"03_transformed\"\n",
    "target_path = \"paid_data\"\n",
    "# Set source and trg path\n",
    "source_path = sta_endpoint_pz_uk[\"03_transformed\"] + \"/paid_eco_journal\""
   ]
  },
  {
   "cell_type": "code",
   "execution_count": 0,
   "metadata": {
    "application/vnd.databricks.v1+cell": {
     "cellMetadata": {
      "byteLimit": 2048000,
      "rowLimit": 10000
     },
     "inputWidgets": {},
     "nuid": "66c52c64-bca6-452a-8525-39b4d4f14eff",
     "showTitle": false,
     "tableResultSettingsMap": {},
     "title": ""
    }
   },
   "outputs": [],
   "source": [
    "from pyspark.sql.functions import col, when, round, sum, first"
   ]
  },
  {
   "cell_type": "markdown",
   "metadata": {
    "application/vnd.databricks.v1+cell": {
     "cellMetadata": {
      "byteLimit": 2048000,
      "rowLimit": 10000
     },
     "inputWidgets": {},
     "nuid": "568dd571-659e-4e5a-a14f-84bc50d2bdf6",
     "showTitle": false,
     "tableResultSettingsMap": {},
     "title": ""
    }
   },
   "source": [
    "## Paid Eco Journal Daily View"
   ]
  },
  {
   "cell_type": "code",
   "execution_count": 0,
   "metadata": {
    "application/vnd.databricks.v1+cell": {
     "cellMetadata": {
      "byteLimit": 2048000,
      "rowLimit": 10000
     },
     "inputWidgets": {},
     "nuid": "59e850fc-fd53-4cee-a183-65722c47ca11",
     "showTitle": false,
     "tableResultSettingsMap": {
      "0": {
       "dataGridStateBlob": "{\"version\":1,\"tableState\":{\"columnPinning\":{\"left\":[\"#row_number#\"],\"right\":[]},\"columnSizing\":{\"Ad_ID\":143,\"LOAD_TS\":225},\"columnVisibility\":{}},\"settings\":{\"columns\":{}},\"syncTimestamp\":1756806990637}",
       "filterBlob": null,
       "queryPlanFiltersBlob": null,
       "tableResultIndex": 0
      }
     },
     "title": ""
    }
   },
   "outputs": [],
   "source": [
    "df_daily = spark.read.table(f\"datif_dz_{env}.02_cleaned_uk_facebook.019_meta_ads_c_kkc_eco_journal_current_view\")\n",
    "\n",
    "df_daily = (\n",
    "    df_daily.withColumnRenamed(\"Ad_ID__Facebook_Ads\", \"Ad_ID\")\n",
    "        .withColumnRenamed(\"Campaign_Name__Facebook_Ads\", \"Campaign_Name\")\n",
    "        .withColumnRenamed(\"Ad_Name__Facebook_Ads\", \"Ad_Name\")\n",
    "        .withColumnRenamed(\"Ad_Set_Name__Facebook_Ads\", \"Ad_Set_Name\")\n",
    "        .withColumnRenamed(\"Amount_Spent__Facebook_Ads\", \"Amount_Spent\")\n",
    "        .withColumnRenamed(\"Impressions__Facebook_Ads\", \"Impressions\")\n",
    "        .withColumnRenamed(\"Clicks_all__Facebook_Ads\", \"Clicks\")\n",
    "        .withColumnRenamed(\"Link_Clicks__Facebook_Ads\", \"Link_Clicks\")\n",
    "        .withColumnRenamed(\"Post_Saves__Facebook_Ads\", \"Post_Saves\")\n",
    "        .withColumnRenamed(\"Post_Shares__Facebook_Ads\", \"Post_Shares\")\n",
    "        .withColumnRenamed(\"Post_Comments__Facebook_Ads\", \"Post_Comments\")\n",
    "        .withColumnRenamed(\"Post_Reactions__Facebook_Ads\", \"Post_Reactions\")\n",
    "        .withColumnRenamed(\"n_3_Second_Video_Views__Facebook_Ads\", \"Second_Video_Views\")\n",
    ")\n",
    "\n",
    "df_daily = df_daily.withColumn(\n",
    "    \"Date\",\n",
    "    col(\"Date\").cast(\"date\")\n",
    " )\n",
    "\n",
    "df_daily = df_daily.withColumn(\n",
    "    \"Amount_Spent\",\n",
    "    col(\"Amount_Spent\").cast(\"double\")\n",
    ")\n",
    "\n",
    "df_daily = df_daily.withColumn(\n",
    "    \"Impressions\",\n",
    "    col(\"Impressions\").cast(\"int\")\n",
    ")\n",
    "\n",
    "df_daily = df_daily.withColumn(\n",
    "    \"Clicks\",\n",
    "    col(\"Clicks\").cast(\"int\")\n",
    ")\n",
    "\n",
    "df_daily = df_daily.withColumn(\n",
    "    \"Link_Clicks\",\n",
    "    col(\"Link_Clicks\").cast(\"int\")\n",
    ")\n",
    "\n",
    "df_daily = df_daily.withColumn(\n",
    "    \"Post_Saves\",\n",
    "    col(\"Post_Saves\").cast(\"int\")\n",
    ")\n",
    "\n",
    "df_daily = df_daily.withColumn(\n",
    "    \"Post_Shares\",\n",
    "    col(\"Post_Shares\").cast(\"int\")\n",
    ")\n",
    "\n",
    "df_daily = df_daily.withColumn(\n",
    "    \"Post_Comments\",\n",
    "    col(\"Post_Comments\").cast(\"int\")\n",
    ")\n",
    "\n",
    "df_daily = df_daily.withColumn(\n",
    "    \"Post_Reactions\",\n",
    "    col(\"Post_Reactions\").cast(\"int\")\n",
    ")\n",
    "\n",
    "df_daily = df_daily.withColumn(\n",
    "    \"Second_Video_Views\",\n",
    "    col(\"Second_Video_Views\").cast(\"int\")\n",
    ")\n",
    "\n",
    "df_daily = df_daily.withColumn(\n",
    "    \"WeightedEngagement\",\n",
    "    round(col(\"Post_Comments\")*0.4 + col(\"Post_Shares\")*0.1 + col(\"Link_Clicks\")*0.3 + col(\"Post_Reactions\")*0.2,2)\n",
    ")\n",
    "\n",
    "df_daily = df_daily.withColumn(\n",
    "    \"EngagementRate\",\n",
    "    round(when(col(\"Impressions\") == 0, 0).otherwise(col(\"WeightedEngagement\")/col(\"Impressions\")),2)\n",
    ")\n",
    "\n",
    "display(df_daily)\n",
    "fn_overwrite_table(df_source=df_daily, target_schema_name=target_schema_name, target_table_name=\"paid_eco_journal_daily\", target_path=target_path)"
   ]
  },
  {
   "cell_type": "markdown",
   "metadata": {
    "application/vnd.databricks.v1+cell": {
     "cellMetadata": {
      "byteLimit": 2048000,
      "rowLimit": 10000
     },
     "inputWidgets": {},
     "nuid": "33205e6d-a2dd-4650-9962-aadd65f19b56",
     "showTitle": false,
     "tableResultSettingsMap": {},
     "title": ""
    }
   },
   "source": [
    "## Paid Eco Journal Total"
   ]
  },
  {
   "cell_type": "code",
   "execution_count": 0,
   "metadata": {
    "application/vnd.databricks.v1+cell": {
     "cellMetadata": {
      "byteLimit": 2048000,
      "rowLimit": 10000
     },
     "inputWidgets": {},
     "nuid": "aa23a618-30ad-4b81-aa5e-48c7a8a38c20",
     "showTitle": false,
     "tableResultSettingsMap": {
      "0": {
       "dataGridStateBlob": "{\"version\":1,\"tableState\":{\"columnPinning\":{\"left\":[\"#row_number#\"],\"right\":[]},\"columnSizing\":{\"Ad_ID\":163},\"columnVisibility\":{}},\"settings\":{\"columns\":{}},\"syncTimestamp\":1756806377176}",
       "filterBlob": null,
       "queryPlanFiltersBlob": null,
       "tableResultIndex": 0
      }
     },
     "title": ""
    }
   },
   "outputs": [],
   "source": [
    "df_total = df_daily.groupby(\"Ad_ID\").agg(\n",
    "    first(\"Campaign_Name\").alias(\"Campaign_Name\"),\n",
    "    first(\"Ad_Name\").alias(\"Ad_Name\"),\n",
    "    first(\"Ad_Set_Name\").alias(\"Ad_Set_Name\"),\n",
    "    first(\"LOAD_TS\").alias(\"Load_Timestamp\"),\n",
    "    sum(col(\"Impressions\")).alias(\"Impressions\"),\n",
    "    sum(col(\"Clicks\")).alias(\"Clicks\"),\n",
    "    sum(col(\"Link_Clicks\")).alias(\"Link_Clicks\"),\n",
    "    sum(col(\"Post_Saves\")).alias(\"Post_Saves\"),\n",
    "    sum(col(\"Post_Shares\")).alias(\"Post_Shares\"),\n",
    "    sum(col(\"Post_Comments\")).alias(\"Post_Comments\"),\n",
    "    sum(col(\"Post_Reactions\")).alias(\"Post_Reactions\"),\n",
    "    sum(col(\"Second_Video_Views\")).alias(\"Second_Video_Views\"),\n",
    "    sum(col(\"Amount_Spent\")).alias(\"Amount_Spent\")\n",
    ")\n",
    "\n",
    "df_total = df_total.withColumn(\n",
    "    \"Amount_Spent\",\n",
    "    round(col(\"Amount_Spent\"), 2)\n",
    ")\n",
    "\n",
    "df_total = df_total.withColumn(\n",
    "    \"WeightedEngagement\",\n",
    "    round(col(\"Post_Comments\")*0.4 + col(\"Post_Shares\")*0.1 + col(\"Link_Clicks\")*0.3 + col(\"Post_Reactions\")*0.2, 2)\n",
    ")\n",
    "\n",
    "df_total = df_total.withColumn(\n",
    "    \"EngagementRate\",\n",
    "    round((when(col(\"Impressions\") == 0, 0).otherwise(col(\"WeightedEngagement\")/col(\"Impressions\")))*100, 2)\n",
    ")\n",
    "\n",
    "df_total = df_total.withColumn(\n",
    "    \"CPM\",\n",
    "    round(when(col(\"Impressions\") == 0, 0).otherwise(col(\"Amount_Spent\")/(col(\"Impressions\")/1000)), 2)\n",
    ")\n",
    "\n",
    "df_total = df_total.withColumn(\n",
    "    \"CPC\",\n",
    "    round(when(col(\"Clicks\") == 0, 0).otherwise(col(\"Amount_Spent\")/col(\"Clicks\")), 2)\n",
    ")\n",
    "\n",
    "df_total = df_total.withColumn(\n",
    "    \"CTR\",\n",
    "    round((when(col(\"Impressions\") == 0, 0).otherwise(col(\"Clicks\")/col(\"Impressions\")))*100, 2)\n",
    ")\n",
    "\n",
    "df_total = df_total.withColumn(\n",
    "    \"CPV\",\n",
    "    round(when(col(\"Impressions\") == 0, 0).otherwise(col(\"Amount_Spent\")/col(\"Second_Video_Views\")), 2)\n",
    ")\n",
    "\n",
    "df_total = df_total.withColumn(\n",
    "    \"View_Rate\",\n",
    "    round((when(col(\"Impressions\") == 0, 0).otherwise(col(\"Second_Video_Views\")/col(\"Impressions\")))*100, 2)\n",
    ")\n",
    "\n",
    "display(df_total)\n",
    "fn_overwrite_table(df_source=df_total, target_schema_name=target_schema_name, target_table_name=\"paid_eco_journal_total\", target_path=target_path)"
   ]
  },
  {
   "cell_type": "code",
   "execution_count": 0,
   "metadata": {
    "application/vnd.databricks.v1+cell": {
     "cellMetadata": {
      "byteLimit": 2048000,
      "rowLimit": 10000
     },
     "collapsed": true,
     "inputWidgets": {},
     "nuid": "ca3d9ea7-f75d-41b8-b14a-4d572d926c06",
     "showTitle": false,
     "tableResultSettingsMap": {
      "0": {
       "dataGridStateBlob": "{\"version\":1,\"tableState\":{\"columnPinning\":{\"left\":[\"#row_number#\"],\"right\":[]},\"columnSizing\":{\"Ad_ID\":136},\"columnVisibility\":{}},\"settings\":{\"columns\":{}},\"syncTimestamp\":1756223207976}",
       "filterBlob": null,
       "queryPlanFiltersBlob": null,
       "tableResultIndex": 0
      }
     },
     "title": ""
    }
   },
   "outputs": [],
   "source": [
    "# df_total = spark.read.table(f\"datif_dz_{env}.02_cleaned_uk_facebook.019_meta_ads_c_kkc_eco_journal\")\n",
    "\n",
    "# df_total = (\n",
    "#     df_total.withColumnRenamed(\"Ad_ID__Facebook_Ads\", \"Ad_ID\")\n",
    "#         .withColumnRenamed(\"Campaign_Name__Facebook_Ads\", \"Campaign_Name\")\n",
    "#         .withColumnRenamed(\"Ad_Name__Facebook_Ads\", \"Ad_Name\")\n",
    "#         .withColumnRenamed(\"Ad_Set_Name__Facebook_Ads\", \"Ad_Set_Name\")\n",
    "#         .withColumnRenamed(\"Amount_Spent__Facebook_Ads\", \"Amount_Spent\")\n",
    "#         .withColumnRenamed(\"Impressions__Facebook_Ads\", \"Impressions\")\n",
    "#         .withColumnRenamed(\"Clicks_all__Facebook_Ads\", \"Clicks\")\n",
    "#         .withColumnRenamed(\"Link_Clicks__Facebook_Ads\", \"Link_Clicks\")\n",
    "#         .withColumnRenamed(\"Post_Saves__Facebook_Ads\", \"Post_Saves\")\n",
    "#         .withColumnRenamed(\"Post_Shares__Facebook_Ads\", \"Post_Shares\")\n",
    "#         .withColumnRenamed(\"Post_Comments__Facebook_Ads\", \"Post_Comments\")\n",
    "#         .withColumnRenamed(\"Post_Reactions__Facebook_Ads\", \"Post_Reactions\")\n",
    "#         .withColumnRenamed(\"n_3_Second_Video_Views__Facebook_Ads\", \"Second_Video_Views\")\n",
    "# )\n",
    "\n",
    "# df_total = df_total.withColumn(\n",
    "#     \"Date\",\n",
    "#     col(\"Date\").cast(\"date\")\n",
    "#  )\n",
    "\n",
    "# df_total = df_total.withColumn(\n",
    "#     \"Amount_Spent\",\n",
    "#     col(\"Amount_Spent\").cast(\"double\")\n",
    "# )\n",
    "\n",
    "# df_total = df_total.withColumn(\n",
    "#     \"Impressions\",\n",
    "#     col(\"Impressions\").cast(\"int\")\n",
    "# )\n",
    "\n",
    "# df_total = df_total.withColumn(\n",
    "#     \"Clicks\",\n",
    "#     col(\"Clicks\").cast(\"int\")\n",
    "# )\n",
    "\n",
    "# df_total = df_total.withColumn(\n",
    "#     \"Link_Clicks\",\n",
    "#     col(\"Link_Clicks\").cast(\"int\")\n",
    "# )\n",
    "\n",
    "# df_total = df_total.withColumn(\n",
    "#     \"Post_Saves\",\n",
    "#     col(\"Post_Saves\").cast(\"int\")\n",
    "# )\n",
    "\n",
    "# df_total = df_total.withColumn(\n",
    "#     \"Post_Shares\",\n",
    "#     col(\"Post_Shares\").cast(\"int\")\n",
    "# )\n",
    "\n",
    "# df_total = df_total.withColumn(\n",
    "#     \"Post_Comments\",\n",
    "#     col(\"Post_Comments\").cast(\"int\")\n",
    "# )\n",
    "\n",
    "# df_total = df_total.withColumn(\n",
    "#     \"Post_Reactions\",\n",
    "#     col(\"Post_Reactions\").cast(\"int\")\n",
    "# )\n",
    "\n",
    "# df_total = df_total.withColumn(\n",
    "#     \"Second_Video_Views\",\n",
    "#     col(\"Second_Video_Views\").cast(\"int\")\n",
    "# )\n",
    "\n",
    "# display(df_total)\n",
    "# fn_overwrite_table(df_source=df_total, target_schema_name=target_schema_name, target_table_name=\"paid_eco_journal_total\", target_path=target_path)"
   ]
  },
  {
   "cell_type": "markdown",
   "metadata": {
    "application/vnd.databricks.v1+cell": {
     "cellMetadata": {
      "byteLimit": 2048000,
      "rowLimit": 10000
     },
     "inputWidgets": {},
     "nuid": "dd9fa830-810c-4b6f-a6a7-0226ab6aaf94",
     "showTitle": false,
     "tableResultSettingsMap": {},
     "title": ""
    }
   },
   "source": [
    "## Paid Eco Journal SCD2 View"
   ]
  },
  {
   "cell_type": "code",
   "execution_count": 0,
   "metadata": {
    "application/vnd.databricks.v1+cell": {
     "cellMetadata": {
      "byteLimit": 2048000,
      "rowLimit": 10000
     },
     "inputWidgets": {},
     "nuid": "2bd26cf2-500e-41de-a9d3-8cba8cabcb34",
     "showTitle": false,
     "tableResultSettingsMap": {
      "0": {
       "dataGridStateBlob": "{\"version\":1,\"tableState\":{\"columnPinning\":{\"left\":[\"#row_number#\"],\"right\":[]},\"columnSizing\":{},\"columnVisibility\":{}},\"settings\":{\"columns\":{}},\"syncTimestamp\":1755784401374}",
       "filterBlob": null,
       "queryPlanFiltersBlob": null,
       "tableResultIndex": 0
      }
     },
     "title": ""
    }
   },
   "outputs": [],
   "source": [
    "df_scd2 = spark.read.table(f\"datif_dz_{env}.02_cleaned_uk_facebook.019_meta_ads_c_kkc_eco_journal_scd2_view\")\n",
    "\n",
    "df_scd2 = (\n",
    "    df_scd2.withColumnRenamed(\"Ad_ID__Facebook_Ads\", \"Ad_ID\")\n",
    "        .withColumnRenamed(\"Campaign_Name__Facebook_Ads\", \"Campaign_Name\")\n",
    "        .withColumnRenamed(\"Ad_Name__Facebook_Ads\", \"Ad_Name\")\n",
    "        .withColumnRenamed(\"Ad_Set_Name__Facebook_Ads\", \"Ad_Set_Name\")\n",
    "        .withColumnRenamed(\"Amount_Spent__Facebook_Ads\", \"Amount_Spent\")\n",
    "        .withColumnRenamed(\"Impressions__Facebook_Ads\", \"Impressions\")\n",
    "        .withColumnRenamed(\"Clicks_all__Facebook_Ads\", \"Clicks\")\n",
    "        .withColumnRenamed(\"Link_Clicks__Facebook_Ads\", \"Link_Clicks\")\n",
    "        .withColumnRenamed(\"Post_Saves__Facebook_Ads\", \"Post_Saves\")\n",
    "        .withColumnRenamed(\"Post_Shares__Facebook_Ads\", \"Post_Shares\")\n",
    "        .withColumnRenamed(\"Post_Comments__Facebook_Ads\", \"Post_Comments\")\n",
    "        .withColumnRenamed(\"Post_Reactions__Facebook_Ads\", \"Post_Reactions\")\n",
    "        .withColumnRenamed(\"n_3_Second_Video_Views__Facebook_Ads\", \"Second_Video_Views\")\n",
    ")\n",
    "\n",
    "df_scd2 = df_scd2.withColumn(\n",
    "    \"Date\",\n",
    "    col(\"Date\").cast(\"date\")\n",
    " )\n",
    "\n",
    "df_scd2 = df_scd2.withColumn(\n",
    "    \"Amount_Spent\",\n",
    "    col(\"Amount_Spent\").cast(\"double\")\n",
    ")\n",
    "\n",
    "df_scd2 = df_scd2.withColumn(\n",
    "    \"Impressions\",\n",
    "    col(\"Impressions\").cast(\"int\")\n",
    ")\n",
    "\n",
    "df_scd2 = df_scd2.withColumn(\n",
    "    \"Clicks\",\n",
    "    col(\"Clicks\").cast(\"int\")\n",
    ")\n",
    "\n",
    "df_scd2 = df_scd2.withColumn(\n",
    "    \"Link_Clicks\",\n",
    "    col(\"Link_Clicks\").cast(\"int\")\n",
    ")\n",
    "\n",
    "df_scd2 = df_scd2.withColumn(\n",
    "    \"Post_Saves\",\n",
    "    col(\"Post_Saves\").cast(\"int\")\n",
    ")\n",
    "\n",
    "df_scd2 = df_scd2.withColumn(\n",
    "    \"Post_Shares\",\n",
    "    col(\"Post_Shares\").cast(\"int\")\n",
    ")\n",
    "\n",
    "df_scd2 = df_scd2.withColumn(\n",
    "    \"Post_Comments\",\n",
    "    col(\"Post_Comments\").cast(\"int\")\n",
    ")\n",
    "\n",
    "df_scd2 = df_scd2.withColumn(\n",
    "    \"Post_Reactions\",\n",
    "    col(\"Post_Reactions\").cast(\"int\")\n",
    ")\n",
    "\n",
    "df_scd2 = df_scd2.withColumn(\n",
    "    \"Second_Video_Views\",\n",
    "    col(\"Second_Video_Views\").cast(\"int\")\n",
    ")\n",
    "\n",
    "display(df_scd2)\n",
    "fn_overwrite_table(df_source=df_scd2, target_schema_name=target_schema_name, target_table_name=\"paid_eco_journal_scd2_view\", target_path=target_path)"
   ]
  }
 ],
 "metadata": {
  "application/vnd.databricks.v1+notebook": {
   "computePreferences": null,
   "dashboards": [],
   "environmentMetadata": {
    "base_environment": "",
    "environment_version": "2"
   },
   "inputWidgetPreferences": null,
   "language": "python",
   "notebookMetadata": {
    "pythonIndentUnit": 4
   },
   "notebookName": "nb_transformed_paid_eco_journal",
   "widgets": {}
  },
  "language_info": {
   "name": "python"
  }
 },
 "nbformat": 4,
 "nbformat_minor": 0
}
