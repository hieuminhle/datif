{
 "cells": [
  {
   "cell_type": "markdown",
   "metadata": {
    "application/vnd.databricks.v1+cell": {
     "cellMetadata": {},
     "inputWidgets": {},
     "nuid": "bbbb864a-ba66-4855-a21f-8c34cda4bec4",
     "showTitle": false,
     "tableResultSettingsMap": {},
     "title": ""
    }
   },
   "source": [
    "# 03-transformed: Transformation der Google Search Console Daten\n",
    "\n",
    "* Um was handelt es sich hier  (Kurzbeschreibung Inhalt):  \n",
    "Die Google Search Console Daten transformieren um die Daten für die Marts vorzubereiten\n",
    "\n",
    "\n",
    "---\n",
    "## QUELLEN:  \n",
    "- Unity-Catalog: \n",
    "  - datif_dz_dev.02_cleaned_uk_google_search_console.012_google_search_console\n",
    "  - datif_dz_dev.02_cleaned_uk_google_search_console.012_google_search_console_current_view\n",
    "  - datif_dz_dev.02_cleaned_uk_google_search_console.012_google_search_console_scd2_view\n",
    "\n",
    "## ZIEL  \n",
    "- Unity-Catalog: \n",
    "  - datif_pz_uk_dev.03-transformed.google_search_console_total\n",
    "  - datif_pz_uk_dev.03-transformed.google_search_console_current_view\n",
    "  - datif_pz_uk_dev.03-transformed.google_search_console_scd2\n",
    "\n",
    "  \n",
    "---\n",
    "* Versionen (aktuelle immer oben):\n",
    "-25.08.2025 Minh Hieu Le: Init"
   ]
  },
  {
   "cell_type": "code",
   "execution_count": 0,
   "metadata": {
    "application/vnd.databricks.v1+cell": {
     "cellMetadata": {
      "byteLimit": 2048000,
      "rowLimit": 10000
     },
     "inputWidgets": {},
     "nuid": "dce0c8a8-1739-4b30-920f-42a675834ee1",
     "showTitle": false,
     "tableResultSettingsMap": {},
     "title": ""
    }
   },
   "outputs": [],
   "source": [
    "%run ../../common/nb_init"
   ]
  },
  {
   "cell_type": "code",
   "execution_count": 0,
   "metadata": {
    "application/vnd.databricks.v1+cell": {
     "cellMetadata": {
      "byteLimit": 2048000,
      "rowLimit": 10000
     },
     "inputWidgets": {},
     "nuid": "66d81a38-8242-4309-aba4-bb24d885e0a0",
     "showTitle": false,
     "tableResultSettingsMap": {},
     "title": ""
    }
   },
   "outputs": [],
   "source": [
    "# Define schema name and path to store tables\n",
    "target_schema_name = \"03_transformed\"\n",
    "target_path = \"paid_data\"\n",
    "# Set source and trg path\n",
    "source_path = sta_endpoint_pz_uk[\"03_transformed\"] + \"/google_search_console\""
   ]
  },
  {
   "cell_type": "code",
   "execution_count": 0,
   "metadata": {
    "application/vnd.databricks.v1+cell": {
     "cellMetadata": {
      "byteLimit": 2048000,
      "rowLimit": 10000
     },
     "inputWidgets": {},
     "nuid": "66c52c64-bca6-452a-8525-39b4d4f14eff",
     "showTitle": false,
     "tableResultSettingsMap": {},
     "title": ""
    }
   },
   "outputs": [],
   "source": [
    "from pyspark.sql.functions import col"
   ]
  },
  {
   "cell_type": "markdown",
   "metadata": {
    "application/vnd.databricks.v1+cell": {
     "cellMetadata": {},
     "inputWidgets": {},
     "nuid": "33205e6d-a2dd-4650-9962-aadd65f19b56",
     "showTitle": false,
     "tableResultSettingsMap": {},
     "title": ""
    }
   },
   "source": [
    "## Google Search Console Total"
   ]
  },
  {
   "cell_type": "code",
   "execution_count": 0,
   "metadata": {
    "application/vnd.databricks.v1+cell": {
     "cellMetadata": {
      "byteLimit": 2048000,
      "rowLimit": 10000
     },
     "inputWidgets": {},
     "nuid": "ca3d9ea7-f75d-41b8-b14a-4d572d926c06",
     "showTitle": false,
     "tableResultSettingsMap": {
      "0": {
       "dataGridStateBlob": "{\"version\":1,\"tableState\":{\"columnPinning\":{\"left\":[\"#row_number#\"],\"right\":[]},\"columnSizing\":{},\"columnVisibility\":{}},\"settings\":{\"columns\":{}},\"syncTimestamp\":1755774819489}",
       "filterBlob": null,
       "queryPlanFiltersBlob": null,
       "tableResultIndex": 0
      }
     },
     "title": ""
    }
   },
   "outputs": [],
   "source": [
    "df_total = spark.read.table(f\"datif_dz_{env}.02_cleaned_uk_google_search_console.012_google_search_console\")\n",
    "\n",
    "df_total = (\n",
    "    df_total.withColumnRenamed(\"Site_URL__Google_Search_Console\", \"URL\")\n",
    "        .withColumnRenamed(\"Country__Google_Search_Console\", \"Country\")\n",
    "        .withColumnRenamed(\"Device__Google_Search_Console\", \"Device\")\n",
    "        .withColumnRenamed(\"Page__Google_Search_Console\", \"Page\")\n",
    "        .withColumnRenamed(\"Query__Google_Search_Console\", \"Query\")\n",
    "        .withColumnRenamed(\"Clicks__Google_Search_Console\", \"Clicks\")\n",
    "        .withColumnRenamed(\"Impressions__Google_Search_Console\", \"Impressions\")\n",
    "        .withColumnRenamed(\"Total_Position__Google_Search_Console\", \"Total_Position\")\n",
    ")\n",
    "\n",
    "df_total = df_total.withColumn(\n",
    "     \"Date\",\n",
    "     col(\"Date\").cast(\"date\")\n",
    " )\n",
    "\n",
    "df_total = df_total.withColumn(\n",
    "    \"Clicks\",\n",
    "    col(\"Clicks\").cast(\"int\")\n",
    ")\n",
    "\n",
    "df_total = df_total.withColumn(\n",
    "    \"Impressions\",\n",
    "    col(\"Impressions\").cast(\"int\")\n",
    ")\n",
    "\n",
    "df_total = df_total.withColumn(\n",
    "    \"Total_Position\",\n",
    "    col(\"Total_Position\").cast(\"double\")\n",
    ")\n",
    "\n",
    "df_total = df_total.withColumn(\n",
    "    \"Row_Count\",\n",
    "    col(\"Row_Count\").cast(\"int\")\n",
    ")\n",
    "\n",
    "display(df_total)\n",
    "fn_overwrite_table(df_source=df_total, target_schema_name=target_schema_name, target_table_name=\"google_search_console_total\", target_path=target_path)"
   ]
  },
  {
   "cell_type": "markdown",
   "metadata": {
    "application/vnd.databricks.v1+cell": {
     "cellMetadata": {},
     "inputWidgets": {},
     "nuid": "568dd571-659e-4e5a-a14f-84bc50d2bdf6",
     "showTitle": false,
     "tableResultSettingsMap": {},
     "title": ""
    }
   },
   "source": [
    "## Google Search Console Current View"
   ]
  },
  {
   "cell_type": "code",
   "execution_count": 0,
   "metadata": {
    "application/vnd.databricks.v1+cell": {
     "cellMetadata": {
      "byteLimit": 2048000,
      "rowLimit": 10000
     },
     "inputWidgets": {},
     "nuid": "59e850fc-fd53-4cee-a183-65722c47ca11",
     "showTitle": false,
     "tableResultSettingsMap": {
      "0": {
       "dataGridStateBlob": "{\"version\":1,\"tableState\":{\"columnPinning\":{\"left\":[\"#row_number#\"],\"right\":[]},\"columnSizing\":{},\"columnVisibility\":{}},\"settings\":{\"columns\":{\"URL\":{\"format\":{\"preset\":\"string-preset-url\"}},\"Page\":{\"format\":{\"preset\":\"string-preset-url\"}}}},\"syncTimestamp\":1756130703504}",
       "filterBlob": null,
       "queryPlanFiltersBlob": null,
       "tableResultIndex": 0
      }
     },
     "title": ""
    }
   },
   "outputs": [],
   "source": [
    "df_current = spark.read.table(f\"datif_dz_{env}.02_cleaned_uk_google_search_console.012_google_search_console_current_view\")\n",
    "\n",
    "df_current = (\n",
    "    df_current.withColumnRenamed(\"Site_URL__Google_Search_Console\", \"URL\")\n",
    "        .withColumnRenamed(\"Country__Google_Search_Console\", \"Country\")\n",
    "        .withColumnRenamed(\"Device__Google_Search_Console\", \"Device\")\n",
    "        .withColumnRenamed(\"Page__Google_Search_Console\", \"Page\")\n",
    "        .withColumnRenamed(\"Query__Google_Search_Console\", \"Query\")\n",
    "        .withColumnRenamed(\"Clicks__Google_Search_Console\", \"Clicks\")\n",
    "        .withColumnRenamed(\"Impressions__Google_Search_Console\", \"Impressions\")\n",
    "        .withColumnRenamed(\"Total_Position__Google_Search_Console\", \"Total_Position\")\n",
    ")\n",
    "\n",
    "df_current = df_current.withColumn(\n",
    "     \"Date\",\n",
    "     col(\"Date\").cast(\"date\")\n",
    " )\n",
    "\n",
    "df_current = df_current.withColumn(\n",
    "    \"Clicks\",\n",
    "    col(\"Clicks\").cast(\"int\")\n",
    ")\n",
    "\n",
    "df_current = df_current.withColumn(\n",
    "    \"Impressions\",\n",
    "    col(\"Impressions\").cast(\"int\")\n",
    ")\n",
    "\n",
    "df_current = df_current.withColumn(\n",
    "    \"Total_Position\",\n",
    "    col(\"Total_Position\").cast(\"double\")\n",
    ")\n",
    "\n",
    "df_current = df_current.withColumn(\n",
    "    \"Row_Count\",\n",
    "    col(\"Row_Count\").cast(\"int\")\n",
    ")\n",
    "display(df_current)\n",
    "fn_overwrite_table(df_source=df_current, target_schema_name=target_schema_name, target_table_name=\"google_search_console_current_view\", target_path=target_path)"
   ]
  },
  {
   "cell_type": "markdown",
   "metadata": {
    "application/vnd.databricks.v1+cell": {
     "cellMetadata": {},
     "inputWidgets": {},
     "nuid": "dd9fa830-810c-4b6f-a6a7-0226ab6aaf94",
     "showTitle": false,
     "tableResultSettingsMap": {},
     "title": ""
    }
   },
   "source": [
    "## Google Search Console SCD2 View"
   ]
  },
  {
   "cell_type": "code",
   "execution_count": 0,
   "metadata": {
    "application/vnd.databricks.v1+cell": {
     "cellMetadata": {
      "byteLimit": 2048000,
      "rowLimit": 10000
     },
     "inputWidgets": {},
     "nuid": "2bd26cf2-500e-41de-a9d3-8cba8cabcb34",
     "showTitle": false,
     "tableResultSettingsMap": {
      "0": {
       "dataGridStateBlob": "{\"version\":1,\"tableState\":{\"columnPinning\":{\"left\":[\"#row_number#\"],\"right\":[]},\"columnSizing\":{},\"columnVisibility\":{}},\"settings\":{\"columns\":{}},\"syncTimestamp\":1755784401374}",
       "filterBlob": null,
       "queryPlanFiltersBlob": null,
       "tableResultIndex": 0
      }
     },
     "title": ""
    }
   },
   "outputs": [],
   "source": [
    "df_scd2 = spark.read.table(f\"datif_dz_{env}.02_cleaned_uk_google_search_console.012_google_search_console_scd2_view\")\n",
    "\n",
    "df_scd2 = (\n",
    "    df_scd2.withColumnRenamed(\"Site_URL__Google_Search_Console\", \"URL\")\n",
    "        .withColumnRenamed(\"Country__Google_Search_Console\", \"Country\")\n",
    "        .withColumnRenamed(\"Device__Google_Search_Console\", \"Device\")\n",
    "        .withColumnRenamed(\"Page__Google_Search_Console\", \"Page\")\n",
    "        .withColumnRenamed(\"Query__Google_Search_Console\", \"Query\")\n",
    "        .withColumnRenamed(\"Clicks__Google_Search_Console\", \"Clicks\")\n",
    "        .withColumnRenamed(\"Impressions__Google_Search_Console\", \"Impressions\")\n",
    "        .withColumnRenamed(\"Total_Position__Google_Search_Console\", \"Total_Position\")\n",
    ")\n",
    "\n",
    "df_scd2 = df_scd2.withColumn(\n",
    "     \"Date\",\n",
    "     col(\"Date\").cast(\"date\")\n",
    " )\n",
    "\n",
    "df_scd2 = df_scd2.withColumn(\n",
    "    \"Clicks\",\n",
    "    col(\"Clicks\").cast(\"int\")\n",
    ")\n",
    "\n",
    "df_scd2 = df_scd2.withColumn(\n",
    "    \"Impressions\",\n",
    "    col(\"Impressions\").cast(\"int\")\n",
    ")\n",
    "\n",
    "df_scd2 = df_scd2.withColumn(\n",
    "    \"Total_Position\",\n",
    "    col(\"Total_Position\").cast(\"double\")\n",
    ")\n",
    "\n",
    "df_scd2 = df_scd2.withColumn(\n",
    "    \"Row_Count\",\n",
    "    col(\"Row_Count\").cast(\"int\")\n",
    ")\n",
    "display(df_scd2)\n",
    "fn_overwrite_table(df_source=df_scd2, target_schema_name=target_schema_name, target_table_name=\"google_search_console_scd2_view\", target_path=target_path)"
   ]
  }
 ],
 "metadata": {
  "application/vnd.databricks.v1+notebook": {
   "computePreferences": null,
   "dashboards": [],
   "environmentMetadata": {
    "base_environment": "",
    "environment_version": "2"
   },
   "inputWidgetPreferences": null,
   "language": "python",
   "notebookMetadata": {
    "pythonIndentUnit": 4
   },
   "notebookName": "nb_transformed_google_search_console",
   "widgets": {}
  },
  "language_info": {
   "name": "python"
  }
 },
 "nbformat": 4,
 "nbformat_minor": 0
}
