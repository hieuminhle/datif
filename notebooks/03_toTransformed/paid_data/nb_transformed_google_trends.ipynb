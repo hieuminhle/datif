{
 "cells": [
  {
   "cell_type": "markdown",
   "metadata": {
    "application/vnd.databricks.v1+cell": {
     "cellMetadata": {
      "byteLimit": 2048000,
      "rowLimit": 10000
     },
     "inputWidgets": {},
     "nuid": "bbbb864a-ba66-4855-a21f-8c34cda4bec4",
     "showTitle": false,
     "tableResultSettingsMap": {},
     "title": ""
    }
   },
   "source": [
    "# 03-transformed: Transformation der Google Trends Daten\n",
    "\n",
    "* Um was handelt es sich hier  (Kurzbeschreibung Inhalt):  \n",
    "Die Google Trends Daten transformieren um die Daten für die Marts vorzubereiten\n",
    "\n",
    "\n",
    "---\n",
    "## QUELLEN:  \n",
    "- Unity-Catalog: \n",
    "  - datif_dz_dev.02_cleaned_uk_google_trends.021_google_trends\n",
    "  - datif_dz_dev.02_cleaned_uk_google_trends.021_google_trends_current_view\n",
    "  - datif_dz_dev.02_cleaned_uk_google_trends.021_google_trends_scd2_view\n",
    "\n",
    "## ZIEL  \n",
    "- Unity-Catalog: \n",
    "  - datif_pz_uk_dev.03-transformed.google_trends_total\n",
    "  - datif_pz_uk_dev.03-transformed.google_trends_current_view\n",
    "  - datif_pz_uk_dev.03-transformed.google_trends_scd2\n",
    "\n",
    "  \n",
    "---\n",
    "* Versionen (aktuelle immer oben):\n",
    "-21.08.2025 Minh Hieu Le: Init"
   ]
  },
  {
   "cell_type": "code",
   "execution_count": 0,
   "metadata": {
    "application/vnd.databricks.v1+cell": {
     "cellMetadata": {
      "byteLimit": 2048000,
      "rowLimit": 10000
     },
     "inputWidgets": {},
     "nuid": "dce0c8a8-1739-4b30-920f-42a675834ee1",
     "showTitle": false,
     "tableResultSettingsMap": {},
     "title": ""
    }
   },
   "outputs": [],
   "source": [
    "%run ../../common/nb_init"
   ]
  },
  {
   "cell_type": "code",
   "execution_count": 0,
   "metadata": {
    "application/vnd.databricks.v1+cell": {
     "cellMetadata": {
      "byteLimit": 2048000,
      "rowLimit": 10000
     },
     "inputWidgets": {},
     "nuid": "66d81a38-8242-4309-aba4-bb24d885e0a0",
     "showTitle": false,
     "tableResultSettingsMap": {},
     "title": ""
    }
   },
   "outputs": [],
   "source": [
    "# Define schema name and path to store tables\n",
    "target_schema_name = \"03_transformed\"\n",
    "target_path = \"paid_data\"\n",
    "# Set source and trg path\n",
    "source_path = sta_endpoint_pz_uk[\"03_transformed\"] + \"/google_trends\""
   ]
  },
  {
   "cell_type": "code",
   "execution_count": 0,
   "metadata": {
    "application/vnd.databricks.v1+cell": {
     "cellMetadata": {
      "byteLimit": 2048000,
      "rowLimit": 10000
     },
     "inputWidgets": {},
     "nuid": "66c52c64-bca6-452a-8525-39b4d4f14eff",
     "showTitle": false,
     "tableResultSettingsMap": {},
     "title": ""
    }
   },
   "outputs": [],
   "source": [
    "from pyspark.sql.functions import col"
   ]
  },
  {
   "cell_type": "markdown",
   "metadata": {
    "application/vnd.databricks.v1+cell": {
     "cellMetadata": {
      "byteLimit": 2048000,
      "rowLimit": 10000
     },
     "inputWidgets": {},
     "nuid": "33205e6d-a2dd-4650-9962-aadd65f19b56",
     "showTitle": false,
     "tableResultSettingsMap": {},
     "title": ""
    }
   },
   "source": [
    "## Google Trends Total"
   ]
  },
  {
   "cell_type": "code",
   "execution_count": 0,
   "metadata": {
    "application/vnd.databricks.v1+cell": {
     "cellMetadata": {
      "byteLimit": 2048000,
      "rowLimit": 10000
     },
     "inputWidgets": {},
     "nuid": "ca3d9ea7-f75d-41b8-b14a-4d572d926c06",
     "showTitle": false,
     "tableResultSettingsMap": {
      "0": {
       "dataGridStateBlob": "{\"version\":1,\"tableState\":{\"columnPinning\":{\"left\":[\"#row_number#\"],\"right\":[]},\"columnSizing\":{},\"columnVisibility\":{}},\"settings\":{\"columns\":{}},\"syncTimestamp\":1755774819489}",
       "filterBlob": null,
       "queryPlanFiltersBlob": null,
       "tableResultIndex": 0
      }
     },
     "title": ""
    }
   },
   "outputs": [],
   "source": [
    "df_total = spark.read.table(f\"datif_dz_{env}.02_cleaned_uk_google_trends.021_google_trends\")\n",
    "\n",
    "df_total = df_total.withColumn(\n",
    "    \"Date\",\n",
    "    col(\"Date\").cast(\"date\")\n",
    ")\n",
    "\n",
    "df_total = (\n",
    "    df_total.withColumnRenamed(\"Category__Google_Trends\", \"Category\")\n",
    "        .withColumnRenamed(\"Geo__Google_Trends\", \"Location\")\n",
    "        .withColumnRenamed(\"Keyword__Google_Trends\", \"Keyword\")\n",
    "        .withColumnRenamed(\"Keyword_type__Google_Trends\", \"Keyword_type\")\n",
    "        .withColumnRenamed(\"Interest___7_day_Geo_Keyword_Keyword_type_Category__Google_Trends\", \"Interest\")\n",
    ")\n",
    "\n",
    "display(df_total)\n",
    "fn_overwrite_table(df_source=df_total, target_schema_name=target_schema_name, target_table_name=\"google_trends_total\", target_path=target_path)"
   ]
  },
  {
   "cell_type": "markdown",
   "metadata": {
    "application/vnd.databricks.v1+cell": {
     "cellMetadata": {
      "byteLimit": 2048000,
      "rowLimit": 10000
     },
     "inputWidgets": {},
     "nuid": "568dd571-659e-4e5a-a14f-84bc50d2bdf6",
     "showTitle": false,
     "tableResultSettingsMap": {},
     "title": ""
    }
   },
   "source": [
    "## Google Trends Current View"
   ]
  },
  {
   "cell_type": "code",
   "execution_count": 0,
   "metadata": {
    "application/vnd.databricks.v1+cell": {
     "cellMetadata": {
      "byteLimit": 2048000,
      "rowLimit": 10000
     },
     "inputWidgets": {},
     "nuid": "59e850fc-fd53-4cee-a183-65722c47ca11",
     "showTitle": false,
     "tableResultSettingsMap": {
      "0": {
       "dataGridStateBlob": "{\"version\":1,\"tableState\":{\"columnPinning\":{\"left\":[\"#row_number#\"],\"right\":[]},\"columnSizing\":{},\"columnVisibility\":{}},\"settings\":{\"columns\":{}},\"syncTimestamp\":1755784257638}",
       "filterBlob": null,
       "queryPlanFiltersBlob": null,
       "tableResultIndex": 0
      }
     },
     "title": ""
    }
   },
   "outputs": [],
   "source": [
    "df_current = spark.read.table(f\"datif_dz_{env}.02_cleaned_uk_google_trends.021_google_trends_current_view\")\n",
    "\n",
    "df_current = df_current.withColumn(\n",
    "    \"Date\",\n",
    "    col(\"Date\").cast(\"date\")\n",
    ")\n",
    "\n",
    "df_current = (\n",
    "    df_current.withColumnRenamed(\"Category__Google_Trends\", \"Category\")\n",
    "        .withColumnRenamed(\"Geo__Google_Trends\", \"Location\")\n",
    "        .withColumnRenamed(\"Keyword__Google_Trends\", \"Keyword\")\n",
    "        .withColumnRenamed(\"Keyword_type__Google_Trends\", \"Keyword_type\")\n",
    "        .withColumnRenamed(\"Interest___7_day_Geo_Keyword_Keyword_type_Category__Google_Trends\", \"Interest\")\n",
    ")\n",
    "\n",
    "display(df_current)\n",
    "fn_overwrite_table(df_source=df_current, target_schema_name=target_schema_name, target_table_name=\"google_trends_current_view\", target_path=target_path)"
   ]
  },
  {
   "cell_type": "markdown",
   "metadata": {
    "application/vnd.databricks.v1+cell": {
     "cellMetadata": {
      "byteLimit": 2048000,
      "rowLimit": 10000
     },
     "inputWidgets": {},
     "nuid": "dd9fa830-810c-4b6f-a6a7-0226ab6aaf94",
     "showTitle": false,
     "tableResultSettingsMap": {},
     "title": ""
    }
   },
   "source": [
    "## Google Trends SCD2 View"
   ]
  },
  {
   "cell_type": "code",
   "execution_count": 0,
   "metadata": {
    "application/vnd.databricks.v1+cell": {
     "cellMetadata": {
      "byteLimit": 2048000,
      "rowLimit": 10000
     },
     "inputWidgets": {},
     "nuid": "2bd26cf2-500e-41de-a9d3-8cba8cabcb34",
     "showTitle": false,
     "tableResultSettingsMap": {
      "0": {
       "dataGridStateBlob": "{\"version\":1,\"tableState\":{\"columnPinning\":{\"left\":[\"#row_number#\"],\"right\":[]},\"columnSizing\":{},\"columnVisibility\":{}},\"settings\":{\"columns\":{}},\"syncTimestamp\":1755784401374}",
       "filterBlob": null,
       "queryPlanFiltersBlob": null,
       "tableResultIndex": 0
      }
     },
     "title": ""
    }
   },
   "outputs": [],
   "source": [
    "df_scd2 = spark.read.table(f\"datif_dz_{env}.02_cleaned_uk_google_trends.021_google_trends_scd2_view\")\n",
    "\n",
    "df_scd2 = df_scd2.withColumn(\n",
    "    \"Date\",\n",
    "    col(\"Date\").cast(\"date\")\n",
    ")\n",
    "\n",
    "df_scd2 = (\n",
    "    df_scd2.withColumnRenamed(\"Category__Google_Trends\", \"Category\")\n",
    "        .withColumnRenamed(\"Geo__Google_Trends\", \"Location\")\n",
    "        .withColumnRenamed(\"Keyword__Google_Trends\", \"Keyword\")\n",
    "        .withColumnRenamed(\"Keyword_type__Google_Trends\", \"Keyword_type\")\n",
    "        .withColumnRenamed(\"Interest___7_day_Geo_Keyword_Keyword_type_Category__Google_Trends\", \"Interest\")\n",
    ")\n",
    "\n",
    "display(df_scd2)\n",
    "fn_overwrite_table(df_source=df_scd2, target_schema_name=target_schema_name, target_table_name=\"google_trends_scd2_view\", target_path=target_path)"
   ]
  }
 ],
 "metadata": {
  "application/vnd.databricks.v1+notebook": {
   "computePreferences": null,
   "dashboards": [],
   "environmentMetadata": {
    "base_environment": "",
    "environment_version": "2"
   },
   "inputWidgetPreferences": null,
   "language": "python",
   "notebookMetadata": {
    "pythonIndentUnit": 4
   },
   "notebookName": "nb_transformed_google_trends",
   "widgets": {}
  },
  "language_info": {
   "name": "python"
  }
 },
 "nbformat": 4,
 "nbformat_minor": 0
}
