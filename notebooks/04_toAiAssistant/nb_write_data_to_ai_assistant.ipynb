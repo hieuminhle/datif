{
 "cells": [
  {
   "cell_type": "markdown",
   "metadata": {
    "application/vnd.databricks.v1+cell": {
     "cellMetadata": {
      "byteLimit": 2048000,
      "rowLimit": 10000
     },
     "inputWidgets": {},
     "nuid": "d93a9340-8283-4b41-8500-5937b8e73de3",
     "showTitle": false,
     "tableResultSettingsMap": {},
     "title": ""
    }
   },
   "source": [
    "#Imports"
   ]
  },
  {
   "cell_type": "code",
   "execution_count": 0,
   "metadata": {
    "application/vnd.databricks.v1+cell": {
     "cellMetadata": {
      "byteLimit": 2048000,
      "rowLimit": 10000
     },
     "inputWidgets": {},
     "nuid": "72697682-d46a-44b5-8dea-33187fe9f8b5",
     "showTitle": false,
     "tableResultSettingsMap": {},
     "title": ""
    }
   },
   "outputs": [],
   "source": [
    "from pyspark.sql.functions import col, lit, to_date, year, udf, concat_ws, when\n",
    "from pyspark.sql.types import StringType\n",
    "import pyspark.sql.functions as F"
   ]
  },
  {
   "cell_type": "code",
   "execution_count": 0,
   "metadata": {
    "application/vnd.databricks.v1+cell": {
     "cellMetadata": {
      "byteLimit": 2048000,
      "rowLimit": 10000
     },
     "inputWidgets": {},
     "nuid": "8a02c7f3-866b-42cd-8d40-fc9d82a06c34",
     "showTitle": false,
     "tableResultSettingsMap": {},
     "title": ""
    }
   },
   "outputs": [],
   "source": [
    "%run ../common/nb_init"
   ]
  },
  {
   "cell_type": "code",
   "execution_count": 0,
   "metadata": {
    "application/vnd.databricks.v1+cell": {
     "cellMetadata": {
      "byteLimit": 2048000,
      "rowLimit": 10000
     },
     "collapsed": true,
     "inputWidgets": {},
     "nuid": "39d73459-812f-4ec2-b740-acb05961feb4",
     "showTitle": false,
     "tableResultSettingsMap": {},
     "title": ""
    }
   },
   "outputs": [],
   "source": [
    "def add_percent_dynamic(rows):\n",
    "    result = []\n",
    "    i = 0\n",
    "    n = None  # wird später auf die Blocklänge gesetzt\n",
    "\n",
    "    while i < len(rows):\n",
    "        if rows[i][\"Kategorie\"] == \"BASIS gewichtet\":\n",
    "            if n is None:\n",
    "                n = 0\n",
    "                while i + n < len(rows) and rows[i + n][\"Kategorie\"] == \"BASIS gewichtet\":\n",
    "                    n += 1\n",
    "            \n",
    "            basis_block = rows[i:i+n]\n",
    "            company_block = rows[i+n:i+2*n]\n",
    "\n",
    "            for b, c in zip(basis_block, company_block):\n",
    "                result.append({\n",
    "                    \"Datum\": c[\"Datum\"],\n",
    "                    \"Kategorie\": c[\"Kategorie\"],\n",
    "                    \"Bekanntheit_in_Prozent\": round(c[\"Wert\"] / b[\"Wert\"] * 100, 2)\n",
    "                })\n",
    "\n",
    "            i += 2*n\n",
    "        else:\n",
    "            i += 1\n",
    "    return result"
   ]
  },
  {
   "cell_type": "markdown",
   "metadata": {
    "application/vnd.databricks.v1+cell": {
     "cellMetadata": {
      "byteLimit": 2048000,
      "rowLimit": 10000
     },
     "inputWidgets": {},
     "nuid": "f7e725eb-d0e1-408f-9b3b-0ddf713dbe83",
     "showTitle": false,
     "tableResultSettingsMap": {},
     "title": ""
    }
   },
   "source": [
    "#Define Target Schema"
   ]
  },
  {
   "cell_type": "code",
   "execution_count": 0,
   "metadata": {
    "application/vnd.databricks.v1+cell": {
     "cellMetadata": {
      "byteLimit": 2048000,
      "rowLimit": 10000
     },
     "inputWidgets": {},
     "nuid": "47b3bfc4-882a-4dee-96a2-4d682eb5cbd3",
     "showTitle": false,
     "tableResultSettingsMap": {},
     "title": ""
    }
   },
   "outputs": [],
   "source": [
    "target_schema_name = \"04_to_ai_assistant\"\n",
    "target_path = 'funnel'"
   ]
  },
  {
   "cell_type": "markdown",
   "metadata": {
    "application/vnd.databricks.v1+cell": {
     "cellMetadata": {
      "byteLimit": 2048000,
      "rowLimit": 10000
     },
     "inputWidgets": {},
     "nuid": "bdaf8114-20c8-4e02-a0a9-f792c9a45c2a",
     "showTitle": false,
     "tableResultSettingsMap": {},
     "title": ""
    }
   },
   "source": [
    "#Retrieve Table"
   ]
  },
  {
   "cell_type": "code",
   "execution_count": 0,
   "metadata": {
    "application/vnd.databricks.v1+cell": {
     "cellMetadata": {
      "byteLimit": 2048000,
      "rowLimit": 10000
     },
     "collapsed": true,
     "inputWidgets": {},
     "nuid": "a0d2b903-f2f9-4c5f-9a5a-b17ca929fff1",
     "showTitle": false,
     "tableResultSettingsMap": {},
     "title": ""
    }
   },
   "outputs": [],
   "source": [
    "df_consolidated = spark.sql(\"\"\"\n",
    "    SELECT \n",
    "        *\n",
    "    FROM 03_transformed.consolidated_socials\n",
    "    WHERE Date >= '2025-01-01'\n",
    "\"\"\")\n",
    "\n",
    "df_consolidated = df_consolidated.withColumn(\n",
    "    \"Themenbereich\",\n",
    "    F.concat_ws(\n",
    "        \" | \",\n",
    "        F.col(\"Themenbereich1\"),\n",
    "        F.col(\"Themenbereich2\"),\n",
    "        F.col(\"Themenbereich3\")\n",
    "    )\n",
    ").withColumn(\n",
    "    \"StrategischesThema\",\n",
    "    F.concat_ws(\n",
    "        \" | \",\n",
    "        F.col(\"StrategischesThema1\"),\n",
    "        F.col(\"StrategischesThema2\"),\n",
    "        F.col(\"StrategischesThema3\")\n",
    "    )\n",
    ").drop(\n",
    "    \"Themenbereich1\", \"Themenbereich2\", \"Themenbereich3\",\n",
    "    \"StrategischesThema1\", \"StrategischesThema2\", \"StrategischesThema3\"\n",
    ")\n"
   ]
  },
  {
   "cell_type": "code",
   "execution_count": 0,
   "metadata": {
    "application/vnd.databricks.v1+cell": {
     "cellMetadata": {
      "byteLimit": 2048000,
      "rowLimit": 10000
     },
     "collapsed": true,
     "inputWidgets": {},
     "nuid": "2dec92ac-8e7f-42b2-ae6c-2ec0eb49a652",
     "showTitle": false,
     "tableResultSettingsMap": {},
     "title": ""
    }
   },
   "outputs": [],
   "source": [
    "df_eco = spark.sql(\"\"\"\n",
    "                              SELECT \n",
    "                              Created_Date,\n",
    "                              URL,\n",
    "                              Engaged_sessions,\n",
    "                              Sessions,\n",
    "                              Views,\n",
    "                              User_engagement,\n",
    "                              Total_session_duration,\n",
    "                              Bounce_rate,\n",
    "                              Average_session_duration,\n",
    "                              Views_per_session,\n",
    "                              Active_Users_per_View,\n",
    "                              Samples_read_rate,\n",
    "                              Active_Users,\n",
    "                              Total_Users,\n",
    "                              Themenbereich1,\n",
    "                              Themenbereich2,\n",
    "                              Themenbereich3,\n",
    "                              Strategische_Themen,\n",
    "                              Abstract             \n",
    "                              FROM  03_transformed.ga4_eco_journal_users_sessions_total_view\n",
    "                              WHERE Created_Date >= '2025-01-01'\n",
    "                              \"\"\")"
   ]
  },
  {
   "cell_type": "code",
   "execution_count": 0,
   "metadata": {
    "application/vnd.databricks.v1+cell": {
     "cellMetadata": {
      "byteLimit": 2048000,
      "rowLimit": 10000
     },
     "collapsed": true,
     "inputWidgets": {},
     "nuid": "aad71ce5-2094-42f6-b234-7964f975282d",
     "showTitle": false,
     "tableResultSettingsMap": {},
     "title": ""
    }
   },
   "outputs": [],
   "source": [
    "df_eco = df_eco = df_eco.withColumn(\n",
    "    \"Themenbereich\",\n",
    "    F.concat_ws(\n",
    "        \" | \",\n",
    "        *[F.col(c) for c in [\"Themenbereich1\", \"Themenbereich2\", \"Themenbereich3\"] if c is not None]\n",
    "    )\n",
    ")\n",
    "\n",
    "df_eco = df_eco.drop(\"Themenbereich1\", \"Themenbereich2\", \"Themenbereich3\")"
   ]
  },
  {
   "cell_type": "code",
   "execution_count": 0,
   "metadata": {
    "application/vnd.databricks.v1+cell": {
     "cellMetadata": {
      "byteLimit": 2048000,
      "rowLimit": 10000
     },
     "inputWidgets": {},
     "nuid": "ed76218b-a5ce-4ef5-9068-98d526560082",
     "showTitle": false,
     "tableResultSettingsMap": {},
     "title": ""
    }
   },
   "outputs": [],
   "source": [
    "df_reputatiosnindex = spark.sql(\"\"\"\n",
    "    SELECT \n",
    "        *\n",
    "    FROM 03_transformed.mkm_reputationsindex\n",
    "    WHERE Datum >= '2025-01-01'\n",
    "\"\"\")"
   ]
  },
  {
   "cell_type": "code",
   "execution_count": 0,
   "metadata": {
    "application/vnd.databricks.v1+cell": {
     "cellMetadata": {
      "byteLimit": 2048000,
      "rowLimit": 10000
     },
     "collapsed": true,
     "inputWidgets": {},
     "nuid": "1ab30112-a812-43ba-aaf6-197b7dfb7324",
     "showTitle": false,
     "tableResultSettingsMap": {},
     "title": ""
    }
   },
   "outputs": [],
   "source": [
    "df_no_basis_ungewichtet = df_reputatiosnindex.filter(\n",
    "    F.col(\"Kategorie\") != \"BASIS ungewichtet\"\n",
    ")\n",
    "\n",
    "rows = df_no_basis_ungewichtet.collect()\n",
    "rows_dict = [row.asDict() for row in rows]\n",
    "\n",
    "result_rows = add_percent_dynamic(rows_dict)\n",
    "\n",
    "df_repu = spark.createDataFrame(result_rows)\n",
    "\n",
    "df_repu = df_repu.select(\"Datum\", \"Kategorie\", \"Bekanntheit_in_Prozent\") \\\n",
    "    .orderBy( \"Datum\")"
   ]
  },
  {
   "cell_type": "markdown",
   "metadata": {
    "application/vnd.databricks.v1+cell": {
     "cellMetadata": {
      "byteLimit": 2048000,
      "rowLimit": 10000
     },
     "inputWidgets": {},
     "nuid": "6c8a0b6a-b63e-432f-b29d-1452372b45e9",
     "showTitle": false,
     "tableResultSettingsMap": {},
     "title": ""
    }
   },
   "source": [
    "#Write Table and csv"
   ]
  },
  {
   "cell_type": "code",
   "execution_count": 0,
   "metadata": {
    "application/vnd.databricks.v1+cell": {
     "cellMetadata": {
      "byteLimit": 2048000,
      "rowLimit": 10000
     },
     "inputWidgets": {},
     "nuid": "21fceff8-e933-4a21-a9ae-837706bc6f15",
     "showTitle": false,
     "tableResultSettingsMap": {},
     "title": ""
    }
   },
   "outputs": [],
   "source": [
    "fn_overwrite_table(df_source=df_consolidated, target_schema_name=target_schema_name, target_table_name=\"consolidated_socials\", target_path=target_path)"
   ]
  },
  {
   "cell_type": "code",
   "execution_count": 0,
   "metadata": {
    "application/vnd.databricks.v1+cell": {
     "cellMetadata": {
      "byteLimit": 2048000,
      "rowLimit": 10000
     },
     "inputWidgets": {},
     "nuid": "b328fbe0-aa63-45a8-a850-4fe2e08caf08",
     "showTitle": false,
     "tableResultSettingsMap": {},
     "title": ""
    }
   },
   "outputs": [],
   "source": [
    "fn_overwrite_table(df_source=df_eco, target_schema_name=target_schema_name, target_table_name=\"consolidated_eco_journal\", target_path=target_path)"
   ]
  },
  {
   "cell_type": "code",
   "execution_count": 0,
   "metadata": {
    "application/vnd.databricks.v1+cell": {
     "cellMetadata": {
      "byteLimit": 2048000,
      "rowLimit": 10000
     },
     "inputWidgets": {},
     "nuid": "9461c2b1-1f22-45d0-8f09-a93ae7c12e3b",
     "showTitle": false,
     "tableResultSettingsMap": {},
     "title": ""
    }
   },
   "outputs": [],
   "source": [
    "fn_overwrite_table(df_source=df_repu, target_schema_name=target_schema_name, target_table_name=\"reputationsindex\", target_path=target_path)"
   ]
  },
  {
   "cell_type": "code",
   "execution_count": 0,
   "metadata": {
    "application/vnd.databricks.v1+cell": {
     "cellMetadata": {
      "byteLimit": 2048000,
      "rowLimit": 10000
     },
     "inputWidgets": {},
     "nuid": "f8e78651-1a1d-4f1d-9043-549a6745ae3b",
     "showTitle": false,
     "tableResultSettingsMap": {},
     "title": ""
    }
   },
   "outputs": [],
   "source": [
    "fn_overwrite_csv(df_source=df_consolidated, target_schema_name=target_schema_name, target_folder_name=\"assistant_files\", filename=\"socials.csv\")"
   ]
  },
  {
   "cell_type": "code",
   "execution_count": 0,
   "metadata": {
    "application/vnd.databricks.v1+cell": {
     "cellMetadata": {
      "byteLimit": 2048000,
      "rowLimit": 10000
     },
     "inputWidgets": {},
     "nuid": "81caceb2-3fda-4d09-b092-df91a3e050ec",
     "showTitle": false,
     "tableResultSettingsMap": {},
     "title": ""
    }
   },
   "outputs": [],
   "source": [
    "fn_overwrite_csv(df_source=df_repu, target_schema_name=target_schema_name, target_folder_name=\"assistant_files\", filename=\"reputationsindex.csv\")"
   ]
  },
  {
   "cell_type": "code",
   "execution_count": 0,
   "metadata": {
    "application/vnd.databricks.v1+cell": {
     "cellMetadata": {
      "byteLimit": 2048000,
      "rowLimit": 10000
     },
     "inputWidgets": {},
     "nuid": "bf7afa24-4ff4-45a0-9213-85d899360d1a",
     "showTitle": false,
     "tableResultSettingsMap": {},
     "title": ""
    }
   },
   "outputs": [],
   "source": [
    "fn_overwrite_csv(df_source=df_eco, target_schema_name=target_schema_name, target_folder_name=\"assistant_files\", filename=\"eco_journal.csv\")"
   ]
  }
 ],
 "metadata": {
  "application/vnd.databricks.v1+notebook": {
   "computePreferences": null,
   "dashboards": [],
   "environmentMetadata": {
    "base_environment": "",
    "environment_version": "2"
   },
   "inputWidgetPreferences": null,
   "language": "python",
   "notebookMetadata": {
    "pythonIndentUnit": 4
   },
   "notebookName": "nb_write_data_to_ai_assistant",
   "widgets": {}
  },
  "language_info": {
   "name": "python"
  }
 },
 "nbformat": 4,
 "nbformat_minor": 0
}
