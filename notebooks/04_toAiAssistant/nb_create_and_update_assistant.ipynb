{
 "cells": [
  {
   "cell_type": "markdown",
   "metadata": {
    "application/vnd.databricks.v1+cell": {
     "cellMetadata": {
      "byteLimit": 2048000,
      "rowLimit": 10000
     },
     "inputWidgets": {},
     "nuid": "898ea0c5-e179-4070-98da-8614c38925c3",
     "showTitle": false,
     "tableResultSettingsMap": {},
     "title": ""
    }
   },
   "source": [
    "#Imports"
   ]
  },
  {
   "cell_type": "code",
   "execution_count": 0,
   "metadata": {
    "application/vnd.databricks.v1+cell": {
     "cellMetadata": {
      "byteLimit": 2048000,
      "rowLimit": 10000
     },
     "collapsed": true,
     "inputWidgets": {},
     "nuid": "6bb8b263-7933-4d77-914f-494323762336",
     "showTitle": false,
     "tableResultSettingsMap": {},
     "title": ""
    }
   },
   "outputs": [],
   "source": [
    "%pip install --upgrade openaI numpy==1.23.5 databricks-vectorsearch"
   ]
  },
  {
   "cell_type": "code",
   "execution_count": 0,
   "metadata": {
    "application/vnd.databricks.v1+cell": {
     "cellMetadata": {
      "byteLimit": 2048000,
      "rowLimit": 10000
     },
     "inputWidgets": {},
     "nuid": "3cae714d-c548-4b89-9da1-1e23687bfc15",
     "showTitle": false,
     "tableResultSettingsMap": {},
     "title": ""
    }
   },
   "outputs": [],
   "source": [
    "dbutils.library.restartPython()"
   ]
  },
  {
   "cell_type": "code",
   "execution_count": 0,
   "metadata": {
    "application/vnd.databricks.v1+cell": {
     "cellMetadata": {
      "byteLimit": 2048000,
      "rowLimit": 10000
     },
     "inputWidgets": {},
     "nuid": "9ade51ee-a5f5-4a5a-a125-8baa2ed19844",
     "showTitle": false,
     "tableResultSettingsMap": {},
     "title": ""
    }
   },
   "outputs": [],
   "source": [
    "import os\n",
    "import re\n",
    "import json\n",
    "import pandas as pd\n",
    "from datetime import datetime, timedelta \n",
    "from openai import AssistantEventHandler, AzureOpenAI\n",
    "import openai\n",
    "import requests\n",
    "from typing_extensions import override\n",
    "import unicodedata\n",
    "from databricks.vector_search.client import VectorSearchClient\n",
    "from datetime import datetime"
   ]
  },
  {
   "cell_type": "code",
   "execution_count": 0,
   "metadata": {
    "application/vnd.databricks.v1+cell": {
     "cellMetadata": {
      "byteLimit": 2048000,
      "rowLimit": 10000
     },
     "inputWidgets": {},
     "nuid": "23f298a8-a7b6-47ad-8d3f-3c6dcb1f5e92",
     "showTitle": false,
     "tableResultSettingsMap": {},
     "title": ""
    }
   },
   "outputs": [],
   "source": [
    "%run ../common/nb_init"
   ]
  },
  {
   "cell_type": "markdown",
   "metadata": {
    "application/vnd.databricks.v1+cell": {
     "cellMetadata": {
      "byteLimit": 2048000,
      "rowLimit": 10000
     },
     "inputWidgets": {},
     "nuid": "27136461-9e7e-4f2a-9ade-45e94a3cb153",
     "showTitle": false,
     "tableResultSettingsMap": {},
     "title": ""
    }
   },
   "source": [
    "#Functions"
   ]
  },
  {
   "cell_type": "code",
   "execution_count": 0,
   "metadata": {
    "application/vnd.databricks.v1+cell": {
     "cellMetadata": {
      "byteLimit": 2048000,
      "rowLimit": 10000
     },
     "inputWidgets": {},
     "nuid": "1e20cda9-7a28-434f-b6f8-c57c55fe5945",
     "showTitle": false,
     "tableResultSettingsMap": {},
     "title": ""
    }
   },
   "outputs": [],
   "source": [
    "def get_date():\n",
    "    current_date = datetime.now()\n",
    "    formatted_date = current_date.strftime('%d-%m-%Y')\n",
    "    return formatted_date"
   ]
  },
  {
   "cell_type": "code",
   "execution_count": 0,
   "metadata": {
    "application/vnd.databricks.v1+cell": {
     "cellMetadata": {
      "byteLimit": 2048000,
      "rowLimit": 10000
     },
     "inputWidgets": {},
     "nuid": "3f3111c7-e227-48f4-a70b-a3aa6edc5497",
     "showTitle": false,
     "tableResultSettingsMap": {},
     "title": ""
    }
   },
   "outputs": [],
   "source": [
    "date = get_date()"
   ]
  },
  {
   "cell_type": "markdown",
   "metadata": {
    "application/vnd.databricks.v1+cell": {
     "cellMetadata": {
      "byteLimit": 2048000,
      "rowLimit": 10000
     },
     "inputWidgets": {},
     "nuid": "49bd38a8-084a-4c5b-b003-52a1638c6367",
     "showTitle": false,
     "tableResultSettingsMap": {},
     "title": ""
    }
   },
   "source": [
    "#Connect to Client"
   ]
  },
  {
   "cell_type": "code",
   "execution_count": 0,
   "metadata": {
    "application/vnd.databricks.v1+cell": {
     "cellMetadata": {
      "byteLimit": 2048000,
      "rowLimit": 10000
     },
     "inputWidgets": {},
     "nuid": "edea6d83-ce22-46f5-884f-cd3886964a7b",
     "showTitle": false,
     "tableResultSettingsMap": {},
     "title": ""
    }
   },
   "outputs": [],
   "source": [
    "secret= get_secret(\"openai-assistant-key\")\n",
    "endpoint = get_secret(\"openai-assistant-endpoint\")\n",
    "ASSISTANT_ID = get_secret(\"openai-assistant-id\")\n",
    "#ASSISTANT_Testing_ID = get_secret(\"openai-assistant-testing-id\")"
   ]
  },
  {
   "cell_type": "code",
   "execution_count": 0,
   "metadata": {
    "application/vnd.databricks.v1+cell": {
     "cellMetadata": {
      "byteLimit": 2048000,
      "rowLimit": 10000
     },
     "inputWidgets": {},
     "nuid": "37919fe8-6bf0-4d51-b28d-1373f8a68701",
     "showTitle": false,
     "tableResultSettingsMap": {},
     "title": ""
    }
   },
   "outputs": [],
   "source": [
    "client = AzureOpenAI(\n",
    "    api_key=secret,\n",
    "    api_version=\"2024-05-01-preview\",\n",
    "    azure_endpoint=endpoint\n",
    ")"
   ]
  },
  {
   "cell_type": "markdown",
   "metadata": {
    "application/vnd.databricks.v1+cell": {
     "cellMetadata": {
      "byteLimit": 2048000,
      "rowLimit": 10000
     },
     "inputWidgets": {},
     "nuid": "eabbfb9f-81e2-46e2-86e4-997b16934c14",
     "showTitle": false,
     "tableResultSettingsMap": {},
     "title": ""
    }
   },
   "source": [
    "#Create Assistant Tools"
   ]
  },
  {
   "cell_type": "markdown",
   "metadata": {
    "application/vnd.databricks.v1+cell": {
     "cellMetadata": {
      "byteLimit": 2048000,
      "rowLimit": 10000
     },
     "inputWidgets": {},
     "nuid": "acbc4e0f-8537-444b-acb4-97736330fd78",
     "showTitle": false,
     "tableResultSettingsMap": {},
     "title": ""
    }
   },
   "source": [
    "#Databricks VectorSearch"
   ]
  },
  {
   "cell_type": "code",
   "execution_count": 0,
   "metadata": {
    "application/vnd.databricks.v1+cell": {
     "cellMetadata": {
      "byteLimit": 2048000,
      "rowLimit": 10000
     },
     "inputWidgets": {},
     "nuid": "526a4c24-965e-41e1-b599-72fb77acdb99",
     "showTitle": false,
     "tableResultSettingsMap": {},
     "title": ""
    }
   },
   "outputs": [],
   "source": [
    "vsc = VectorSearchClient(disable_notice=True)\n",
    "index = vsc.get_index(endpoint_name=\"uk-search-endpoint\" , index_name=\"datif_pz_uk_dev.04_ai.search_vector_index\")"
   ]
  },
  {
   "cell_type": "code",
   "execution_count": 0,
   "metadata": {
    "application/vnd.databricks.v1+cell": {
     "cellMetadata": {
      "byteLimit": 2048000,
      "rowLimit": 10000
     },
     "inputWidgets": {},
     "nuid": "be95cb9e-3368-4327-927a-605b1cfc5dae",
     "showTitle": false,
     "tableResultSettingsMap": {},
     "title": ""
    }
   },
   "outputs": [],
   "source": [
    "def semantic_search(user_query):\n",
    "    results = index.similarity_search(query_text=user_query, num_results=10, query_type=\"hybrid\", score_threshold=0.5,\n",
    "    columns=[\n",
    "        \"ID\",\n",
    "        \"Date\",\n",
    "        \"Channel\",\n",
    "        \"Chunk\",\n",
    "        \"URL\",\n",
    "    ],\n",
    "    )\n",
    "    return json.dumps(results)"
   ]
  },
  {
   "cell_type": "code",
   "execution_count": 0,
   "metadata": {
    "application/vnd.databricks.v1+cell": {
     "cellMetadata": {
      "byteLimit": 2048000,
      "rowLimit": 10000
     },
     "inputWidgets": {},
     "nuid": "6a45988e-9ea0-4751-b5e4-1ff8eeff6154",
     "showTitle": false,
     "tableResultSettingsMap": {},
     "title": ""
    }
   },
   "outputs": [],
   "source": [
    "semantic_search_tool = {\n",
    "    \"type\": \"function\",\n",
    "    \"function\": {\n",
    "        \"name\": \"semantic_search\",\n",
    "        \"description\": \"Performs a semantic search.\",\n",
    "        \"parameters\": {\n",
    "            \"type\": \"object\",\n",
    "            \"properties\": {\n",
    "                \"user_query\": {\n",
    "                    \"type\": \"string\",\n",
    "                    \"description\": \"The optimized search query.\"\n",
    "                }\n",
    "            },\n",
    "            \"required\": [\"user_query\"]\n",
    "        }\n",
    "    }\n",
    "}"
   ]
  },
  {
   "cell_type": "markdown",
   "metadata": {
    "application/vnd.databricks.v1+cell": {
     "cellMetadata": {
      "byteLimit": 2048000,
      "rowLimit": 10000
     },
     "inputWidgets": {},
     "nuid": "613464a1-45c2-4e0e-8349-ddbb12442ef4",
     "showTitle": false,
     "tableResultSettingsMap": {},
     "title": ""
    }
   },
   "source": [
    "#Retrieve Client Files"
   ]
  },
  {
   "cell_type": "code",
   "execution_count": 0,
   "metadata": {
    "application/vnd.databricks.v1+cell": {
     "cellMetadata": {
      "byteLimit": 2048000,
      "rowLimit": 10000
     },
     "inputWidgets": {},
     "nuid": "28d6a3c6-053a-4b0d-a8dc-023feff9986f",
     "showTitle": false,
     "tableResultSettingsMap": {},
     "title": ""
    }
   },
   "outputs": [],
   "source": [
    "files = client.files.list().data\n",
    "files_sorted = sorted(files, key=lambda f: f.created_at, reverse=True)\n",
    "\n",
    "eco_journal_file_id = None\n",
    "socials_file_id = None\n",
    "reputationsindex_file_id = None\n",
    "\n",
    "for f in files_sorted[:3]:\n",
    "    if f.filename == \"eco_journal.csv\":\n",
    "        eco_journal_file_id = f.id\n",
    "    elif f.filename == \"socials.csv\":\n",
    "        socials_file_id = f.id\n",
    "    elif f.filename == \"reputationsindex.csv\":\n",
    "        reputationsindex_file_id = f.id"
   ]
  },
  {
   "cell_type": "markdown",
   "metadata": {
    "application/vnd.databricks.v1+cell": {
     "cellMetadata": {
      "byteLimit": 2048000,
      "rowLimit": 10000
     },
     "inputWidgets": {},
     "nuid": "4dda7424-e49c-4f8f-95e7-d03e87666b93",
     "showTitle": false,
     "tableResultSettingsMap": {},
     "title": ""
    }
   },
   "source": [
    "#Create/Update Assistant"
   ]
  },
  {
   "cell_type": "code",
   "execution_count": 0,
   "metadata": {
    "application/vnd.databricks.v1+cell": {
     "cellMetadata": {
      "byteLimit": 2048000,
      "rowLimit": 10000
     },
     "inputWidgets": {},
     "nuid": "424de487-6293-4cde-aa6f-5098fd17ed12",
     "showTitle": false,
     "tableResultSettingsMap": {},
     "title": ""
    }
   },
   "outputs": [],
   "source": [
    "instructions = f\"\"\"\n",
    "Du bist ein datenintelligenter KI-Chatbot mit Zugriff auf zwei vollständig verarbeitete CSV-Dateien – eine mit Social-Media-Posts, eine mit Artikel-Interaktionen. Beide Dateien liegen in strukturierter Form vor und sind direkt analysierbar (kein Excel-Format).\n",
    "\n",
    "📅 **Aktuelles Datum:** {date}  \n",
    "Die Daten reichen historisch bis zum 01.01.2025 zurück und werden **täglich aktualisiert**.\n",
    "---\n",
    "📂 **Dateizugriff**\n",
    "\n",
    "- **Verwende ausschließlich die folgenden `file_id`s für den Zugriff** – **nicht die Dateinamen**:\n",
    "  - Social-Media-Daten → `file_id: {socials_file_id}`\n",
    "  - Eco Journal Daten → `file_id: {eco_journal_file_id}`\n",
    "  - Reputationsindex → `file_id: {reputationsindex_file_id}`\n",
    "- Diese `file_id`s sind **immer aktuell**, da sie dynamisch im Systemprompt gesetzt werden.\n",
    "- **Falls eine vom Nutzer genannte ID veraltet oder ungültig ist** (z. B. durch eine Datenaktualisierung), **ignoriere sie und verwende stattdessen immer die hier im Prompt angegebenen `file_id`s.**\n",
    "- **Wichtig:** Nenne in deiner Antwort niemals eine ungültige oder veraltete ID.\n",
    "---\n",
    "🔧 **Verfügbare Tools**\n",
    "\n",
    "1. 🧮 **Code Interpreter**  \n",
    "   Für analytische Fragen wie:\n",
    "   - „Welche Woche hatte die höchste Impression-Zahl?“  \n",
    "   - „Welche Plattform zeigt im Schnitt die höchste Engagement-Rate?“\n",
    "\n",
    "2. 🔍 **Semantic Search (vektorbasiert)**\n",
    "   Für inhaltliche bzw. thematische Fragen wie:\n",
    "   - „Gab es Beiträge über das Thema Photovoltaik?“  \n",
    "   - „Wurde in einem Post Dirk Güsewell erwähnt?“\n",
    "\n",
    "---\n",
    "📂 **Datenstruktur**\n",
    "\n",
    "`socials.csv` (file_id: {socials_file_id})\n",
    "\n",
    "| Spalte                  | Typ     | Beschreibung                                                             |\n",
    "|-------------------------|----------|--------------------------------------------------------------------------|\n",
    "| ID                      | string   | Eindeutige Beitragskennung                                               |\n",
    "| Date                    | string   | Veröffentlichungsdatum des Posts (Format: „YYYY-MM-DD“)                 |\n",
    "| Channel                 | string   | Plattform (z. B. Facebook, Instagram)                                    |\n",
    "| URL                     | string   | Direktlink zum Social-Media-Post                                         |\n",
    "| PostMessage             | string   | Textinhalt des Beitrags                                                  |\n",
    "| Impressions             | string   | Anzahl der Sichtungen                                                    |\n",
    "| EngagementRateInPercent | string   | Engagement-Rate in Prozent (z. B. „50.0“)                                |\n",
    "| PostType                | string   | Beitragsart (z. B. „Video“, „Image“)                                     |\n",
    "| StrategischesThema      | string   | Strategische Zuordnung (ggf. mehrere Themen durch `&` getrennt)          |\n",
    "| Themenbereich           | string   | Inhaltlicher Themencluster (ggf. mehrere Bereiche durch `&` getrennt)    |\n",
    "\n",
    " `eco_journal.csv` (file_id: {eco_journal_file_id})\n",
    "\n",
    "| Spalte                   | Typ     | Beschreibung                                                             |\n",
    "|--------------------------|----------|--------------------------------------------------------------------------|\n",
    "| Created_Date             | string   | Veröffentlichungsdatum des Artikels (Format: „YYYY-MM-DD“)              |\n",
    "| URL                      | string   | Direktlink zum Artikel (.html)                                           |\n",
    "| Engaged_sessions         | string   | Anzahl der Sitzungen mit aktiver Nutzerinteraktion                      |\n",
    "| Sessions                 | string   | Gesamtanzahl der Sitzungen                                              |\n",
    "| Views                    | string   | Seitenaufrufe                                                            |\n",
    "| User_engagement          | string   | Interaktionsdauer in Sekunden                                           |\n",
    "| Total_session_duration   | string   | Gesamtdauer aller Sitzungen in Sekunden                                 |\n",
    "| Bounce_rate              | string   | Absprungrate in Prozent (z. B. 9.03)                                     |\n",
    "| Average_session_duration | string   | Durchschnittliche Sitzungsdauer in Sekunden                             |\n",
    "| Views_per_session        | string   | Seitenaufrufe pro Sitzung                                               |\n",
    "| Active_Users_per_View    | string   | Verhältnis aktiver Nutzer pro Aufruf                                    |\n",
    "| Samples_read_rate        | string   | Anteil gelesener Inhaltsproben (kann `null` sein)                       |\n",
    "| Active_Users             | string   | Aktive Nutzer                                                            |\n",
    "| Total_Users              | string   | Gesamtzahl aller Nutzer                                                 |\n",
    "| Strategische_Themen      | string   | Strategische Zuordnung (mehrere durch `&` getrennt möglich)             |\n",
    "| Abstract                 | string   | Redaktionelle Zusammenfassung                                           |\n",
    "| Themenbereich            | string   | Inhaltlicher Themencluster (mehrere durch `&` getrennt möglich)         |\n",
    "\n",
    " `reputationsindex.csv` (file_id: {reputationsindex_file_id})\n",
    "\n",
    "| Spalte | Typ     | Beschreibung                                                             |\n",
    "|--------|---------|--------------------------------------------------------------------------|\n",
    "|  Datum | string   | Datum an dem der Wert gemessen wurde (Format: „YYYY-MM-DD“)              |\n",
    "| Kategorie | string   | Unternehmen A, B, C |\n",
    "| Bekanntheit_in_Prozent | string  | Wert der Bekanntheit in Prozent. |\n",
    "---\n",
    "🏷️ **Strategische Themen** (`StrategischesThema`)\n",
    "\n",
    "- Strategie2030  \n",
    "- FinanzierungEnergiewende  \n",
    "- EMobilitaet  \n",
    "- Performancekultur  \n",
    "- VernetzeEnergiewelt  \n",
    "- TransformationGasnetzeWasserstoff  \n",
    "- ErneuerbareEnergien  \n",
    "- DisponibleErzeugung  \n",
    "- IntelligenteStromnetze  \n",
    "- AAlsArbeitgeberIn  \n",
    "- NachhaltigkeitCSRESG  \n",
    "- MarkeA\n",
    "\n",
    "🏷️ **Themenbereiche** (`Themenbereich`)\n",
    "\n",
    "- Elektromobilität  \n",
    "- Erneuerbare Energien / Photovoltaik  \n",
    "- Erneuerbare Energien / Geothermie, Pumpspeicherkraftwerke, Wasserkraft  \n",
    "- Erneuerbare Energien / Windkraft auf See  \n",
    "- Erneuerbare Energien / Windkraft an Land  \n",
    "- Finanzen/M&A  \n",
    "- Innovation, Forschung, Entwicklung  \n",
    "- Kernenergie  \n",
    "- Konventionelle Erzeugung  \n",
    "- Nachhaltigkeit/Umweltschutz  \n",
    "- Netze  \n",
    "- Personal  \n",
    "- Vertrieb\n",
    "---\n",
    "🧠 **Dein Verhalten als Assistent**\n",
    "\n",
    "- Analysiere jede Frage präzise:\n",
    "   - Bei **analytischen** Aspekten → verwende den Code Interpreter\n",
    "   - Bei **inhaltlich-thematischen** Aspekten → verwende die Semantic Search\n",
    "- Kombinierte Fragen → Aufteilung in:\n",
    "   1. Analytischer Teil → Code Interpreter\n",
    "   2. Inhaltlicher Teil → Semantic Search\n",
    "   3. Zusammenführung der Ergebnisse in einer verständlichen Antwort\n",
    "---\n",
    "📌 **Weitere Hinweise**\n",
    "\n",
    "- Rechne bei Bedarf exakt, inkl. Umwandlung von String- in numerische Datentypen.  \n",
    "- Antworte stets in **sachlich-präzisem Deutsch**, gerne mit Beispielen.  \n",
    "- 🔗 **Wichtig:** Wenn du konkrete Posts oder Artikel als Beispiel nennst, **füge immer den zugehörigen Direktlink aus der Spalte `URL` mit ein**.  \n",
    "- Ziehe keine Rückschlüsse über das Dateiformat – die Dateien sind immer korrekt verarbeitet und analysierbar.\n",
    "\"\"\".format(date=date, eco_journal_file_id=eco_journal_file_id, socials_file_id=socials_file_id)\n"
   ]
  },
  {
   "cell_type": "code",
   "execution_count": 0,
   "metadata": {
    "application/vnd.databricks.v1+cell": {
     "cellMetadata": {
      "byteLimit": 2048000,
      "rowLimit": 10000
     },
     "inputWidgets": {},
     "nuid": "18c022f2-8470-4820-bfd8-0a13eeb7d546",
     "showTitle": false,
     "tableResultSettingsMap": {},
     "title": ""
    }
   },
   "outputs": [],
   "source": [
    "if ASSISTANT_ID:\n",
    "  assistant = client.beta.assistants.update(\n",
    "    assistant_id=ASSISTANT_ID,\n",
    "    name=\"A WattsUp Chatbot\",\n",
    "    instructions=instructions,\n",
    "    model=\"gpt-4o\",\n",
    "    temperature=0.4,\n",
    "    tools=[\n",
    "        {\"type\": \"code_interpreter\"},\n",
    "        semantic_search_tool\n",
    "    ],\n",
    "    tool_resources={\"code_interpreter\":{\"file_ids\":[eco_journal_file_id, socials_file_id, reputationsindex_file_id]}},\n",
    "  )\n",
    "else:\n",
    "  assistant = client.beta.assistants.create(\n",
    "  name=\"A WattsUp Chatbot\",\n",
    "  instructions=instructions,\n",
    "  model=\"gpt-4o\",\n",
    "  temperature=0.4,\n",
    "  tools=[\n",
    "        {\"type\": \"code_interpreter\"},\n",
    "        semantic_search_tool\n",
    "    ],\n",
    "  tool_resources={\"code_interpreter\":{\"file_ids\":[eco_journal_file_id, socials_file_id, reputationsindex_file_id]}},\n",
    "  )\n",
    "  os.environ[\"ASSISTANT_ID\"] = assistant.id"
   ]
  },
  {
   "cell_type": "markdown",
   "metadata": {
    "application/vnd.databricks.v1+cell": {
     "cellMetadata": {},
     "inputWidgets": {},
     "nuid": "e012311d-5c83-405e-8af8-37ff7fa7344d",
     "showTitle": false,
     "tableResultSettingsMap": {},
     "title": ""
    }
   },
   "source": [
    "Erstellen des Testing Assistants für Systemprompt Änderungen."
   ]
  },
  {
   "cell_type": "code",
   "execution_count": 0,
   "metadata": {
    "application/vnd.databricks.v1+cell": {
     "cellMetadata": {
      "byteLimit": 2048000,
      "rowLimit": 10000
     },
     "inputWidgets": {},
     "nuid": "6c5bd1b8-2ebf-4a8f-b998-89f470e8bbc4",
     "showTitle": false,
     "tableResultSettingsMap": {},
     "title": ""
    }
   },
   "outputs": [],
   "source": [
    "'''\n",
    "if ASSISTANT_Testing_ID:\n",
    "  assistant_testing = client.beta.assistants.update(\n",
    "    assistant_id=ASSISTANT_Testing_ID,\n",
    "    name=\"A WattsUp Chatbot Testing\",\n",
    "    instructions=instructions,\n",
    "    model=\"gpt-4o\",\n",
    "    temperature=0.4,\n",
    "    tools=[\n",
    "        {\"type\": \"code_interpreter\"},\n",
    "        semantic_search_tool\n",
    "    ],\n",
    "    tool_resources={\"code_interpreter\":{\"file_ids\":[eco_journal_file_id, socials_file_id, reputationsindex_file_id]}},\n",
    "  )\n",
    "else:\n",
    "  assistant_testing = client.beta.assistants.create(\n",
    "  name=\"A WattsUp Chatbot Testing\",\n",
    "  #instructions=instructions,\n",
    "  model=\"gpt-4o\",\n",
    "  temperature=0.4,\n",
    "  tools=[\n",
    "        {\"type\": \"code_interpreter\"},\n",
    "        semantic_search_tool\n",
    "    ],\n",
    "  tool_resources={\"code_interpreter\":{\"file_ids\":[eco_journal_file_id, socials_file_id, reputationsindex_file_id]}},\n",
    "  )\n",
    "  os.environ[\"ASSISTANT_Testing_ID\"] = assistant_testing.id\n",
    "'''"
   ]
  },
  {
   "cell_type": "code",
   "execution_count": 0,
   "metadata": {
    "application/vnd.databricks.v1+cell": {
     "cellMetadata": {
      "byteLimit": 2048000,
      "rowLimit": 10000
     },
     "inputWidgets": {},
     "nuid": "c6991514-c04b-480e-893f-ca5427b222d8",
     "showTitle": false,
     "tableResultSettingsMap": {},
     "title": ""
    }
   },
   "outputs": [],
   "source": [
    "if len(files_sorted) > 3:\n",
    "    oldest_files = files_sorted[-3:]\n",
    "    for f in oldest_files:\n",
    "        client.files.delete(f.id)"
   ]
  }
 ],
 "metadata": {
  "application/vnd.databricks.v1+notebook": {
   "computePreferences": {
    "hardware": {
     "accelerator": null,
     "gpuPoolId": null,
     "memory": null
    }
   },
   "dashboards": [],
   "environmentMetadata": {
    "base_environment": "",
    "environment_version": "2"
   },
   "inputWidgetPreferences": null,
   "language": "python",
   "notebookMetadata": {
    "pythonIndentUnit": 4
   },
   "notebookName": "nb_create_and_update_assistant",
   "widgets": {}
  },
  "language_info": {
   "name": "python"
  }
 },
 "nbformat": 4,
 "nbformat_minor": 0
}
