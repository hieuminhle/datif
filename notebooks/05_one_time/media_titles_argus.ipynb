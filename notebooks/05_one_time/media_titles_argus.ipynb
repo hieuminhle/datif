{
 "cells": [
  {
   "cell_type": "markdown",
   "metadata": {
    "application/vnd.databricks.v1+cell": {
     "cellMetadata": {},
     "inputWidgets": {},
     "nuid": "43e1e706-af15-426f-b3b9-220fda60ac12",
     "showTitle": false,
     "tableResultSettingsMap": {},
     "title": ""
    }
   },
   "source": [
    "Abrufen der Daten"
   ]
  },
  {
   "cell_type": "code",
   "execution_count": 0,
   "metadata": {
    "application/vnd.databricks.v1+cell": {
     "cellMetadata": {
      "byteLimit": 2048000,
      "rowLimit": 10000
     },
     "inputWidgets": {},
     "nuid": "e2c82e46-ff47-4c43-94d5-5c5a447bcd34",
     "showTitle": false,
     "tableResultSettingsMap": {},
     "title": ""
    }
   },
   "outputs": [],
   "source": [
    "# Print-Medien laden\n",
    "df_print = (\n",
    "    spark.read.table(\"datif_pz_uk_dev.03_transformed.argus_print_media_panel\")\n",
    "    .select(\n",
    "        \"media_title\",\n",
    "        \"media_gross_reach\",\n",
    "        \"media_print_run\",\n",
    "        \"media_copies_sold\",\n",
    "        \"media_copies_distributed\",\n",
    "        \"media_sector\",\n",
    "        \"media_state\",\n",
    "        \"media_type\",\n",
    "        \"media_genre\"\n",
    "    )\n",
    "    .distinct()\n",
    ")\n",
    "\n",
    "# Online-Medien laden\n",
    "df_online = (\n",
    "    spark.read.table(\"datif_pz_uk_dev.03_transformed.argus_online_media_panel\")\n",
    "    .select(\n",
    "        \"media_title\",\n",
    "        \"media_gross_reach\",\n",
    "        \"media_visits\",\n",
    "        \"media_page_views\",\n",
    "        \"media_unique_user\",\n",
    "        \"media_sector\",\n",
    "        \"media_state\",\n",
    "        \"media_type\",\n",
    "        \"media_genre\"\n",
    "    )\n",
    "    .distinct()\n",
    ")"
   ]
  },
  {
   "cell_type": "markdown",
   "metadata": {
    "application/vnd.databricks.v1+cell": {
     "cellMetadata": {},
     "inputWidgets": {},
     "nuid": "ae8e8c04-af7b-44c8-9e62-7a807bd7c213",
     "showTitle": false,
     "tableResultSettingsMap": {},
     "title": ""
    }
   },
   "source": [
    "Anzeigen der Daten"
   ]
  },
  {
   "cell_type": "code",
   "execution_count": 0,
   "metadata": {
    "application/vnd.databricks.v1+cell": {
     "cellMetadata": {
      "byteLimit": 2048000,
      "rowLimit": 10000
     },
     "inputWidgets": {},
     "nuid": "38b6419b-256e-4311-9a99-7a4df031b943",
     "showTitle": false,
     "tableResultSettingsMap": {},
     "title": ""
    }
   },
   "outputs": [],
   "source": [
    "df_print.head(5)"
   ]
  },
  {
   "cell_type": "code",
   "execution_count": 0,
   "metadata": {
    "application/vnd.databricks.v1+cell": {
     "cellMetadata": {
      "byteLimit": 2048000,
      "rowLimit": 10000
     },
     "inputWidgets": {},
     "nuid": "e8b148a9-bf4f-47b4-b8b2-12af72c7ab4e",
     "showTitle": false,
     "tableResultSettingsMap": {},
     "title": ""
    }
   },
   "outputs": [],
   "source": [
    "df_online.head(5)"
   ]
  },
  {
   "cell_type": "markdown",
   "metadata": {
    "application/vnd.databricks.v1+cell": {
     "cellMetadata": {},
     "inputWidgets": {},
     "nuid": "7eb29e8d-c1c6-49e7-aa62-b00c6de9acbc",
     "showTitle": false,
     "tableResultSettingsMap": {},
     "title": ""
    }
   },
   "source": [
    "Speichern der Daten"
   ]
  },
  {
   "cell_type": "code",
   "execution_count": 0,
   "metadata": {
    "application/vnd.databricks.v1+cell": {
     "cellMetadata": {
      "byteLimit": 2048000,
      "rowLimit": 10000
     },
     "inputWidgets": {},
     "nuid": "a61316ea-c220-4317-8a98-5a5311e3b2e6",
     "showTitle": false,
     "tableResultSettingsMap": {},
     "title": ""
    }
   },
   "outputs": [],
   "source": [
    "df_print.write.mode(\"overwrite\").saveAsTable(\"datif_pz_uk_dev.02_cleaned.argus_print_media_title_infos\")\n",
    "df_online.write.mode(\"overwrite\").saveAsTable(\"datif_pz_uk_dev.02_cleaned.argus_online_media_title_infos\")"
   ]
  }
 ],
 "metadata": {
  "application/vnd.databricks.v1+notebook": {
   "computePreferences": null,
   "dashboards": [],
   "environmentMetadata": {
    "base_environment": "",
    "environment_version": "1"
   },
   "language": "python",
   "notebookMetadata": {
    "pythonIndentUnit": 4
   },
   "notebookName": "media_titles_argus",
   "widgets": {}
  },
  "language_info": {
   "name": "python"
  }
 },
 "nbformat": 4,
 "nbformat_minor": 0
}
