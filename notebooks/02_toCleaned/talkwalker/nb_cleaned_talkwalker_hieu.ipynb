{
 "cells": [
  {
   "cell_type": "markdown",
   "metadata": {
    "application/vnd.databricks.v1+cell": {
     "cellMetadata": {
      "byteLimit": 2048000,
      "rowLimit": 10000
     },
     "inputWidgets": {},
     "nuid": "d33bab4c-f97e-498f-83f8-0f18dbdf42c6",
     "showTitle": true,
     "tableResultSettingsMap": {},
     "title": ""
    }
   },
   "source": [
    "%md\n",
    "# 02-toCleaned: Bereinigung der Talkwalker-Daten\n",
    "\n",
    "* Um was handelt es sich hier  (Kurzbeschreibung Inhalt):  \n",
    "Bereinigung der Talkwalker-Daten\n",
    "\n",
    "\n",
    "---\n",
    "## QUELLEN:  \n",
    "- Blob Storage\n",
    "\n",
    "## ZIEL  \n",
    "- Unity-Catalog: \n",
    "  - datif_pz_uk_dev.02-toCleaned.talkwalker\n",
    "\n",
    "  \n",
    "---\n",
    "* Versionen (aktuelle immer oben):\n",
    "- 07.08.2025 Minh Hieu Le: Init"
   ]
  },
  {
   "cell_type": "code",
   "execution_count": 0,
   "metadata": {
    "application/vnd.databricks.v1+cell": {
     "cellMetadata": {
      "byteLimit": 2048000,
      "rowLimit": 10000
     },
     "inputWidgets": {},
     "nuid": "31f5c6ba-7fdf-4169-b61f-81cddf9236d0",
     "showTitle": false,
     "tableResultSettingsMap": {},
     "title": ""
    }
   },
   "outputs": [],
   "source": [
    "%run ../../common/nb_init"
   ]
  },
  {
   "cell_type": "code",
   "execution_count": 0,
   "metadata": {
    "application/vnd.databricks.v1+cell": {
     "cellMetadata": {
      "byteLimit": 2048000,
      "rowLimit": 10000
     },
     "inputWidgets": {},
     "nuid": "a37ea230-df9b-45e4-8909-06a6ab810157",
     "showTitle": false,
     "tableResultSettingsMap": {},
     "title": ""
    }
   },
   "outputs": [],
   "source": [
    "import requests\n",
    "from pyspark.sql import SparkSession\n",
    "from pyspark.sql.functions import current_timestamp, from_unixtime, col, regexp_replace, when, lit\n",
    "import json"
   ]
  },
  {
   "cell_type": "code",
   "execution_count": 0,
   "metadata": {
    "application/vnd.databricks.v1+cell": {
     "cellMetadata": {
      "byteLimit": 2048000,
      "rowLimit": 10000
     },
     "inputWidgets": {},
     "nuid": "c8de56c7-7a12-48a9-8753-962bb9ff3fc3",
     "showTitle": false,
     "tableResultSettingsMap": {},
     "title": ""
    }
   },
   "outputs": [],
   "source": [
    "# Define schema name and path to store tables\n",
    "target_schema_name = \"02_cleaned\"\n",
    "target_path = \"talkwalker\""
   ]
  },
  {
   "cell_type": "markdown",
   "metadata": {
    "application/vnd.databricks.v1+cell": {
     "cellMetadata": {
      "byteLimit": 2048000,
      "rowLimit": 10000
     },
     "inputWidgets": {},
     "nuid": "9a28a1be-3b53-4570-8f9b-600252af52b8",
     "showTitle": false,
     "tableResultSettingsMap": {},
     "title": ""
    }
   },
   "source": [
    "# Clean Talkwalker data "
   ]
  },
  {
   "cell_type": "code",
   "execution_count": 0,
   "metadata": {
    "application/vnd.databricks.v1+cell": {
     "cellMetadata": {
      "byteLimit": 2048000,
      "rowLimit": 10000
     },
     "inputWidgets": {},
     "nuid": "99203991-1492-4f73-8f13-56841db1d130",
     "showTitle": false,
     "tableResultSettingsMap": {
      "0": {
       "dataGridStateBlob": "{\"version\":1,\"tableState\":{\"columnPinning\":{\"left\":[\"#row_number#\"],\"right\":[]},\"columnSizing\":{\"root_url\":288},\"columnVisibility\":{}},\"settings\":{\"columns\":{\"domain_url\":{\"format\":{\"preset\":\"string-preset-url\"}},\"host_url\":{\"format\":{\"preset\":\"string-preset-url\"}},\"parent_url\":{\"format\":{\"preset\":\"string-preset-url\"}},\"root_url\":{\"format\":{\"preset\":\"string-preset-url\"}},\"url\":{\"format\":{\"preset\":\"string-preset-url\"}}}},\"syncTimestamp\":1754561121380}",
       "filterBlob": null,
       "queryPlanFiltersBlob": null,
       "tableResultIndex": 0
      }
     },
     "title": ""
    }
   },
   "outputs": [],
   "source": [
    "df = spark.read.json(\"abfss://01-raw@datifpzukdevstdfs.dfs.core.windows.net/talkwalker/data.json\")\n",
    "\n",
    "df = df.withColumn(\"published\", from_unixtime(col(\"published\")/1000))\n",
    "\n",
    "df = df.withColumn(\"indexed\", from_unixtime(col(\"indexed\")/1000))\n",
    "\n",
    "df = df.withColumn(\"search_indexed\", from_unixtime(col(\"search_indexed\")/1000))\n",
    "\n",
    "#df = df.withColumn(\"post_type\", regexp_replace(col(\"post_type\").cast(\"string\"), r\"[\\[\\]]\", \"\"))\n",
    "\n",
    "display(df)\n",
    "\n",
    "fn_overwrite_table(df, target_schema_name=target_schema_name, target_table_name=\"talkwalker_cleaned\", target_path=target_path)\n",
    "\n"
   ]
  }
 ],
 "metadata": {
  "application/vnd.databricks.v1+notebook": {
   "computePreferences": null,
   "dashboards": [],
   "environmentMetadata": {
    "base_environment": "",
    "environment_version": "2"
   },
   "inputWidgetPreferences": null,
   "language": "python",
   "notebookMetadata": {
    "pythonIndentUnit": 4
   },
   "notebookName": "nb_cleaned_talkwalker_hieu",
   "widgets": {}
  },
  "language_info": {
   "name": "python"
  }
 },
 "nbformat": 4,
 "nbformat_minor": 0
}
